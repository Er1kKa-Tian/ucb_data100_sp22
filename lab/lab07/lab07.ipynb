{
 "cells": [
  {
   "cell_type": "code",
   "execution_count": 1,
   "metadata": {
    "deletable": false,
    "editable": false
   },
   "outputs": [],
   "source": [
    "# Initialize Otter\n",
    "import otter\n",
    "grader = otter.Notebook(\"lab07.ipynb\")"
   ]
  },
  {
   "cell_type": "markdown",
   "metadata": {
    "nbgrader": {
     "grade": false,
     "grade_id": "intro",
     "locked": true,
     "schema_version": 2,
     "solution": false
    }
   },
   "source": [
    "# Lab 7: Gradient Descent and Feature Engineering\n",
    "\n",
    "In this lab, we will work through the process of:\n",
    "1. Defining loss functions\n",
    "1. Feature engineering\n",
    "1. Minimizing loss functions using numeric methods and analytical methods \n",
    "1. Understanding what happens if we use the analytical solution for OLS on a matrix with redundant features\n",
    "1. Computing a gradient for a nonlinear model\n",
    "1. Using gradient descent to optimize the nonline model\n",
    "\n",
    "This lab will continue using the toy `tips` calculation dataset used in Labs 5 and 6.\n",
    "\n",
    "**This assignment should be completed and submitted by Tuesday, March 8th, 2022 at 11:59pm PDT**"
   ]
  },
  {
   "cell_type": "markdown",
   "metadata": {},
   "source": [
    "### Lab Walk-Through\n",
    "In addition to the lab notebook, we have also released a prerecorded walk-through video of the lab. We encourage you to reference this video as you work through the lab. Run the cell below to display the video."
   ]
  },
  {
   "cell_type": "code",
   "execution_count": 2,
   "metadata": {},
   "outputs": [
    {
     "data": {
      "image/jpeg": "[encoded data removed]",
      "text/html": [
       "\n",
       "        <iframe\n",
       "            width=\"400\"\n",
       "            height=\"300\"\n",
       "            src=\"https://www.youtube.com/embed/LQN3dv-WozY?list=PLQCcNQgUcDfq7hfzndTXvUrFN_MoUN2F1&listType=playlist\"\n",
       "            frameborder=\"0\"\n",
       "            allowfullscreen\n",
       "            \n",
       "        ></iframe>\n",
       "        "
      ],
      "text/plain": [
       "<IPython.lib.display.YouTubeVideo at 0x12f37fa70>"
      ]
     },
     "execution_count": 2,
     "metadata": {},
     "output_type": "execute_result"
    }
   ],
   "source": [
    "from IPython.display import YouTubeVideo\n",
    "YouTubeVideo(\"LQN3dv-WozY\", list = 'PLQCcNQgUcDfq7hfzndTXvUrFN_MoUN2F1', listType = 'playlist')"
   ]
  },
  {
   "cell_type": "markdown",
   "metadata": {},
   "source": [
    "### Collaboration Policy\n",
    "\n",
    "Data science is a collaborative activity. While you may talk with others about the labs, we ask that you **write your solutions individually**. If you do discuss the assignments with others, please **include their names** at the top of this notebook."
   ]
  },
  {
   "cell_type": "markdown",
   "metadata": {},
   "source": [
    "**Collaborators**: *List names here*"
   ]
  },
  {
   "cell_type": "markdown",
   "metadata": {
    "nbgrader": {
     "grade": false,
     "grade_id": "load-data-text",
     "locked": true,
     "schema_version": 2,
     "solution": false
    }
   },
   "source": [
    "<br/><br/>\n",
    "<hr style=\"border: 5px solid #003262;\" />\n",
    "<hr style=\"border: 1px solid #fdb515;\" />\n",
    "\n",
    "# Loading the Tips Dataset\n",
    "\n",
    "To begin, let's load the tips dataset from the `seaborn` library.  This dataset contains records of tips, total bill, and information about the person who paid the bill. As earlier, we'll be trying to predict tips from the other data."
   ]
  },
  {
   "cell_type": "code",
   "execution_count": 3,
   "metadata": {
    "nbgrader": {
     "grade": false,
     "grade_id": "imports",
     "locked": true,
     "schema_version": 2,
     "solution": false
    }
   },
   "outputs": [],
   "source": [
    "import pandas as pd\n",
    "import numpy as np\n",
    "import seaborn as sns\n",
    "from sklearn.feature_extraction import DictVectorizer\n",
    "import matplotlib.pyplot as plt\n",
    "np.random.seed(42)\n",
    "plt.style.use('fivethirtyeight')\n",
    "sns.set()\n",
    "sns.set_context(\"talk\")\n",
    "%matplotlib inline"
   ]
  },
  {
   "cell_type": "code",
   "execution_count": 5,
   "metadata": {
    "nbgrader": {
     "grade": false,
     "grade_id": "load-data-code",
     "locked": true,
     "schema_version": 2,
     "solution": false
    }
   },
   "outputs": [
    {
     "name": "stdout",
     "output_type": "stream",
     "text": [
      "Number of Records: 244\n"
     ]
    },
    {
     "data": {
      "text/html": [
       "<div>\n",
       "<style scoped>\n",
       "    .dataframe tbody tr th:only-of-type {\n",
       "        vertical-align: middle;\n",
       "    }\n",
       "\n",
       "    .dataframe tbody tr th {\n",
       "        vertical-align: top;\n",
       "    }\n",
       "\n",
       "    .dataframe thead th {\n",
       "        text-align: right;\n",
       "    }\n",
       "</style>\n",
       "<table border=\"1\" class=\"dataframe\">\n",
       "  <thead>\n",
       "    <tr style=\"text-align: right;\">\n",
       "      <th></th>\n",
       "      <th>total_bill</th>\n",
       "      <th>tip</th>\n",
       "      <th>sex</th>\n",
       "      <th>smoker</th>\n",
       "      <th>day</th>\n",
       "      <th>time</th>\n",
       "      <th>size</th>\n",
       "    </tr>\n",
       "  </thead>\n",
       "  <tbody>\n",
       "    <tr>\n",
       "      <th>0</th>\n",
       "      <td>16.99</td>\n",
       "      <td>1.01</td>\n",
       "      <td>Female</td>\n",
       "      <td>No</td>\n",
       "      <td>Sun</td>\n",
       "      <td>Dinner</td>\n",
       "      <td>2</td>\n",
       "    </tr>\n",
       "    <tr>\n",
       "      <th>1</th>\n",
       "      <td>10.34</td>\n",
       "      <td>1.66</td>\n",
       "      <td>Male</td>\n",
       "      <td>No</td>\n",
       "      <td>Sun</td>\n",
       "      <td>Dinner</td>\n",
       "      <td>3</td>\n",
       "    </tr>\n",
       "    <tr>\n",
       "      <th>2</th>\n",
       "      <td>21.01</td>\n",
       "      <td>3.50</td>\n",
       "      <td>Male</td>\n",
       "      <td>No</td>\n",
       "      <td>Sun</td>\n",
       "      <td>Dinner</td>\n",
       "      <td>3</td>\n",
       "    </tr>\n",
       "    <tr>\n",
       "      <th>3</th>\n",
       "      <td>23.68</td>\n",
       "      <td>3.31</td>\n",
       "      <td>Male</td>\n",
       "      <td>No</td>\n",
       "      <td>Sun</td>\n",
       "      <td>Dinner</td>\n",
       "      <td>2</td>\n",
       "    </tr>\n",
       "    <tr>\n",
       "      <th>4</th>\n",
       "      <td>24.59</td>\n",
       "      <td>3.61</td>\n",
       "      <td>Female</td>\n",
       "      <td>No</td>\n",
       "      <td>Sun</td>\n",
       "      <td>Dinner</td>\n",
       "      <td>4</td>\n",
       "    </tr>\n",
       "  </tbody>\n",
       "</table>\n",
       "</div>"
      ],
      "text/plain": [
       "   total_bill   tip     sex smoker  day    time  size\n",
       "0       16.99  1.01  Female     No  Sun  Dinner     2\n",
       "1       10.34  1.66    Male     No  Sun  Dinner     3\n",
       "2       21.01  3.50    Male     No  Sun  Dinner     3\n",
       "3       23.68  3.31    Male     No  Sun  Dinner     2\n",
       "4       24.59  3.61  Female     No  Sun  Dinner     4"
      ]
     },
     "execution_count": 5,
     "metadata": {},
     "output_type": "execute_result"
    }
   ],
   "source": [
    "data = sns.load_dataset(\"tips\")\n",
    "\n",
    "print(\"Number of Records:\", len(data))\n",
    "data.head()"
   ]
  },
  {
   "cell_type": "markdown",
   "metadata": {},
   "source": [
    "---\n",
    "\n",
    "## Intro to Feature Engineering\n",
    "\n",
    "So far, we've only considered models of the form $\\hat{y} = f_{\\theta}(x) = \\sum_{j=0}^d x_j\\theta_j$, where $\\hat{y}$ is quantitative continuous. \n",
    "\n",
    "We call this a linear model because it is a linear combination of the features (the $x_j$). However, our features don't need to be numbers: we could have categorical values such as names. Additionally, the true relationship doesn't have to be linear, as we could have a relationship that is quadratic, such as the relationship between the height of a projectile and time.\n",
    "\n",
    "In these cases, we often apply **feature functions**, functions that take in some value and output another value. This might look like converting a string into a number, combining multiple numeric values, or creating a boolean value from some filter.\n",
    "\n",
    "Then, if we call $\\phi$ (\"phi\") our \"phi\"-ture function, our model takes the form $\\hat{y} = f_{\\theta}(x) = \\sum_{j=0}^d \\phi(x)_j\\theta_j$."
   ]
  },
  {
   "cell_type": "markdown",
   "metadata": {},
   "source": [
    "### Example feature functions\n",
    "\n",
    "1. One-hot encoding\n",
    "    - converts a single categorical feature into many binary features, each of which represents one of the possible values in the original column\n",
    "    - each of the binary feature columns produced contains a 1 for rows that had that column's label in the original column, and 0 elsewhere\n",
    "1. Polynomial features\n",
    "    - create polynomial combinations of features"
   ]
  },
  {
   "cell_type": "markdown",
   "metadata": {
    "nbgrader": {
     "grade": false,
     "grade_id": "q1",
     "locked": true,
     "schema_version": 2,
     "solution": false
    }
   },
   "source": [
    "<br/>\n",
    "<hr style=\"border: 1px solid #fdb515;\" />\n",
    "\n",
    "## Question 1: Defining the Model and Feature Engineering\n",
    "\n",
    "In Lab 6 we used the constant model. Now let's make a more complicated model that utilizes other features in our dataset. You can imagine that we might want to use the features with an equation that looks as shown below:\n",
    "\n",
    "$$ \\text{Tip} = \\theta_1 \\cdot \\text{total}\\_\\text{bill} + \\theta_2 \\cdot \\text{sex} + \\theta_3 \\cdot \\text{smoker} + \\theta_4 \\cdot \\text{day} + \\theta_5 \\cdot \\text{time} + \\theta_6 \\cdot \\text{size} $$\n",
    "\n",
    "Unfortunately, that's not possible because some of these features like \"day\" are not numbers, so it doesn't make sense to multiply by a numerical parameter.\n",
    "\n",
    "Let's start by converting some of these non-numerical values into numerical values. Before we do this, let's separate out the tips and the features into two separate variables."
   ]
  },
  {
   "cell_type": "code",
   "execution_count": 6,
   "metadata": {},
   "outputs": [],
   "source": [
    "tips = data['tip']\n",
    "X = data.drop(columns='tip')"
   ]
  },
  {
   "cell_type": "markdown",
   "metadata": {
    "deletable": false,
    "editable": false,
    "nbgrader": {
     "grade": false,
     "grade_id": "q1a",
     "locked": true,
     "schema_version": 2,
     "solution": false
    }
   },
   "source": [
    "---\n",
    "### Question 1a: Feature Engineering\n",
    "\n",
    "First, let's convert our features to numerical values. A straightforward approach is to map some of these non-numerical features into numerical ones. \n",
    "\n",
    "For example, we can treat the day as a value from 1-7. However, one of the disadvantages in directly translating to a numeric value is that we unintentionally assign certain features disproportionate weight. Consider assigning Sunday to the numeric value of 7, and Monday to the numeric value of 1. In our linear model, Sunday will have 7 times the influence of Monday, which can lower the accuracy of our model.\n",
    "\n",
    "Instead, let's use one-hot encoding to better represent these features! \n",
    "\n",
    "As you will learn in lecture, one-hot encoding is a way that we can produce a binary vector to indicate non-numeric features. \n",
    "\n",
    "In the `tips` dataset for example, we encode Sunday as the vector `[0 0 0 1]` because our dataset only contains bills from Thursday through Sunday. This assigns a more even weight across each category in non-numeric features. Complete the code below to one-hot encode our dataset. This dataframe holds our \"featurized\" data, which is also often denoted by $\\phi$.\n",
    "\n",
    "**Hint:** You may find the [pd.get_dummies method](https://pandas.pydata.org/docs/reference/api/pandas.get_dummies.html) or the [DictVectorizer class](https://scikit-learn.org/stable/modules/generated/sklearn.feature_extraction.DictVectorizer.html) useful when doing your one-hot encoding.\n",
    "\n",
    "<!--\n",
    "BEGIN QUESTION\n",
    "name: q1a\n",
    "points: 2\n",
    "-->"
   ]
  },
  {
   "cell_type": "code",
   "execution_count": 9,
   "metadata": {
    "nbgrader": {
     "grade": false,
     "grade_id": "q1a-answer",
     "locked": false,
     "schema_version": 2,
     "solution": true
    }
   },
   "outputs": [
    {
     "data": {
      "text/html": [
       "<div>\n",
       "<style scoped>\n",
       "    .dataframe tbody tr th:only-of-type {\n",
       "        vertical-align: middle;\n",
       "    }\n",
       "\n",
       "    .dataframe tbody tr th {\n",
       "        vertical-align: top;\n",
       "    }\n",
       "\n",
       "    .dataframe thead th {\n",
       "        text-align: right;\n",
       "    }\n",
       "</style>\n",
       "<table border=\"1\" class=\"dataframe\">\n",
       "  <thead>\n",
       "    <tr style=\"text-align: right;\">\n",
       "      <th></th>\n",
       "      <th>total_bill</th>\n",
       "      <th>size</th>\n",
       "      <th>sex_Male</th>\n",
       "      <th>sex_Female</th>\n",
       "      <th>smoker_Yes</th>\n",
       "      <th>smoker_No</th>\n",
       "      <th>day_Thur</th>\n",
       "      <th>day_Fri</th>\n",
       "      <th>day_Sat</th>\n",
       "      <th>day_Sun</th>\n",
       "      <th>time_Lunch</th>\n",
       "      <th>time_Dinner</th>\n",
       "    </tr>\n",
       "  </thead>\n",
       "  <tbody>\n",
       "    <tr>\n",
       "      <th>0</th>\n",
       "      <td>16.99</td>\n",
       "      <td>2</td>\n",
       "      <td>0.0</td>\n",
       "      <td>1.0</td>\n",
       "      <td>0.0</td>\n",
       "      <td>1.0</td>\n",
       "      <td>0.0</td>\n",
       "      <td>0.0</td>\n",
       "      <td>0.0</td>\n",
       "      <td>1.0</td>\n",
       "      <td>0.0</td>\n",
       "      <td>1.0</td>\n",
       "    </tr>\n",
       "    <tr>\n",
       "      <th>1</th>\n",
       "      <td>10.34</td>\n",
       "      <td>3</td>\n",
       "      <td>1.0</td>\n",
       "      <td>0.0</td>\n",
       "      <td>0.0</td>\n",
       "      <td>1.0</td>\n",
       "      <td>0.0</td>\n",
       "      <td>0.0</td>\n",
       "      <td>0.0</td>\n",
       "      <td>1.0</td>\n",
       "      <td>0.0</td>\n",
       "      <td>1.0</td>\n",
       "    </tr>\n",
       "    <tr>\n",
       "      <th>2</th>\n",
       "      <td>21.01</td>\n",
       "      <td>3</td>\n",
       "      <td>1.0</td>\n",
       "      <td>0.0</td>\n",
       "      <td>0.0</td>\n",
       "      <td>1.0</td>\n",
       "      <td>0.0</td>\n",
       "      <td>0.0</td>\n",
       "      <td>0.0</td>\n",
       "      <td>1.0</td>\n",
       "      <td>0.0</td>\n",
       "      <td>1.0</td>\n",
       "    </tr>\n",
       "    <tr>\n",
       "      <th>3</th>\n",
       "      <td>23.68</td>\n",
       "      <td>2</td>\n",
       "      <td>1.0</td>\n",
       "      <td>0.0</td>\n",
       "      <td>0.0</td>\n",
       "      <td>1.0</td>\n",
       "      <td>0.0</td>\n",
       "      <td>0.0</td>\n",
       "      <td>0.0</td>\n",
       "      <td>1.0</td>\n",
       "      <td>0.0</td>\n",
       "      <td>1.0</td>\n",
       "    </tr>\n",
       "    <tr>\n",
       "      <th>4</th>\n",
       "      <td>24.59</td>\n",
       "      <td>4</td>\n",
       "      <td>0.0</td>\n",
       "      <td>1.0</td>\n",
       "      <td>0.0</td>\n",
       "      <td>1.0</td>\n",
       "      <td>0.0</td>\n",
       "      <td>0.0</td>\n",
       "      <td>0.0</td>\n",
       "      <td>1.0</td>\n",
       "      <td>0.0</td>\n",
       "      <td>1.0</td>\n",
       "    </tr>\n",
       "  </tbody>\n",
       "</table>\n",
       "</div>"
      ],
      "text/plain": [
       "   total_bill  size  sex_Male  sex_Female  smoker_Yes  smoker_No  day_Thur  \\\n",
       "0       16.99     2       0.0         1.0         0.0        1.0       0.0   \n",
       "1       10.34     3       1.0         0.0         0.0        1.0       0.0   \n",
       "2       21.01     3       1.0         0.0         0.0        1.0       0.0   \n",
       "3       23.68     2       1.0         0.0         0.0        1.0       0.0   \n",
       "4       24.59     4       0.0         1.0         0.0        1.0       0.0   \n",
       "\n",
       "   day_Fri  day_Sat  day_Sun  time_Lunch  time_Dinner  \n",
       "0      0.0      0.0      1.0         0.0          1.0  \n",
       "1      0.0      0.0      1.0         0.0          1.0  \n",
       "2      0.0      0.0      1.0         0.0          1.0  \n",
       "3      0.0      0.0      1.0         0.0          1.0  \n",
       "4      0.0      0.0      1.0         0.0          1.0  "
      ]
     },
     "execution_count": 9,
     "metadata": {},
     "output_type": "execute_result"
    }
   ],
   "source": [
    "def one_hot_encode(data):\n",
    "    \"\"\"\n",
    "    Return the one-hot encoded dataframe of our input data.\n",
    "    \n",
    "    Parameters\n",
    "    -----------\n",
    "    data: a dataframe that may include non-numerical features\n",
    "    \n",
    "    Returns\n",
    "    -----------\n",
    "    A one-hot encoded dataframe that only contains numeric features\n",
    "    \n",
    "    \"\"\"\n",
    "    return pd.get_dummies(data, dtype=float)\n",
    "    \n",
    "one_hot_X = one_hot_encode(X)\n",
    "one_hot_X.head()"
   ]
  },
  {
   "cell_type": "code",
   "execution_count": 10,
   "metadata": {
    "deletable": false,
    "editable": false
   },
   "outputs": [
    {
     "data": {
      "text/html": [
       "<p><strong><pre style='display: inline;'>q1a</pre></strong> passed! 🌟</p>"
      ],
      "text/plain": [
       "q1a results: All test cases passed!"
      ]
     },
     "execution_count": 10,
     "metadata": {},
     "output_type": "execute_result"
    }
   ],
   "source": [
    "grader.check(\"q1a\")"
   ]
  },
  {
   "cell_type": "markdown",
   "metadata": {
    "nbgrader": {
     "grade": false,
     "grade_id": "q1b",
     "locked": true,
     "schema_version": 2,
     "solution": false
    }
   },
   "source": [
    "---\n",
    "### Question 1b: Defining the Model\n",
    "\n",
    "Now that all of our data is numeric, we can begin to define our model function. Notice that after one-hot encoding our data, we now have 12 features instead of 6. Therefore, our linear model now looks like:\n",
    "\n",
    "$$ \\text{Tip} = \\theta_1 \\cdot \\text{size} + \\theta_2 \\cdot \\text{total}\\_\\text{bill} + \\theta_3 \\cdot \\text{day}\\_\\text{Thur} + \\theta_4 \\cdot \\text{day}\\_\\text{Fri} + ... + \\theta_{11} \\cdot \\text{time}\\_\\text{Lunch} + \\theta_{12} \\cdot \\text{time}\\_\\text{Dinner} $$\n",
    "\n",
    "We can represent the linear combination above as a matrix-vector product. Implement the `linear_model` function to evaluate this product.\n",
    "\n",
    "Below, we create a `MyLinearModel` class with two methods, `predict` and `fit`. When fitted, this model fails to do anything useful, setting all of its 12 parameters to zero."
   ]
  },
  {
   "cell_type": "code",
   "execution_count": 11,
   "metadata": {},
   "outputs": [],
   "source": [
    "class MyLinearModel():    \n",
    "    def predict(self, X):\n",
    "        return X @ self._thetas\n",
    "    \n",
    "    def fit(self, X, y):\n",
    "        number_of_features = X.shape[1]\n",
    "        self._thetas = np.zeros(shape = (number_of_features, 1))"
   ]
  },
  {
   "cell_type": "code",
   "execution_count": 12,
   "metadata": {},
   "outputs": [
    {
     "data": {
      "text/plain": [
       "array([[0.],\n",
       "       [0.],\n",
       "       [0.],\n",
       "       [0.],\n",
       "       [0.],\n",
       "       [0.],\n",
       "       [0.],\n",
       "       [0.],\n",
       "       [0.],\n",
       "       [0.],\n",
       "       [0.],\n",
       "       [0.]])"
      ]
     },
     "execution_count": 12,
     "metadata": {},
     "output_type": "execute_result"
    }
   ],
   "source": [
    "model = MyLinearModel()\n",
    "model.fit(one_hot_X, tips)\n",
    "model._thetas"
   ]
  },
  {
   "cell_type": "markdown",
   "metadata": {
    "deletable": false,
    "editable": false,
    "nbgrader": {
     "grade": false,
     "grade_id": "q2",
     "locked": true,
     "schema_version": 2,
     "solution": false
    }
   },
   "source": [
    "<br/>\n",
    "<hr style=\"border: 1px solid #fdb515;\" />\n",
    "\n",
    "## Question 2: Fitting a Linear Model using scipy.optimize.minimize Methods\n",
    "\n",
    "Recall in Lab 5 and in lecture 12 we defined multiple loss functions and found the optimal theta using the `scipy.optimize.minimize` function. Adapt the code below to implement the fit method of the linear model.\n",
    "\n",
    "Note that we've added a `loss_function` parameter where the model is fit using the desired loss function, i.e. not necssarily the L2 loss. Example loss function are given as `l1` and `l2`.\n",
    "    \n",
    "\n",
    "<!--\n",
    "BEGIN QUESTION\n",
    "name: q2\n",
    "points: 2\n",
    "-->"
   ]
  },
  {
   "cell_type": "code",
   "execution_count": 15,
   "metadata": {
    "nbgrader": {
     "grade": false,
     "grade_id": "q2-answer",
     "locked": false,
     "schema_version": 2,
     "solution": true
    }
   },
   "outputs": [
    {
     "data": {
      "text/plain": [
       "array([0.09448694, 0.17599229, 0.18411278, 0.2165536 , 0.15712378,\n",
       "       0.24353193, 0.01520855, 0.17746784, 0.05600959, 0.15198731,\n",
       "       0.23439298, 0.16626428])"
      ]
     },
     "execution_count": 15,
     "metadata": {},
     "output_type": "execute_result"
    }
   ],
   "source": [
    "from scipy.optimize import minimize\n",
    "\n",
    "def l1(y, y_hat):\n",
    "    return np.abs(y - y_hat)\n",
    "\n",
    "def l2(y, y_hat):\n",
    "    return (y - y_hat)**2\n",
    "\n",
    "class MyLinearModel():    \n",
    "    def predict(self, X):\n",
    "        return X @ self._thetas\n",
    "    \n",
    "    def fit(self, loss_function, X, y):\n",
    "        \"\"\"\n",
    "        Produce the estimated optimal _thetas for the given loss function, \n",
    "        feature matrix X, and observations y.\n",
    "\n",
    "        Parameters\n",
    "        -----------\n",
    "        loss_function: either the squared or absolute loss functions defined above\n",
    "        X: a 2D dataframe (or numpy array) of numeric features (one-hot encoded)\n",
    "        y: a 1D vector of tip amounts\n",
    "\n",
    "        Returns\n",
    "        -----------\n",
    "        The estimate for the optimal theta vector that minimizes our loss\n",
    "        \"\"\"\n",
    "        \n",
    "        number_of_features = X.shape[1]\n",
    "\n",
    "        ## Notes on the following function call which you need to finish:\n",
    "        # \n",
    "        # 0. The starting guess should be some arbitrary array of the correct length.\n",
    "        #    Note the \"number of features\" variable above.\"\n",
    "        # 1. The ... in \"lambda theta: ...\" should be replaced by the average loss if we\n",
    "        #    compute X @ theta. The loss is measured using the given loss function,\n",
    "        #    relative to the observations in the variable y.\n",
    "        \n",
    "        starting_guess = np.zeros(shape=(number_of_features,))\n",
    "        self._thetas = minimize(lambda theta: \n",
    "                                loss_function(y, X @ theta).sum()\n",
    "                                , x0 = starting_guess)['x']\n",
    "        # Notice above that we extract the 'x' entry in the dictionary returned by `minimize`. \n",
    "        # This entry corresponds to the optimal theta estimated by the function. Sorry\n",
    "        # we know it's a little confusing, but 'x' is hard coded into the minimize function\n",
    "        # because of the fact that in the optimization universe \"x\" is what you optimize over.\n",
    "        # It'd be less confusing for DS100 students if they used \"theta\".\n",
    "        \n",
    "# When you run the code below, you should get back some non zero thetas.\n",
    "        \n",
    "model = MyLinearModel()\n",
    "model.fit(l2, one_hot_X, tips)\n",
    "model._thetas"
   ]
  },
  {
   "cell_type": "code",
   "execution_count": 16,
   "metadata": {
    "deletable": false,
    "editable": false
   },
   "outputs": [
    {
     "data": {
      "text/html": [
       "<p><strong><pre style='display: inline;'>q2</pre></strong> passed! 🌈</p>"
      ],
      "text/plain": [
       "q2 results: All test cases passed!"
      ]
     },
     "execution_count": 16,
     "metadata": {},
     "output_type": "execute_result"
    }
   ],
   "source": [
    "grader.check(\"q2\")"
   ]
  },
  {
   "cell_type": "markdown",
   "metadata": {},
   "source": [
    "The MSE for your model above should be just slightly larger than 1:"
   ]
  },
  {
   "cell_type": "code",
   "execution_count": 18,
   "metadata": {},
   "outputs": [
    {
     "data": {
      "text/plain": [
       "1.0103535612260068"
      ]
     },
     "execution_count": 18,
     "metadata": {},
     "output_type": "execute_result"
    }
   ],
   "source": [
    "from sklearn.metrics import mean_squared_error\n",
    "mean_squared_error(model.predict(one_hot_X), tips)"
   ]
  },
  {
   "cell_type": "markdown",
   "metadata": {
    "nbgrader": {
     "grade": false,
     "grade_id": "q3",
     "locked": true,
     "schema_version": 2,
     "solution": false
    }
   },
   "source": [
    "<br/>\n",
    "<hr style=\"border: 1px solid #fdb515;\" />\n",
    "\n",
    "## Question 3: Fitting the Model using Analytic Methods\n",
    "\n",
    "Let's also fit our model analytically for the L2 loss function. Recall from lecture that with a linear model, we are solving the following optimization problem for least squares:\n",
    "\n",
    "$$\\min_{\\theta} ||\\Bbb{X}\\theta - \\Bbb{y}||^2$$\n",
    "\n",
    "We showed in [Lecture 11](https://docs.google.com/presentation/d/15eEbroVt2r36TXh28C2wm6wgUHlCBCsODR09kLHhDJ8/edit#slide=id.g113dfce000f_0_2682) that the optimal $\\hat{\\theta}$ when $X^TX$ is invertible is given by the equation: $(X^TX)^{-1}X^TY$"
   ]
  },
  {
   "cell_type": "markdown",
   "metadata": {
    "nbgrader": {
     "grade": false,
     "grade_id": "q3a",
     "locked": true,
     "schema_version": 2,
     "solution": false
    }
   },
   "source": [
    "---\n",
    "### Question 3a: Analytic Solution Using Explicit Inverses\n",
    "\n",
    "For this problem, implement the analytic solution above using `np.linalg.inv` to compute the inverse of $X^TX$.\n",
    "\n",
    "Reminder: To compute the transpose of a matrix, you can use `X.T` or `X.transpose()`"
   ]
  },
  {
   "cell_type": "code",
   "execution_count": 21,
   "metadata": {},
   "outputs": [],
   "source": [
    "class MyAnalyticallyFitOLSModel():    \n",
    "    def predict(self, X):\n",
    "        return X @ self._thetas\n",
    "    \n",
    "    def fit(self, X, y):\n",
    "        \"\"\"\n",
    "        Sets _thetas using the analytical solution to the ordinary least squares problem\n",
    "\n",
    "        Parameters\n",
    "        -----------\n",
    "        X: a 2D dataframe (or numpy array) of numeric features (one-hot encoded)\n",
    "        y: a 1D vector of tip amounts\n",
    "\n",
    "        Returns\n",
    "        -----------\n",
    "        The estimate for theta computed using the equation mentioned above\n",
    "        \"\"\"\n",
    "        \n",
    "        xTx = X.T @ X\n",
    "        xTy = X.T @ y\n",
    "        self._thetas = np.linalg.inv(xTx) @ xTy\n",
    "\n",
    "        "
   ]
  },
  {
   "cell_type": "markdown",
   "metadata": {},
   "source": [
    "Now, run the cell below to find the analytical solution for the `tips` dataset. Depending on the machine that you run your code on, you should either see a singular matrix error or end up with thetas that are nonsensical (magnitudes greater than 10^15). This is not good!"
   ]
  },
  {
   "cell_type": "code",
   "execution_count": 22,
   "metadata": {},
   "outputs": [
    {
     "data": {
      "text/plain": [
       "array([ 9.64357187e-01, -1.27770793e+01, -2.13705201e+16, -2.13705201e+16,\n",
       "        2.06455954e+16,  2.06455954e+16,  7.24924722e+14,  7.24924722e+14,\n",
       "        7.24924722e+14,  7.24924722e+14, -1.21250000e+01, -1.58125000e+01])"
      ]
     },
     "execution_count": 22,
     "metadata": {},
     "output_type": "execute_result"
    }
   ],
   "source": [
    "# When you run the code below, you should get back some non zero thetas.\n",
    "        \n",
    "model = MyAnalyticallyFitOLSModel()\n",
    "model.fit(one_hot_X, tips)\n",
    "analytical_thetas = model._thetas\n",
    "analytical_thetas"
   ]
  },
  {
   "cell_type": "markdown",
   "metadata": {
    "deletable": false,
    "editable": false
   },
   "source": [
    "In the cell below, explain why we got the error above when trying to calculate the analytical solution for our one-hot encoded `tips` dataset.\n",
    "\n",
    "<!--\n",
    "BEGIN QUESTION\n",
    "name: q3a\n",
    "-->"
   ]
  },
  {
   "cell_type": "markdown",
   "metadata": {},
   "source": [
    "_Type your answer here, replacing this text._\n",
    "\n",
    "No error is shown because numpy uses numerical methods to find an inverse, so the inverse can be calculated with non-full ranks."
   ]
  },
  {
   "cell_type": "markdown",
   "metadata": {
    "deletable": false,
    "editable": false
   },
   "source": [
    "---\n",
    "### Question 3b: Fixing our One-Hot Encoding\n",
    "\n",
    "Now, let's fix our one-hot encoding approach from question 1 so we don't get the error we saw in question 3a. Complete the code below to one-hot-encode our dataset such that `one_hot_X_revised` has no redundant features.\n",
    "\n",
    "<!--\n",
    "BEGIN QUESTION\n",
    "name: q3b\n",
    "-->"
   ]
  },
  {
   "cell_type": "code",
   "execution_count": 23,
   "metadata": {},
   "outputs": [
    {
     "name": "stdout",
     "output_type": "stream",
     "text": [
      "Our numerical model's loss is:  1.0332855708788542\n",
      "Our analytical model's loss is:  1.033285570878662\n"
     ]
    }
   ],
   "source": [
    "def one_hot_encode_revised(data):\n",
    "    \"\"\"\n",
    "    Return the one-hot encoded dataframe of our input data, removing redundancies.\n",
    "    \n",
    "    Parameters\n",
    "    -----------\n",
    "    data: a dataframe that may include non-numerical features\n",
    "    \n",
    "    Returns\n",
    "    -----------\n",
    "    A one-hot encoded dataframe that only contains numeric features without any redundancies.\n",
    "    \n",
    "    \"\"\"\n",
    "    return pd.get_dummies(data, dtype=float, drop_first=True)\n",
    "    \n",
    "\n",
    "one_hot_X_revised = one_hot_encode_revised(X)    \n",
    "    \n",
    "numerical_model = MyLinearModel()\n",
    "numerical_model.fit(l2, one_hot_X_revised, tips)\n",
    "    \n",
    "analytical_model = MyAnalyticallyFitOLSModel()\n",
    "analytical_model.fit(one_hot_X_revised, tips)\n",
    "\n",
    "\n",
    "print(\"Our numerical model's loss is: \", mean_squared_error(numerical_model.predict(one_hot_X_revised), tips))\n",
    "print(\"Our analytical model's loss is: \", mean_squared_error(analytical_model.predict(one_hot_X_revised), tips))"
   ]
  },
  {
   "cell_type": "code",
   "execution_count": 24,
   "metadata": {
    "deletable": false,
    "editable": false
   },
   "outputs": [
    {
     "data": {
      "text/html": [
       "<p><strong><pre style='display: inline;'>q3b</pre></strong> passed! 🎉</p>"
      ],
      "text/plain": [
       "q3b results: All test cases passed!"
      ]
     },
     "execution_count": 24,
     "metadata": {},
     "output_type": "execute_result"
    }
   ],
   "source": [
    "grader.check(\"q3b\")"
   ]
  },
  {
   "cell_type": "markdown",
   "metadata": {
    "deletable": false,
    "editable": false
   },
   "source": [
    "---\n",
    "### Question 3c: Analyzing our new One-Hot Encoding\n",
    "\n",
    "Why did removing redundancies in our one-hot encoding fix the problem we had in 3a?\n",
    "<!--\n",
    "BEGIN QUESTION\n",
    "name: q3c\n",
    "-->"
   ]
  },
  {
   "cell_type": "markdown",
   "metadata": {},
   "source": [
    "_Type your answer here, replacing this text._\n",
    "\n",
    "To get full rank. i.e. no perfect multicollinearity."
   ]
  },
  {
   "cell_type": "markdown",
   "metadata": {},
   "source": [
    "---\n",
    "\n",
    "Note: An alternate approach is to use `np.linalg.solve` instead of `np.linalg.inv`. For the example above, even with the redundant features, `np.linalg.solve` will work well. Though in general, it's best to drop redundant features anyway.\n",
    "\n",
    "In case you want to learn more, here is a relevant Stack Overflow post: https://stackoverflow.com/questions/31256252/why-does-numpy-linalg-solve-offer-more-precise-matrix-inversions-than-numpy-li"
   ]
  },
  {
   "cell_type": "markdown",
   "metadata": {},
   "source": [
    "<br/>\n",
    "<hr style=\"border: 1px solid #fdb515;\" />\n",
    "\n",
    "## Question 4: Gradient Descent"
   ]
  },
  {
   "cell_type": "code",
   "execution_count": 25,
   "metadata": {},
   "outputs": [
    {
     "data": {
      "text/html": [
       "<div>\n",
       "<style scoped>\n",
       "    .dataframe tbody tr th:only-of-type {\n",
       "        vertical-align: middle;\n",
       "    }\n",
       "\n",
       "    .dataframe tbody tr th {\n",
       "        vertical-align: top;\n",
       "    }\n",
       "\n",
       "    .dataframe thead th {\n",
       "        text-align: right;\n",
       "    }\n",
       "</style>\n",
       "<table border=\"1\" class=\"dataframe\">\n",
       "  <thead>\n",
       "    <tr style=\"text-align: right;\">\n",
       "      <th></th>\n",
       "      <th>x</th>\n",
       "      <th>y</th>\n",
       "    </tr>\n",
       "  </thead>\n",
       "  <tbody>\n",
       "    <tr>\n",
       "      <th>0</th>\n",
       "      <td>-5.000000</td>\n",
       "      <td>-7.672309</td>\n",
       "    </tr>\n",
       "    <tr>\n",
       "      <th>1</th>\n",
       "      <td>-4.966555</td>\n",
       "      <td>-7.779735</td>\n",
       "    </tr>\n",
       "    <tr>\n",
       "      <th>2</th>\n",
       "      <td>-4.933110</td>\n",
       "      <td>-7.995938</td>\n",
       "    </tr>\n",
       "    <tr>\n",
       "      <th>3</th>\n",
       "      <td>-4.899666</td>\n",
       "      <td>-8.197059</td>\n",
       "    </tr>\n",
       "    <tr>\n",
       "      <th>4</th>\n",
       "      <td>-4.866221</td>\n",
       "      <td>-8.183883</td>\n",
       "    </tr>\n",
       "  </tbody>\n",
       "</table>\n",
       "</div>"
      ],
      "text/plain": [
       "          x         y\n",
       "0 -5.000000 -7.672309\n",
       "1 -4.966555 -7.779735\n",
       "2 -4.933110 -7.995938\n",
       "3 -4.899666 -8.197059\n",
       "4 -4.866221 -8.183883"
      ]
     },
     "execution_count": 25,
     "metadata": {},
     "output_type": "execute_result"
    }
   ],
   "source": [
    "# Run this cell to load the data for this problem\n",
    "df = pd.read_csv(\"lab7_data.csv\", index_col=0)\n",
    "df.head()"
   ]
  },
  {
   "cell_type": "markdown",
   "metadata": {},
   "source": [
    "If we plot this data, we see that there is a clear sinusoidal relationship between x and y."
   ]
  },
  {
   "cell_type": "code",
   "execution_count": 26,
   "metadata": {},
   "outputs": [
    {
     "data": {
      "application/vnd.plotly.v1+json": {
       "config": {
        "plotlyServerURL": "https://plot.ly"
       },
       "data": [
        {
         "hovertemplate": "x=%{x}<br>y=%{y}<extra></extra>",
         "legendgroup": "",
         "marker": {
          "color": "#636efa",
          "symbol": "circle"
         },
         "mode": "markers",
         "name": "",
         "orientation": "v",
         "showlegend": false,
         "type": "scatter",
         "x": [
          -5,
          -4.966555183946488,
          -4.933110367892977,
          -4.8996655518394645,
          -4.866220735785953,
          -4.832775919732441,
          -4.79933110367893,
          -4.765886287625418,
          -4.7324414715719065,
          -4.698996655518394,
          -4.665551839464883,
          -4.632107023411371,
          -4.59866220735786,
          -4.565217391304348,
          -4.531772575250836,
          -4.498327759197324,
          -4.464882943143813,
          -4.431438127090301,
          -4.39799331103679,
          -4.364548494983278,
          -4.331103678929766,
          -4.297658862876254,
          -4.264214046822742,
          -4.230769230769231,
          -4.19732441471572,
          -4.1638795986622075,
          -4.130434782608695,
          -4.096989966555184,
          -4.063545150501672,
          -4.030100334448161,
          -3.9966555183946486,
          -3.963210702341138,
          -3.9297658862876257,
          -3.896321070234114,
          -3.862876254180602,
          -3.82943143812709,
          -3.7959866220735785,
          -3.7625418060200673,
          -3.729096989966555,
          -3.695652173913043,
          -3.662207357859532,
          -3.62876254180602,
          -3.5953177257525084,
          -3.5618729096989967,
          -3.528428093645485,
          -3.494983277591974,
          -3.4615384615384617,
          -3.42809364548495,
          -3.3946488294314383,
          -3.361204013377926,
          -3.327759197324415,
          -3.294314381270903,
          -3.2608695652173916,
          -3.227424749163879,
          -3.193979933110368,
          -3.160535117056856,
          -3.127090301003345,
          -3.0936454849498327,
          -3.0602006688963215,
          -3.0267558528428093,
          -2.9933110367892977,
          -2.959866220735786,
          -2.9264214046822743,
          -2.8929765886287626,
          -2.859531772575251,
          -2.8260869565217392,
          -2.7926421404682276,
          -2.759197324414716,
          -2.725752508361204,
          -2.6923076923076925,
          -2.658862876254181,
          -2.625418060200669,
          -2.5919732441471575,
          -2.558528428093646,
          -2.525083612040134,
          -2.491638795986622,
          -2.4581939799331103,
          -2.4247491638795986,
          -2.391304347826087,
          -2.3578595317725752,
          -2.3244147157190636,
          -2.290969899665552,
          -2.25752508361204,
          -2.2240802675585285,
          -2.190635451505017,
          -2.157190635451505,
          -2.1237458193979935,
          -2.0903010033444818,
          -2.05685618729097,
          -2.0234113712374584,
          -1.9899665551839467,
          -1.956521739130435,
          -1.9230769230769231,
          -1.8896321070234117,
          -1.8561872909699,
          -1.8227424749163883,
          -1.7892976588628766,
          -1.7558528428093645,
          -1.7224080267558528,
          -1.6889632107023411,
          -1.6555183946488294,
          -1.6220735785953178,
          -1.588628762541806,
          -1.5551839464882944,
          -1.5217391304347827,
          -1.488294314381271,
          -1.4548494983277591,
          -1.4214046822742477,
          -1.387959866220736,
          -1.3545150501672245,
          -1.3210702341137126,
          -1.287625418060201,
          -1.2541806020066892,
          -1.2207357859531776,
          -1.187290969899666,
          -1.1538461538461542,
          -1.1204013377926425,
          -1.0869565217391308,
          -1.0535117056856187,
          -1.020066889632107,
          -0.9866220735785952,
          -0.953177257525084,
          -0.919732441471572,
          -0.8862876254180607,
          -0.8528428093645486,
          -0.8193979933110374,
          -0.7859531772575252,
          -0.752508361204014,
          -0.7190635451505019,
          -0.6856187290969897,
          -0.6521739130434785,
          -0.6187290969899664,
          -0.5852842809364551,
          -0.551839464882943,
          -0.5183946488294318,
          -0.4849498327759196,
          -0.4515050167224084,
          -0.4180602006688962,
          -0.384615384615385,
          -0.3511705685618729,
          -0.3177257525083616,
          -0.2842809364548495,
          -0.2508361204013383,
          -0.2173913043478261,
          -0.1839464882943149,
          -0.1505016722408028,
          -0.1170568561872915,
          -0.0836120401337794,
          -0.0501672240802681,
          -0.016722408026756,
          0.016722408026756,
          0.0501672240802673,
          0.0836120401337794,
          0.1170568561872906,
          0.1505016722408028,
          0.183946488294314,
          0.2173913043478261,
          0.2508361204013374,
          0.2842809364548495,
          0.3177257525083607,
          0.3511705685618729,
          0.3846153846153841,
          0.4180602006688962,
          0.4515050167224075,
          0.4849498327759196,
          0.5183946488294309,
          0.551839464882943,
          0.5852842809364542,
          0.6187290969899664,
          0.6521739130434776,
          0.6856187290969897,
          0.7190635451505019,
          0.7525083612040131,
          0.7859531772575252,
          0.8193979933110365,
          0.8528428093645486,
          0.8862876254180598,
          0.919732441471572,
          0.9531772575250832,
          0.9866220735785952,
          1.0200668896321066,
          1.0535117056856187,
          1.08695652173913,
          1.120401337792642,
          1.1538461538461533,
          1.1872909698996654,
          1.2207357859531769,
          1.2541806020066888,
          1.2876254180602,
          1.3210702341137122,
          1.3545150501672234,
          1.3879598662207355,
          1.4214046822742468,
          1.454849498327759,
          1.488294314381271,
          1.5217391304347825,
          1.5551839464882944,
          1.5886287625418056,
          1.6220735785953178,
          1.655518394648829,
          1.6889632107023411,
          1.7224080267558524,
          1.7558528428093645,
          1.7892976588628755,
          1.822742474916388,
          1.856187290969899,
          1.8896321070234112,
          1.9230769230769225,
          1.9565217391304344,
          1.9899665551839456,
          2.023411371237458,
          2.056856187290969,
          2.0903010033444813,
          2.123745819397993,
          2.1571906354515047,
          2.190635451505017,
          2.224080267558528,
          2.25752508361204,
          2.290969899665551,
          2.3244147157190636,
          2.357859531772575,
          2.391304347826087,
          2.424749163879598,
          2.4581939799331103,
          2.4916387959866215,
          2.5250836120401337,
          2.558528428093645,
          2.591973244147157,
          2.6254180602006683,
          2.6588628762541804,
          2.6923076923076916,
          2.725752508361204,
          2.759197324414715,
          2.792642140468227,
          2.8260869565217384,
          2.8595317725752505,
          2.8929765886287626,
          2.926421404682274,
          2.959866220735786,
          2.993311036789297,
          3.0267558528428093,
          3.0602006688963215,
          3.093645484949832,
          3.127090301003344,
          3.160535117056856,
          3.193979933110368,
          3.2274247491638786,
          3.2608695652173907,
          3.294314381270903,
          3.327759197324415,
          3.3612040133779253,
          3.3946488294314374,
          3.4280936454849495,
          3.4615384615384617,
          3.494983277591972,
          3.528428093645484,
          3.5618729096989963,
          3.5953177257525084,
          3.628762541806021,
          3.662207357859531,
          3.695652173913043,
          3.729096989966555,
          3.7625418060200673,
          3.7959866220735776,
          3.8294314381270897,
          3.862876254180602,
          3.896321070234114,
          3.929765886287624,
          3.963210702341137,
          3.9966555183946486,
          4.030100334448161,
          4.063545150501671,
          4.096989966555183,
          4.130434782608695,
          4.1638795986622075,
          4.197324414715718,
          4.23076923076923,
          4.264214046822742,
          4.297658862876254,
          4.331103678929766,
          4.364548494983277,
          4.397993311036789,
          4.431438127090301,
          4.464882943143813,
          4.498327759197323,
          4.5317725752508355,
          4.565217391304348,
          4.59866220735786,
          4.63210702341137,
          4.665551839464882,
          4.698996655518394,
          4.7324414715719065,
          4.765886287625417,
          4.799331103678929,
          4.832775919732441,
          4.866220735785953,
          4.899665551839464,
          4.933110367892976,
          4.966555183946488,
          5
         ],
         "xaxis": "x",
         "y": [
          -7.672309213774009,
          -7.779734517785404,
          -7.995938349837362,
          -8.197058502287891,
          -8.183883447872761,
          -8.294583870428044,
          -8.789108619905587,
          -8.131185000490298,
          -8.367926232188761,
          -8.449548670279784,
          -7.686395062809118,
          -7.884779111713495,
          -7.40758370858694,
          -8.149296368695282,
          -7.698753306457693,
          -7.209703841645482,
          -7.693224736041597,
          -7.005247350337088,
          -7.359989748101651,
          -6.750680240727842,
          -7.4249311343870765,
          -5.717106515468041,
          -5.827572739109059,
          -7.022723259587224,
          -6.477762669231767,
          -6.5379209430940595,
          -6.199351168608523,
          -5.4012444332555765,
          -5.183321367758454,
          -4.94806613595341,
          -5.9588670139285576,
          -5.055988335965847,
          -6.163280337718589,
          -5.260652226427859,
          -4.461189588769009,
          -4.250469942862925,
          -5.188735791213787,
          -5.509146146562051,
          -4.97235048877106,
          -5.333269655765433,
          -3.9572248387125937,
          -4.149055664493958,
          -4.955874457859213,
          -4.030243685843214,
          -4.332176030245413,
          -4.817008349132875,
          -4.564804163660334,
          -5.401765804464134,
          -4.5204460718545185,
          -4.27990572791023,
          -4.675812677586517,
          -4.393284560723114,
          -5.277742639388693,
          -4.664473786357007,
          -4.807266064507394,
          -5.159392872069294,
          -4.309277719586534,
          -4.471369501600405,
          -4.708165528460132,
          -4.929656467128833,
          -5.615534766039346,
          -5.160540519430589,
          -4.776761441232219,
          -5.120531985395963,
          -4.913984192307944,
          -3.865417505752173,
          -4.966301571707113,
          -5.4181562216860994,
          -5.604518870906897,
          -4.5495357940451955,
          -6.037714671062444,
          -5.6372737092490715,
          -4.805312244471921,
          -5.369504407253398,
          -4.437171109196206,
          -5.074797374667527,
          -4.401868897942774,
          -3.870948037042623,
          -3.73656975378285,
          -3.4102945743881214,
          -5.009897240248489,
          -4.329097343769474,
          -3.693665318257521,
          -4.40187841033484,
          -2.85933921633624,
          -4.104011167303041,
          -4.204385884659721,
          -2.1637722289643784,
          -2.9906338204849816,
          -2.758585168375083,
          -2.2545644043728204,
          -2.8846913733782547,
          -2.9847822949303957,
          -2.5929994205605147,
          -2.77927772322337,
          -2.71500722878401,
          -2.010241067993213,
          -1.656310417608073,
          -0.7787045703792018,
          -1.269951865892921,
          -1.792748804012821,
          -1.9537146428903247,
          -1.1788960734769738,
          -1.5277154372456878,
          -1.1807087726330094,
          -1.568517660472828,
          -1.3506035893989303,
          -1.391697769760479,
          -1.047282746349446,
          -1.5772821642656252,
          -1.570785251369731,
          -2.41943797541992,
          -1.185078881556551,
          -1.914408856085967,
          -1.0601700787657118,
          -1.2815944343706038,
          -1.519087507875585,
          -1.4238067886295132,
          -1.6438780349509858,
          -1.6223090507647782,
          -1.087078686084135,
          -1.5173404698624795,
          -1.5562788624728698,
          -2.141827830142496,
          -1.9259234491491928,
          -2.4156167655487257,
          -1.3251559408775493,
          -1.6793890261642763,
          -2.0297116584088033,
          -1.4923405710697517,
          -1.632846009613218,
          -2.0211184496306935,
          -2.217881831090392,
          -1.3434477416665287,
          -1.7481642321152326,
          -1.4218297444923564,
          -0.9642400092872936,
          -1.70266315254424,
          -1.8298079531560891,
          -1.8367241904226752,
          -1.4706344679958103,
          -1.4433084677515662,
          -1.7518816168986122,
          -1.4509022323444576,
          -1.4237708901966324,
          -1.0520683358219507,
          -0.667107565897173,
          -0.5886674953043197,
          -0.6775625952018157,
          0.984683650961996,
          0.4517802664309152,
          0.5006010640927224,
          -0.1842110064761587,
          0.3787570984061928,
          1.1836477922281108,
          0.3964239987822318,
          0.7124193586625436,
          1.182384197477731,
          0.6713989809047876,
          1.274450951826059,
          1.553143722667457,
          1.6995591203361309,
          2.0234669747325276,
          1.9457019612332904,
          2.360545691627678,
          1.5906123866048576,
          1.859388827635383,
          1.7401020511193372,
          1.6162257782761629,
          1.2606821159072197,
          2.0430388764224645,
          1.662330670627664,
          2.4611406877256683,
          1.253465329713654,
          2.602333158981674,
          1.6141211682630343,
          1.9364307898997652,
          2.030599961694973,
          1.5494988196309636,
          1.0758074888131886,
          1.552207339783204,
          1.604919429177967,
          1.3333485513235692,
          1.8945712789194569,
          1.2566138414330137,
          1.5406524404853896,
          0.5330736677012181,
          1.2606873376969794,
          0.9355046257550714,
          1.3128779872238985,
          1.2874848106399044,
          1.6031251662584318,
          1.543072748025539,
          0.913605638569292,
          0.612453777025363,
          1.0997520967804328,
          1.9012860881991824,
          1.1485754340483532,
          1.182335352296918,
          3.0169882275133153,
          1.734916616051607,
          1.4755744291073905,
          1.0420459334182426,
          2.4507017557143023,
          1.8611867314605468,
          2.1827667717589874,
          2.388071446532565,
          2.608817389506666,
          2.6211165439148685,
          2.1780311793948126,
          2.8536503165000946,
          2.9411228690611684,
          3.4831597253718996,
          4.1837376233788035,
          4.5578448014735065,
          3.4886458739686605,
          3.681304139466065,
          4.310766278752113,
          3.59450365339081,
          3.9825236292003225,
          3.830213475022972,
          5.078307699143146,
          4.143829465853275,
          3.716069871102355,
          4.02996653723164,
          5.45493886582055,
          5.182681971943008,
          5.17348565231972,
          4.87477879523013,
          4.690408384606235,
          6.639340931336671,
          5.112897749542114,
          4.947203785190758,
          4.5304167002224744,
          5.513651518454388,
          5.442692650922263,
          4.9630967609052234,
          4.241634389279237,
          5.139646117289144,
          5.18015105108955,
          5.27063280895599,
          4.761049843968934,
          5.179895453080157,
          4.965352381386266,
          4.768604010450766,
          4.325603132362003,
          4.833247769037616,
          4.965001813623925,
          4.236454731729646,
          4.2087163693574725,
          3.822595174084512,
          3.388416719809559,
          5.05696645106742,
          4.761756934740643,
          4.8615487614943635,
          4.614557121605502,
          4.936091262417548,
          4.408254404277195,
          4.312879506437206,
          4.295432037476273,
          4.557371279896795,
          4.040390885252911,
          4.692542998436527,
          5.17447103318766,
          5.735624901448761,
          5.8316936431583795,
          5.0987165756942785,
          5.757807223192957,
          6.08636225308439,
          5.033503496010061,
          5.031456052475531,
          5.920430610451941,
          6.202758312938776,
          6.1419152696496635,
          5.568159510857342,
          6.870091033079695,
          6.612020089918684,
          5.769394173124921,
          6.5472339544915625,
          6.801129477791633,
          7.115814326994783,
          7.314097300906174,
          7.487299400104616,
          6.907759933614441,
          8.138754857688127,
          7.573584031360379,
          7.852216707944286,
          8.67279663803172,
          6.938632740546129,
          8.543895611158147,
          8.684529212060736,
          8.059800504661863,
          8.60945170862109,
          8.232467731487317,
          7.411797223660793,
          9.195919508646542,
          7.903161289593162,
          7.935815930850479,
          8.809675031622321,
          8.01053214752323
         ],
         "yaxis": "y"
        }
       ],
       "layout": {
        "legend": {
         "tracegroupgap": 0
        },
        "margin": {
         "t": 60
        },
        "template": {
         "data": {
          "bar": [
           {
            "error_x": {
             "color": "#2a3f5f"
            },
            "error_y": {
             "color": "#2a3f5f"
            },
            "marker": {
             "line": {
              "color": "#E5ECF6",
              "width": 0.5
             },
             "pattern": {
              "fillmode": "overlay",
              "size": 10,
              "solidity": 0.2
             }
            },
            "type": "bar"
           }
          ],
          "barpolar": [
           {
            "marker": {
             "line": {
              "color": "#E5ECF6",
              "width": 0.5
             },
             "pattern": {
              "fillmode": "overlay",
              "size": 10,
              "solidity": 0.2
             }
            },
            "type": "barpolar"
           }
          ],
          "carpet": [
           {
            "aaxis": {
             "endlinecolor": "#2a3f5f",
             "gridcolor": "white",
             "linecolor": "white",
             "minorgridcolor": "white",
             "startlinecolor": "#2a3f5f"
            },
            "baxis": {
             "endlinecolor": "#2a3f5f",
             "gridcolor": "white",
             "linecolor": "white",
             "minorgridcolor": "white",
             "startlinecolor": "#2a3f5f"
            },
            "type": "carpet"
           }
          ],
          "choropleth": [
           {
            "colorbar": {
             "outlinewidth": 0,
             "ticks": ""
            },
            "type": "choropleth"
           }
          ],
          "contour": [
           {
            "colorbar": {
             "outlinewidth": 0,
             "ticks": ""
            },
            "colorscale": [
             [
              0,
              "#0d0887"
             ],
             [
              0.1111111111111111,
              "#46039f"
             ],
             [
              0.2222222222222222,
              "#7201a8"
             ],
             [
              0.3333333333333333,
              "#9c179e"
             ],
             [
              0.4444444444444444,
              "#bd3786"
             ],
             [
              0.5555555555555556,
              "#d8576b"
             ],
             [
              0.6666666666666666,
              "#ed7953"
             ],
             [
              0.7777777777777778,
              "#fb9f3a"
             ],
             [
              0.8888888888888888,
              "#fdca26"
             ],
             [
              1,
              "#f0f921"
             ]
            ],
            "type": "contour"
           }
          ],
          "contourcarpet": [
           {
            "colorbar": {
             "outlinewidth": 0,
             "ticks": ""
            },
            "type": "contourcarpet"
           }
          ],
          "heatmap": [
           {
            "colorbar": {
             "outlinewidth": 0,
             "ticks": ""
            },
            "colorscale": [
             [
              0,
              "#0d0887"
             ],
             [
              0.1111111111111111,
              "#46039f"
             ],
             [
              0.2222222222222222,
              "#7201a8"
             ],
             [
              0.3333333333333333,
              "#9c179e"
             ],
             [
              0.4444444444444444,
              "#bd3786"
             ],
             [
              0.5555555555555556,
              "#d8576b"
             ],
             [
              0.6666666666666666,
              "#ed7953"
             ],
             [
              0.7777777777777778,
              "#fb9f3a"
             ],
             [
              0.8888888888888888,
              "#fdca26"
             ],
             [
              1,
              "#f0f921"
             ]
            ],
            "type": "heatmap"
           }
          ],
          "heatmapgl": [
           {
            "colorbar": {
             "outlinewidth": 0,
             "ticks": ""
            },
            "colorscale": [
             [
              0,
              "#0d0887"
             ],
             [
              0.1111111111111111,
              "#46039f"
             ],
             [
              0.2222222222222222,
              "#7201a8"
             ],
             [
              0.3333333333333333,
              "#9c179e"
             ],
             [
              0.4444444444444444,
              "#bd3786"
             ],
             [
              0.5555555555555556,
              "#d8576b"
             ],
             [
              0.6666666666666666,
              "#ed7953"
             ],
             [
              0.7777777777777778,
              "#fb9f3a"
             ],
             [
              0.8888888888888888,
              "#fdca26"
             ],
             [
              1,
              "#f0f921"
             ]
            ],
            "type": "heatmapgl"
           }
          ],
          "histogram": [
           {
            "marker": {
             "pattern": {
              "fillmode": "overlay",
              "size": 10,
              "solidity": 0.2
             }
            },
            "type": "histogram"
           }
          ],
          "histogram2d": [
           {
            "colorbar": {
             "outlinewidth": 0,
             "ticks": ""
            },
            "colorscale": [
             [
              0,
              "#0d0887"
             ],
             [
              0.1111111111111111,
              "#46039f"
             ],
             [
              0.2222222222222222,
              "#7201a8"
             ],
             [
              0.3333333333333333,
              "#9c179e"
             ],
             [
              0.4444444444444444,
              "#bd3786"
             ],
             [
              0.5555555555555556,
              "#d8576b"
             ],
             [
              0.6666666666666666,
              "#ed7953"
             ],
             [
              0.7777777777777778,
              "#fb9f3a"
             ],
             [
              0.8888888888888888,
              "#fdca26"
             ],
             [
              1,
              "#f0f921"
             ]
            ],
            "type": "histogram2d"
           }
          ],
          "histogram2dcontour": [
           {
            "colorbar": {
             "outlinewidth": 0,
             "ticks": ""
            },
            "colorscale": [
             [
              0,
              "#0d0887"
             ],
             [
              0.1111111111111111,
              "#46039f"
             ],
             [
              0.2222222222222222,
              "#7201a8"
             ],
             [
              0.3333333333333333,
              "#9c179e"
             ],
             [
              0.4444444444444444,
              "#bd3786"
             ],
             [
              0.5555555555555556,
              "#d8576b"
             ],
             [
              0.6666666666666666,
              "#ed7953"
             ],
             [
              0.7777777777777778,
              "#fb9f3a"
             ],
             [
              0.8888888888888888,
              "#fdca26"
             ],
             [
              1,
              "#f0f921"
             ]
            ],
            "type": "histogram2dcontour"
           }
          ],
          "mesh3d": [
           {
            "colorbar": {
             "outlinewidth": 0,
             "ticks": ""
            },
            "type": "mesh3d"
           }
          ],
          "parcoords": [
           {
            "line": {
             "colorbar": {
              "outlinewidth": 0,
              "ticks": ""
             }
            },
            "type": "parcoords"
           }
          ],
          "pie": [
           {
            "automargin": true,
            "type": "pie"
           }
          ],
          "scatter": [
           {
            "fillpattern": {
             "fillmode": "overlay",
             "size": 10,
             "solidity": 0.2
            },
            "type": "scatter"
           }
          ],
          "scatter3d": [
           {
            "line": {
             "colorbar": {
              "outlinewidth": 0,
              "ticks": ""
             }
            },
            "marker": {
             "colorbar": {
              "outlinewidth": 0,
              "ticks": ""
             }
            },
            "type": "scatter3d"
           }
          ],
          "scattercarpet": [
           {
            "marker": {
             "colorbar": {
              "outlinewidth": 0,
              "ticks": ""
             }
            },
            "type": "scattercarpet"
           }
          ],
          "scattergeo": [
           {
            "marker": {
             "colorbar": {
              "outlinewidth": 0,
              "ticks": ""
             }
            },
            "type": "scattergeo"
           }
          ],
          "scattergl": [
           {
            "marker": {
             "colorbar": {
              "outlinewidth": 0,
              "ticks": ""
             }
            },
            "type": "scattergl"
           }
          ],
          "scattermapbox": [
           {
            "marker": {
             "colorbar": {
              "outlinewidth": 0,
              "ticks": ""
             }
            },
            "type": "scattermapbox"
           }
          ],
          "scatterpolar": [
           {
            "marker": {
             "colorbar": {
              "outlinewidth": 0,
              "ticks": ""
             }
            },
            "type": "scatterpolar"
           }
          ],
          "scatterpolargl": [
           {
            "marker": {
             "colorbar": {
              "outlinewidth": 0,
              "ticks": ""
             }
            },
            "type": "scatterpolargl"
           }
          ],
          "scatterternary": [
           {
            "marker": {
             "colorbar": {
              "outlinewidth": 0,
              "ticks": ""
             }
            },
            "type": "scatterternary"
           }
          ],
          "surface": [
           {
            "colorbar": {
             "outlinewidth": 0,
             "ticks": ""
            },
            "colorscale": [
             [
              0,
              "#0d0887"
             ],
             [
              0.1111111111111111,
              "#46039f"
             ],
             [
              0.2222222222222222,
              "#7201a8"
             ],
             [
              0.3333333333333333,
              "#9c179e"
             ],
             [
              0.4444444444444444,
              "#bd3786"
             ],
             [
              0.5555555555555556,
              "#d8576b"
             ],
             [
              0.6666666666666666,
              "#ed7953"
             ],
             [
              0.7777777777777778,
              "#fb9f3a"
             ],
             [
              0.8888888888888888,
              "#fdca26"
             ],
             [
              1,
              "#f0f921"
             ]
            ],
            "type": "surface"
           }
          ],
          "table": [
           {
            "cells": {
             "fill": {
              "color": "#EBF0F8"
             },
             "line": {
              "color": "white"
             }
            },
            "header": {
             "fill": {
              "color": "#C8D4E3"
             },
             "line": {
              "color": "white"
             }
            },
            "type": "table"
           }
          ]
         },
         "layout": {
          "annotationdefaults": {
           "arrowcolor": "#2a3f5f",
           "arrowhead": 0,
           "arrowwidth": 1
          },
          "autotypenumbers": "strict",
          "coloraxis": {
           "colorbar": {
            "outlinewidth": 0,
            "ticks": ""
           }
          },
          "colorscale": {
           "diverging": [
            [
             0,
             "#8e0152"
            ],
            [
             0.1,
             "#c51b7d"
            ],
            [
             0.2,
             "#de77ae"
            ],
            [
             0.3,
             "#f1b6da"
            ],
            [
             0.4,
             "#fde0ef"
            ],
            [
             0.5,
             "#f7f7f7"
            ],
            [
             0.6,
             "#e6f5d0"
            ],
            [
             0.7,
             "#b8e186"
            ],
            [
             0.8,
             "#7fbc41"
            ],
            [
             0.9,
             "#4d9221"
            ],
            [
             1,
             "#276419"
            ]
           ],
           "sequential": [
            [
             0,
             "#0d0887"
            ],
            [
             0.1111111111111111,
             "#46039f"
            ],
            [
             0.2222222222222222,
             "#7201a8"
            ],
            [
             0.3333333333333333,
             "#9c179e"
            ],
            [
             0.4444444444444444,
             "#bd3786"
            ],
            [
             0.5555555555555556,
             "#d8576b"
            ],
            [
             0.6666666666666666,
             "#ed7953"
            ],
            [
             0.7777777777777778,
             "#fb9f3a"
            ],
            [
             0.8888888888888888,
             "#fdca26"
            ],
            [
             1,
             "#f0f921"
            ]
           ],
           "sequentialminus": [
            [
             0,
             "#0d0887"
            ],
            [
             0.1111111111111111,
             "#46039f"
            ],
            [
             0.2222222222222222,
             "#7201a8"
            ],
            [
             0.3333333333333333,
             "#9c179e"
            ],
            [
             0.4444444444444444,
             "#bd3786"
            ],
            [
             0.5555555555555556,
             "#d8576b"
            ],
            [
             0.6666666666666666,
             "#ed7953"
            ],
            [
             0.7777777777777778,
             "#fb9f3a"
            ],
            [
             0.8888888888888888,
             "#fdca26"
            ],
            [
             1,
             "#f0f921"
            ]
           ]
          },
          "colorway": [
           "#636efa",
           "#EF553B",
           "#00cc96",
           "#ab63fa",
           "#FFA15A",
           "#19d3f3",
           "#FF6692",
           "#B6E880",
           "#FF97FF",
           "#FECB52"
          ],
          "font": {
           "color": "#2a3f5f"
          },
          "geo": {
           "bgcolor": "white",
           "lakecolor": "white",
           "landcolor": "#E5ECF6",
           "showlakes": true,
           "showland": true,
           "subunitcolor": "white"
          },
          "hoverlabel": {
           "align": "left"
          },
          "hovermode": "closest",
          "mapbox": {
           "style": "light"
          },
          "paper_bgcolor": "white",
          "plot_bgcolor": "#E5ECF6",
          "polar": {
           "angularaxis": {
            "gridcolor": "white",
            "linecolor": "white",
            "ticks": ""
           },
           "bgcolor": "#E5ECF6",
           "radialaxis": {
            "gridcolor": "white",
            "linecolor": "white",
            "ticks": ""
           }
          },
          "scene": {
           "xaxis": {
            "backgroundcolor": "#E5ECF6",
            "gridcolor": "white",
            "gridwidth": 2,
            "linecolor": "white",
            "showbackground": true,
            "ticks": "",
            "zerolinecolor": "white"
           },
           "yaxis": {
            "backgroundcolor": "#E5ECF6",
            "gridcolor": "white",
            "gridwidth": 2,
            "linecolor": "white",
            "showbackground": true,
            "ticks": "",
            "zerolinecolor": "white"
           },
           "zaxis": {
            "backgroundcolor": "#E5ECF6",
            "gridcolor": "white",
            "gridwidth": 2,
            "linecolor": "white",
            "showbackground": true,
            "ticks": "",
            "zerolinecolor": "white"
           }
          },
          "shapedefaults": {
           "line": {
            "color": "#2a3f5f"
           }
          },
          "ternary": {
           "aaxis": {
            "gridcolor": "white",
            "linecolor": "white",
            "ticks": ""
           },
           "baxis": {
            "gridcolor": "white",
            "linecolor": "white",
            "ticks": ""
           },
           "bgcolor": "#E5ECF6",
           "caxis": {
            "gridcolor": "white",
            "linecolor": "white",
            "ticks": ""
           }
          },
          "title": {
           "x": 0.05
          },
          "xaxis": {
           "automargin": true,
           "gridcolor": "white",
           "linecolor": "white",
           "ticks": "",
           "title": {
            "standoff": 15
           },
           "zerolinecolor": "white",
           "zerolinewidth": 2
          },
          "yaxis": {
           "automargin": true,
           "gridcolor": "white",
           "linecolor": "white",
           "ticks": "",
           "title": {
            "standoff": 15
           },
           "zerolinecolor": "white",
           "zerolinewidth": 2
          }
         }
        },
        "xaxis": {
         "anchor": "y",
         "domain": [
          0,
          1
         ],
         "title": {
          "text": "x"
         }
        },
        "yaxis": {
         "anchor": "x",
         "domain": [
          0,
          1
         ],
         "title": {
          "text": "y"
         }
        }
       }
      }
     },
     "metadata": {},
     "output_type": "display_data"
    }
   ],
   "source": [
    "import plotly.express as px\n",
    "px.scatter(df, x = \"x\", y = \"y\")"
   ]
  },
  {
   "cell_type": "markdown",
   "metadata": {},
   "source": [
    "In this exercise, we'll show gradient descent is so powerful it can even optimize a nonlinear model. Specifically, we're going to model the relationship of our data by:\n",
    "\n",
    "$$\\Large{\n",
    "f_{\\boldsymbol{\\theta(x)}} = \\theta_1x + sin(\\theta_2x)\n",
    "}$$"
   ]
  },
  {
   "cell_type": "markdown",
   "metadata": {},
   "source": [
    "Our model is parameterized by both $\\theta_1$ and $\\theta_2$, which we can represent in the vector, $\\boldsymbol{\\theta}$.\n",
    "\n",
    "Note that a general sine function $a\\sin(bx+c)$ has three parameters: amplitude scaling parameter $a$, frequency parameter $b$ and phase shifting parameter $c$. \n",
    "\n",
    "Here, we're assuming the amplitude $a$ is around 1, and the phase shifting parameter $c$ is around zero. We do not attempt to justify this assumption and you're welcome to see what happens if you ignore this assumption at the end of this lab."
   ]
  },
  {
   "cell_type": "markdown",
   "metadata": {},
   "source": [
    "You might ask why we don't just create a linear model like we did earlier with a sinusoidal feature. The issue is that the theta is INSIDE the sin function. In other words, linear models use their parameters to adjust the scale of each feature, but $\\theta_2$ in this model adjusts the frequency of the feature. There are tricks we could play to use our linear model framework here, but we won't attempt this in our lab."
   ]
  },
  {
   "cell_type": "markdown",
   "metadata": {
    "nbgrader": {
     "grade": false,
     "grade_id": "q3a",
     "locked": true,
     "schema_version": 2,
     "solution": false
    }
   },
   "source": [
    "We define the `sin_model` function below that predicts $\\textbf{y}$ (the $y$-values) using $\\textbf{x}$ (the $x$-values) based on our new equation."
   ]
  },
  {
   "cell_type": "code",
   "execution_count": 27,
   "metadata": {
    "nbgrader": {
     "grade": false,
     "grade_id": "q3a-answer",
     "locked": false,
     "schema_version": 2,
     "solution": true
    }
   },
   "outputs": [],
   "source": [
    "def sin_model(x, theta):\n",
    "    \"\"\"\n",
    "    Predict the estimate of y given x, theta_1, theta_2\n",
    "\n",
    "    Keyword arguments:\n",
    "    x -- the vector of values x\n",
    "    theta -- a vector of length 2, where theta[0] = theta_1 and theta[1] = theta_2\n",
    "    \"\"\"\n",
    "    theta_1 = theta[0]\n",
    "    theta_2 = theta[1]\n",
    "    return theta_1 * x + np.sin(theta_2 * x)"
   ]
  },
  {
   "cell_type": "markdown",
   "metadata": {},
   "source": [
    "---\n",
    "### Question 4a: Computing the Gradient of the MSE With Respect to Theta on the Sin Model"
   ]
  },
  {
   "cell_type": "markdown",
   "metadata": {
    "deletable": false,
    "editable": false
   },
   "source": [
    "Recall $\\hat{\\theta}$ is the value of $\\theta$ that minimizes our loss function. One way of solving for $\\hat{\\theta}$ is by computing the gradient of our loss function with respect to $\\theta$, like we did in lecture: https://docs.google.com/presentation/d/1j9ESgjn-aeZSOX5ON1wjkF5WBZHc4IN7XvTpYnX1pFs/edit#slide=id.gfc76b62ec3_0_27. Recall that the gradient is a column vector of two partial derivatives.\n",
    "\n",
    "Write/derive the expressions for following values and use them to fill in the functions below.\n",
    "\n",
    "* $L(\\textbf{x}, \\textbf{y}, \\theta_1, \\theta_2)$: our loss function, the mean squared error\n",
    "* $\\frac{\\partial L }{\\partial \\theta_1}$: the partial derivative of $L$ with respect to $\\theta_1$\n",
    "* $\\frac{\\partial L }{\\partial \\theta_2}$: the partial derivative of $L$ with respect to $\\theta_2$\n",
    "\n",
    "Recall that $L(\\textbf{x}, \\textbf{y}, \\theta_1, \\theta_2) = \\frac{1}{n} \\sum_{i=1}^{n} (\\textbf{y}_i - \\hat{\\textbf{y}}_i)^2$\n",
    "\n",
    "Specifically, the functions `sin_MSE`, `sin_MSE_dt1` and `sin_MSE_dt2` should compute $R$, $\\frac{\\partial R }{\\partial \\theta_1}$ and $\\frac{\\partial R }{\\partial \\theta_2}$ respectively. Use the expressions you wrote for $\\frac{\\partial R }{\\partial \\theta_1}$ and $\\frac{\\partial R }{\\partial \\theta_2}$ to implement these functions. In the functions below, the parameter `theta` is a vector that looks like $\\begin{bmatrix} \\theta_1 \\\\ \\theta_2 \\end{bmatrix}$. We have completed `sin_MSE_gradient`, which calls `dt1` and `dt2` and returns the gradient `dt` for you.\n",
    "\n",
    "Notes: \n",
    "* Keep in mind that we are still working with our original set of data, `df`.\n",
    "* To keep your code a bit more concise, be aware that `np.mean` does the same thing as `np.sum` divided by the length of the numpy array.\n",
    "* Another way to keep your code more concise is to use the function `sin_model` we defined which computes the output of the model.\n",
    "\n",
    "<!--\n",
    "BEGIN QUESTION\n",
    "name: q4a\n",
    "points: 3\n",
    "-->"
   ]
  },
  {
   "cell_type": "code",
   "execution_count": 48,
   "metadata": {},
   "outputs": [],
   "source": [
    "def sin_MSE(theta, x, y):\n",
    "    \"\"\"\n",
    "    Compute the numerical value of the l2 loss of our sinusoidal model given theta\n",
    "\n",
    "    Keyword arguments:\n",
    "    theta -- the vector of values theta\n",
    "    x     -- the vector of x values\n",
    "    y     -- the vector of y values\n",
    "    \"\"\"\n",
    "    return np.mean(l2(y, sin_model(x, theta)))\n",
    "\n",
    "def sin_MSE_dt1(theta, x, y):\n",
    "    \"\"\"\n",
    "    Compute the numerical value of the partial of l2 loss with respect to theta_1\n",
    "\n",
    "    Keyword arguments:\n",
    "    theta -- the vector of values theta\n",
    "    x     -- the vector of x values\n",
    "    y     -- the vector of y values\n",
    "    \"\"\"\n",
    "    return np.mean(-2 * (y - sin_model(x, theta)) * x)\n",
    "    \n",
    "def sin_MSE_dt2(theta, x, y):\n",
    "    \"\"\"\n",
    "    Compute the numerical value of the partial of l2 loss with respect to theta_2\n",
    "\n",
    "    Keyword arguments:\n",
    "    theta -- the vector of values theta\n",
    "    x     -- the vector of x values\n",
    "    y     -- the vector of y values\n",
    "    \"\"\"\n",
    "    return np.mean(-2 * ((y - sin_model(x, theta)) * np.cos(theta[1] * x)) * x)\n",
    "    \n",
    "# This function calls dt1 and dt2 and returns the gradient dt. It is already implemented for you.\n",
    "def sin_MSE_gradient(theta, x, y):\n",
    "    \"\"\"\n",
    "    Returns the gradient of l2 loss with respect to vector theta\n",
    "\n",
    "    Keyword arguments:\n",
    "    theta -- the vector of values theta\n",
    "    x     -- the vector of x values\n",
    "    y     -- the vector of y values\n",
    "    \"\"\"\n",
    "    return np.array([sin_MSE_dt1(theta, x, y), sin_MSE_dt2(theta, x, y)])"
   ]
  },
  {
   "cell_type": "code",
   "execution_count": 49,
   "metadata": {
    "deletable": false,
    "editable": false
   },
   "outputs": [
    {
     "data": {
      "text/html": [
       "<p><strong><pre style='display: inline;'>q4a</pre></strong> passed! ✨</p>"
      ],
      "text/plain": [
       "q4a results: All test cases passed!"
      ]
     },
     "execution_count": 49,
     "metadata": {},
     "output_type": "execute_result"
    }
   ],
   "source": [
    "grader.check(\"q4a\")"
   ]
  },
  {
   "cell_type": "markdown",
   "metadata": {},
   "source": [
    "---\n",
    "### Question 4b: Implementing Gradient Descent and Using It to Optimize the Sin Model"
   ]
  },
  {
   "cell_type": "markdown",
   "metadata": {
    "deletable": false,
    "editable": false
   },
   "source": [
    "Let's now implement gradient descent. \n",
    "\n",
    "Note that the function you're implementing here is somewhat different than the gradient descent function we created in lecture. The version in lecture was `gradient_descent(df, initial_guess, alpha, n)`, where `df` was the gradient of the function we are minimizing and `initial_guess` are the starting parameters for that function. Here our signature is a bit different (described below) than the `gradient_descent` [implementation from lecture](https://ds100.org/sp22/resources/assets/lectures/lec12/lec12.html).\n",
    "\n",
    "<!--\n",
    "BEGIN QUESTION\n",
    "name: q4b\n",
    "points: 3\n",
    "-->"
   ]
  },
  {
   "cell_type": "code",
   "execution_count": 52,
   "metadata": {},
   "outputs": [
    {
     "name": "stdout",
     "output_type": "stream",
     "text": [
      "theta: [1.51625373 2.99448441], Loss: 20.859191416422235\n",
      "theta: [1.51625373 2.99448441], Loss: 9.285008173048666\n",
      "theta: [1.51625373 2.99448441], Loss: 4.6801692738153555\n",
      "theta: [1.51625373 2.99448441], Loss: 2.6242517936325758\n",
      "theta: [1.51625373 2.99448441], Loss: 1.476515717472772\n",
      "theta: [1.51625373 2.99448441], Loss: 0.9073271435862402\n",
      "theta: [1.51625373 2.99448441], Loss: 0.5415316432911252\n",
      "theta: [1.51625373 2.99448441], Loss: 0.37758411424694627\n",
      "theta: [1.51625373 2.99448441], Loss: 0.2969750688130748\n",
      "theta: [1.51625373 2.99448441], Loss: 0.2590425421375727\n",
      "theta: [1.51625373 2.99448441], Loss: 0.23973439443291814\n",
      "theta: [1.51625373 2.99448441], Loss: 0.2303478241625462\n",
      "theta: [1.51625373 2.99448441], Loss: 0.2255775832667723\n",
      "theta: [1.51625373 2.99448441], Loss: 0.22321772191904055\n",
      "theta: [1.51625373 2.99448441], Loss: 0.22202363967204036\n",
      "theta: [1.51625373 2.99448441], Loss: 0.22142811500262397\n",
      "theta: [1.51625373 2.99448441], Loss: 0.22112776381775168\n",
      "theta: [1.51625373 2.99448441], Loss: 0.22097741373654572\n",
      "theta: [1.51625373 2.99448441], Loss: 0.2209017318568303\n",
      "theta: [1.51625373 2.99448441], Loss: 0.22086378105845886\n"
     ]
    }
   ],
   "source": [
    "def init_theta():\n",
    "    \"\"\"Creates an initial theta [0, 0] of shape (2,) as a starting point for gradient descent\"\"\"\n",
    "    return np.array([0, 0], dtype=float)\n",
    "\n",
    "def grad_desc(loss_f, gradient_loss_f, theta, data, num_iter=20, alpha=0.1):\n",
    "    \"\"\"\n",
    "    Run gradient descent update for a finite number of iterations and static learning rate\n",
    "\n",
    "    Keyword arguments:\n",
    "    loss_f -- the loss function to be minimized (used for computing loss_history)\n",
    "    gradient_loss_f -- the gradient of the loss function to be minimized\n",
    "    theta -- the vector of values theta to use at first iteration\n",
    "    data -- the data used in the model \n",
    "    num_iter -- the max number of iterations\n",
    "    alpha -- the learning rate (also called the step size)\n",
    "    \n",
    "    Return:\n",
    "    theta -- the optimal value of theta after num_iter of gradient descent\n",
    "    theta_history -- the series of theta values over each iteration of gradient descent\n",
    "    loss_history -- the series of loss values over each iteration of gradient descent\n",
    "    \"\"\"\n",
    "    theta_history = []\n",
    "    loss_history = []\n",
    "\n",
    "    theta = init_theta()\n",
    "\n",
    "    while len(theta_history) < num_iter:\n",
    "        \n",
    "        current_loss = loss_f(theta, data[\"x\"], data[\"y\"])\n",
    "        theta -= alpha * gradient_loss_f(theta, data[\"x\"], data[\"y\"])\n",
    "        loss_history.append(current_loss)\n",
    "        theta_history.append(theta)\n",
    "    \n",
    "    return theta, theta_history, loss_history\n",
    "\n",
    "theta_start = init_theta()\n",
    "theta_hat, thetas_used, losses_calculated = grad_desc(\n",
    "    sin_MSE, sin_MSE_gradient, theta_start, df, num_iter=20, alpha=0.1\n",
    ")\n",
    "for b, l in zip(thetas_used, losses_calculated):\n",
    "    print(f\"theta: {b}, Loss: {l}\")"
   ]
  },
  {
   "cell_type": "code",
   "execution_count": 53,
   "metadata": {
    "deletable": false,
    "editable": false
   },
   "outputs": [
    {
     "data": {
      "text/html": [
       "<p><strong><pre style='display: inline;'>q4b</pre></strong> passed! 🌟</p>"
      ],
      "text/plain": [
       "q4b results: All test cases passed!"
      ]
     },
     "execution_count": 53,
     "metadata": {},
     "output_type": "execute_result"
    }
   ],
   "source": [
    "grader.check(\"q4b\")"
   ]
  },
  {
   "cell_type": "markdown",
   "metadata": {},
   "source": [
    "If you pass the tests above, you're done coding for this lab, though there are some cool visualizations below we'd like you to think about."
   ]
  },
  {
   "cell_type": "markdown",
   "metadata": {},
   "source": [
    "Let's visually inspect our results of running gradient descent to optimize $\\boldsymbol\\theta$. The code below plots our $x$-values with our model's predicted $\\hat{y}$-values over the original scatter plot. You should notice that gradient descent successfully optimized $\\boldsymbol\\theta$."
   ]
  },
  {
   "cell_type": "code",
   "execution_count": 54,
   "metadata": {},
   "outputs": [],
   "source": [
    "theta_init = init_theta()\n",
    "\n",
    "theta_est, thetas, loss = grad_desc(sin_MSE, sin_MSE_gradient, theta_init, df)"
   ]
  },
  {
   "cell_type": "markdown",
   "metadata": {},
   "source": [
    "Plotting our model output over our observaitons shows that gradient descent did  a great job finding both the overall increase (slope) of the data, as well as the oscillation frequency."
   ]
  },
  {
   "cell_type": "code",
   "execution_count": 55,
   "metadata": {},
   "outputs": [
    {
     "name": "stderr",
     "output_type": "stream",
     "text": [
      "<>:4: SyntaxWarning:\n",
      "\n",
      "invalid escape sequence '\\h'\n",
      "\n",
      "<>:4: SyntaxWarning:\n",
      "\n",
      "invalid escape sequence '\\h'\n",
      "\n",
      "/var/folders/3f/s5klhrbx5jj8w0qrzk3370940000gn/T/ipykernel_2029/2413075366.py:4: SyntaxWarning:\n",
      "\n",
      "invalid escape sequence '\\h'\n",
      "\n"
     ]
    },
    {
     "data": {
      "image/png": "[encoded data removed]",
      "text/plain": [
       "<Figure size 640x480 with 1 Axes>"
      ]
     },
     "metadata": {},
     "output_type": "display_data"
    }
   ],
   "source": [
    "x, y = df['x'], df['y']\n",
    "y_pred = sin_model(x, theta_est)\n",
    "\n",
    "plt.plot(x, y_pred, label='Model ($\\hat{y}$)')\n",
    "plt.scatter(x, y, alpha=0.5, label='Observation ($y$)', color='gold')\n",
    "plt.legend();"
   ]
  },
  {
   "cell_type": "markdown",
   "metadata": {},
   "source": [
    "<br/>\n",
    "<hr style=\"border: 1px solid #fdb515;\" />\n",
    "\n",
    "## Visualizing Loss (Extra)\n",
    "\n",
    "Let's visualize our loss functions and gain some insight as to how gradient descent optimizes our model parameters.\n",
    "\n",
    "In the previous plot we saw the loss decrease with each iteration. In this part, we'll see the trajectory of the algorithm as it travels the loss surface? Run the following cells to see visualization of this trajectory. "
   ]
  },
  {
   "cell_type": "code",
   "execution_count": 56,
   "metadata": {},
   "outputs": [
    {
     "data": {
      "text/plain": [
       "array([[1.51625373, 2.99448441],\n",
       "       [1.51625373, 2.99448441],\n",
       "       [1.51625373, 2.99448441],\n",
       "       [1.51625373, 2.99448441],\n",
       "       [1.51625373, 2.99448441],\n",
       "       [1.51625373, 2.99448441],\n",
       "       [1.51625373, 2.99448441],\n",
       "       [1.51625373, 2.99448441],\n",
       "       [1.51625373, 2.99448441],\n",
       "       [1.51625373, 2.99448441],\n",
       "       [1.51625373, 2.99448441],\n",
       "       [1.51625373, 2.99448441],\n",
       "       [1.51625373, 2.99448441],\n",
       "       [1.51625373, 2.99448441],\n",
       "       [1.51625373, 2.99448441],\n",
       "       [1.51625373, 2.99448441],\n",
       "       [1.51625373, 2.99448441],\n",
       "       [1.51625373, 2.99448441],\n",
       "       [1.51625373, 2.99448441],\n",
       "       [1.51625373, 2.99448441]])"
      ]
     },
     "execution_count": 56,
     "metadata": {},
     "output_type": "execute_result"
    }
   ],
   "source": [
    "thetas = np.array(thetas).squeeze()\n",
    "loss = np.array(loss)\n",
    "thetas"
   ]
  },
  {
   "cell_type": "code",
   "execution_count": 57,
   "metadata": {},
   "outputs": [
    {
     "data": {
      "text/html": [
       "        <script type=\"text/javascript\">\n",
       "        window.PlotlyConfig = {MathJaxConfig: 'local'};\n",
       "        if (window.MathJax && window.MathJax.Hub && window.MathJax.Hub.Config) {window.MathJax.Hub.Config({SVG: {font: \"STIX-Web\"}});}\n",
       "        if (typeof require !== 'undefined') {\n",
       "        require.undef(\"plotly\");\n",
       "        requirejs.config({\n",
       "            paths: {\n",
       "                'plotly': ['https://cdn.plot.ly/plotly-2.29.1.min']\n",
       "            }\n",
       "        });\n",
       "        require(['plotly'], function(Plotly) {\n",
       "            window._Plotly = Plotly;\n",
       "        });\n",
       "        }\n",
       "        </script>\n",
       "        "
      ]
     },
     "metadata": {},
     "output_type": "display_data"
    },
    {
     "data": {
      "application/vnd.plotly.v1+json": {
       "config": {
        "linkText": "Export to plot.ly",
        "plotlyServerURL": "https://plot.ly",
        "showLink": false
       },
       "data": [
        {
         "line": {
          "color": "rgb(50,170, 140)",
          "width": 3
         },
         "marker": {
          "color": [
           -20.859191416422235,
           -9.285008173048666,
           -4.6801692738153555,
           -2.6242517936325758,
           -1.476515717472772,
           -0.9073271435862402,
           -0.5415316432911252,
           -0.37758411424694627,
           -0.2969750688130748,
           -0.2590425421375727,
           -0.23973439443291814,
           -0.2303478241625462,
           -0.2255775832667723,
           -0.22321772191904055,
           -0.22202363967204036,
           -0.22142811500262397,
           -0.22112776381775168,
           -0.22097741373654572,
           -0.2209017318568303,
           -0.22086378105845886
          ],
          "colorscale": [
           [
            0,
            "#440154"
           ],
           [
            0.1111111111111111,
            "#482878"
           ],
           [
            0.2222222222222222,
            "#3e4989"
           ],
           [
            0.3333333333333333,
            "#31688e"
           ],
           [
            0.4444444444444444,
            "#26828e"
           ],
           [
            0.5555555555555556,
            "#1f9e89"
           ],
           [
            0.6666666666666666,
            "#35b779"
           ],
           [
            0.7777777777777778,
            "#6ece58"
           ],
           [
            0.8888888888888888,
            "#b5de2b"
           ],
           [
            1,
            "#fde725"
           ]
          ],
          "size": 4
         },
         "type": "scatter3d",
         "x": [
          1.516253726023518,
          1.516253726023518,
          1.516253726023518,
          1.516253726023518,
          1.516253726023518,
          1.516253726023518,
          1.516253726023518,
          1.516253726023518,
          1.516253726023518,
          1.516253726023518,
          1.516253726023518,
          1.516253726023518,
          1.516253726023518,
          1.516253726023518,
          1.516253726023518,
          1.516253726023518,
          1.516253726023518,
          1.516253726023518,
          1.516253726023518,
          1.516253726023518
         ],
         "y": [
          2.9944844130428483,
          2.9944844130428483,
          2.9944844130428483,
          2.9944844130428483,
          2.9944844130428483,
          2.9944844130428483,
          2.9944844130428483,
          2.9944844130428483,
          2.9944844130428483,
          2.9944844130428483,
          2.9944844130428483,
          2.9944844130428483,
          2.9944844130428483,
          2.9944844130428483,
          2.9944844130428483,
          2.9944844130428483,
          2.9944844130428483,
          2.9944844130428483,
          2.9944844130428483,
          2.9944844130428483
         ],
         "z": [
          20.859191416422235,
          9.285008173048666,
          4.6801692738153555,
          2.6242517936325758,
          1.476515717472772,
          0.9073271435862402,
          0.5415316432911252,
          0.37758411424694627,
          0.2969750688130748,
          0.2590425421375727,
          0.23973439443291814,
          0.2303478241625462,
          0.2255775832667723,
          0.22321772191904055,
          0.22202363967204036,
          0.22142811500262397,
          0.22112776381775168,
          0.22097741373654572,
          0.2209017318568303,
          0.22086378105845886
         ]
        },
        {
         "type": "surface",
         "x": [
          1.416253726023518,
          1.4203353586765792,
          1.4244169913296405,
          1.4284986239827016,
          1.4325802566357628,
          1.436661889288824,
          1.4407435219418854,
          1.4448251545949466,
          1.4489067872480077,
          1.452988419901069,
          1.4570700525541302,
          1.4611516852071915,
          1.4652333178602528,
          1.4693149505133138,
          1.4733965831663751,
          1.4774782158194364,
          1.4815598484724977,
          1.485641481125559,
          1.48972311377862,
          1.4938047464316813,
          1.4978863790847425,
          1.5019680117378038,
          1.506049644390865,
          1.5101312770439261,
          1.5142129096969874,
          1.5182945423500487,
          1.52237617500311,
          1.526457807656171,
          1.5305394403092323,
          1.5346210729622936,
          1.5387027056153548,
          1.542784338268416,
          1.5468659709214774,
          1.5509476035745384,
          1.5550292362275997,
          1.559110868880661,
          1.5631925015337222,
          1.5672741341867833,
          1.5713557668398446,
          1.5754373994929058,
          1.5795190321459671,
          1.5836006647990284,
          1.5876822974520897,
          1.5917639301051507,
          1.595845562758212,
          1.5999271954112733,
          1.6040088280643345,
          1.6080904607173956,
          1.6121720933704569,
          1.6162537260235181
         ],
         "y": [
          2.894484413042848,
          2.8985660456959095,
          2.9026476783489708,
          2.906729311002032,
          2.9108109436550933,
          2.914892576308154,
          2.9189742089612154,
          2.9230558416142767,
          2.927137474267338,
          2.931219106920399,
          2.9353007395734605,
          2.9393823722265218,
          2.943464004879583,
          2.9475456375326443,
          2.9516272701857056,
          2.9557089028387664,
          2.9597905354918277,
          2.963872168144889,
          2.9679538007979502,
          2.9720354334510115,
          2.976117066104073,
          2.980198698757134,
          2.9842803314101953,
          2.9883619640632566,
          2.992443596716318,
          2.9965252293693787,
          3.00060686202244,
          3.0046884946755013,
          3.0087701273285625,
          3.012851759981624,
          3.016933392634685,
          3.0210150252877463,
          3.0250966579408076,
          3.029178290593869,
          3.03325992324693,
          3.037341555899991,
          3.0414231885530523,
          3.0455048212061135,
          3.049586453859175,
          3.053668086512236,
          3.0577497191652974,
          3.0618313518183586,
          3.06591298447142,
          3.069994617124481,
          3.0740762497775425,
          3.0781578824306033,
          3.0822395150836646,
          3.086321147736726,
          3.090402780389787,
          3.0944844130428484
         ],
         "z": [
          [
           0.3672713073442163,
           0.3594698071574185,
           0.3519478263273362,
           0.34470536485396974,
           0.3377424227373183,
           0.3310589999773823,
           0.32465509657416175,
           0.3185307125276568,
           0.31268584783786746,
           0.30712050250479334,
           0.30183467652843465,
           0.2968283699087914,
           0.29210158264586367,
           0.28765431473965153,
           0.2834865661901547,
           0.27959833699737335,
           0.2759896271613073,
           0.27266043668195683,
           0.269610765559322,
           0.2668406137934024,
           0.26434998138419835,
           0.26213886833170963,
           0.26020727463593646,
           0.25855520029687873,
           0.25718264531453644,
           0.25608960968890965,
           0.25527609341999824,
           0.2547420965078024,
           0.25448761895232186,
           0.25451266075355683,
           0.2548172219115073,
           0.2554013024261732,
           0.2562649022975546,
           0.25740802152565134,
           0.2588306601104636,
           0.26053281805199124,
           0.26251449535023447,
           0.2647756920051929,
           0.267316408016867,
           0.2701366433852566,
           0.2732363981103616,
           0.276615672192182,
           0.28027446563071795,
           0.28421277842596915,
           0.28843061057793595,
           0.29292796208661825,
           0.297704832952016,
           0.3027612231741289,
           0.3080971327529575,
           0.31371256168850165
          ],
          [
           0.36322271111358595,
           0.35547096840837733,
           0.34799874505988404,
           0.34080604106810664,
           0.3338928564330444,
           0.3272591911546975,
           0.3209050452330661,
           0.31483041866815015,
           0.30903531145994995,
           0.3035197236084649,
           0.29828365511369537,
           0.2933271059756412,
           0.2886500761943026,
           0.2842525657696795,
           0.2801345747017718,
           0.2762961029905795,
           0.2727371506361026,
           0.2694577176383412,
           0.2664578039972955,
           0.26373740971296505,
           0.26129653478535,
           0.2591351792144504,
           0.25725334300026637,
           0.2556510261427978,
           0.2543282286420445,
           0.25328495049800687,
           0.25252119171068454,
           0.2520369522800777,
           0.2518322322061864,
           0.25190703148901045,
           0.25226135012854994,
           0.25289518812480494,
           0.2538085454777754,
           0.25500142218746125,
           0.25647381825386256,
           0.25822573367697943,
           0.2602571684568117,
           0.2625681225933593,
           0.2651585960866225,
           0.2680285889366011,
           0.2711781011432952,
           0.2746071327067048,
           0.2783156836268298,
           0.2823037539036701,
           0.28657134353722596,
           0.2911184525274974,
           0.2959450808744842,
           0.30105122857818617,
           0.306436895638604,
           0.31210208205573714
          ],
          [
           0.3593065054620511,
           0.35160384714333204,
           0.3441807081813284,
           0.33703708857604053,
           0.33017298832746783,
           0.32358840743561057,
           0.31728334590046875,
           0.31125780372204237,
           0.3055117809003319,
           0.3000452774353364,
           0.2948582933270563,
           0.2899508285754918,
           0.28532288318064286,
           0.28097445714250935,
           0.27690555046109117,
           0.2731161631363885,
           0.2696062951684012,
           0.2663759465571294,
           0.26342511730257323,
           0.26075380740473236,
           0.2583620168636069,
           0.2562497456791969,
           0.2544169938515024,
           0.2528637613805234,
           0.2515900482662598,
           0.2505958545087117,
           0.24988118010787896,
           0.24944602506376176,
           0.24929038937635994,
           0.24941427304567365,
           0.24981767607170274,
           0.25050059845444733,
           0.2514630401939074,
           0.2527050012900829,
           0.25422648174297385,
           0.2560274815525802,
           0.25810800071890205,
           0.2604680392419393,
           0.26310759712169207,
           0.26602667435816024,
           0.26922527095134396,
           0.27270338690124307,
           0.27646102220785773,
           0.28049817687118755,
           0.28481485089123304,
           0.2894110442679941,
           0.29428675700147044,
           0.29944198909166203,
           0.3048767405385694,
           0.31059101134219225
          ],
          [
           0.35552320107483515,
           0.3478689357611516,
           0.34049418980418344,
           0.3333989632039312,
           0.326583255960394,
           0.3200470680735723,
           0.313790399543466,
           0.3078132503700752,
           0.3021156205534002,
           0.29669751009344036,
           0.2915589189901958,
           0.28669984724366687,
           0.2821202948538534,
           0.2778202618207555,
           0.2737997481443729,
           0.2700587538247058,
           0.26659727886175405,
           0.2634153232555178,
           0.2605128870059971,
           0.2578899701131918,
           0.25554657257710195,
           0.2534826943977275,
           0.2516983355750686,
           0.2501934961091251,
           0.24896817599989707,
           0.2480223752473845,
           0.24735609385158738,
           0.24696933181250566,
           0.24686208913013946,
           0.24703436580448865,
           0.24748616183555336,
           0.2482174772233335,
           0.24922831196782907,
           0.2505186660690401,
           0.25208853952696664,
           0.25393793234160855,
           0.256066844512966,
           0.25847527604103876,
           0.26116322692582705,
           0.26413069716733084,
           0.26737768676555007,
           0.2709041957204848,
           0.27471022403213496,
           0.2787957717005004,
           0.28316083872558145,
           0.28780542510737794,
           0.29272953084589,
           0.297933155941117,
           0.30341630039306,
           0.3091789642017183
          ],
          [
           0.35187330397058436,
           0.3442667223251501,
           0.3369396600364311,
           0.3298921171044282,
           0.3231240935291402,
           0.3166355893105677,
           0.3104266044487106,
           0.30449713894356906,
           0.2988471927951432,
           0.29347676600343253,
           0.28838585856843724,
           0.28357447049015755,
           0.2790426017685933,
           0.2747902524037446,
           0.2708174223956112,
           0.26712411174419326,
           0.2637103204494908,
           0.2605760485115037,
           0.25772129593023235,
           0.2551460627056762,
           0.2528503488378356,
           0.25083415432671036,
           0.2490974791723006,
           0.24764032337460634,
           0.24646268693362758,
           0.24556456984936417,
           0.24494597212181626,
           0.24460689375098382,
           0.24454733473686674,
           0.2447672950794652,
           0.24526677477877912,
           0.2460457738348085,
           0.24710429224755331,
           0.2484423300170135,
           0.2500598871431892,
           0.25195696362608044,
           0.25413355946568705,
           0.256589674662009,
           0.2593253092150465,
           0.26234046312479953,
           0.26563513639126796,
           0.2692093290144519,
           0.27306304099435125,
           0.2771962723309659,
           0.28160902302429613,
           0.28630129307434193,
           0.2912730824811031,
           0.2965243912445795,
           0.3020552193647716,
           0.3078655668416791
          ],
          [
           0.3483573161202735,
           0.340797691188353,
           0.33351758561314787,
           0.3265169993946587,
           0.31979593253288463,
           0.3133543850278259,
           0.3071923568794827,
           0.30130984808785494,
           0.295706858652943,
           0.29038338857474616,
           0.2853394378532647,
           0.28057500648849876,
           0.27609009448044836,
           0.2718847018291135,
           0.2679588285344939,
           0.2643124745965898,
           0.26094564001540116,
           0.25785832479092796,
           0.2550505289231704,
           0.25252225241212806,
           0.25027349525780124,
           0.24830425746018983,
           0.246614539019294,
           0.24520433993511356,
           0.2440736602076486,
           0.243222499836899,
           0.24265085882286488,
           0.24235873716554632,
           0.24234613486494316,
           0.2426130519210554,
           0.24315948833388318,
           0.24398544410342632,
           0.24509091922968498,
           0.24647591371265898,
           0.24814042755234855,
           0.25008446074875357,
           0.25230801330187397,
           0.2548110852117098,
           0.2575936764782612,
           0.26065578710152804,
           0.26399741708151025,
           0.267618566418208,
           0.27151923511162124,
           0.2756994231617496,
           0.2801591305685938,
           0.2848983573321534,
           0.28991710345242844,
           0.29521536892941863,
           0.3007931537631246,
           0.30665045795354595
          ],
          [
           0.3449757360104756,
           0.3374623235629779,
           0.33022843047219574,
           0.3232740567381295,
           0.3165992023607782,
           0.3102038673401423,
           0.30408805167622194,
           0.2982517553690171,
           0.292694978418528,
           0.287417720824754,
           0.28241998258769535,
           0.27770176370735233,
           0.27326306418372476,
           0.26910388401681273,
           0.26522422320661604,
           0.26162408175313484,
           0.25830345965636897,
           0.25526235691631866,
           0.25250077353298395,
           0.2500187095063645,
           0.24781616483646052,
           0.24589313952327202,
           0.24424963356679896,
           0.24288564696704143,
           0.24180117972399928,
           0.2409962318376726,
           0.24047080330806134,
           0.24022489413516557,
           0.24025850431898524,
           0.24057163385952038,
           0.24116428275677093,
           0.24203645101073704,
           0.24318813862141855,
           0.24461934558881537,
           0.2463300719129278,
           0.24832031759375567,
           0.25059008263129895,
           0.25313936702555767,
           0.25596817077653183,
           0.2590764938842216,
           0.2624643363486267,
           0.2661316981697473,
           0.27007857934758334,
           0.2743049798821346,
           0.2788108997734017,
           0.2835963390213841,
           0.2886612976260819,
           0.294005775587495,
           0.29962977290562387,
           0.3055332895804681
          ],
          [
           0.34172905914979373,
           0.33426109803292303,
           0.3270726562727677,
           0.32016373386932834,
           0.313534330822604,
           0.30718444713259513,
           0.3011140827993017,
           0.29532323782272374,
           0.2898119122028615,
           0.28458010593971445,
           0.2796278190332828,
           0.2749550514835667,
           0.27056180329056606,
           0.266448074454281,
           0.2626138649747113,
           0.2590591748518569,
           0.2557840040857181,
           0.2527883526762947,
           0.25007222062358686,
           0.24763560792759434,
           0.2454785145883173,
           0.2436009406057557,
           0.24200288597990963,
           0.24068435071077904,
           0.2396453347983638,
           0.2388858382426641,
           0.23840586104367972,
           0.23820540320141095,
           0.23828446471585749,
           0.23864304558701954,
           0.23928114581489712,
           0.2401987653994901,
           0.24139590434079855,
           0.24287256263882237,
           0.24462874029356171,
           0.2466644373050165,
           0.24897965367318675,
           0.25157438939807236,
           0.25444864447967347,
           0.25760241891799013,
           0.26103571271302217,
           0.2647485258647698,
           0.26874085837323275,
           0.273012710238411,
           0.2775640814603049,
           0.2823949720389142,
           0.2875053819742391,
           0.29289531126627905,
           0.29856475991503484,
           0.304513727920506
          ],
          [
           0.33861777851734637,
           0.3311944910081547,
           0.3240507228556784,
           0.31718647405991796,
           0.3106017446208726,
           0.30429653453854266,
           0.29827084381292823,
           0.2925246724440292,
           0.287058020431846,
           0.28187088777637787,
           0.27696327447762525,
           0.2723351805355881,
           0.2679866059502664,
           0.26391755072166023,
           0.2601280148497695,
           0.25661799833459414,
           0.2533875011761342,
           0.2504365233743898,
           0.24776506492936098,
           0.24537312584104745,
           0.24326070610944933,
           0.2414278057345667,
           0.23987442471639955,
           0.23860056305494795,
           0.2376062207502117,
           0.23689139780219093,
           0.23645609421088556,
           0.2363003099762957,
           0.23642404509842124,
           0.23682729957726228,
           0.23751007341281882,
           0.23847236660509072,
           0.2397141791540781,
           0.24123551105978094,
           0.2430363623221992,
           0.245116732941333,
           0.2474766229171822,
           0.2501160322497467,
           0.2530349609390269,
           0.25623340898502245,
           0.2597113763877335,
           0.26346886314716006,
           0.267505869263302,
           0.27182239473615916,
           0.27641843956573203,
           0.2812940037520204,
           0.28644908729502416,
           0.29188369019474314,
           0.29759781245117783,
           0.30359145406432797
          ],
          [
           0.3356423849523408,
           0.3282629771200261,
           0.32116308864442694,
           0.31434271952554366,
           0.30780186976337537,
           0.3015405393579225,
           0.29555872830918517,
           0.28985643661716326,
           0.2844336642818572,
           0.27929041130326615,
           0.2744266776813906,
           0.26984246341623047,
           0.26553776850778593,
           0.26151259295605694,
           0.25776693676104323,
           0.254300799922745,
           0.2511141824411622,
           0.24820708431629485,
           0.24557950554814312,
           0.2432314461367067,
           0.24116290608198568,
           0.23937388538398016,
           0.2378643840426901,
           0.23663440205811553,
           0.23568393943025645,
           0.23501299615911275,
           0.23462157224468447,
           0.23450966768697176,
           0.2346772824859744,
           0.23512441664169254,
           0.23585107015412612,
           0.23685724302327518,
           0.23814293524913968,
           0.23970814683171957,
           0.24155287777101497,
           0.2436771280670258,
           0.24608089771975217,
           0.24876418672919384,
           0.251726995095351,
           0.2549693228182237,
           0.2584911698978118,
           0.2622925363341154,
           0.26637342212713455,
           0.2707338272768688,
           0.27537375178331874,
           0.28029319564648425,
           0.2854921588663651,
           0.29097064144296114,
           0.29672864337627297,
           0.30276616466630024
          ],
          [
           0.33280336748387124,
           0.32546702955666257,
           0.31841021098616923,
           0.3116329117723918,
           0.3051351319153295,
           0.29891687141498247,
           0.29297813027135106,
           0.2873189084844351,
           0.28193920605423484,
           0.2768390229807497,
           0.27201835926398005,
           0.26747721490392595,
           0.26321558990058724,
           0.2592334842539641,
           0.2555308979640563,
           0.2521078310308639,
           0.24896428345438704,
           0.24610025523462564,
           0.2435157463715798,
           0.24121075686524923,
           0.23918528671563413,
           0.23743933592273456,
           0.2359729044865504,
           0.23478599240708173,
           0.23387859968432845,
           0.23325072631829064,
           0.2329023723089683,
           0.2328335376563615,
           0.23304422236047004,
           0.23353442642129407,
           0.23430414983883358,
           0.2353533926130885,
           0.23668215474405893,
           0.23829043623174465,
           0.24017823707614602,
           0.24234555727726273,
           0.2447923968350949,
           0.2475187557496425,
           0.25052463402090563,
           0.2538100316488842,
           0.25737494863357824,
           0.26121938497498776,
           0.26534334067311266,
           0.2697468157279529,
           0.27442981013950873,
           0.2793923239077801,
           0.2846343570327669,
           0.2901559095144688,
           0.2959569813528865,
           0.3020375725480197
          ],
          [
           0.33010121360021233,
           0.3228071203376792,
           0.31579254643186155,
           0.3090574918827597,
           0.302601956690373,
           0.29642594085470164,
           0.2905294443757458,
           0.2849124672535054,
           0.2795750094879808,
           0.27451707107917134,
           0.2697386520270773,
           0.2652397523316988,
           0.26102037199303574,
           0.2570805110110882,
           0.253420169385856,
           0.25003934711733933,
           0.246938044205538,
           0.24411626065045225,
           0.24157399645208197,
           0.2393112516104271,
           0.23732802612548767,
           0.23562431999726366,
           0.2342001332257552,
           0.23305546581096204,
           0.23219031775288448,
           0.2316046890515223,
           0.2312985797068756,
           0.23127198971894433,
           0.23152491908772854,
           0.23205736781322817,
           0.23286933589544329,
           0.23396082333437382,
           0.23533183013001982,
           0.2369823562823813,
           0.2389124017914582,
           0.2411219666572506,
           0.2436110508797584,
           0.24637965445898166,
           0.24942777739492034,
           0.2527554196875746,
           0.25636258133694423,
           0.26024926234302936,
           0.26441546270582994,
           0.26886118242534585,
           0.2735864215015773,
           0.2785911799345242,
           0.2838754577241866,
           0.2894392548705642,
           0.29528257137365754,
           0.30140540723346626
          ],
          [
           0.3275364094569922,
           0.32028372052761883,
           0.3133105509549609,
           0.30661690073901887,
           0.30020276987979194,
           0.2940681583772804,
           0.28821306623148435,
           0.2826374934424037,
           0.27734144001003885,
           0.2723249059343892,
           0.2675878912154549,
           0.2631303958532361,
           0.2589524198477328,
           0.25505396319894513,
           0.2514350259068727,
           0.2480956079715158,
           0.24503570939287422,
           0.2422553301709482,
           0.23975447030573777,
           0.23753312979724261,
           0.2355913086454629,
           0.23392900685039866,
           0.23254622441204997,
           0.2314429613304167,
           0.23061921760549883,
           0.2300749932372964,
           0.22981028822580943,
           0.22982510257103803,
           0.23011943627298195,
           0.23069328933164135,
           0.23154666174701627,
           0.23267955351910663,
           0.2340919646479124,
           0.2357838951334336,
           0.23775534497567027,
           0.24000631417462245,
           0.24253680273029005,
           0.24534681064267294,
           0.2484363379117715,
           0.25180538453758544,
           0.2554539505201148,
           0.2593820358593598,
           0.26358964055532014,
           0.26807676460799573,
           0.272843408017387,
           0.2778895707834937,
           0.2832152529063159,
           0.28882045438585324,
           0.2947051752221063,
           0.30086941541507484
          ],
          [
           0.3251094400237599,
           0.3178973003876175,
           0.31096468010819045,
           0.3043115791854793,
           0.29793799761948314,
           0.29184393541020254,
           0.2860293925576373,
           0.28049436906178765,
           0.27523886492265365,
           0.2702628801402348,
           0.2655664147145314,
           0.26114946864554356,
           0.2570120419332712,
           0.2531541345777143,
           0.24957574657887277,
           0.2462768779367467,
           0.2432575286513361,
           0.24051769872264092,
           0.2380573881506614,
           0.23587659693539711,
           0.23397532507684823,
           0.23235357257501496,
           0.23101133942989704,
           0.22994862564149468,
           0.22916543120980767,
           0.2286617561348362,
           0.22843760041658015,
           0.22849296405503955,
           0.22882784705021436,
           0.2294422494021047,
           0.23033617111071047,
           0.2315096121760317,
           0.23296257259806832,
           0.23469505237682037,
           0.23670705151228796,
           0.238998570004471,
           0.24156960785336953,
           0.2444201650589833,
           0.24755024162131273,
           0.25095983754035756,
           0.25464895281611793,
           0.2586175874485937,
           0.2628657414377849,
           0.2673934147836914,
           0.2722006074863135,
           0.2772873195456511,
           0.28265355096170414,
           0.2882993017344724,
           0.2942245718639564,
           0.30042936135015574
          ],
          [
           0.32282078916858076,
           0.3156483294649331,
           0.3087553891180008,
           0.30214196812778443,
           0.29580806649428304,
           0.2897536842174972,
           0.2839788212974268,
           0.27848347773407184,
           0.2732676535274326,
           0.2683313486775086,
           0.2636745631843,
           0.25929729704780685,
           0.2551995502680292,
           0.2513813228449671,
           0.24784261477862035,
           0.24458342606898908,
           0.2416037567160732,
           0.23890360671987282,
           0.23648297608038804,
           0.23434186479761848,
           0.23248027287156448,
           0.23089820030222594,
           0.2295956470896028,
           0.22857261323369518,
           0.227829098734503,
           0.22736510359202622,
           0.22718062780626497,
           0.2272756713772191,
           0.2276502343048887,
           0.22830431658927378,
           0.2292379182303743,
           0.2304510392281903,
           0.23194367958272172,
           0.23371583929396852,
           0.23576751836193088,
           0.23809871678660868,
           0.24070943456800195,
           0.24359967170611052,
           0.24676942820093473,
           0.25021870405247437,
           0.2539474992607294,
           0.25795581382570004,
           0.26224364774738596,
           0.2668110010257872,
           0.2716578736609041,
           0.2767842656527365,
           0.2821901770012843,
           0.28787560770654724,
           0.293840557768526,
           0.30008502718722024
          ],
          [
           0.32067093968042004,
           0.3135372766200955,
           0.3066831329164863,
           0.30010850856959304,
           0.2938134035794148,
           0.2877978179459521,
           0.2820617516692047,
           0.27660520474917283,
           0.2714281771858568,
           0.2665306689792558,
           0.2619126801293703,
           0.25757421063620023,
           0.2535152604997458,
           0.24973582972000674,
           0.24623591829698313,
           0.24301552623067493,
           0.24007465352108218,
           0.23741330016820483,
           0.23503146617204324,
           0.23292915153259686,
           0.23110635624986586,
           0.2295630803238504,
           0.2282993237545504,
           0.2273150865419659,
           0.2266103686860968,
           0.2261851701869432,
           0.22603949104450494,
           0.2261733312587822,
           0.22658669082977498,
           0.2272795697574831,
           0.22825196804190673,
           0.2295038856830458,
           0.2310353226809004,
           0.23284627903547028,
           0.2349367547467558,
           0.2373067498147567,
           0.239956264239473,
           0.2428852980209047,
           0.24609385115905197,
           0.24958192365391474,
           0.25334951550549295,
           0.2573966267137866,
           0.26172325727879564,
           0.26632940720051995,
           0.27121507647896,
           0.2763802651141155,
           0.2818249731059864,
           0.2875492004545725,
           0.29355294715987434,
           0.2998362132218917
          ],
          [
           0.31866037322919905,
           0.31156460999155905,
           0.30474836611063455,
           0.2982116415864259,
           0.2919544364189323,
           0.2859767506081542,
           0.28027858415409146,
           0.2748599370567442,
           0.2697208093161128,
           0.26486120093219645,
           0.26028111190499553,
           0.25598054223451017,
           0.2519594919207403,
           0.24821796096368587,
           0.24475594936334688,
           0.2415734571197233,
           0.23867048423281517,
           0.2360470307026225,
           0.23370309652914548,
           0.23163868171238367,
           0.22985378625233732,
           0.2283484101490065,
           0.22712255340239115,
           0.22617621601249127,
           0.2255093979793068,
           0.22512209930283775,
           0.2250143199830842,
           0.22518606002004607,
           0.2256373194137234,
           0.22636809816411624,
           0.2273783962712245,
           0.2286682137350482,
           0.23023755055558742,
           0.2320864067328419,
           0.23421478226681203,
           0.2366226771574975,
           0.23931009140489853,
           0.24227702500901482,
           0.24552347796984672,
           0.2490494502873941,
           0.2528549419616569,
           0.2569399529926352,
           0.2613044833803289,
           0.2659485331247379,
           0.27087210222586255,
           0.2760751906837026,
           0.2815577984982582,
           0.28731992566952885,
           0.29336157219751535,
           0.2996827380822173
          ],
          [
           0.31678957026353466,
           0.3097307968978694,
           0.3029515428889197,
           0.29645180823668577,
           0.2902315929411669,
           0.28429089700236354,
           0.2786297204202757,
           0.2732480631949032,
           0.2681459253262465,
           0.2633233068143049,
           0.2587802076590788,
           0.2545166278605681,
           0.25053256741877294,
           0.24682802633369336,
           0.2434030046053291,
           0.2402575022336803,
           0.23739151921874688,
           0.234805055560529,
           0.23249811125902667,
           0.2304706863142397,
           0.22872278072616808,
           0.22725439449481205,
           0.22606552762017146,
           0.22515618010224633,
           0.2245263519410366,
           0.22417604313654232,
           0.2241052536887635,
           0.22431398359770013,
           0.2248022328633522,
           0.22557000148571982,
           0.22661728946480286,
           0.22794409680060132,
           0.22955042349311527,
           0.23143626954234453,
           0.23360163494828934,
           0.23604651971094967,
           0.23877092383032542,
           0.24177484730641646,
           0.24505829013922314,
           0.24862125232874518,
           0.25246373387498283,
           0.25658573477793584,
           0.2609872550376043,
           0.26566829465398806,
           0.2706288536270875,
           0.2758689319569024,
           0.2813885296434327,
           0.2871876466866781,
           0.2932662830866394,
           0.299624438843316
          ],
          [
           0.31505900984629115,
           0.3080363036774701,
           0.3012931168653643,
           0.29482944940997446,
           0.2886453013112997,
           0.2827406725693404,
           0.2771155631840964,
           0.27176997315556806,
           0.26670390248375536,
           0.2619173511686579,
           0.2574103192102758,
           0.2531828066086092,
           0.24923481336365816,
           0.2455663394754226,
           0.24217738494390242,
           0.23906794976909765,
           0.2362380339510083,
           0.23368763748963445,
           0.23141676038497622,
           0.22942540263703332,
           0.22771356424580574,
           0.22628124521129375,
           0.22512844553349717,
           0.22425516521241615,
           0.22366140424805045,
           0.22334716264040025,
           0.22331244038946552,
           0.2235572374952462,
           0.2240815539577423,
           0.22488538977695394,
           0.225968744952881,
           0.2273316194855236,
           0.22897401337488157,
           0.2308959266209549,
           0.2330973592237438,
           0.23557831118324818,
           0.23833878249946797,
           0.2413787731724031,
           0.2446982832020538,
           0.24829731258841994,
           0.2521758613315016,
           0.2563339294312987,
           0.26077151688781125,
           0.26548862370103904,
           0.2704852498709825,
           0.2757613953976414,
           0.2813170602810158,
           0.2871522445211052,
           0.2932669481179106,
           0.2996611710714313
          ],
          [
           0.31346916942820474,
           0.30648159546640885,
           0.29977354086132835,
           0.2933450056129637,
           0.28719598972131416,
           0.28132649318638003,
           0.27573651600816146,
           0.27042605818665827,
           0.2653951197218708,
           0.26064370061379855,
           0.2561718008624417,
           0.2519794204678003,
           0.24806655942987446,
           0.24443321774866414,
           0.24107939542416915,
           0.23800509245638962,
           0.2352103088453256,
           0.23269504459097695,
           0.23045929969334392,
           0.2285030741524262,
           0.22682636796822395,
           0.22542918114073715,
           0.22431151366996582,
           0.22347336555591,
           0.22291473679856955,
           0.22263562739794462,
           0.22263603735403506,
           0.22291596666684096,
           0.22347541533636237,
           0.2243143833625992,
           0.22543287074555152,
           0.22683087748521927,
           0.22850840358160251,
           0.23046544903470106,
           0.23270201384451525,
           0.23521809801104482,
           0.23801370153428986,
           0.2410888244142502,
           0.2444434666509261,
           0.2480776282443176,
           0.25199130919442436,
           0.25618450950124677,
           0.2606572291647845,
           0.2654094681850375,
           0.2704412265620062,
           0.2757525042956904,
           0.28134330138609,
           0.28721361783320465,
           0.29336345363703525,
           0.2997928087975812
          ],
          [
           0.31202052455995816,
           0.30506713591432133,
           0.29839326662539983,
           0.2919989166931943,
           0.2858840861177038,
           0.2800487748989287,
           0.27449298303686914,
           0.26921671053152496,
           0.26421995738289655,
           0.25950272359098336,
           0.25506500915578556,
           0.25090681407730325,
           0.24702813835553641,
           0.24342898199048515,
           0.24010934498214917,
           0.23706922733052874,
           0.23430862903562366,
           0.2318275500974341,
           0.2296259905159601,
           0.22770395029120144,
           0.22606142942315824,
           0.22469842791183045,
           0.22361494575721816,
           0.22281098295932134,
           0.22228653951813995,
           0.22204161543367407,
           0.22207621070592357,
           0.22239032533488853,
           0.22298395932056897,
           0.22385711266296487,
           0.22500978536207622,
           0.22644197741790303,
           0.2281536888304453,
           0.2301449195997029,
           0.23241566972567607,
           0.2349659392083647,
           0.2377957280477688,
           0.24090503624388815,
           0.2442938637967232,
           0.24796221070627358,
           0.25191007697253953,
           0.2561374625955209,
           0.2606443675752177,
           0.2654307919116297,
           0.27049673560475745,
           0.27584219865460063,
           0.2814671810611593,
           0.2873716828244331,
           0.2935557039444227,
           0.30001924442112765
          ],
          [
           0.31071354854320843,
           0.3037933868391906,
           0.2971527444918881,
           0.29079162150130156,
           0.28471001786743,
           0.27890793359027394,
           0.27338536866983343,
           0.2681423231061082,
           0.26317879689909884,
           0.2584947900488046,
           0.2540903025552258,
           0.24996533441836244,
           0.24611988563821466,
           0.24255395621478243,
           0.23926754614806545,
           0.236260655438064,
           0.23353328408477794,
           0.23108543208820734,
           0.2289170994483523,
           0.22702828616521273,
           0.22541899223878847,
           0.22408921766907972,
           0.2230389624560864,
           0.22226822659980863,
           0.2217770101002462,
           0.22156531295739934,
           0.22163313517126787,
           0.22198047674185176,
           0.2226073376691512,
           0.22351371795316613,
           0.22469961759389642,
           0.2261650365913423,
           0.22790997494550352,
           0.22993443265638017,
           0.2322384097239723,
           0.23482190614828,
           0.23768492192930304,
           0.24082745706704145,
           0.2442495115614954,
           0.2479510854126648,
           0.2519321786205498,
           0.2561927911851501,
           0.26073292310646595,
           0.26555257438449703,
           0.2706517450192438,
           0.2760304350107059,
           0.2816886443588836,
           0.2876263730637763,
           0.293843621125385,
           0.300340388543709
          ],
          [
           0.3095487120211887,
           0.30266080782150584,
           0.2960524229785385,
           0.2897235574922869,
           0.2836742113627504,
           0.27790438458992944,
           0.27241407717382393,
           0.26720328911443375,
           0.26227202041175945,
           0.25762027106580027,
           0.25324804107655646,
           0.2491553304440282,
           0.24534213916821548,
           0.24180846724911823,
           0.2385543146867363,
           0.2355796814810699,
           0.23288456763211884,
           0.23046897313988335,
           0.22833289800436338,
           0.22647634222555874,
           0.2248993058034696,
           0.22360178873809589,
           0.22258379102943762,
           0.22184531267749488,
           0.2213863536822675,
           0.22120691404375567,
           0.2213069937619592,
           0.22168659283687825,
           0.22234571126851269,
           0.2232843490568626,
           0.22450250620192794,
           0.22600018270370886,
           0.2277773785622052,
           0.22983409377741684,
           0.23217032834934406,
           0.23478608227798672,
           0.23768135556334485,
           0.24085614820541826,
           0.24431046020420732,
           0.24804429155971178,
           0.2520576422719318,
           0.25635051234086714,
           0.260922901766518,
           0.2657748105488841,
           0.2709062386879659,
           0.2763171861837631,
           0.2820076530362758,
           0.2879776392455036,
           0.2942271448114473,
           0.3007561697341063
          ],
          [
           0.30852648250962855,
           0.3016698557385619,
           0.29509274832421073,
           0.2887951602665753,
           0.282777091565655,
           0.27703854222145013,
           0.2715795122339609,
           0.26640000160318694,
           0.26150001032912873,
           0.2568795384117857,
           0.2525385858511581,
           0.24847715264724604,
           0.24469523880004942,
           0.2411928443095684,
           0.23796996917580268,
           0.23502661339875242,
           0.23236277697841756,
           0.2299784599147982,
           0.22787366220789443,
           0.226048383857706,
           0.22450262486423297,
           0.2232363852274755,
           0.22224966494743342,
           0.22154246402410677,
           0.22111478245749566,
           0.2209666202475999,
           0.22109797739441964,
           0.2215088538979548,
           0.2221992497582055,
           0.22316916497517164,
           0.22441859954885315,
           0.22594755347925022,
           0.22775602676636272,
           0.22984401941019048,
           0.23221153141073392,
           0.23485856276799272,
           0.2377851134819671,
           0.24099118355265664,
           0.24447677298006185,
           0.24824188176418252,
           0.2522865099050186,
           0.2566106574025703,
           0.26121432425683727,
           0.26609751046781954,
           0.2712602160355175,
           0.2767024409599309,
           0.2824241852410597,
           0.2884254488789037,
           0.29470623187346356,
           0.3012665342247388
          ],
          [
           0.3076473238688511,
           0.3008209842397566,
           0.29427416396737766,
           0.28800686305171447,
           0.2820190814927664,
           0.2763108192905338,
           0.27088207644501666,
           0.2657328529562149,
           0.26086314882412903,
           0.25627296404875816,
           0.25196229863010283,
           0.24793115256816292,
           0.24417952586293865,
           0.24070741851442976,
           0.23751483052263628,
           0.23460176188755824,
           0.23196821260919565,
           0.2296141826875485,
           0.22753967212261694,
           0.22574468091440072,
           0.2242292090628999,
           0.2229932565681146,
           0.22203682343004477,
           0.22135990964869032,
           0.22096251522405144,
           0.22084464015612795,
           0.22100628444491988,
           0.2214474480904273,
           0.22216813109265018,
           0.2231683334515885,
           0.2244480551672423,
           0.22600729623961158,
           0.22784605666869628,
           0.22996433645449627,
           0.23236213559701188,
           0.23503945409624302,
           0.23799629195218955,
           0.24123264916485132,
           0.24474852573422878,
           0.2485439216603216,
           0.25261883694313003,
           0.2569732715826539,
           0.2616072255788931,
           0.26652069893184754,
           0.2717136916415177,
           0.27718620370790337,
           0.28293823513100447,
           0.2889697859108207,
           0.2952808560473527,
           0.3018714455406002
          ],
          [
           0.30691169571802496,
           0.30011464316386516,
           0.29359710996642086,
           0.2873590961256924,
           0.281400601641679,
           0.27572162651438104,
           0.2703221707437986,
           0.2652022343299316,
           0.26036181727278035,
           0.2558009195723442,
           0.2515195412286235,
           0.24751768224161835,
           0.24379534261132874,
           0.24035252233775453,
           0.2371892214208957,
           0.23430543986075242,
           0.23170117765732443,
           0.229376434810612,
           0.22733121132061512,
           0.22556550718733356,
           0.2240793224107675,
           0.22287265699091685,
           0.2219455109277817,
           0.22129788422136207,
           0.22092977687165777,
           0.22084118887866896,
           0.22103212024239557,
           0.2215025709628377,
           0.22225254103999523,
           0.22328203047386827,
           0.22459103926445673,
           0.22617956741176068,
           0.22804761491578007,
           0.23019518177651482,
           0.2326222679939651,
           0.23532887356813087,
           0.23831499849901205,
           0.2415806427866086,
           0.24512580643092075,
           0.24895048943194828,
           0.2530546917896913,
           0.2574384135041498,
           0.2621016545753238,
           0.2670444150032129,
           0.2722666947878178,
           0.2777684939291381,
           0.2835498124271738,
           0.2896106502819248,
           0.2959510074933915,
           0.3025708840615736
          ],
          [
           0.30632005279266217,
           0.29955127789937935,
           0.29306202236281187,
           0.28685228618296027,
           0.2809220693598238,
           0.2752713718934027,
           0.2699001937836972,
           0.26480853503070695,
           0.2599963956344326,
           0.2554637755948734,
           0.2512106749120296,
           0.2472370935859013,
           0.24354303161648858,
           0.24012848900379125,
           0.23699346574780933,
           0.23413796184854288,
           0.2315619773059918,
           0.22926551212015625,
           0.22724856629103626,
           0.22551113981863163,
           0.22405323270294236,
           0.2228748449439687,
           0.2219759765417104,
           0.22135662749616755,
           0.2210167978073402,
           0.2209564874752283,
           0.22117569649983182,
           0.22167442488115077,
           0.2224526726191852,
           0.22351043971393514,
           0.22484772616540047,
           0.22646453197358132,
           0.22836085713847756,
           0.2305367016600892,
           0.23299206553841637,
           0.23572694877345904,
           0.23874135136521715,
           0.24203527331369046,
           0.2456087146188795,
           0.24946167528078395,
           0.2535941552994038,
           0.25800615467473925,
           0.2626976734067901,
           0.2676687114955561,
           0.27291926894103785,
           0.2784493457432351,
           0.28425894190214773,
           0.2903480574177755,
           0.2967166922901191,
           0.3033648465191781
          ],
          [
           0.3058728442465655,
           0.29913132868911596,
           0.2926693324883818,
           0.28648685564436355,
           0.2805838981570603,
           0.2749604600264726,
           0.2696165412526003,
           0.2645521418354434,
           0.2597672617750024,
           0.25526190107127644,
           0.251036059724266,
           0.24708973773397094,
           0.2434229351003915,
           0.24003565182352754,
           0.2369278879033789,
           0.23409964333994576,
           0.23155091813322803,
           0.22928171228322575,
           0.2272920257899391,
           0.22558185865336772,
           0.2241512108735118,
           0.2230000824503714,
           0.22212847338394648,
           0.22153638367423692,
           0.22122381332124283,
           0.22119076232496426,
           0.22143723068540108,
           0.22196321840255337,
           0.22276872547642104,
           0.2238537519070043,
           0.22521829769430293,
           0.2268623628383171,
           0.22878594733904667,
           0.2309890511964916,
           0.23347167441065206,
           0.23623381698152804,
           0.23927547890911938,
           0.24259666019342613,
           0.2461973608344484,
           0.2500775808321862,
           0.25423732018663936,
           0.25867657889780804,
           0.2633953569656922,
           0.26839365439029156,
           0.2736714711716066,
           0.2792288073096371,
           0.28506566280438306,
           0.29118203765584416,
           0.29757793186402104,
           0.30425334542891347
          ],
          [
           0.3055705128995391,
           0.29885522988040797,
           0.29241946621799225,
           0.28626322191229236,
           0.28038649696330753,
           0.27478929137103825,
           0.26947160513548435,
           0.26443343825664595,
           0.25967479073452326,
           0.25519566256911574,
           0.25099605376042367,
           0.24707596430844708,
           0.243435394213186,
           0.24007434347464038,
           0.23699281209281026,
           0.23419080006769544,
           0.23166830739929614,
           0.22942533408761226,
           0.22746188013264396,
           0.225777945534391,
           0.22437353029285348,
           0.22324863440803153,
           0.2224032578799249,
           0.2218374007085338,
           0.22155106289385817,
           0.22154424443589799,
           0.22181694533465324,
           0.22236916559012385,
           0.22320090520231,
           0.22431216417121164,
           0.22570294249682868,
           0.22737324017916122,
           0.2293230572182092,
           0.23155239361397253,
           0.23406124936645142,
           0.23684962447564578,
           0.2399175189415556,
           0.24326493276418068,
           0.24689186594352142,
           0.2507983184795775,
           0.2549842903723492,
           0.25944978162183624,
           0.26419479222803877,
           0.2692193221909565,
           0.27452337151059003,
           0.2801069401869389,
           0.2859700282200033,
           0.2921126356097828,
           0.29853476235627807,
           0.30523640845948874
          ],
          [
           0.30541349443228444,
           0.29872340912229806,
           0.2923128431690271,
           0.286181796572472,
           0.28033026933263194,
           0.27475826144950743,
           0.26946577292309837,
           0.2644528037534047,
           0.2597193539404268,
           0.2552654234841641,
           0.2510910123846168,
           0.24719612064178492,
           0.24358074825566864,
           0.24024489522626785,
           0.23718856155358245,
           0.2344117472376124,
           0.2319144522783579,
           0.22969667667581878,
           0.22775842042999528,
           0.2260996835408871,
           0.22472046600849438,
           0.22362076783281717,
           0.22280058901385535,
           0.222259929551609,
           0.22199878944607812,
           0.22201716869726273,
           0.22231506730516268,
           0.2228924852697782,
           0.22374942259110908,
           0.22488587926915546,
           0.22630185530391733,
           0.22799735069539462,
           0.22997236544358743,
           0.2322268995484955,
           0.23476095301011918,
           0.23757452582845828,
           0.24066761800351288,
           0.24404022953528273,
           0.24769236042376822,
           0.25162401066896917,
           0.2558351802708856,
           0.26032586922951745,
           0.26509607754486475,
           0.2701458052169273,
           0.2754750522457055,
           0.2810838186311992,
           0.2869721043734083,
           0.2931399094723326,
           0.2995872339279727,
           0.3063140777403282
          ],
          [
           0.3054022165300067,
           0.2987362865112613,
           0.29234987584923117,
           0.286242984543917,
           0.2804156125953179,
           0.2748677600034343,
           0.26959942676826604,
           0.2646106128898133,
           0.2599013183680763,
           0.2554715432030545,
           0.25132128739474807,
           0.24745055094315715,
           0.2438593338482818,
           0.24054763611012187,
           0.23751545772867738,
           0.23476279870394828,
           0.23228965903593463,
           0.23009603872463646,
           0.22818193777005386,
           0.22654735617218658,
           0.22519229393103474,
           0.2241167510465984,
           0.2233207275188775,
           0.2228042233478721,
           0.2225672385335821,
           0.2226097730760076,
           0.22293182697514852,
           0.22353340023100488,
           0.2244144928435767,
           0.22557510481286405,
           0.2270152361388668,
           0.22873488682158494,
           0.23073405686101864,
           0.23301274625716759,
           0.23557095501003222,
           0.23840868311961225,
           0.24152593058590777,
           0.24492269740891848,
           0.24859898358864493,
           0.2525547891250867,
           0.2567901140182441,
           0.26130495826811684,
           0.26609932187470503,
           0.2711732048380085,
           0.2765266071580276,
           0.2821595288347622,
           0.28807196986821226,
           0.2942639302583774,
           0.30073541000525844,
           0.3074864091088548
          ],
          [
           0.3055370979763626,
           0.2988942736870856,
           0.2925309687545239,
           0.28644718317867823,
           0.2806429169595475,
           0.2751181700971323,
           0.2698729425914325,
           0.26490723444244824,
           0.2602210456501796,
           0.2558143762146262,
           0.25168722613578826,
           0.2478395954136658,
           0.24427148404825885,
           0.24098289203956735,
           0.23797381938759127,
           0.2352442660923306,
           0.23279423215378542,
           0.23062371757195563,
           0.2287327223468415,
           0.22712124647844262,
           0.22578928996675926,
           0.22473685281179134,
           0.2239639350135389,
           0.22347053657200186,
           0.22325665748718032,
           0.2233222977590743,
           0.22366745738768362,
           0.2242921363730085,
           0.22519633471504866,
           0.22638005241380435,
           0.2278432894692756,
           0.22958604588146225,
           0.23160832165036435,
           0.23391011677598178,
           0.23649143125831482,
           0.23935226509736324,
           0.2424926182931272,
           0.24591249084560635,
           0.2496118827548012,
           0.2535907940207115,
           0.2578492246433372,
           0.2623871746226784,
           0.2672046439587351,
           0.27230163265150686,
           0.2776781407009945,
           0.2833341681071976,
           0.289269714870116,
           0.2954847809897496,
           0.30197936646609896,
           0.30875347129916386
          ],
          [
           0.3058185476994753,
           0.2991977728806374,
           0.2928565174185149,
           0.28679478131310826,
           0.28101256456441664,
           0.2755098671724406,
           0.27028668913717996,
           0.2653430304586347,
           0.2606788911368053,
           0.256294271171691,
           0.25218917056329215,
           0.24836358931160882,
           0.24481752741664095,
           0.2415509848783886,
           0.23856396169685165,
           0.2358564578720301,
           0.233428473403924,
           0.23128000829253337,
           0.22941106253785834,
           0.22782163613989861,
           0.22651172909865436,
           0.22548134141412557,
           0.22473047308631222,
           0.22425912411521437,
           0.2240672945008319,
           0.22415498424316496,
           0.22452219334221343,
           0.22516892179797737,
           0.2260951696104567,
           0.22730093677965152,
           0.22878622330556184,
           0.23055102918818765,
           0.23259535442752882,
           0.23491919902358538,
           0.23752256297635757,
           0.24040544628584512,
           0.2435678489520481,
           0.24700977097496646,
           0.2507312123546004,
           0.25473217309094975,
           0.2590126531840146,
           0.263572652633795,
           0.2684121714402907,
           0.2735312096035017,
           0.27892976712342843,
           0.2846078440000705,
           0.2905654402334281,
           0.2968025558235009,
           0.3033191907702894,
           0.31011534507379335
          ],
          [
           0.30624696377184163,
           0.29964717591533535,
           0.29332690741554435,
           0.2872861582724693,
           0.28152492848610927,
           0.27604321805646476,
           0.2708410269835357,
           0.265918355267322,
           0.2612752029078241,
           0.2569115699050413,
           0.25282745625897407,
           0.24902286196962228,
           0.24549778703698596,
           0.2422522314610652,
           0.23928619524185976,
           0.2365996783793698,
           0.2341926808735952,
           0.23206520272453615,
           0.23021724393219267,
           0.22864880449656455,
           0.2273598844176518,
           0.22635048369545457,
           0.22562060232997277,
           0.22517024032120644,
           0.2249993976691556,
           0.2251080743738202,
           0.22549627043520018,
           0.22616398585329567,
           0.2271112206281066,
           0.228337974759633,
           0.2298442482478748,
           0.23163004109283217,
           0.23369535329450494,
           0.23604018485289308,
           0.2386645357679967,
           0.24156840603981589,
           0.24475179566835048,
           0.24821470465360032,
           0.2519571329955659,
           0.25597908069424674,
           0.26028054774964315,
           0.264861534161755,
           0.2697220399305824,
           0.2748620650561249,
           0.28028160953838316,
           0.28598067337735683,
           0.291959256573046,
           0.2982173591254503,
           0.3047549810345704,
           0.3115721223004059
          ],
          [
           0.3068227323660484,
           0.30024286316424964,
           0.2939425133191663,
           0.28792168283079883,
           0.28218037169914645,
           0.27671857992420956,
           0.27153630750598806,
           0.2666335544444821,
           0.2620103207396918,
           0.2576666063916167,
           0.253602411400257,
           0.2498177357656129,
           0.24631257948768423,
           0.24308694256647106,
           0.24014082500197323,
           0.23747422679419097,
           0.23508714794312405,
           0.23297958844877256,
           0.2311515483111367,
           0.22960302753021622,
           0.22833402610601108,
           0.2273445440385215,
           0.22663458132774736,
           0.22620413797368863,
           0.22605321397634537,
           0.22618180933571763,
           0.22658992405180528,
           0.22727755812460837,
           0.2282447115541269,
           0.22949138434036095,
           0.23101757648331045,
           0.23282328798297536,
           0.23490851883935582,
           0.23727326905245155,
           0.23991753862226284,
           0.24284132754878962,
           0.24604463583203184,
           0.24952746347198929,
           0.25328981046866245,
           0.257331676822051,
           0.26165306253215503,
           0.26625396759897463,
           0.2711343920225096,
           0.2762943358027597,
           0.28173379893972555,
           0.28745278143340697,
           0.2934512832838037,
           0.2997293044909156,
           0.30628684505474335,
           0.31312390497528647
          ],
          [
           0.3075462266683018,
           0.30098520246483196,
           0.2947036976180776,
           0.288701712128039,
           0.28297924599471563,
           0.27753629921810763,
           0.2723728717982151,
           0.267488963735038,
           0.26288457502857665,
           0.2585597056788305,
           0.2545143556857998,
           0.2507485250494846,
           0.2472622137698848,
           0.24405542184700063,
           0.24112814928083173,
           0.23848039607137836,
           0.23611216221864037,
           0.23402344772261785,
           0.23221425258331096,
           0.23068457680071935,
           0.22943442037484318,
           0.2284637833056825,
           0.2277726655932373,
           0.22736106723750746,
           0.22722898823849325,
           0.22737642859619436,
           0.22780338831061098,
           0.228509867381743,
           0.22949586580959044,
           0.23076138359415344,
           0.23230642073543184,
           0.2341309772334258,
           0.23623505308813506,
           0.23861864829955975,
           0.2412817628677,
           0.2442243967925557,
           0.2474465500741269,
           0.2509482227124133,
           0.25472941470741534,
           0.2587901260591329,
           0.26313035676756585,
           0.2677501068327143,
           0.2726493762545782,
           0.27782816503315727,
           0.28328647316845207,
           0.2890243006604623,
           0.29504164750918804,
           0.3013385137146289,
           0.30791489927678556,
           0.3147708041956576
          ],
          [
           0.3084178057518659,
           0.30187454799336916,
           0.2956108095915879,
           0.28962659054652234,
           0.283921890858172,
           0.278496710526537,
           0.2733510495516176,
           0.26848490793341356,
           0.2638982856719253,
           0.2595911827671522,
           0.2555635992190945,
           0.25181553502775234,
           0.24834699019312567,
           0.2451579647152145,
           0.24224845859401867,
           0.23961847182953833,
           0.23726800442177345,
           0.23519705637072397,
           0.2334056276763901,
           0.23189371833877157,
           0.23066132835786846,
           0.22970845773368084,
           0.22903510646620864,
           0.2286412745554519,
           0.22852696200141068,
           0.22869216880408488,
           0.22913689496347453,
           0.22986114047957965,
           0.23086490535240017,
           0.23214818958193617,
           0.23371099316818766,
           0.23555331611115457,
           0.23767515841083697,
           0.2400765200672347,
           0.24275740108034796,
           0.2457178014501768,
           0.24895772117672096,
           0.25247716025998046,
           0.2562761186999556,
           0.26035459649664616,
           0.2647125936500522,
           0.2693501101601737,
           0.27426714602701063,
           0.2794637012505628,
           0.28493977583083063,
           0.290695369767814,
           0.2967304830615128,
           0.3030451157119266,
           0.30963926771905637,
           0.3165129390829015
          ],
          [
           0.30943781341257853,
           0.30291123910133166,
           0.29666418414680035,
           0.29069664854898475,
           0.2850086323078843,
           0.2796001354234993,
           0.2744711578958298,
           0.2696216997248757,
           0.2650517609106373,
           0.26076134145311414,
           0.2567504413523064,
           0.25301906060821416,
           0.2495671992208374,
           0.24639485719017615,
           0.24350203451623026,
           0.24088873119899987,
           0.23855494723848486,
           0.23650068263468535,
           0.23472593738760145,
           0.23323071149723282,
           0.2320150049635796,
           0.23107881778664194,
           0.23042214996641974,
           0.23004500150291288,
           0.22994737239612165,
           0.23012926264604572,
           0.23059067225268534,
           0.2313316012160403,
           0.2323520495361108,
           0.23365201721289675,
           0.23523150424639813,
           0.23709051063661504,
           0.2392290363835473,
           0.241647081487195,
           0.24434464594755823,
           0.24732172976463693,
           0.25057833293843096,
           0.25411445546894046,
           0.2579300973561655,
           0.262025258600106,
           0.266399939200762,
           0.27105413915813337,
           0.2759878584722203,
           0.2812010971430223,
           0.2866938551705401,
           0.29246613255477333,
           0.298517929295722,
           0.30484924539338587,
           0.31146008084776555,
           0.3183504356588606
          ],
          [
           0.31060657696869953,
           0.304095599115871,
           0.2978641406197579,
           0.2919122014803607,
           0.2862397816976785,
           0.2808468812717118,
           0.27573350020246057,
           0.2708996384899247,
           0.26634529613410474,
           0.26207047313499987,
           0.25807516949261045,
           0.2543593852069365,
           0.25092312027797803,
           0.2477663747057351,
           0.24488914849020754,
           0.24229144163139538,
           0.23997325412929868,
           0.23793458598391748,
           0.23617543719525183,
           0.2346958077633015,
           0.23349569768806663,
           0.23257510696954725,
           0.23193403560774337,
           0.23157248360265484,
           0.23149045095428183,
           0.2316879376626243,
           0.2321649437276821,
           0.23292146914945544,
           0.2339575139279442,
           0.23527307806314848,
           0.23686816155506818,
           0.23874276440370337,
           0.240896886609054,
           0.24333052817111991,
           0.24604368908990143,
           0.2490363693653984,
           0.2523085689976109,
           0.2558602879865386,
           0.25969152633218195,
           0.26380228403454076,
           0.268192561093615,
           0.2728623575094048,
           0.27781167328190987,
           0.28304050841113026,
           0.2885488628970664,
           0.29433673673971794,
           0.300404129939085,
           0.30675104249516705,
           0.313377474407965,
           0.3202834256774783
          ],
          [
           0.3119244060274164,
           0.3054279341067902,
           0.2992109815428794,
           0.2932735483356846,
           0.2876156344852047,
           0.28223723999144035,
           0.2771383648543915,
           0.272319009074058,
           0.26777917265044027,
           0.2635188555835377,
           0.25953805787335066,
           0.255836779519879,
           0.25241502052312287,
           0.24927278088308222,
           0.24641006059975698,
           0.24382685967314718,
           0.24152317810325286,
           0.23949901589007397,
           0.23775437303361063,
           0.23628924953386266,
           0.2351036453908301,
           0.23419756060451305,
           0.23357099517491145,
           0.2332239491020253,
           0.2331564223858546,
           0.23336841502639938,
           0.2338599270236596,
           0.23463095837763517,
           0.2356815090883263,
           0.23701157915573284,
           0.23862116857985494,
           0.24051027736069244,
           0.2426789054982454,
           0.2451270529925136,
           0.24785471984349755,
           0.25086190605119685,
           0.25414861161561164,
           0.2577148365367416,
           0.26156058081458733,
           0.2656858444491485,
           0.27009062744042506,
           0.27477492978841717,
           0.27973875149312466,
           0.2849820925545474,
           0.29050495297268575,
           0.2963073327475396,
           0.3023892318791089,
           0.3087506503673934,
           0.31539158821239366,
           0.3223120454141094
          ],
          [
           0.3133915912204027,
           0.3069085316223849,
           0.3007049913810826,
           0.29478097049649615,
           0.2891364689686247,
           0.2837714867974688,
           0.27868602398302833,
           0.27388008052530327,
           0.269353656424294,
           0.26510675167999986,
           0.2611393662924212,
           0.25745150026155794,
           0.25404315358741025,
           0.2509143262699781,
           0.24806501830926123,
           0.2454952297052599,
           0.243204960457974,
           0.2411942105674035,
           0.23946298003354863,
           0.23801126885640903,
           0.23683907703598492,
           0.23594640457227636,
           0.23533325146528314,
           0.2349996177150054,
           0.2349455033214431,
           0.23517090828459633,
           0.23567583260446498,
           0.23646027628104904,
           0.23752423931434857,
           0.2388677217043636,
           0.24049072345109404,
           0.24239324455453995,
           0.24457528501470133,
           0.247036844831578,
           0.24977792400517032,
           0.252798522535478,
           0.25609864042250124,
           0.2596782776662397,
           0.26353743426669385,
           0.2676761102238634,
           0.2720943055377484,
           0.27679202020834887,
           0.2817692542356648,
           0.28702600761969593,
           0.2925622803604428,
           0.29837807245790515,
           0.30447338391208284,
           0.31084821472297575,
           0.3175025648905844,
           0.3244364344149086
          ],
          [
           0.31500840291089,
           0.30853765939661465,
           0.30234643523905474,
           0.2964347304382107,
           0.2908025449940817,
           0.2854498789066683,
           0.2803767321759702,
           0.2755831048019876,
           0.27106899678472074,
           0.26683440812416903,
           0.2628793388203328,
           0.259203788873212,
           0.2558077582828067,
           0.25269124704911705,
           0.24985425517214263,
           0.24729678265188373,
           0.24501882948834022,
           0.2430203956815122,
           0.24130148123139974,
           0.23986208613800264,
           0.23870221040132095,
           0.23782185402135472,
           0.23722101699810394,
           0.23689969933156868,
           0.23685790102174886,
           0.2370956220686445,
           0.2376128624722556,
           0.23840962223258208,
           0.23948590134962405,
           0.24084169982338152,
           0.24247701765385438,
           0.24439185484104275,
           0.24658621138494657,
           0.24906008728556572,
           0.2518134825429004,
           0.2548463971569506,
           0.25815883112771626,
           0.26175078445519717,
           0.2656222571393937,
           0.26977324918030565,
           0.27420376057793316,
           0.27891379133227606,
           0.2839033414433344,
           0.289172410911108,
           0.2947209997355973,
           0.300549107916802,
           0.3066567354547222,
           0.3130438823493574,
           0.3197105486007087,
           0.3266567342087752
          ],
          [
           0.3167750898747767,
           0.3103155640301286,
           0.30413555754219584,
           0.298235070410979,
           0.2926141026364773,
           0.2872726542186909,
           0.2822107251576201,
           0.2774283154532647,
           0.27292542510562506,
           0.26870205411470055,
           0.2647582024804915,
           0.26109387020299785,
           0.2577090572822199,
           0.2546037637181573,
           0.2517779895108101,
           0.2492317346601784,
           0.24696499916626208,
           0.24497778302906123,
           0.243270086248576,
           0.24184190882480608,
           0.24069325075775158,
           0.23982411204741255,
           0.23923449269378902,
           0.23892439269688093,
           0.23889381205668825,
           0.23914275077321107,
           0.23967120884644932,
           0.2404791862764031,
           0.2415666830630722,
           0.24293369920645688,
           0.24458023470655693,
           0.24650628956337253,
           0.2487118637769035,
           0.2511969573471498,
           0.25396157027411176,
           0.2570057025577892,
           0.260329354198182,
           0.2639325251952901,
           0.26781521554911375,
           0.27197742525965296,
           0.2764191543269076,
           0.28114040275087776,
           0.2861411705315633,
           0.291421457668964,
           0.29698126416308057,
           0.3028205900139125,
           0.30893943522145983,
           0.31533779978572235,
           0.3220156837067007,
           0.3289730869843945
          ],
          [
           0.31869187795835313,
           0.31224246964772545,
           0.30607258069381327,
           0.3001822110966169,
           0.2945713608561356,
           0.2892400299723698,
           0.2841882184453195,
           0.27941592627498457,
           0.2749231534613654,
           0.2707099000044614,
           0.26677616590427283,
           0.2631219511607998,
           0.2597472557740422,
           0.2566520797440001,
           0.25383642307067344,
           0.2513002857540622,
           0.24904366779416642,
           0.24706656919098605,
           0.24536898994452136,
           0.2439509300547719,
           0.2428123895217379,
           0.24195336834541942,
           0.24137386652581636,
           0.2410738840629287,
           0.24105342095675658,
           0.24131247720729992,
           0.2418510528145587,
           0.24266914777853288,
           0.24376676209922257,
           0.24514389577662768,
           0.24680054881074823,
           0.24873672120158433,
           0.25095241294913584,
           0.25344762405340265,
           0.256222354514385,
           0.25927660433208294,
           0.26261037350649624,
           0.2662236620376249,
           0.2701164699254691,
           0.2742887971700288,
           0.278740643771304,
           0.2834720097292946,
           0.2884828950440006,
           0.29377329971542193,
           0.29934322374355893,
           0.3051926671284113,
           0.31132162986997924,
           0.3177301119682622,
           0.3244181134232611,
           0.33138563423497525
          ],
          [
           0.3207589687152737,
           0.31431857653487977,
           0.3081577037112012,
           0.3022763502442386,
           0.29667451613399093,
           0.29135220138045886,
           0.28630940598364224,
           0.281546129943541,
           0.27706237326015554,
           0.2728581359334852,
           0.2689334179635304,
           0.265288219350291,
           0.2619225400937671,
           0.25883638019395877,
           0.25602973965086573,
           0.25350261846448824,
           0.2512550166348261,
           0.24928693416187941,
           0.24759837104564839,
           0.24618932728613263,
           0.24505980288333234,
           0.24420979783724756,
           0.24363931214787815,
           0.24334834581522424,
           0.2433368988392858,
           0.24360497122006283,
           0.2441525629575553,
           0.2449796740517631,
           0.24608630450268648,
           0.2474724543103253,
           0.2491381234746796,
           0.25108331199574935,
           0.2533080198735345,
           0.255812247108035,
           0.2585959936992512,
           0.26165925964718273,
           0.2650020449518298,
           0.26862434961319204,
           0.27252617363126996,
           0.27670751700606333,
           0.28116837973757214,
           0.2859087618257965,
           0.29092866327073624,
           0.2962280840723912,
           0.30180702423076183,
           0.307665483745848,
           0.3138034626176495,
           0.3202209608461662,
           0.3269179784313987,
           0.3338945153733467
          ],
          [
           0.3229765380254575,
           0.31654405975601435,
           0.3103911008432865,
           0.3045176612872746,
           0.2989237410879778,
           0.2936093402453964,
           0.28857445875953047,
           0.28381909663038,
           0.27934325385794534,
           0.2751469304422257,
           0.27123012638322164,
           0.26759284168093295,
           0.2642350763353598,
           0.26115683034650217,
           0.25835810371435997,
           0.25583889643893315,
           0.25359920852022183,
           0.2516390399582259,
           0.24995839075294554,
           0.24855726090438054,
           0.24743565041253096,
           0.24659355927739696,
           0.2460309874989783,
           0.24574793507727516,
           0.2457444020122874,
           0.2460203883040152,
           0.24657589395245835,
           0.24741091895761702,
           0.2485254633194911,
           0.24991952703808068,
           0.2515931101133857,
           0.2535462125454062,
           0.2557788343341421,
           0.2582909754795934,
           0.26108263598176024,
           0.2641538158406425,
           0.2675045150562403,
           0.2711347336285533,
           0.275044471557582,
           0.27923372884332615,
           0.2837025054857856,
           0.2884508014849608,
           0.29347861684085125,
           0.29878595155345694,
           0.3043728056227783,
           0.3102391790488152,
           0.3163850718315675,
           0.3228104839710349,
           0.3295154154672182,
           0.33649986632011686
          ],
          [
           0.32534473469863967,
           0.31891906775724455,
           0.31277292017256486,
           0.30690629194460095,
           0.30131918307335226,
           0.29601159355881895,
           0.2909835234010011,
           0.2862349725998988,
           0.2817659411555121,
           0.27757642906784064,
           0.27366643633688453,
           0.270035962962644,
           0.266685008945119,
           0.2636135742843095,
           0.26082165898021525,
           0.2583092630328366,
           0.25607638644217323,
           0.25412302920822544,
           0.2524491913309932,
           0.2510548728104763,
           0.2499400736466748,
           0.24910479383958886,
           0.24854903338921835,
           0.24827279229556326,
           0.2482760705586237,
           0.24855886817839945,
           0.24912118515489073,
           0.24996302148809746,
           0.2510843771780197,
           0.2524852522246573,
           0.2541656466280104,
           0.256125560388079,
           0.258364993504863,
           0.26088394597836234,
           0.26368241780857726,
           0.2667604089955077,
           0.27011791953915354,
           0.2737549494395146,
           0.2776714986965914,
           0.28186756731038354,
           0.2863431552808912,
           0.2910982626081144,
           0.296132889292053,
           0.3014470353327067,
           0.3070407007300762,
           0.31291388548416116,
           0.31906658959496165,
           0.32549881306247713,
           0.3322105558867085,
           0.33920181806765526
          ],
          [
           0.32786367906533137,
           0.3214437209563513,
           0.3153032822040868,
           0.30944236280853815,
           0.3038609627697045,
           0.29855908208758636,
           0.2935367207621836,
           0.2887938787934964,
           0.2843305561815249,
           0.2801467529262685,
           0.2762424690277276,
           0.27261770448590217,
           0.26927245930079236,
           0.2662067334723979,
           0.2634205270007188,
           0.2609138398857553,
           0.25868667212750707,
           0.2567390237259744,
           0.25507089468115735,
           0.25368228499305556,
           0.2525731946616692,
           0.2517436236869984,
           0.251193572069043,
           0.250923039807803,
           0.25093202690327854,
           0.2512205333554695,
           0.2517885591643759,
           0.2526361043299978,
           0.25376316885233513,
           0.25516975273138787,
           0.2568558559671561,
           0.2588214785596399,
           0.261066620508839,
           0.2635912818147535,
           0.26639546247738355,
           0.26947916249672904,
           0.2728423818727901,
           0.2764851206055663,
           0.28040737869505816,
           0.2846091561412655,
           0.28909045294418834,
           0.29385126910382664,
           0.29889160462018033,
           0.3042114594932493,
           0.3098108337230339,
           0.31568972730953393,
           0.3218481402527495,
           0.3282860725526801,
           0.3350035242093266,
           0.3420004952226885
          ],
          [
           0.33053346155798835,
           0.3241181103227839,
           0.317982278444295,
           0.31212596592252195,
           0.30654917275746396,
           0.30125189894912147,
           0.29623414449749447,
           0.2914959094025828,
           0.2870371936643869,
           0.28285799728290617,
           0.278958320258141,
           0.27533816259009114,
           0.2719975242787568,
           0.2689364053241381,
           0.2661548057262347,
           0.2636527254850467,
           0.2614301646005742,
           0.2594871230728171,
           0.25782360090177564,
           0.25643959808744954,
           0.2553351146298388,
           0.2545101505289436,
           0.2539647057847638,
           0.2536987803972995,
           0.25371237436655064,
           0.25400548769251735,
           0.25457812037519933,
           0.25543027241459676,
           0.25656194381070974,
           0.2579731345635382,
           0.259663844673082,
           0.2616340741393414,
           0.26388382296231616,
           0.26641309114200634,
           0.26922187867841196,
           0.27231018557153314,
           0.27567801182136975,
           0.2793253574279216,
           0.2832522223911892,
           0.2874586067111721,
           0.29194451038787056,
           0.2967099334212845,
           0.3017548758114138,
           0.30707933755825834,
           0.31268331866181864,
           0.3185668191220943,
           0.3247298389390855,
           0.33117237811279177,
           0.33789443664321395,
           0.3448960145303515
          ],
          [
           0.3333541412852072,
           0.3269422959505128,
           0.3208099699725337,
           0.3149571633512705,
           0.30938387608672235,
           0.30409010817888976,
           0.2990758596277725,
           0.2943411304333708,
           0.28988592059568474,
           0.2857102301147139,
           0.2818140589904585,
           0.2781974072229186,
           0.2748602748120942,
           0.2718026617579853,
           0.2690245680605918,
           0.26652599371991365,
           0.264306938735951,
           0.2623674031087038,
           0.2607073868381722,
           0.259326889924356,
           0.2582259123672551,
           0.2574044541668698,
           0.2568625153231999,
           0.25660009583624543,
           0.25661719570600644,
           0.25691381493248294,
           0.2574899535156749,
           0.2583456114555822,
           0.259480788752205,
           0.2608954854055433,
           0.26258970141559707,
           0.26456343678236627,
           0.26681669150585097,
           0.26934946558605094,
           0.2721617590229665,
           0.2752535718165976,
           0.27862490396694406,
           0.28227575547400574,
           0.2862061263377832,
           0.290416016558276,
           0.29490542613548426,
           0.29967435506940804,
           0.30472280336004726,
           0.3100507710074017,
           0.31565825801147185,
           0.3215452643722574,
           0.3277117900897585,
           0.3341578351639745,
           0.34088339959490666,
           0.347888483382554
          ]
         ]
        }
       ],
       "layout": {
        "autosize": true,
        "height": 700,
        "scene": {
         "aspectmode": "manual",
         "aspectratio": {
          "x": 1,
          "y": 1,
          "z": 0.7
         },
         "camera": {
          "eye": {
           "x": -1.7428,
           "y": 1.0707,
           "z": 0.71
          },
          "up": {
           "x": 0,
           "y": 0,
           "z": 1
          }
         },
         "xaxis": {
          "gridcolor": "rgb(255, 255, 255)",
          "showbackground": true,
          "zerolinecolor": "rgb(255, 255, 255)"
         },
         "yaxis": {
          "gridcolor": "rgb(255, 255, 255)",
          "showbackground": true,
          "zerolinecolor": "rgb(255, 255, 255)"
         },
         "zaxis": {
          "gridcolor": "rgb(255, 255, 255)",
          "showbackground": true,
          "zerolinecolor": "rgb(255, 255, 255)"
         }
        },
        "template": {
         "data": {
          "bar": [
           {
            "error_x": {
             "color": "#2a3f5f"
            },
            "error_y": {
             "color": "#2a3f5f"
            },
            "marker": {
             "line": {
              "color": "#E5ECF6",
              "width": 0.5
             },
             "pattern": {
              "fillmode": "overlay",
              "size": 10,
              "solidity": 0.2
             }
            },
            "type": "bar"
           }
          ],
          "barpolar": [
           {
            "marker": {
             "line": {
              "color": "#E5ECF6",
              "width": 0.5
             },
             "pattern": {
              "fillmode": "overlay",
              "size": 10,
              "solidity": 0.2
             }
            },
            "type": "barpolar"
           }
          ],
          "carpet": [
           {
            "aaxis": {
             "endlinecolor": "#2a3f5f",
             "gridcolor": "white",
             "linecolor": "white",
             "minorgridcolor": "white",
             "startlinecolor": "#2a3f5f"
            },
            "baxis": {
             "endlinecolor": "#2a3f5f",
             "gridcolor": "white",
             "linecolor": "white",
             "minorgridcolor": "white",
             "startlinecolor": "#2a3f5f"
            },
            "type": "carpet"
           }
          ],
          "choropleth": [
           {
            "colorbar": {
             "outlinewidth": 0,
             "ticks": ""
            },
            "type": "choropleth"
           }
          ],
          "contour": [
           {
            "colorbar": {
             "outlinewidth": 0,
             "ticks": ""
            },
            "colorscale": [
             [
              0,
              "#0d0887"
             ],
             [
              0.1111111111111111,
              "#46039f"
             ],
             [
              0.2222222222222222,
              "#7201a8"
             ],
             [
              0.3333333333333333,
              "#9c179e"
             ],
             [
              0.4444444444444444,
              "#bd3786"
             ],
             [
              0.5555555555555556,
              "#d8576b"
             ],
             [
              0.6666666666666666,
              "#ed7953"
             ],
             [
              0.7777777777777778,
              "#fb9f3a"
             ],
             [
              0.8888888888888888,
              "#fdca26"
             ],
             [
              1,
              "#f0f921"
             ]
            ],
            "type": "contour"
           }
          ],
          "contourcarpet": [
           {
            "colorbar": {
             "outlinewidth": 0,
             "ticks": ""
            },
            "type": "contourcarpet"
           }
          ],
          "heatmap": [
           {
            "colorbar": {
             "outlinewidth": 0,
             "ticks": ""
            },
            "colorscale": [
             [
              0,
              "#0d0887"
             ],
             [
              0.1111111111111111,
              "#46039f"
             ],
             [
              0.2222222222222222,
              "#7201a8"
             ],
             [
              0.3333333333333333,
              "#9c179e"
             ],
             [
              0.4444444444444444,
              "#bd3786"
             ],
             [
              0.5555555555555556,
              "#d8576b"
             ],
             [
              0.6666666666666666,
              "#ed7953"
             ],
             [
              0.7777777777777778,
              "#fb9f3a"
             ],
             [
              0.8888888888888888,
              "#fdca26"
             ],
             [
              1,
              "#f0f921"
             ]
            ],
            "type": "heatmap"
           }
          ],
          "heatmapgl": [
           {
            "colorbar": {
             "outlinewidth": 0,
             "ticks": ""
            },
            "colorscale": [
             [
              0,
              "#0d0887"
             ],
             [
              0.1111111111111111,
              "#46039f"
             ],
             [
              0.2222222222222222,
              "#7201a8"
             ],
             [
              0.3333333333333333,
              "#9c179e"
             ],
             [
              0.4444444444444444,
              "#bd3786"
             ],
             [
              0.5555555555555556,
              "#d8576b"
             ],
             [
              0.6666666666666666,
              "#ed7953"
             ],
             [
              0.7777777777777778,
              "#fb9f3a"
             ],
             [
              0.8888888888888888,
              "#fdca26"
             ],
             [
              1,
              "#f0f921"
             ]
            ],
            "type": "heatmapgl"
           }
          ],
          "histogram": [
           {
            "marker": {
             "pattern": {
              "fillmode": "overlay",
              "size": 10,
              "solidity": 0.2
             }
            },
            "type": "histogram"
           }
          ],
          "histogram2d": [
           {
            "colorbar": {
             "outlinewidth": 0,
             "ticks": ""
            },
            "colorscale": [
             [
              0,
              "#0d0887"
             ],
             [
              0.1111111111111111,
              "#46039f"
             ],
             [
              0.2222222222222222,
              "#7201a8"
             ],
             [
              0.3333333333333333,
              "#9c179e"
             ],
             [
              0.4444444444444444,
              "#bd3786"
             ],
             [
              0.5555555555555556,
              "#d8576b"
             ],
             [
              0.6666666666666666,
              "#ed7953"
             ],
             [
              0.7777777777777778,
              "#fb9f3a"
             ],
             [
              0.8888888888888888,
              "#fdca26"
             ],
             [
              1,
              "#f0f921"
             ]
            ],
            "type": "histogram2d"
           }
          ],
          "histogram2dcontour": [
           {
            "colorbar": {
             "outlinewidth": 0,
             "ticks": ""
            },
            "colorscale": [
             [
              0,
              "#0d0887"
             ],
             [
              0.1111111111111111,
              "#46039f"
             ],
             [
              0.2222222222222222,
              "#7201a8"
             ],
             [
              0.3333333333333333,
              "#9c179e"
             ],
             [
              0.4444444444444444,
              "#bd3786"
             ],
             [
              0.5555555555555556,
              "#d8576b"
             ],
             [
              0.6666666666666666,
              "#ed7953"
             ],
             [
              0.7777777777777778,
              "#fb9f3a"
             ],
             [
              0.8888888888888888,
              "#fdca26"
             ],
             [
              1,
              "#f0f921"
             ]
            ],
            "type": "histogram2dcontour"
           }
          ],
          "mesh3d": [
           {
            "colorbar": {
             "outlinewidth": 0,
             "ticks": ""
            },
            "type": "mesh3d"
           }
          ],
          "parcoords": [
           {
            "line": {
             "colorbar": {
              "outlinewidth": 0,
              "ticks": ""
             }
            },
            "type": "parcoords"
           }
          ],
          "pie": [
           {
            "automargin": true,
            "type": "pie"
           }
          ],
          "scatter": [
           {
            "fillpattern": {
             "fillmode": "overlay",
             "size": 10,
             "solidity": 0.2
            },
            "type": "scatter"
           }
          ],
          "scatter3d": [
           {
            "line": {
             "colorbar": {
              "outlinewidth": 0,
              "ticks": ""
             }
            },
            "marker": {
             "colorbar": {
              "outlinewidth": 0,
              "ticks": ""
             }
            },
            "type": "scatter3d"
           }
          ],
          "scattercarpet": [
           {
            "marker": {
             "colorbar": {
              "outlinewidth": 0,
              "ticks": ""
             }
            },
            "type": "scattercarpet"
           }
          ],
          "scattergeo": [
           {
            "marker": {
             "colorbar": {
              "outlinewidth": 0,
              "ticks": ""
             }
            },
            "type": "scattergeo"
           }
          ],
          "scattergl": [
           {
            "marker": {
             "colorbar": {
              "outlinewidth": 0,
              "ticks": ""
             }
            },
            "type": "scattergl"
           }
          ],
          "scattermapbox": [
           {
            "marker": {
             "colorbar": {
              "outlinewidth": 0,
              "ticks": ""
             }
            },
            "type": "scattermapbox"
           }
          ],
          "scatterpolar": [
           {
            "marker": {
             "colorbar": {
              "outlinewidth": 0,
              "ticks": ""
             }
            },
            "type": "scatterpolar"
           }
          ],
          "scatterpolargl": [
           {
            "marker": {
             "colorbar": {
              "outlinewidth": 0,
              "ticks": ""
             }
            },
            "type": "scatterpolargl"
           }
          ],
          "scatterternary": [
           {
            "marker": {
             "colorbar": {
              "outlinewidth": 0,
              "ticks": ""
             }
            },
            "type": "scatterternary"
           }
          ],
          "surface": [
           {
            "colorbar": {
             "outlinewidth": 0,
             "ticks": ""
            },
            "colorscale": [
             [
              0,
              "#0d0887"
             ],
             [
              0.1111111111111111,
              "#46039f"
             ],
             [
              0.2222222222222222,
              "#7201a8"
             ],
             [
              0.3333333333333333,
              "#9c179e"
             ],
             [
              0.4444444444444444,
              "#bd3786"
             ],
             [
              0.5555555555555556,
              "#d8576b"
             ],
             [
              0.6666666666666666,
              "#ed7953"
             ],
             [
              0.7777777777777778,
              "#fb9f3a"
             ],
             [
              0.8888888888888888,
              "#fdca26"
             ],
             [
              1,
              "#f0f921"
             ]
            ],
            "type": "surface"
           }
          ],
          "table": [
           {
            "cells": {
             "fill": {
              "color": "#EBF0F8"
             },
             "line": {
              "color": "white"
             }
            },
            "header": {
             "fill": {
              "color": "#C8D4E3"
             },
             "line": {
              "color": "white"
             }
            },
            "type": "table"
           }
          ]
         },
         "layout": {
          "annotationdefaults": {
           "arrowcolor": "#2a3f5f",
           "arrowhead": 0,
           "arrowwidth": 1
          },
          "autotypenumbers": "strict",
          "coloraxis": {
           "colorbar": {
            "outlinewidth": 0,
            "ticks": ""
           }
          },
          "colorscale": {
           "diverging": [
            [
             0,
             "#8e0152"
            ],
            [
             0.1,
             "#c51b7d"
            ],
            [
             0.2,
             "#de77ae"
            ],
            [
             0.3,
             "#f1b6da"
            ],
            [
             0.4,
             "#fde0ef"
            ],
            [
             0.5,
             "#f7f7f7"
            ],
            [
             0.6,
             "#e6f5d0"
            ],
            [
             0.7,
             "#b8e186"
            ],
            [
             0.8,
             "#7fbc41"
            ],
            [
             0.9,
             "#4d9221"
            ],
            [
             1,
             "#276419"
            ]
           ],
           "sequential": [
            [
             0,
             "#0d0887"
            ],
            [
             0.1111111111111111,
             "#46039f"
            ],
            [
             0.2222222222222222,
             "#7201a8"
            ],
            [
             0.3333333333333333,
             "#9c179e"
            ],
            [
             0.4444444444444444,
             "#bd3786"
            ],
            [
             0.5555555555555556,
             "#d8576b"
            ],
            [
             0.6666666666666666,
             "#ed7953"
            ],
            [
             0.7777777777777778,
             "#fb9f3a"
            ],
            [
             0.8888888888888888,
             "#fdca26"
            ],
            [
             1,
             "#f0f921"
            ]
           ],
           "sequentialminus": [
            [
             0,
             "#0d0887"
            ],
            [
             0.1111111111111111,
             "#46039f"
            ],
            [
             0.2222222222222222,
             "#7201a8"
            ],
            [
             0.3333333333333333,
             "#9c179e"
            ],
            [
             0.4444444444444444,
             "#bd3786"
            ],
            [
             0.5555555555555556,
             "#d8576b"
            ],
            [
             0.6666666666666666,
             "#ed7953"
            ],
            [
             0.7777777777777778,
             "#fb9f3a"
            ],
            [
             0.8888888888888888,
             "#fdca26"
            ],
            [
             1,
             "#f0f921"
            ]
           ]
          },
          "colorway": [
           "#636efa",
           "#EF553B",
           "#00cc96",
           "#ab63fa",
           "#FFA15A",
           "#19d3f3",
           "#FF6692",
           "#B6E880",
           "#FF97FF",
           "#FECB52"
          ],
          "font": {
           "color": "#2a3f5f"
          },
          "geo": {
           "bgcolor": "white",
           "lakecolor": "white",
           "landcolor": "#E5ECF6",
           "showlakes": true,
           "showland": true,
           "subunitcolor": "white"
          },
          "hoverlabel": {
           "align": "left"
          },
          "hovermode": "closest",
          "mapbox": {
           "style": "light"
          },
          "paper_bgcolor": "white",
          "plot_bgcolor": "#E5ECF6",
          "polar": {
           "angularaxis": {
            "gridcolor": "white",
            "linecolor": "white",
            "ticks": ""
           },
           "bgcolor": "#E5ECF6",
           "radialaxis": {
            "gridcolor": "white",
            "linecolor": "white",
            "ticks": ""
           }
          },
          "scene": {
           "xaxis": {
            "backgroundcolor": "#E5ECF6",
            "gridcolor": "white",
            "gridwidth": 2,
            "linecolor": "white",
            "showbackground": true,
            "ticks": "",
            "zerolinecolor": "white"
           },
           "yaxis": {
            "backgroundcolor": "#E5ECF6",
            "gridcolor": "white",
            "gridwidth": 2,
            "linecolor": "white",
            "showbackground": true,
            "ticks": "",
            "zerolinecolor": "white"
           },
           "zaxis": {
            "backgroundcolor": "#E5ECF6",
            "gridcolor": "white",
            "gridwidth": 2,
            "linecolor": "white",
            "showbackground": true,
            "ticks": "",
            "zerolinecolor": "white"
           }
          },
          "shapedefaults": {
           "line": {
            "color": "#2a3f5f"
           }
          },
          "ternary": {
           "aaxis": {
            "gridcolor": "white",
            "linecolor": "white",
            "ticks": ""
           },
           "baxis": {
            "gridcolor": "white",
            "linecolor": "white",
            "ticks": ""
           },
           "bgcolor": "#E5ECF6",
           "caxis": {
            "gridcolor": "white",
            "linecolor": "white",
            "ticks": ""
           }
          },
          "title": {
           "x": 0.05
          },
          "xaxis": {
           "automargin": true,
           "gridcolor": "white",
           "linecolor": "white",
           "ticks": "",
           "title": {
            "standoff": 15
           },
           "zerolinecolor": "white",
           "zerolinewidth": 2
          },
          "yaxis": {
           "automargin": true,
           "gridcolor": "white",
           "linecolor": "white",
           "ticks": "",
           "title": {
            "standoff": 15
           },
           "zerolinecolor": "white",
           "zerolinewidth": 2
          }
         }
        },
        "title": {
         "text": "Gradient Descent"
        },
        "width": 800
       }
      },
      "text/html": [
       "<div>                            <div id=\"163bdca0-013c-4f09-8651-f4cda28608f1\" class=\"plotly-graph-div\" style=\"height:700px; width:800px;\"></div>            <script type=\"text/javascript\">                require([\"plotly\"], function(Plotly) {                    window.PLOTLYENV=window.PLOTLYENV || {};                                    if (document.getElementById(\"163bdca0-013c-4f09-8651-f4cda28608f1\")) {                    Plotly.newPlot(                        \"163bdca0-013c-4f09-8651-f4cda28608f1\",                        [{\"line\":{\"color\":\"rgb(50,170, 140)\",\"width\":3},\"marker\":{\"color\":[-20.859191416422235,-9.285008173048666,-4.6801692738153555,-2.6242517936325758,-1.476515717472772,-0.9073271435862402,-0.5415316432911252,-0.37758411424694627,-0.2969750688130748,-0.2590425421375727,-0.23973439443291814,-0.2303478241625462,-0.2255775832667723,-0.22321772191904055,-0.22202363967204036,-0.22142811500262397,-0.22112776381775168,-0.22097741373654572,-0.2209017318568303,-0.22086378105845886],\"colorscale\":[[0.0,\"#440154\"],[0.1111111111111111,\"#482878\"],[0.2222222222222222,\"#3e4989\"],[0.3333333333333333,\"#31688e\"],[0.4444444444444444,\"#26828e\"],[0.5555555555555556,\"#1f9e89\"],[0.6666666666666666,\"#35b779\"],[0.7777777777777778,\"#6ece58\"],[0.8888888888888888,\"#b5de2b\"],[1.0,\"#fde725\"]],\"size\":4},\"x\":[1.516253726023518,1.516253726023518,1.516253726023518,1.516253726023518,1.516253726023518,1.516253726023518,1.516253726023518,1.516253726023518,1.516253726023518,1.516253726023518,1.516253726023518,1.516253726023518,1.516253726023518,1.516253726023518,1.516253726023518,1.516253726023518,1.516253726023518,1.516253726023518,1.516253726023518,1.516253726023518],\"y\":[2.9944844130428483,2.9944844130428483,2.9944844130428483,2.9944844130428483,2.9944844130428483,2.9944844130428483,2.9944844130428483,2.9944844130428483,2.9944844130428483,2.9944844130428483,2.9944844130428483,2.9944844130428483,2.9944844130428483,2.9944844130428483,2.9944844130428483,2.9944844130428483,2.9944844130428483,2.9944844130428483,2.9944844130428483,2.9944844130428483],\"z\":[20.859191416422235,9.285008173048666,4.6801692738153555,2.6242517936325758,1.476515717472772,0.9073271435862402,0.5415316432911252,0.37758411424694627,0.2969750688130748,0.2590425421375727,0.23973439443291814,0.2303478241625462,0.2255775832667723,0.22321772191904055,0.22202363967204036,0.22142811500262397,0.22112776381775168,0.22097741373654572,0.2209017318568303,0.22086378105845886],\"type\":\"scatter3d\"},{\"x\":[1.416253726023518,1.4203353586765792,1.4244169913296405,1.4284986239827016,1.4325802566357628,1.436661889288824,1.4407435219418854,1.4448251545949466,1.4489067872480077,1.452988419901069,1.4570700525541302,1.4611516852071915,1.4652333178602528,1.4693149505133138,1.4733965831663751,1.4774782158194364,1.4815598484724977,1.485641481125559,1.48972311377862,1.4938047464316813,1.4978863790847425,1.5019680117378038,1.506049644390865,1.5101312770439261,1.5142129096969874,1.5182945423500487,1.52237617500311,1.526457807656171,1.5305394403092323,1.5346210729622936,1.5387027056153548,1.542784338268416,1.5468659709214774,1.5509476035745384,1.5550292362275997,1.559110868880661,1.5631925015337222,1.5672741341867833,1.5713557668398446,1.5754373994929058,1.5795190321459671,1.5836006647990284,1.5876822974520897,1.5917639301051507,1.595845562758212,1.5999271954112733,1.6040088280643345,1.6080904607173956,1.6121720933704569,1.6162537260235181],\"y\":[2.894484413042848,2.8985660456959095,2.9026476783489708,2.906729311002032,2.9108109436550933,2.914892576308154,2.9189742089612154,2.9230558416142767,2.927137474267338,2.931219106920399,2.9353007395734605,2.9393823722265218,2.943464004879583,2.9475456375326443,2.9516272701857056,2.9557089028387664,2.9597905354918277,2.963872168144889,2.9679538007979502,2.9720354334510115,2.976117066104073,2.980198698757134,2.9842803314101953,2.9883619640632566,2.992443596716318,2.9965252293693787,3.00060686202244,3.0046884946755013,3.0087701273285625,3.012851759981624,3.016933392634685,3.0210150252877463,3.0250966579408076,3.029178290593869,3.03325992324693,3.037341555899991,3.0414231885530523,3.0455048212061135,3.049586453859175,3.053668086512236,3.0577497191652974,3.0618313518183586,3.06591298447142,3.069994617124481,3.0740762497775425,3.0781578824306033,3.0822395150836646,3.086321147736726,3.090402780389787,3.0944844130428484],\"z\":[[0.3672713073442163,0.3594698071574185,0.3519478263273362,0.34470536485396974,0.3377424227373183,0.3310589999773823,0.32465509657416175,0.3185307125276568,0.31268584783786746,0.30712050250479334,0.30183467652843465,0.2968283699087914,0.29210158264586367,0.28765431473965153,0.2834865661901547,0.27959833699737335,0.2759896271613073,0.27266043668195683,0.269610765559322,0.2668406137934024,0.26434998138419835,0.26213886833170963,0.26020727463593646,0.25855520029687873,0.25718264531453644,0.25608960968890965,0.25527609341999824,0.2547420965078024,0.25448761895232186,0.25451266075355683,0.2548172219115073,0.2554013024261732,0.2562649022975546,0.25740802152565134,0.2588306601104636,0.26053281805199124,0.26251449535023447,0.2647756920051929,0.267316408016867,0.2701366433852566,0.2732363981103616,0.276615672192182,0.28027446563071795,0.28421277842596915,0.28843061057793595,0.29292796208661825,0.297704832952016,0.3027612231741289,0.3080971327529575,0.31371256168850165],[0.36322271111358595,0.35547096840837733,0.34799874505988404,0.34080604106810664,0.3338928564330444,0.3272591911546975,0.3209050452330661,0.31483041866815015,0.30903531145994995,0.3035197236084649,0.29828365511369537,0.2933271059756412,0.2886500761943026,0.2842525657696795,0.2801345747017718,0.2762961029905795,0.2727371506361026,0.2694577176383412,0.2664578039972955,0.26373740971296505,0.26129653478535,0.2591351792144504,0.25725334300026637,0.2556510261427978,0.2543282286420445,0.25328495049800687,0.25252119171068454,0.2520369522800777,0.2518322322061864,0.25190703148901045,0.25226135012854994,0.25289518812480494,0.2538085454777754,0.25500142218746125,0.25647381825386256,0.25822573367697943,0.2602571684568117,0.2625681225933593,0.2651585960866225,0.2680285889366011,0.2711781011432952,0.2746071327067048,0.2783156836268298,0.2823037539036701,0.28657134353722596,0.2911184525274974,0.2959450808744842,0.30105122857818617,0.306436895638604,0.31210208205573714],[0.3593065054620511,0.35160384714333204,0.3441807081813284,0.33703708857604053,0.33017298832746783,0.32358840743561057,0.31728334590046875,0.31125780372204237,0.3055117809003319,0.3000452774353364,0.2948582933270563,0.2899508285754918,0.28532288318064286,0.28097445714250935,0.27690555046109117,0.2731161631363885,0.2696062951684012,0.2663759465571294,0.26342511730257323,0.26075380740473236,0.2583620168636069,0.2562497456791969,0.2544169938515024,0.2528637613805234,0.2515900482662598,0.2505958545087117,0.24988118010787896,0.24944602506376176,0.24929038937635994,0.24941427304567365,0.24981767607170274,0.25050059845444733,0.2514630401939074,0.2527050012900829,0.25422648174297385,0.2560274815525802,0.25810800071890205,0.2604680392419393,0.26310759712169207,0.26602667435816024,0.26922527095134396,0.27270338690124307,0.27646102220785773,0.28049817687118755,0.28481485089123304,0.2894110442679941,0.29428675700147044,0.29944198909166203,0.3048767405385694,0.31059101134219225],[0.35552320107483515,0.3478689357611516,0.34049418980418344,0.3333989632039312,0.326583255960394,0.3200470680735723,0.313790399543466,0.3078132503700752,0.3021156205534002,0.29669751009344036,0.2915589189901958,0.28669984724366687,0.2821202948538534,0.2778202618207555,0.2737997481443729,0.2700587538247058,0.26659727886175405,0.2634153232555178,0.2605128870059971,0.2578899701131918,0.25554657257710195,0.2534826943977275,0.2516983355750686,0.2501934961091251,0.24896817599989707,0.2480223752473845,0.24735609385158738,0.24696933181250566,0.24686208913013946,0.24703436580448865,0.24748616183555336,0.2482174772233335,0.24922831196782907,0.2505186660690401,0.25208853952696664,0.25393793234160855,0.256066844512966,0.25847527604103876,0.26116322692582705,0.26413069716733084,0.26737768676555007,0.2709041957204848,0.27471022403213496,0.2787957717005004,0.28316083872558145,0.28780542510737794,0.29272953084589,0.297933155941117,0.30341630039306,0.3091789642017183],[0.35187330397058436,0.3442667223251501,0.3369396600364311,0.3298921171044282,0.3231240935291402,0.3166355893105677,0.3104266044487106,0.30449713894356906,0.2988471927951432,0.29347676600343253,0.28838585856843724,0.28357447049015755,0.2790426017685933,0.2747902524037446,0.2708174223956112,0.26712411174419326,0.2637103204494908,0.2605760485115037,0.25772129593023235,0.2551460627056762,0.2528503488378356,0.25083415432671036,0.2490974791723006,0.24764032337460634,0.24646268693362758,0.24556456984936417,0.24494597212181626,0.24460689375098382,0.24454733473686674,0.2447672950794652,0.24526677477877912,0.2460457738348085,0.24710429224755331,0.2484423300170135,0.2500598871431892,0.25195696362608044,0.25413355946568705,0.256589674662009,0.2593253092150465,0.26234046312479953,0.26563513639126796,0.2692093290144519,0.27306304099435125,0.2771962723309659,0.28160902302429613,0.28630129307434193,0.2912730824811031,0.2965243912445795,0.3020552193647716,0.3078655668416791],[0.3483573161202735,0.340797691188353,0.33351758561314787,0.3265169993946587,0.31979593253288463,0.3133543850278259,0.3071923568794827,0.30130984808785494,0.295706858652943,0.29038338857474616,0.2853394378532647,0.28057500648849876,0.27609009448044836,0.2718847018291135,0.2679588285344939,0.2643124745965898,0.26094564001540116,0.25785832479092796,0.2550505289231704,0.25252225241212806,0.25027349525780124,0.24830425746018983,0.246614539019294,0.24520433993511356,0.2440736602076486,0.243222499836899,0.24265085882286488,0.24235873716554632,0.24234613486494316,0.2426130519210554,0.24315948833388318,0.24398544410342632,0.24509091922968498,0.24647591371265898,0.24814042755234855,0.25008446074875357,0.25230801330187397,0.2548110852117098,0.2575936764782612,0.26065578710152804,0.26399741708151025,0.267618566418208,0.27151923511162124,0.2756994231617496,0.2801591305685938,0.2848983573321534,0.28991710345242844,0.29521536892941863,0.3007931537631246,0.30665045795354595],[0.3449757360104756,0.3374623235629779,0.33022843047219574,0.3232740567381295,0.3165992023607782,0.3102038673401423,0.30408805167622194,0.2982517553690171,0.292694978418528,0.287417720824754,0.28241998258769535,0.27770176370735233,0.27326306418372476,0.26910388401681273,0.26522422320661604,0.26162408175313484,0.25830345965636897,0.25526235691631866,0.25250077353298395,0.2500187095063645,0.24781616483646052,0.24589313952327202,0.24424963356679896,0.24288564696704143,0.24180117972399928,0.2409962318376726,0.24047080330806134,0.24022489413516557,0.24025850431898524,0.24057163385952038,0.24116428275677093,0.24203645101073704,0.24318813862141855,0.24461934558881537,0.2463300719129278,0.24832031759375567,0.25059008263129895,0.25313936702555767,0.25596817077653183,0.2590764938842216,0.2624643363486267,0.2661316981697473,0.27007857934758334,0.2743049798821346,0.2788108997734017,0.2835963390213841,0.2886612976260819,0.294005775587495,0.29962977290562387,0.3055332895804681],[0.34172905914979373,0.33426109803292303,0.3270726562727677,0.32016373386932834,0.313534330822604,0.30718444713259513,0.3011140827993017,0.29532323782272374,0.2898119122028615,0.28458010593971445,0.2796278190332828,0.2749550514835667,0.27056180329056606,0.266448074454281,0.2626138649747113,0.2590591748518569,0.2557840040857181,0.2527883526762947,0.25007222062358686,0.24763560792759434,0.2454785145883173,0.2436009406057557,0.24200288597990963,0.24068435071077904,0.2396453347983638,0.2388858382426641,0.23840586104367972,0.23820540320141095,0.23828446471585749,0.23864304558701954,0.23928114581489712,0.2401987653994901,0.24139590434079855,0.24287256263882237,0.24462874029356171,0.2466644373050165,0.24897965367318675,0.25157438939807236,0.25444864447967347,0.25760241891799013,0.26103571271302217,0.2647485258647698,0.26874085837323275,0.273012710238411,0.2775640814603049,0.2823949720389142,0.2875053819742391,0.29289531126627905,0.29856475991503484,0.304513727920506],[0.33861777851734637,0.3311944910081547,0.3240507228556784,0.31718647405991796,0.3106017446208726,0.30429653453854266,0.29827084381292823,0.2925246724440292,0.287058020431846,0.28187088777637787,0.27696327447762525,0.2723351805355881,0.2679866059502664,0.26391755072166023,0.2601280148497695,0.25661799833459414,0.2533875011761342,0.2504365233743898,0.24776506492936098,0.24537312584104745,0.24326070610944933,0.2414278057345667,0.23987442471639955,0.23860056305494795,0.2376062207502117,0.23689139780219093,0.23645609421088556,0.2363003099762957,0.23642404509842124,0.23682729957726228,0.23751007341281882,0.23847236660509072,0.2397141791540781,0.24123551105978094,0.2430363623221992,0.245116732941333,0.2474766229171822,0.2501160322497467,0.2530349609390269,0.25623340898502245,0.2597113763877335,0.26346886314716006,0.267505869263302,0.27182239473615916,0.27641843956573203,0.2812940037520204,0.28644908729502416,0.29188369019474314,0.29759781245117783,0.30359145406432797],[0.3356423849523408,0.3282629771200261,0.32116308864442694,0.31434271952554366,0.30780186976337537,0.3015405393579225,0.29555872830918517,0.28985643661716326,0.2844336642818572,0.27929041130326615,0.2744266776813906,0.26984246341623047,0.26553776850778593,0.26151259295605694,0.25776693676104323,0.254300799922745,0.2511141824411622,0.24820708431629485,0.24557950554814312,0.2432314461367067,0.24116290608198568,0.23937388538398016,0.2378643840426901,0.23663440205811553,0.23568393943025645,0.23501299615911275,0.23462157224468447,0.23450966768697176,0.2346772824859744,0.23512441664169254,0.23585107015412612,0.23685724302327518,0.23814293524913968,0.23970814683171957,0.24155287777101497,0.2436771280670258,0.24608089771975217,0.24876418672919384,0.251726995095351,0.2549693228182237,0.2584911698978118,0.2622925363341154,0.26637342212713455,0.2707338272768688,0.27537375178331874,0.28029319564648425,0.2854921588663651,0.29097064144296114,0.29672864337627297,0.30276616466630024],[0.33280336748387124,0.32546702955666257,0.31841021098616923,0.3116329117723918,0.3051351319153295,0.29891687141498247,0.29297813027135106,0.2873189084844351,0.28193920605423484,0.2768390229807497,0.27201835926398005,0.26747721490392595,0.26321558990058724,0.2592334842539641,0.2555308979640563,0.2521078310308639,0.24896428345438704,0.24610025523462564,0.2435157463715798,0.24121075686524923,0.23918528671563413,0.23743933592273456,0.2359729044865504,0.23478599240708173,0.23387859968432845,0.23325072631829064,0.2329023723089683,0.2328335376563615,0.23304422236047004,0.23353442642129407,0.23430414983883358,0.2353533926130885,0.23668215474405893,0.23829043623174465,0.24017823707614602,0.24234555727726273,0.2447923968350949,0.2475187557496425,0.25052463402090563,0.2538100316488842,0.25737494863357824,0.26121938497498776,0.26534334067311266,0.2697468157279529,0.27442981013950873,0.2793923239077801,0.2846343570327669,0.2901559095144688,0.2959569813528865,0.3020375725480197],[0.33010121360021233,0.3228071203376792,0.31579254643186155,0.3090574918827597,0.302601956690373,0.29642594085470164,0.2905294443757458,0.2849124672535054,0.2795750094879808,0.27451707107917134,0.2697386520270773,0.2652397523316988,0.26102037199303574,0.2570805110110882,0.253420169385856,0.25003934711733933,0.246938044205538,0.24411626065045225,0.24157399645208197,0.2393112516104271,0.23732802612548767,0.23562431999726366,0.2342001332257552,0.23305546581096204,0.23219031775288448,0.2316046890515223,0.2312985797068756,0.23127198971894433,0.23152491908772854,0.23205736781322817,0.23286933589544329,0.23396082333437382,0.23533183013001982,0.2369823562823813,0.2389124017914582,0.2411219666572506,0.2436110508797584,0.24637965445898166,0.24942777739492034,0.2527554196875746,0.25636258133694423,0.26024926234302936,0.26441546270582994,0.26886118242534585,0.2735864215015773,0.2785911799345242,0.2838754577241866,0.2894392548705642,0.29528257137365754,0.30140540723346626],[0.3275364094569922,0.32028372052761883,0.3133105509549609,0.30661690073901887,0.30020276987979194,0.2940681583772804,0.28821306623148435,0.2826374934424037,0.27734144001003885,0.2723249059343892,0.2675878912154549,0.2631303958532361,0.2589524198477328,0.25505396319894513,0.2514350259068727,0.2480956079715158,0.24503570939287422,0.2422553301709482,0.23975447030573777,0.23753312979724261,0.2355913086454629,0.23392900685039866,0.23254622441204997,0.2314429613304167,0.23061921760549883,0.2300749932372964,0.22981028822580943,0.22982510257103803,0.23011943627298195,0.23069328933164135,0.23154666174701627,0.23267955351910663,0.2340919646479124,0.2357838951334336,0.23775534497567027,0.24000631417462245,0.24253680273029005,0.24534681064267294,0.2484363379117715,0.25180538453758544,0.2554539505201148,0.2593820358593598,0.26358964055532014,0.26807676460799573,0.272843408017387,0.2778895707834937,0.2832152529063159,0.28882045438585324,0.2947051752221063,0.30086941541507484],[0.3251094400237599,0.3178973003876175,0.31096468010819045,0.3043115791854793,0.29793799761948314,0.29184393541020254,0.2860293925576373,0.28049436906178765,0.27523886492265365,0.2702628801402348,0.2655664147145314,0.26114946864554356,0.2570120419332712,0.2531541345777143,0.24957574657887277,0.2462768779367467,0.2432575286513361,0.24051769872264092,0.2380573881506614,0.23587659693539711,0.23397532507684823,0.23235357257501496,0.23101133942989704,0.22994862564149468,0.22916543120980767,0.2286617561348362,0.22843760041658015,0.22849296405503955,0.22882784705021436,0.2294422494021047,0.23033617111071047,0.2315096121760317,0.23296257259806832,0.23469505237682037,0.23670705151228796,0.238998570004471,0.24156960785336953,0.2444201650589833,0.24755024162131273,0.25095983754035756,0.25464895281611793,0.2586175874485937,0.2628657414377849,0.2673934147836914,0.2722006074863135,0.2772873195456511,0.28265355096170414,0.2882993017344724,0.2942245718639564,0.30042936135015574],[0.32282078916858076,0.3156483294649331,0.3087553891180008,0.30214196812778443,0.29580806649428304,0.2897536842174972,0.2839788212974268,0.27848347773407184,0.2732676535274326,0.2683313486775086,0.2636745631843,0.25929729704780685,0.2551995502680292,0.2513813228449671,0.24784261477862035,0.24458342606898908,0.2416037567160732,0.23890360671987282,0.23648297608038804,0.23434186479761848,0.23248027287156448,0.23089820030222594,0.2295956470896028,0.22857261323369518,0.227829098734503,0.22736510359202622,0.22718062780626497,0.2272756713772191,0.2276502343048887,0.22830431658927378,0.2292379182303743,0.2304510392281903,0.23194367958272172,0.23371583929396852,0.23576751836193088,0.23809871678660868,0.24070943456800195,0.24359967170611052,0.24676942820093473,0.25021870405247437,0.2539474992607294,0.25795581382570004,0.26224364774738596,0.2668110010257872,0.2716578736609041,0.2767842656527365,0.2821901770012843,0.28787560770654724,0.293840557768526,0.30008502718722024],[0.32067093968042004,0.3135372766200955,0.3066831329164863,0.30010850856959304,0.2938134035794148,0.2877978179459521,0.2820617516692047,0.27660520474917283,0.2714281771858568,0.2665306689792558,0.2619126801293703,0.25757421063620023,0.2535152604997458,0.24973582972000674,0.24623591829698313,0.24301552623067493,0.24007465352108218,0.23741330016820483,0.23503146617204324,0.23292915153259686,0.23110635624986586,0.2295630803238504,0.2282993237545504,0.2273150865419659,0.2266103686860968,0.2261851701869432,0.22603949104450494,0.2261733312587822,0.22658669082977498,0.2272795697574831,0.22825196804190673,0.2295038856830458,0.2310353226809004,0.23284627903547028,0.2349367547467558,0.2373067498147567,0.239956264239473,0.2428852980209047,0.24609385115905197,0.24958192365391474,0.25334951550549295,0.2573966267137866,0.26172325727879564,0.26632940720051995,0.27121507647896,0.2763802651141155,0.2818249731059864,0.2875492004545725,0.29355294715987434,0.2998362132218917],[0.31866037322919905,0.31156460999155905,0.30474836611063455,0.2982116415864259,0.2919544364189323,0.2859767506081542,0.28027858415409146,0.2748599370567442,0.2697208093161128,0.26486120093219645,0.26028111190499553,0.25598054223451017,0.2519594919207403,0.24821796096368587,0.24475594936334688,0.2415734571197233,0.23867048423281517,0.2360470307026225,0.23370309652914548,0.23163868171238367,0.22985378625233732,0.2283484101490065,0.22712255340239115,0.22617621601249127,0.2255093979793068,0.22512209930283775,0.2250143199830842,0.22518606002004607,0.2256373194137234,0.22636809816411624,0.2273783962712245,0.2286682137350482,0.23023755055558742,0.2320864067328419,0.23421478226681203,0.2366226771574975,0.23931009140489853,0.24227702500901482,0.24552347796984672,0.2490494502873941,0.2528549419616569,0.2569399529926352,0.2613044833803289,0.2659485331247379,0.27087210222586255,0.2760751906837026,0.2815577984982582,0.28731992566952885,0.29336157219751535,0.2996827380822173],[0.31678957026353466,0.3097307968978694,0.3029515428889197,0.29645180823668577,0.2902315929411669,0.28429089700236354,0.2786297204202757,0.2732480631949032,0.2681459253262465,0.2633233068143049,0.2587802076590788,0.2545166278605681,0.25053256741877294,0.24682802633369336,0.2434030046053291,0.2402575022336803,0.23739151921874688,0.234805055560529,0.23249811125902667,0.2304706863142397,0.22872278072616808,0.22725439449481205,0.22606552762017146,0.22515618010224633,0.2245263519410366,0.22417604313654232,0.2241052536887635,0.22431398359770013,0.2248022328633522,0.22557000148571982,0.22661728946480286,0.22794409680060132,0.22955042349311527,0.23143626954234453,0.23360163494828934,0.23604651971094967,0.23877092383032542,0.24177484730641646,0.24505829013922314,0.24862125232874518,0.25246373387498283,0.25658573477793584,0.2609872550376043,0.26566829465398806,0.2706288536270875,0.2758689319569024,0.2813885296434327,0.2871876466866781,0.2932662830866394,0.299624438843316],[0.31505900984629115,0.3080363036774701,0.3012931168653643,0.29482944940997446,0.2886453013112997,0.2827406725693404,0.2771155631840964,0.27176997315556806,0.26670390248375536,0.2619173511686579,0.2574103192102758,0.2531828066086092,0.24923481336365816,0.2455663394754226,0.24217738494390242,0.23906794976909765,0.2362380339510083,0.23368763748963445,0.23141676038497622,0.22942540263703332,0.22771356424580574,0.22628124521129375,0.22512844553349717,0.22425516521241615,0.22366140424805045,0.22334716264040025,0.22331244038946552,0.2235572374952462,0.2240815539577423,0.22488538977695394,0.225968744952881,0.2273316194855236,0.22897401337488157,0.2308959266209549,0.2330973592237438,0.23557831118324818,0.23833878249946797,0.2413787731724031,0.2446982832020538,0.24829731258841994,0.2521758613315016,0.2563339294312987,0.26077151688781125,0.26548862370103904,0.2704852498709825,0.2757613953976414,0.2813170602810158,0.2871522445211052,0.2932669481179106,0.2996611710714313],[0.31346916942820474,0.30648159546640885,0.29977354086132835,0.2933450056129637,0.28719598972131416,0.28132649318638003,0.27573651600816146,0.27042605818665827,0.2653951197218708,0.26064370061379855,0.2561718008624417,0.2519794204678003,0.24806655942987446,0.24443321774866414,0.24107939542416915,0.23800509245638962,0.2352103088453256,0.23269504459097695,0.23045929969334392,0.2285030741524262,0.22682636796822395,0.22542918114073715,0.22431151366996582,0.22347336555591,0.22291473679856955,0.22263562739794462,0.22263603735403506,0.22291596666684096,0.22347541533636237,0.2243143833625992,0.22543287074555152,0.22683087748521927,0.22850840358160251,0.23046544903470106,0.23270201384451525,0.23521809801104482,0.23801370153428986,0.2410888244142502,0.2444434666509261,0.2480776282443176,0.25199130919442436,0.25618450950124677,0.2606572291647845,0.2654094681850375,0.2704412265620062,0.2757525042956904,0.28134330138609,0.28721361783320465,0.29336345363703525,0.2997928087975812],[0.31202052455995816,0.30506713591432133,0.29839326662539983,0.2919989166931943,0.2858840861177038,0.2800487748989287,0.27449298303686914,0.26921671053152496,0.26421995738289655,0.25950272359098336,0.25506500915578556,0.25090681407730325,0.24702813835553641,0.24342898199048515,0.24010934498214917,0.23706922733052874,0.23430862903562366,0.2318275500974341,0.2296259905159601,0.22770395029120144,0.22606142942315824,0.22469842791183045,0.22361494575721816,0.22281098295932134,0.22228653951813995,0.22204161543367407,0.22207621070592357,0.22239032533488853,0.22298395932056897,0.22385711266296487,0.22500978536207622,0.22644197741790303,0.2281536888304453,0.2301449195997029,0.23241566972567607,0.2349659392083647,0.2377957280477688,0.24090503624388815,0.2442938637967232,0.24796221070627358,0.25191007697253953,0.2561374625955209,0.2606443675752177,0.2654307919116297,0.27049673560475745,0.27584219865460063,0.2814671810611593,0.2873716828244331,0.2935557039444227,0.30001924442112765],[0.31071354854320843,0.3037933868391906,0.2971527444918881,0.29079162150130156,0.28471001786743,0.27890793359027394,0.27338536866983343,0.2681423231061082,0.26317879689909884,0.2584947900488046,0.2540903025552258,0.24996533441836244,0.24611988563821466,0.24255395621478243,0.23926754614806545,0.236260655438064,0.23353328408477794,0.23108543208820734,0.2289170994483523,0.22702828616521273,0.22541899223878847,0.22408921766907972,0.2230389624560864,0.22226822659980863,0.2217770101002462,0.22156531295739934,0.22163313517126787,0.22198047674185176,0.2226073376691512,0.22351371795316613,0.22469961759389642,0.2261650365913423,0.22790997494550352,0.22993443265638017,0.2322384097239723,0.23482190614828,0.23768492192930304,0.24082745706704145,0.2442495115614954,0.2479510854126648,0.2519321786205498,0.2561927911851501,0.26073292310646595,0.26555257438449703,0.2706517450192438,0.2760304350107059,0.2816886443588836,0.2876263730637763,0.293843621125385,0.300340388543709],[0.3095487120211887,0.30266080782150584,0.2960524229785385,0.2897235574922869,0.2836742113627504,0.27790438458992944,0.27241407717382393,0.26720328911443375,0.26227202041175945,0.25762027106580027,0.25324804107655646,0.2491553304440282,0.24534213916821548,0.24180846724911823,0.2385543146867363,0.2355796814810699,0.23288456763211884,0.23046897313988335,0.22833289800436338,0.22647634222555874,0.2248993058034696,0.22360178873809589,0.22258379102943762,0.22184531267749488,0.2213863536822675,0.22120691404375567,0.2213069937619592,0.22168659283687825,0.22234571126851269,0.2232843490568626,0.22450250620192794,0.22600018270370886,0.2277773785622052,0.22983409377741684,0.23217032834934406,0.23478608227798672,0.23768135556334485,0.24085614820541826,0.24431046020420732,0.24804429155971178,0.2520576422719318,0.25635051234086714,0.260922901766518,0.2657748105488841,0.2709062386879659,0.2763171861837631,0.2820076530362758,0.2879776392455036,0.2942271448114473,0.3007561697341063],[0.30852648250962855,0.3016698557385619,0.29509274832421073,0.2887951602665753,0.282777091565655,0.27703854222145013,0.2715795122339609,0.26640000160318694,0.26150001032912873,0.2568795384117857,0.2525385858511581,0.24847715264724604,0.24469523880004942,0.2411928443095684,0.23796996917580268,0.23502661339875242,0.23236277697841756,0.2299784599147982,0.22787366220789443,0.226048383857706,0.22450262486423297,0.2232363852274755,0.22224966494743342,0.22154246402410677,0.22111478245749566,0.2209666202475999,0.22109797739441964,0.2215088538979548,0.2221992497582055,0.22316916497517164,0.22441859954885315,0.22594755347925022,0.22775602676636272,0.22984401941019048,0.23221153141073392,0.23485856276799272,0.2377851134819671,0.24099118355265664,0.24447677298006185,0.24824188176418252,0.2522865099050186,0.2566106574025703,0.26121432425683727,0.26609751046781954,0.2712602160355175,0.2767024409599309,0.2824241852410597,0.2884254488789037,0.29470623187346356,0.3012665342247388],[0.3076473238688511,0.3008209842397566,0.29427416396737766,0.28800686305171447,0.2820190814927664,0.2763108192905338,0.27088207644501666,0.2657328529562149,0.26086314882412903,0.25627296404875816,0.25196229863010283,0.24793115256816292,0.24417952586293865,0.24070741851442976,0.23751483052263628,0.23460176188755824,0.23196821260919565,0.2296141826875485,0.22753967212261694,0.22574468091440072,0.2242292090628999,0.2229932565681146,0.22203682343004477,0.22135990964869032,0.22096251522405144,0.22084464015612795,0.22100628444491988,0.2214474480904273,0.22216813109265018,0.2231683334515885,0.2244480551672423,0.22600729623961158,0.22784605666869628,0.22996433645449627,0.23236213559701188,0.23503945409624302,0.23799629195218955,0.24123264916485132,0.24474852573422878,0.2485439216603216,0.25261883694313003,0.2569732715826539,0.2616072255788931,0.26652069893184754,0.2717136916415177,0.27718620370790337,0.28293823513100447,0.2889697859108207,0.2952808560473527,0.3018714455406002],[0.30691169571802496,0.30011464316386516,0.29359710996642086,0.2873590961256924,0.281400601641679,0.27572162651438104,0.2703221707437986,0.2652022343299316,0.26036181727278035,0.2558009195723442,0.2515195412286235,0.24751768224161835,0.24379534261132874,0.24035252233775453,0.2371892214208957,0.23430543986075242,0.23170117765732443,0.229376434810612,0.22733121132061512,0.22556550718733356,0.2240793224107675,0.22287265699091685,0.2219455109277817,0.22129788422136207,0.22092977687165777,0.22084118887866896,0.22103212024239557,0.2215025709628377,0.22225254103999523,0.22328203047386827,0.22459103926445673,0.22617956741176068,0.22804761491578007,0.23019518177651482,0.2326222679939651,0.23532887356813087,0.23831499849901205,0.2415806427866086,0.24512580643092075,0.24895048943194828,0.2530546917896913,0.2574384135041498,0.2621016545753238,0.2670444150032129,0.2722666947878178,0.2777684939291381,0.2835498124271738,0.2896106502819248,0.2959510074933915,0.3025708840615736],[0.30632005279266217,0.29955127789937935,0.29306202236281187,0.28685228618296027,0.2809220693598238,0.2752713718934027,0.2699001937836972,0.26480853503070695,0.2599963956344326,0.2554637755948734,0.2512106749120296,0.2472370935859013,0.24354303161648858,0.24012848900379125,0.23699346574780933,0.23413796184854288,0.2315619773059918,0.22926551212015625,0.22724856629103626,0.22551113981863163,0.22405323270294236,0.2228748449439687,0.2219759765417104,0.22135662749616755,0.2210167978073402,0.2209564874752283,0.22117569649983182,0.22167442488115077,0.2224526726191852,0.22351043971393514,0.22484772616540047,0.22646453197358132,0.22836085713847756,0.2305367016600892,0.23299206553841637,0.23572694877345904,0.23874135136521715,0.24203527331369046,0.2456087146188795,0.24946167528078395,0.2535941552994038,0.25800615467473925,0.2626976734067901,0.2676687114955561,0.27291926894103785,0.2784493457432351,0.28425894190214773,0.2903480574177755,0.2967166922901191,0.3033648465191781],[0.3058728442465655,0.29913132868911596,0.2926693324883818,0.28648685564436355,0.2805838981570603,0.2749604600264726,0.2696165412526003,0.2645521418354434,0.2597672617750024,0.25526190107127644,0.251036059724266,0.24708973773397094,0.2434229351003915,0.24003565182352754,0.2369278879033789,0.23409964333994576,0.23155091813322803,0.22928171228322575,0.2272920257899391,0.22558185865336772,0.2241512108735118,0.2230000824503714,0.22212847338394648,0.22153638367423692,0.22122381332124283,0.22119076232496426,0.22143723068540108,0.22196321840255337,0.22276872547642104,0.2238537519070043,0.22521829769430293,0.2268623628383171,0.22878594733904667,0.2309890511964916,0.23347167441065206,0.23623381698152804,0.23927547890911938,0.24259666019342613,0.2461973608344484,0.2500775808321862,0.25423732018663936,0.25867657889780804,0.2633953569656922,0.26839365439029156,0.2736714711716066,0.2792288073096371,0.28506566280438306,0.29118203765584416,0.29757793186402104,0.30425334542891347],[0.3055705128995391,0.29885522988040797,0.29241946621799225,0.28626322191229236,0.28038649696330753,0.27478929137103825,0.26947160513548435,0.26443343825664595,0.25967479073452326,0.25519566256911574,0.25099605376042367,0.24707596430844708,0.243435394213186,0.24007434347464038,0.23699281209281026,0.23419080006769544,0.23166830739929614,0.22942533408761226,0.22746188013264396,0.225777945534391,0.22437353029285348,0.22324863440803153,0.2224032578799249,0.2218374007085338,0.22155106289385817,0.22154424443589799,0.22181694533465324,0.22236916559012385,0.22320090520231,0.22431216417121164,0.22570294249682868,0.22737324017916122,0.2293230572182092,0.23155239361397253,0.23406124936645142,0.23684962447564578,0.2399175189415556,0.24326493276418068,0.24689186594352142,0.2507983184795775,0.2549842903723492,0.25944978162183624,0.26419479222803877,0.2692193221909565,0.27452337151059003,0.2801069401869389,0.2859700282200033,0.2921126356097828,0.29853476235627807,0.30523640845948874],[0.30541349443228444,0.29872340912229806,0.2923128431690271,0.286181796572472,0.28033026933263194,0.27475826144950743,0.26946577292309837,0.2644528037534047,0.2597193539404268,0.2552654234841641,0.2510910123846168,0.24719612064178492,0.24358074825566864,0.24024489522626785,0.23718856155358245,0.2344117472376124,0.2319144522783579,0.22969667667581878,0.22775842042999528,0.2260996835408871,0.22472046600849438,0.22362076783281717,0.22280058901385535,0.222259929551609,0.22199878944607812,0.22201716869726273,0.22231506730516268,0.2228924852697782,0.22374942259110908,0.22488587926915546,0.22630185530391733,0.22799735069539462,0.22997236544358743,0.2322268995484955,0.23476095301011918,0.23757452582845828,0.24066761800351288,0.24404022953528273,0.24769236042376822,0.25162401066896917,0.2558351802708856,0.26032586922951745,0.26509607754486475,0.2701458052169273,0.2754750522457055,0.2810838186311992,0.2869721043734083,0.2931399094723326,0.2995872339279727,0.3063140777403282],[0.3054022165300067,0.2987362865112613,0.29234987584923117,0.286242984543917,0.2804156125953179,0.2748677600034343,0.26959942676826604,0.2646106128898133,0.2599013183680763,0.2554715432030545,0.25132128739474807,0.24745055094315715,0.2438593338482818,0.24054763611012187,0.23751545772867738,0.23476279870394828,0.23228965903593463,0.23009603872463646,0.22818193777005386,0.22654735617218658,0.22519229393103474,0.2241167510465984,0.2233207275188775,0.2228042233478721,0.2225672385335821,0.2226097730760076,0.22293182697514852,0.22353340023100488,0.2244144928435767,0.22557510481286405,0.2270152361388668,0.22873488682158494,0.23073405686101864,0.23301274625716759,0.23557095501003222,0.23840868311961225,0.24152593058590777,0.24492269740891848,0.24859898358864493,0.2525547891250867,0.2567901140182441,0.26130495826811684,0.26609932187470503,0.2711732048380085,0.2765266071580276,0.2821595288347622,0.28807196986821226,0.2942639302583774,0.30073541000525844,0.3074864091088548],[0.3055370979763626,0.2988942736870856,0.2925309687545239,0.28644718317867823,0.2806429169595475,0.2751181700971323,0.2698729425914325,0.26490723444244824,0.2602210456501796,0.2558143762146262,0.25168722613578826,0.2478395954136658,0.24427148404825885,0.24098289203956735,0.23797381938759127,0.2352442660923306,0.23279423215378542,0.23062371757195563,0.2287327223468415,0.22712124647844262,0.22578928996675926,0.22473685281179134,0.2239639350135389,0.22347053657200186,0.22325665748718032,0.2233222977590743,0.22366745738768362,0.2242921363730085,0.22519633471504866,0.22638005241380435,0.2278432894692756,0.22958604588146225,0.23160832165036435,0.23391011677598178,0.23649143125831482,0.23935226509736324,0.2424926182931272,0.24591249084560635,0.2496118827548012,0.2535907940207115,0.2578492246433372,0.2623871746226784,0.2672046439587351,0.27230163265150686,0.2776781407009945,0.2833341681071976,0.289269714870116,0.2954847809897496,0.30197936646609896,0.30875347129916386],[0.3058185476994753,0.2991977728806374,0.2928565174185149,0.28679478131310826,0.28101256456441664,0.2755098671724406,0.27028668913717996,0.2653430304586347,0.2606788911368053,0.256294271171691,0.25218917056329215,0.24836358931160882,0.24481752741664095,0.2415509848783886,0.23856396169685165,0.2358564578720301,0.233428473403924,0.23128000829253337,0.22941106253785834,0.22782163613989861,0.22651172909865436,0.22548134141412557,0.22473047308631222,0.22425912411521437,0.2240672945008319,0.22415498424316496,0.22452219334221343,0.22516892179797737,0.2260951696104567,0.22730093677965152,0.22878622330556184,0.23055102918818765,0.23259535442752882,0.23491919902358538,0.23752256297635757,0.24040544628584512,0.2435678489520481,0.24700977097496646,0.2507312123546004,0.25473217309094975,0.2590126531840146,0.263572652633795,0.2684121714402907,0.2735312096035017,0.27892976712342843,0.2846078440000705,0.2905654402334281,0.2968025558235009,0.3033191907702894,0.31011534507379335],[0.30624696377184163,0.29964717591533535,0.29332690741554435,0.2872861582724693,0.28152492848610927,0.27604321805646476,0.2708410269835357,0.265918355267322,0.2612752029078241,0.2569115699050413,0.25282745625897407,0.24902286196962228,0.24549778703698596,0.2422522314610652,0.23928619524185976,0.2365996783793698,0.2341926808735952,0.23206520272453615,0.23021724393219267,0.22864880449656455,0.2273598844176518,0.22635048369545457,0.22562060232997277,0.22517024032120644,0.2249993976691556,0.2251080743738202,0.22549627043520018,0.22616398585329567,0.2271112206281066,0.228337974759633,0.2298442482478748,0.23163004109283217,0.23369535329450494,0.23604018485289308,0.2386645357679967,0.24156840603981589,0.24475179566835048,0.24821470465360032,0.2519571329955659,0.25597908069424674,0.26028054774964315,0.264861534161755,0.2697220399305824,0.2748620650561249,0.28028160953838316,0.28598067337735683,0.291959256573046,0.2982173591254503,0.3047549810345704,0.3115721223004059],[0.3068227323660484,0.30024286316424964,0.2939425133191663,0.28792168283079883,0.28218037169914645,0.27671857992420956,0.27153630750598806,0.2666335544444821,0.2620103207396918,0.2576666063916167,0.253602411400257,0.2498177357656129,0.24631257948768423,0.24308694256647106,0.24014082500197323,0.23747422679419097,0.23508714794312405,0.23297958844877256,0.2311515483111367,0.22960302753021622,0.22833402610601108,0.2273445440385215,0.22663458132774736,0.22620413797368863,0.22605321397634537,0.22618180933571763,0.22658992405180528,0.22727755812460837,0.2282447115541269,0.22949138434036095,0.23101757648331045,0.23282328798297536,0.23490851883935582,0.23727326905245155,0.23991753862226284,0.24284132754878962,0.24604463583203184,0.24952746347198929,0.25328981046866245,0.257331676822051,0.26165306253215503,0.26625396759897463,0.2711343920225096,0.2762943358027597,0.28173379893972555,0.28745278143340697,0.2934512832838037,0.2997293044909156,0.30628684505474335,0.31312390497528647],[0.3075462266683018,0.30098520246483196,0.2947036976180776,0.288701712128039,0.28297924599471563,0.27753629921810763,0.2723728717982151,0.267488963735038,0.26288457502857665,0.2585597056788305,0.2545143556857998,0.2507485250494846,0.2472622137698848,0.24405542184700063,0.24112814928083173,0.23848039607137836,0.23611216221864037,0.23402344772261785,0.23221425258331096,0.23068457680071935,0.22943442037484318,0.2284637833056825,0.2277726655932373,0.22736106723750746,0.22722898823849325,0.22737642859619436,0.22780338831061098,0.228509867381743,0.22949586580959044,0.23076138359415344,0.23230642073543184,0.2341309772334258,0.23623505308813506,0.23861864829955975,0.2412817628677,0.2442243967925557,0.2474465500741269,0.2509482227124133,0.25472941470741534,0.2587901260591329,0.26313035676756585,0.2677501068327143,0.2726493762545782,0.27782816503315727,0.28328647316845207,0.2890243006604623,0.29504164750918804,0.3013385137146289,0.30791489927678556,0.3147708041956576],[0.3084178057518659,0.30187454799336916,0.2956108095915879,0.28962659054652234,0.283921890858172,0.278496710526537,0.2733510495516176,0.26848490793341356,0.2638982856719253,0.2595911827671522,0.2555635992190945,0.25181553502775234,0.24834699019312567,0.2451579647152145,0.24224845859401867,0.23961847182953833,0.23726800442177345,0.23519705637072397,0.2334056276763901,0.23189371833877157,0.23066132835786846,0.22970845773368084,0.22903510646620864,0.2286412745554519,0.22852696200141068,0.22869216880408488,0.22913689496347453,0.22986114047957965,0.23086490535240017,0.23214818958193617,0.23371099316818766,0.23555331611115457,0.23767515841083697,0.2400765200672347,0.24275740108034796,0.2457178014501768,0.24895772117672096,0.25247716025998046,0.2562761186999556,0.26035459649664616,0.2647125936500522,0.2693501101601737,0.27426714602701063,0.2794637012505628,0.28493977583083063,0.290695369767814,0.2967304830615128,0.3030451157119266,0.30963926771905637,0.3165129390829015],[0.30943781341257853,0.30291123910133166,0.29666418414680035,0.29069664854898475,0.2850086323078843,0.2796001354234993,0.2744711578958298,0.2696216997248757,0.2650517609106373,0.26076134145311414,0.2567504413523064,0.25301906060821416,0.2495671992208374,0.24639485719017615,0.24350203451623026,0.24088873119899987,0.23855494723848486,0.23650068263468535,0.23472593738760145,0.23323071149723282,0.2320150049635796,0.23107881778664194,0.23042214996641974,0.23004500150291288,0.22994737239612165,0.23012926264604572,0.23059067225268534,0.2313316012160403,0.2323520495361108,0.23365201721289675,0.23523150424639813,0.23709051063661504,0.2392290363835473,0.241647081487195,0.24434464594755823,0.24732172976463693,0.25057833293843096,0.25411445546894046,0.2579300973561655,0.262025258600106,0.266399939200762,0.27105413915813337,0.2759878584722203,0.2812010971430223,0.2866938551705401,0.29246613255477333,0.298517929295722,0.30484924539338587,0.31146008084776555,0.3183504356588606],[0.31060657696869953,0.304095599115871,0.2978641406197579,0.2919122014803607,0.2862397816976785,0.2808468812717118,0.27573350020246057,0.2708996384899247,0.26634529613410474,0.26207047313499987,0.25807516949261045,0.2543593852069365,0.25092312027797803,0.2477663747057351,0.24488914849020754,0.24229144163139538,0.23997325412929868,0.23793458598391748,0.23617543719525183,0.2346958077633015,0.23349569768806663,0.23257510696954725,0.23193403560774337,0.23157248360265484,0.23149045095428183,0.2316879376626243,0.2321649437276821,0.23292146914945544,0.2339575139279442,0.23527307806314848,0.23686816155506818,0.23874276440370337,0.240896886609054,0.24333052817111991,0.24604368908990143,0.2490363693653984,0.2523085689976109,0.2558602879865386,0.25969152633218195,0.26380228403454076,0.268192561093615,0.2728623575094048,0.27781167328190987,0.28304050841113026,0.2885488628970664,0.29433673673971794,0.300404129939085,0.30675104249516705,0.313377474407965,0.3202834256774783],[0.3119244060274164,0.3054279341067902,0.2992109815428794,0.2932735483356846,0.2876156344852047,0.28223723999144035,0.2771383648543915,0.272319009074058,0.26777917265044027,0.2635188555835377,0.25953805787335066,0.255836779519879,0.25241502052312287,0.24927278088308222,0.24641006059975698,0.24382685967314718,0.24152317810325286,0.23949901589007397,0.23775437303361063,0.23628924953386266,0.2351036453908301,0.23419756060451305,0.23357099517491145,0.2332239491020253,0.2331564223858546,0.23336841502639938,0.2338599270236596,0.23463095837763517,0.2356815090883263,0.23701157915573284,0.23862116857985494,0.24051027736069244,0.2426789054982454,0.2451270529925136,0.24785471984349755,0.25086190605119685,0.25414861161561164,0.2577148365367416,0.26156058081458733,0.2656858444491485,0.27009062744042506,0.27477492978841717,0.27973875149312466,0.2849820925545474,0.29050495297268575,0.2963073327475396,0.3023892318791089,0.3087506503673934,0.31539158821239366,0.3223120454141094],[0.3133915912204027,0.3069085316223849,0.3007049913810826,0.29478097049649615,0.2891364689686247,0.2837714867974688,0.27868602398302833,0.27388008052530327,0.269353656424294,0.26510675167999986,0.2611393662924212,0.25745150026155794,0.25404315358741025,0.2509143262699781,0.24806501830926123,0.2454952297052599,0.243204960457974,0.2411942105674035,0.23946298003354863,0.23801126885640903,0.23683907703598492,0.23594640457227636,0.23533325146528314,0.2349996177150054,0.2349455033214431,0.23517090828459633,0.23567583260446498,0.23646027628104904,0.23752423931434857,0.2388677217043636,0.24049072345109404,0.24239324455453995,0.24457528501470133,0.247036844831578,0.24977792400517032,0.252798522535478,0.25609864042250124,0.2596782776662397,0.26353743426669385,0.2676761102238634,0.2720943055377484,0.27679202020834887,0.2817692542356648,0.28702600761969593,0.2925622803604428,0.29837807245790515,0.30447338391208284,0.31084821472297575,0.3175025648905844,0.3244364344149086],[0.31500840291089,0.30853765939661465,0.30234643523905474,0.2964347304382107,0.2908025449940817,0.2854498789066683,0.2803767321759702,0.2755831048019876,0.27106899678472074,0.26683440812416903,0.2628793388203328,0.259203788873212,0.2558077582828067,0.25269124704911705,0.24985425517214263,0.24729678265188373,0.24501882948834022,0.2430203956815122,0.24130148123139974,0.23986208613800264,0.23870221040132095,0.23782185402135472,0.23722101699810394,0.23689969933156868,0.23685790102174886,0.2370956220686445,0.2376128624722556,0.23840962223258208,0.23948590134962405,0.24084169982338152,0.24247701765385438,0.24439185484104275,0.24658621138494657,0.24906008728556572,0.2518134825429004,0.2548463971569506,0.25815883112771626,0.26175078445519717,0.2656222571393937,0.26977324918030565,0.27420376057793316,0.27891379133227606,0.2839033414433344,0.289172410911108,0.2947209997355973,0.300549107916802,0.3066567354547222,0.3130438823493574,0.3197105486007087,0.3266567342087752],[0.3167750898747767,0.3103155640301286,0.30413555754219584,0.298235070410979,0.2926141026364773,0.2872726542186909,0.2822107251576201,0.2774283154532647,0.27292542510562506,0.26870205411470055,0.2647582024804915,0.26109387020299785,0.2577090572822199,0.2546037637181573,0.2517779895108101,0.2492317346601784,0.24696499916626208,0.24497778302906123,0.243270086248576,0.24184190882480608,0.24069325075775158,0.23982411204741255,0.23923449269378902,0.23892439269688093,0.23889381205668825,0.23914275077321107,0.23967120884644932,0.2404791862764031,0.2415666830630722,0.24293369920645688,0.24458023470655693,0.24650628956337253,0.2487118637769035,0.2511969573471498,0.25396157027411176,0.2570057025577892,0.260329354198182,0.2639325251952901,0.26781521554911375,0.27197742525965296,0.2764191543269076,0.28114040275087776,0.2861411705315633,0.291421457668964,0.29698126416308057,0.3028205900139125,0.30893943522145983,0.31533779978572235,0.3220156837067007,0.3289730869843945],[0.31869187795835313,0.31224246964772545,0.30607258069381327,0.3001822110966169,0.2945713608561356,0.2892400299723698,0.2841882184453195,0.27941592627498457,0.2749231534613654,0.2707099000044614,0.26677616590427283,0.2631219511607998,0.2597472557740422,0.2566520797440001,0.25383642307067344,0.2513002857540622,0.24904366779416642,0.24706656919098605,0.24536898994452136,0.2439509300547719,0.2428123895217379,0.24195336834541942,0.24137386652581636,0.2410738840629287,0.24105342095675658,0.24131247720729992,0.2418510528145587,0.24266914777853288,0.24376676209922257,0.24514389577662768,0.24680054881074823,0.24873672120158433,0.25095241294913584,0.25344762405340265,0.256222354514385,0.25927660433208294,0.26261037350649624,0.2662236620376249,0.2701164699254691,0.2742887971700288,0.278740643771304,0.2834720097292946,0.2884828950440006,0.29377329971542193,0.29934322374355893,0.3051926671284113,0.31132162986997924,0.3177301119682622,0.3244181134232611,0.33138563423497525],[0.3207589687152737,0.31431857653487977,0.3081577037112012,0.3022763502442386,0.29667451613399093,0.29135220138045886,0.28630940598364224,0.281546129943541,0.27706237326015554,0.2728581359334852,0.2689334179635304,0.265288219350291,0.2619225400937671,0.25883638019395877,0.25602973965086573,0.25350261846448824,0.2512550166348261,0.24928693416187941,0.24759837104564839,0.24618932728613263,0.24505980288333234,0.24420979783724756,0.24363931214787815,0.24334834581522424,0.2433368988392858,0.24360497122006283,0.2441525629575553,0.2449796740517631,0.24608630450268648,0.2474724543103253,0.2491381234746796,0.25108331199574935,0.2533080198735345,0.255812247108035,0.2585959936992512,0.26165925964718273,0.2650020449518298,0.26862434961319204,0.27252617363126996,0.27670751700606333,0.28116837973757214,0.2859087618257965,0.29092866327073624,0.2962280840723912,0.30180702423076183,0.307665483745848,0.3138034626176495,0.3202209608461662,0.3269179784313987,0.3338945153733467],[0.3229765380254575,0.31654405975601435,0.3103911008432865,0.3045176612872746,0.2989237410879778,0.2936093402453964,0.28857445875953047,0.28381909663038,0.27934325385794534,0.2751469304422257,0.27123012638322164,0.26759284168093295,0.2642350763353598,0.26115683034650217,0.25835810371435997,0.25583889643893315,0.25359920852022183,0.2516390399582259,0.24995839075294554,0.24855726090438054,0.24743565041253096,0.24659355927739696,0.2460309874989783,0.24574793507727516,0.2457444020122874,0.2460203883040152,0.24657589395245835,0.24741091895761702,0.2485254633194911,0.24991952703808068,0.2515931101133857,0.2535462125454062,0.2557788343341421,0.2582909754795934,0.26108263598176024,0.2641538158406425,0.2675045150562403,0.2711347336285533,0.275044471557582,0.27923372884332615,0.2837025054857856,0.2884508014849608,0.29347861684085125,0.29878595155345694,0.3043728056227783,0.3102391790488152,0.3163850718315675,0.3228104839710349,0.3295154154672182,0.33649986632011686],[0.32534473469863967,0.31891906775724455,0.31277292017256486,0.30690629194460095,0.30131918307335226,0.29601159355881895,0.2909835234010011,0.2862349725998988,0.2817659411555121,0.27757642906784064,0.27366643633688453,0.270035962962644,0.266685008945119,0.2636135742843095,0.26082165898021525,0.2583092630328366,0.25607638644217323,0.25412302920822544,0.2524491913309932,0.2510548728104763,0.2499400736466748,0.24910479383958886,0.24854903338921835,0.24827279229556326,0.2482760705586237,0.24855886817839945,0.24912118515489073,0.24996302148809746,0.2510843771780197,0.2524852522246573,0.2541656466280104,0.256125560388079,0.258364993504863,0.26088394597836234,0.26368241780857726,0.2667604089955077,0.27011791953915354,0.2737549494395146,0.2776714986965914,0.28186756731038354,0.2863431552808912,0.2910982626081144,0.296132889292053,0.3014470353327067,0.3070407007300762,0.31291388548416116,0.31906658959496165,0.32549881306247713,0.3322105558867085,0.33920181806765526],[0.32786367906533137,0.3214437209563513,0.3153032822040868,0.30944236280853815,0.3038609627697045,0.29855908208758636,0.2935367207621836,0.2887938787934964,0.2843305561815249,0.2801467529262685,0.2762424690277276,0.27261770448590217,0.26927245930079236,0.2662067334723979,0.2634205270007188,0.2609138398857553,0.25868667212750707,0.2567390237259744,0.25507089468115735,0.25368228499305556,0.2525731946616692,0.2517436236869984,0.251193572069043,0.250923039807803,0.25093202690327854,0.2512205333554695,0.2517885591643759,0.2526361043299978,0.25376316885233513,0.25516975273138787,0.2568558559671561,0.2588214785596399,0.261066620508839,0.2635912818147535,0.26639546247738355,0.26947916249672904,0.2728423818727901,0.2764851206055663,0.28040737869505816,0.2846091561412655,0.28909045294418834,0.29385126910382664,0.29889160462018033,0.3042114594932493,0.3098108337230339,0.31568972730953393,0.3218481402527495,0.3282860725526801,0.3350035242093266,0.3420004952226885],[0.33053346155798835,0.3241181103227839,0.317982278444295,0.31212596592252195,0.30654917275746396,0.30125189894912147,0.29623414449749447,0.2914959094025828,0.2870371936643869,0.28285799728290617,0.278958320258141,0.27533816259009114,0.2719975242787568,0.2689364053241381,0.2661548057262347,0.2636527254850467,0.2614301646005742,0.2594871230728171,0.25782360090177564,0.25643959808744954,0.2553351146298388,0.2545101505289436,0.2539647057847638,0.2536987803972995,0.25371237436655064,0.25400548769251735,0.25457812037519933,0.25543027241459676,0.25656194381070974,0.2579731345635382,0.259663844673082,0.2616340741393414,0.26388382296231616,0.26641309114200634,0.26922187867841196,0.27231018557153314,0.27567801182136975,0.2793253574279216,0.2832522223911892,0.2874586067111721,0.29194451038787056,0.2967099334212845,0.3017548758114138,0.30707933755825834,0.31268331866181864,0.3185668191220943,0.3247298389390855,0.33117237811279177,0.33789443664321395,0.3448960145303515],[0.3333541412852072,0.3269422959505128,0.3208099699725337,0.3149571633512705,0.30938387608672235,0.30409010817888976,0.2990758596277725,0.2943411304333708,0.28988592059568474,0.2857102301147139,0.2818140589904585,0.2781974072229186,0.2748602748120942,0.2718026617579853,0.2690245680605918,0.26652599371991365,0.264306938735951,0.2623674031087038,0.2607073868381722,0.259326889924356,0.2582259123672551,0.2574044541668698,0.2568625153231999,0.25660009583624543,0.25661719570600644,0.25691381493248294,0.2574899535156749,0.2583456114555822,0.259480788752205,0.2608954854055433,0.26258970141559707,0.26456343678236627,0.26681669150585097,0.26934946558605094,0.2721617590229665,0.2752535718165976,0.27862490396694406,0.28227575547400574,0.2862061263377832,0.290416016558276,0.29490542613548426,0.29967435506940804,0.30472280336004726,0.3100507710074017,0.31565825801147185,0.3215452643722574,0.3277117900897585,0.3341578351639745,0.34088339959490666,0.347888483382554]],\"type\":\"surface\"}],                        {\"autosize\":true,\"height\":700,\"scene\":{\"aspectmode\":\"manual\",\"aspectratio\":{\"x\":1,\"y\":1,\"z\":0.7},\"camera\":{\"eye\":{\"x\":-1.7428,\"y\":1.0707,\"z\":0.71},\"up\":{\"x\":0,\"y\":0,\"z\":1}},\"xaxis\":{\"gridcolor\":\"rgb(255, 255, 255)\",\"showbackground\":true,\"zerolinecolor\":\"rgb(255, 255, 255)\"},\"yaxis\":{\"gridcolor\":\"rgb(255, 255, 255)\",\"showbackground\":true,\"zerolinecolor\":\"rgb(255, 255, 255)\"},\"zaxis\":{\"gridcolor\":\"rgb(255, 255, 255)\",\"showbackground\":true,\"zerolinecolor\":\"rgb(255, 255, 255)\"}},\"template\":{\"data\":{\"barpolar\":[{\"marker\":{\"line\":{\"color\":\"#E5ECF6\",\"width\":0.5},\"pattern\":{\"fillmode\":\"overlay\",\"size\":10,\"solidity\":0.2}},\"type\":\"barpolar\"}],\"bar\":[{\"error_x\":{\"color\":\"#2a3f5f\"},\"error_y\":{\"color\":\"#2a3f5f\"},\"marker\":{\"line\":{\"color\":\"#E5ECF6\",\"width\":0.5},\"pattern\":{\"fillmode\":\"overlay\",\"size\":10,\"solidity\":0.2}},\"type\":\"bar\"}],\"carpet\":[{\"aaxis\":{\"endlinecolor\":\"#2a3f5f\",\"gridcolor\":\"white\",\"linecolor\":\"white\",\"minorgridcolor\":\"white\",\"startlinecolor\":\"#2a3f5f\"},\"baxis\":{\"endlinecolor\":\"#2a3f5f\",\"gridcolor\":\"white\",\"linecolor\":\"white\",\"minorgridcolor\":\"white\",\"startlinecolor\":\"#2a3f5f\"},\"type\":\"carpet\"}],\"choropleth\":[{\"colorbar\":{\"outlinewidth\":0,\"ticks\":\"\"},\"type\":\"choropleth\"}],\"contourcarpet\":[{\"colorbar\":{\"outlinewidth\":0,\"ticks\":\"\"},\"type\":\"contourcarpet\"}],\"contour\":[{\"colorbar\":{\"outlinewidth\":0,\"ticks\":\"\"},\"colorscale\":[[0.0,\"#0d0887\"],[0.1111111111111111,\"#46039f\"],[0.2222222222222222,\"#7201a8\"],[0.3333333333333333,\"#9c179e\"],[0.4444444444444444,\"#bd3786\"],[0.5555555555555556,\"#d8576b\"],[0.6666666666666666,\"#ed7953\"],[0.7777777777777778,\"#fb9f3a\"],[0.8888888888888888,\"#fdca26\"],[1.0,\"#f0f921\"]],\"type\":\"contour\"}],\"heatmapgl\":[{\"colorbar\":{\"outlinewidth\":0,\"ticks\":\"\"},\"colorscale\":[[0.0,\"#0d0887\"],[0.1111111111111111,\"#46039f\"],[0.2222222222222222,\"#7201a8\"],[0.3333333333333333,\"#9c179e\"],[0.4444444444444444,\"#bd3786\"],[0.5555555555555556,\"#d8576b\"],[0.6666666666666666,\"#ed7953\"],[0.7777777777777778,\"#fb9f3a\"],[0.8888888888888888,\"#fdca26\"],[1.0,\"#f0f921\"]],\"type\":\"heatmapgl\"}],\"heatmap\":[{\"colorbar\":{\"outlinewidth\":0,\"ticks\":\"\"},\"colorscale\":[[0.0,\"#0d0887\"],[0.1111111111111111,\"#46039f\"],[0.2222222222222222,\"#7201a8\"],[0.3333333333333333,\"#9c179e\"],[0.4444444444444444,\"#bd3786\"],[0.5555555555555556,\"#d8576b\"],[0.6666666666666666,\"#ed7953\"],[0.7777777777777778,\"#fb9f3a\"],[0.8888888888888888,\"#fdca26\"],[1.0,\"#f0f921\"]],\"type\":\"heatmap\"}],\"histogram2dcontour\":[{\"colorbar\":{\"outlinewidth\":0,\"ticks\":\"\"},\"colorscale\":[[0.0,\"#0d0887\"],[0.1111111111111111,\"#46039f\"],[0.2222222222222222,\"#7201a8\"],[0.3333333333333333,\"#9c179e\"],[0.4444444444444444,\"#bd3786\"],[0.5555555555555556,\"#d8576b\"],[0.6666666666666666,\"#ed7953\"],[0.7777777777777778,\"#fb9f3a\"],[0.8888888888888888,\"#fdca26\"],[1.0,\"#f0f921\"]],\"type\":\"histogram2dcontour\"}],\"histogram2d\":[{\"colorbar\":{\"outlinewidth\":0,\"ticks\":\"\"},\"colorscale\":[[0.0,\"#0d0887\"],[0.1111111111111111,\"#46039f\"],[0.2222222222222222,\"#7201a8\"],[0.3333333333333333,\"#9c179e\"],[0.4444444444444444,\"#bd3786\"],[0.5555555555555556,\"#d8576b\"],[0.6666666666666666,\"#ed7953\"],[0.7777777777777778,\"#fb9f3a\"],[0.8888888888888888,\"#fdca26\"],[1.0,\"#f0f921\"]],\"type\":\"histogram2d\"}],\"histogram\":[{\"marker\":{\"pattern\":{\"fillmode\":\"overlay\",\"size\":10,\"solidity\":0.2}},\"type\":\"histogram\"}],\"mesh3d\":[{\"colorbar\":{\"outlinewidth\":0,\"ticks\":\"\"},\"type\":\"mesh3d\"}],\"parcoords\":[{\"line\":{\"colorbar\":{\"outlinewidth\":0,\"ticks\":\"\"}},\"type\":\"parcoords\"}],\"pie\":[{\"automargin\":true,\"type\":\"pie\"}],\"scatter3d\":[{\"line\":{\"colorbar\":{\"outlinewidth\":0,\"ticks\":\"\"}},\"marker\":{\"colorbar\":{\"outlinewidth\":0,\"ticks\":\"\"}},\"type\":\"scatter3d\"}],\"scattercarpet\":[{\"marker\":{\"colorbar\":{\"outlinewidth\":0,\"ticks\":\"\"}},\"type\":\"scattercarpet\"}],\"scattergeo\":[{\"marker\":{\"colorbar\":{\"outlinewidth\":0,\"ticks\":\"\"}},\"type\":\"scattergeo\"}],\"scattergl\":[{\"marker\":{\"colorbar\":{\"outlinewidth\":0,\"ticks\":\"\"}},\"type\":\"scattergl\"}],\"scattermapbox\":[{\"marker\":{\"colorbar\":{\"outlinewidth\":0,\"ticks\":\"\"}},\"type\":\"scattermapbox\"}],\"scatterpolargl\":[{\"marker\":{\"colorbar\":{\"outlinewidth\":0,\"ticks\":\"\"}},\"type\":\"scatterpolargl\"}],\"scatterpolar\":[{\"marker\":{\"colorbar\":{\"outlinewidth\":0,\"ticks\":\"\"}},\"type\":\"scatterpolar\"}],\"scatter\":[{\"fillpattern\":{\"fillmode\":\"overlay\",\"size\":10,\"solidity\":0.2},\"type\":\"scatter\"}],\"scatterternary\":[{\"marker\":{\"colorbar\":{\"outlinewidth\":0,\"ticks\":\"\"}},\"type\":\"scatterternary\"}],\"surface\":[{\"colorbar\":{\"outlinewidth\":0,\"ticks\":\"\"},\"colorscale\":[[0.0,\"#0d0887\"],[0.1111111111111111,\"#46039f\"],[0.2222222222222222,\"#7201a8\"],[0.3333333333333333,\"#9c179e\"],[0.4444444444444444,\"#bd3786\"],[0.5555555555555556,\"#d8576b\"],[0.6666666666666666,\"#ed7953\"],[0.7777777777777778,\"#fb9f3a\"],[0.8888888888888888,\"#fdca26\"],[1.0,\"#f0f921\"]],\"type\":\"surface\"}],\"table\":[{\"cells\":{\"fill\":{\"color\":\"#EBF0F8\"},\"line\":{\"color\":\"white\"}},\"header\":{\"fill\":{\"color\":\"#C8D4E3\"},\"line\":{\"color\":\"white\"}},\"type\":\"table\"}]},\"layout\":{\"annotationdefaults\":{\"arrowcolor\":\"#2a3f5f\",\"arrowhead\":0,\"arrowwidth\":1},\"autotypenumbers\":\"strict\",\"coloraxis\":{\"colorbar\":{\"outlinewidth\":0,\"ticks\":\"\"}},\"colorscale\":{\"diverging\":[[0,\"#8e0152\"],[0.1,\"#c51b7d\"],[0.2,\"#de77ae\"],[0.3,\"#f1b6da\"],[0.4,\"#fde0ef\"],[0.5,\"#f7f7f7\"],[0.6,\"#e6f5d0\"],[0.7,\"#b8e186\"],[0.8,\"#7fbc41\"],[0.9,\"#4d9221\"],[1,\"#276419\"]],\"sequential\":[[0.0,\"#0d0887\"],[0.1111111111111111,\"#46039f\"],[0.2222222222222222,\"#7201a8\"],[0.3333333333333333,\"#9c179e\"],[0.4444444444444444,\"#bd3786\"],[0.5555555555555556,\"#d8576b\"],[0.6666666666666666,\"#ed7953\"],[0.7777777777777778,\"#fb9f3a\"],[0.8888888888888888,\"#fdca26\"],[1.0,\"#f0f921\"]],\"sequentialminus\":[[0.0,\"#0d0887\"],[0.1111111111111111,\"#46039f\"],[0.2222222222222222,\"#7201a8\"],[0.3333333333333333,\"#9c179e\"],[0.4444444444444444,\"#bd3786\"],[0.5555555555555556,\"#d8576b\"],[0.6666666666666666,\"#ed7953\"],[0.7777777777777778,\"#fb9f3a\"],[0.8888888888888888,\"#fdca26\"],[1.0,\"#f0f921\"]]},\"colorway\":[\"#636efa\",\"#EF553B\",\"#00cc96\",\"#ab63fa\",\"#FFA15A\",\"#19d3f3\",\"#FF6692\",\"#B6E880\",\"#FF97FF\",\"#FECB52\"],\"font\":{\"color\":\"#2a3f5f\"},\"geo\":{\"bgcolor\":\"white\",\"lakecolor\":\"white\",\"landcolor\":\"#E5ECF6\",\"showlakes\":true,\"showland\":true,\"subunitcolor\":\"white\"},\"hoverlabel\":{\"align\":\"left\"},\"hovermode\":\"closest\",\"mapbox\":{\"style\":\"light\"},\"paper_bgcolor\":\"white\",\"plot_bgcolor\":\"#E5ECF6\",\"polar\":{\"angularaxis\":{\"gridcolor\":\"white\",\"linecolor\":\"white\",\"ticks\":\"\"},\"bgcolor\":\"#E5ECF6\",\"radialaxis\":{\"gridcolor\":\"white\",\"linecolor\":\"white\",\"ticks\":\"\"}},\"scene\":{\"xaxis\":{\"backgroundcolor\":\"#E5ECF6\",\"gridcolor\":\"white\",\"gridwidth\":2,\"linecolor\":\"white\",\"showbackground\":true,\"ticks\":\"\",\"zerolinecolor\":\"white\"},\"yaxis\":{\"backgroundcolor\":\"#E5ECF6\",\"gridcolor\":\"white\",\"gridwidth\":2,\"linecolor\":\"white\",\"showbackground\":true,\"ticks\":\"\",\"zerolinecolor\":\"white\"},\"zaxis\":{\"backgroundcolor\":\"#E5ECF6\",\"gridcolor\":\"white\",\"gridwidth\":2,\"linecolor\":\"white\",\"showbackground\":true,\"ticks\":\"\",\"zerolinecolor\":\"white\"}},\"shapedefaults\":{\"line\":{\"color\":\"#2a3f5f\"}},\"ternary\":{\"aaxis\":{\"gridcolor\":\"white\",\"linecolor\":\"white\",\"ticks\":\"\"},\"baxis\":{\"gridcolor\":\"white\",\"linecolor\":\"white\",\"ticks\":\"\"},\"bgcolor\":\"#E5ECF6\",\"caxis\":{\"gridcolor\":\"white\",\"linecolor\":\"white\",\"ticks\":\"\"}},\"title\":{\"x\":0.05},\"xaxis\":{\"automargin\":true,\"gridcolor\":\"white\",\"linecolor\":\"white\",\"ticks\":\"\",\"title\":{\"standoff\":15},\"zerolinecolor\":\"white\",\"zerolinewidth\":2},\"yaxis\":{\"automargin\":true,\"gridcolor\":\"white\",\"linecolor\":\"white\",\"ticks\":\"\",\"title\":{\"standoff\":15},\"zerolinecolor\":\"white\",\"zerolinewidth\":2}}},\"title\":{\"text\":\"Gradient Descent\"},\"width\":800},                        {\"responsive\": true}                    ).then(function(){\n",
       "                            \n",
       "var gd = document.getElementById('163bdca0-013c-4f09-8651-f4cda28608f1');\n",
       "var x = new MutationObserver(function (mutations, observer) {{\n",
       "        var display = window.getComputedStyle(gd).display;\n",
       "        if (!display || display === 'none') {{\n",
       "            console.log([gd, 'removed!']);\n",
       "            Plotly.purge(gd);\n",
       "            observer.disconnect();\n",
       "        }}\n",
       "}});\n",
       "\n",
       "// Listen for the removal of the full notebook cells\n",
       "var notebookContainer = gd.closest('#notebook-container');\n",
       "if (notebookContainer) {{\n",
       "    x.observe(notebookContainer, {childList: true});\n",
       "}}\n",
       "\n",
       "// Listen for the clearing of the current output cell\n",
       "var outputEl = gd.closest('.output');\n",
       "if (outputEl) {{\n",
       "    x.observe(outputEl, {childList: true});\n",
       "}}\n",
       "\n",
       "                        })                };                });            </script>        </div>"
      ]
     },
     "metadata": {},
     "output_type": "display_data"
    }
   ],
   "source": [
    "# Run me to see a 3D plot (gradient descent with static alpha)\n",
    "from lab7_utils import plot_3d\n",
    "plot_3d(thetas[:, 0], thetas[:, 1], loss, mean_squared_error, sin_model, x, y)"
   ]
  },
  {
   "cell_type": "code",
   "execution_count": 58,
   "metadata": {},
   "outputs": [],
   "source": [
    "import plotly\n",
    "import plotly.graph_objs as go"
   ]
  },
  {
   "cell_type": "code",
   "execution_count": 61,
   "metadata": {},
   "outputs": [],
   "source": [
    "def contour_plot(title, theta_history, loss_function, model, x, y):\n",
    "    \"\"\"\n",
    "    The function takes the following as argument:\n",
    "        theta_history: a (N, 2) array of theta history\n",
    "        loss: a list or array of loss value\n",
    "        loss_function: for example, l2_loss\n",
    "        model: for example, sin_model\n",
    "        x: the original x input\n",
    "        y: the original y output\n",
    "    \"\"\"\n",
    "    theta_1_series = theta_history[:,0] # a list or array of theta_1 value\n",
    "    theta_2_series = theta_history[:,1] # a list or array of theta_2 value\n",
    "\n",
    "    ## In the following block of code, we generate the z value\n",
    "    ## across a 2D grid\n",
    "    theta1_s = np.linspace(np.min(theta_1_series) - 0.1, np.max(theta_1_series) + 0.1)\n",
    "    theta2_s = np.linspace(np.min(theta_2_series) - 0.1, np.max(theta_2_series) + 0.1)\n",
    "\n",
    "    x_s, y_s = np.meshgrid(theta1_s, theta2_s)\n",
    "    data = np.stack([x_s.flatten(), y_s.flatten()]).T\n",
    "    ls = []\n",
    "    for theta1, theta2 in data:\n",
    "        l = loss_function(model(x, np.array([theta1, theta2])), y)\n",
    "        ls.append(l)\n",
    "    z = np.array(ls).reshape(50, 50)\n",
    "    \n",
    "    # Create trace of theta point\n",
    "    # Create the contour \n",
    "    theta_points = go.Scatter(name=\"theta Values\", \n",
    "                              x=theta_1_series, \n",
    "                              y=theta_2_series,\n",
    "                              mode=\"lines+markers\")\n",
    "    lr_loss_contours = go.Contour(x=theta1_s, \n",
    "                                  y=theta2_s, \n",
    "                                  z=z, \n",
    "                                  colorscale='Viridis', reversescale=True)\n",
    "\n",
    "    plotly.offline.iplot(go.Figure(data=[lr_loss_contours, theta_points], layout={'title': title}))"
   ]
  },
  {
   "cell_type": "code",
   "execution_count": 63,
   "metadata": {},
   "outputs": [
    {
     "data": {
      "application/vnd.plotly.v1+json": {
       "config": {
        "linkText": "Export to plot.ly",
        "plotlyServerURL": "https://plot.ly",
        "showLink": false
       },
       "data": [
        {
         "colorscale": [
          [
           0,
           "#440154"
          ],
          [
           0.1111111111111111,
           "#482878"
          ],
          [
           0.2222222222222222,
           "#3e4989"
          ],
          [
           0.3333333333333333,
           "#31688e"
          ],
          [
           0.4444444444444444,
           "#26828e"
          ],
          [
           0.5555555555555556,
           "#1f9e89"
          ],
          [
           0.6666666666666666,
           "#35b779"
          ],
          [
           0.7777777777777778,
           "#6ece58"
          ],
          [
           0.8888888888888888,
           "#b5de2b"
          ],
          [
           1,
           "#fde725"
          ]
         ],
         "reversescale": true,
         "type": "contour",
         "x": [
          1.416253726023518,
          1.4203353586765792,
          1.4244169913296405,
          1.4284986239827016,
          1.4325802566357628,
          1.436661889288824,
          1.4407435219418854,
          1.4448251545949466,
          1.4489067872480077,
          1.452988419901069,
          1.4570700525541302,
          1.4611516852071915,
          1.4652333178602528,
          1.4693149505133138,
          1.4733965831663751,
          1.4774782158194364,
          1.4815598484724977,
          1.485641481125559,
          1.48972311377862,
          1.4938047464316813,
          1.4978863790847425,
          1.5019680117378038,
          1.506049644390865,
          1.5101312770439261,
          1.5142129096969874,
          1.5182945423500487,
          1.52237617500311,
          1.526457807656171,
          1.5305394403092323,
          1.5346210729622936,
          1.5387027056153548,
          1.542784338268416,
          1.5468659709214774,
          1.5509476035745384,
          1.5550292362275997,
          1.559110868880661,
          1.5631925015337222,
          1.5672741341867833,
          1.5713557668398446,
          1.5754373994929058,
          1.5795190321459671,
          1.5836006647990284,
          1.5876822974520897,
          1.5917639301051507,
          1.595845562758212,
          1.5999271954112733,
          1.6040088280643345,
          1.6080904607173956,
          1.6121720933704569,
          1.6162537260235181
         ],
         "y": [
          2.894484413042848,
          2.8985660456959095,
          2.9026476783489708,
          2.906729311002032,
          2.9108109436550933,
          2.914892576308154,
          2.9189742089612154,
          2.9230558416142767,
          2.927137474267338,
          2.931219106920399,
          2.9353007395734605,
          2.9393823722265218,
          2.943464004879583,
          2.9475456375326443,
          2.9516272701857056,
          2.9557089028387664,
          2.9597905354918277,
          2.963872168144889,
          2.9679538007979502,
          2.9720354334510115,
          2.976117066104073,
          2.980198698757134,
          2.9842803314101953,
          2.9883619640632566,
          2.992443596716318,
          2.9965252293693787,
          3.00060686202244,
          3.0046884946755013,
          3.0087701273285625,
          3.012851759981624,
          3.016933392634685,
          3.0210150252877463,
          3.0250966579408076,
          3.029178290593869,
          3.03325992324693,
          3.037341555899991,
          3.0414231885530523,
          3.0455048212061135,
          3.049586453859175,
          3.053668086512236,
          3.0577497191652974,
          3.0618313518183586,
          3.06591298447142,
          3.069994617124481,
          3.0740762497775425,
          3.0781578824306033,
          3.0822395150836646,
          3.086321147736726,
          3.090402780389787,
          3.0944844130428484
         ],
         "z": [
          [
           0.3672713073442163,
           0.3594698071574185,
           0.3519478263273362,
           0.34470536485396974,
           0.3377424227373183,
           0.3310589999773823,
           0.32465509657416175,
           0.3185307125276568,
           0.31268584783786746,
           0.30712050250479334,
           0.30183467652843465,
           0.2968283699087914,
           0.29210158264586367,
           0.28765431473965153,
           0.2834865661901547,
           0.27959833699737335,
           0.2759896271613073,
           0.27266043668195683,
           0.269610765559322,
           0.2668406137934024,
           0.26434998138419835,
           0.26213886833170963,
           0.26020727463593646,
           0.25855520029687873,
           0.25718264531453644,
           0.25608960968890965,
           0.25527609341999824,
           0.2547420965078024,
           0.25448761895232186,
           0.25451266075355683,
           0.2548172219115073,
           0.2554013024261732,
           0.2562649022975546,
           0.25740802152565134,
           0.2588306601104636,
           0.26053281805199124,
           0.26251449535023447,
           0.2647756920051929,
           0.267316408016867,
           0.2701366433852566,
           0.2732363981103616,
           0.276615672192182,
           0.28027446563071795,
           0.28421277842596915,
           0.28843061057793595,
           0.29292796208661825,
           0.297704832952016,
           0.3027612231741289,
           0.3080971327529575,
           0.31371256168850165
          ],
          [
           0.36322271111358595,
           0.35547096840837733,
           0.34799874505988404,
           0.34080604106810664,
           0.3338928564330444,
           0.3272591911546975,
           0.3209050452330661,
           0.31483041866815015,
           0.30903531145994995,
           0.3035197236084649,
           0.29828365511369537,
           0.2933271059756412,
           0.2886500761943026,
           0.2842525657696795,
           0.2801345747017718,
           0.2762961029905795,
           0.2727371506361026,
           0.2694577176383412,
           0.2664578039972955,
           0.26373740971296505,
           0.26129653478535,
           0.2591351792144504,
           0.25725334300026637,
           0.2556510261427978,
           0.2543282286420445,
           0.25328495049800687,
           0.25252119171068454,
           0.2520369522800777,
           0.2518322322061864,
           0.25190703148901045,
           0.25226135012854994,
           0.25289518812480494,
           0.2538085454777754,
           0.25500142218746125,
           0.25647381825386256,
           0.25822573367697943,
           0.2602571684568117,
           0.2625681225933593,
           0.2651585960866225,
           0.2680285889366011,
           0.2711781011432952,
           0.2746071327067048,
           0.2783156836268298,
           0.2823037539036701,
           0.28657134353722596,
           0.2911184525274974,
           0.2959450808744842,
           0.30105122857818617,
           0.306436895638604,
           0.31210208205573714
          ],
          [
           0.3593065054620511,
           0.35160384714333204,
           0.3441807081813284,
           0.33703708857604053,
           0.33017298832746783,
           0.32358840743561057,
           0.31728334590046875,
           0.31125780372204237,
           0.3055117809003319,
           0.3000452774353364,
           0.2948582933270563,
           0.2899508285754918,
           0.28532288318064286,
           0.28097445714250935,
           0.27690555046109117,
           0.2731161631363885,
           0.2696062951684012,
           0.2663759465571294,
           0.26342511730257323,
           0.26075380740473236,
           0.2583620168636069,
           0.2562497456791969,
           0.2544169938515024,
           0.2528637613805234,
           0.2515900482662598,
           0.2505958545087117,
           0.24988118010787896,
           0.24944602506376176,
           0.24929038937635994,
           0.24941427304567365,
           0.24981767607170274,
           0.25050059845444733,
           0.2514630401939074,
           0.2527050012900829,
           0.25422648174297385,
           0.2560274815525802,
           0.25810800071890205,
           0.2604680392419393,
           0.26310759712169207,
           0.26602667435816024,
           0.26922527095134396,
           0.27270338690124307,
           0.27646102220785773,
           0.28049817687118755,
           0.28481485089123304,
           0.2894110442679941,
           0.29428675700147044,
           0.29944198909166203,
           0.3048767405385694,
           0.31059101134219225
          ],
          [
           0.35552320107483515,
           0.3478689357611516,
           0.34049418980418344,
           0.3333989632039312,
           0.326583255960394,
           0.3200470680735723,
           0.313790399543466,
           0.3078132503700752,
           0.3021156205534002,
           0.29669751009344036,
           0.2915589189901958,
           0.28669984724366687,
           0.2821202948538534,
           0.2778202618207555,
           0.2737997481443729,
           0.2700587538247058,
           0.26659727886175405,
           0.2634153232555178,
           0.2605128870059971,
           0.2578899701131918,
           0.25554657257710195,
           0.2534826943977275,
           0.2516983355750686,
           0.2501934961091251,
           0.24896817599989707,
           0.2480223752473845,
           0.24735609385158738,
           0.24696933181250566,
           0.24686208913013946,
           0.24703436580448865,
           0.24748616183555336,
           0.2482174772233335,
           0.24922831196782907,
           0.2505186660690401,
           0.25208853952696664,
           0.25393793234160855,
           0.256066844512966,
           0.25847527604103876,
           0.26116322692582705,
           0.26413069716733084,
           0.26737768676555007,
           0.2709041957204848,
           0.27471022403213496,
           0.2787957717005004,
           0.28316083872558145,
           0.28780542510737794,
           0.29272953084589,
           0.297933155941117,
           0.30341630039306,
           0.3091789642017183
          ],
          [
           0.35187330397058436,
           0.3442667223251501,
           0.3369396600364311,
           0.3298921171044282,
           0.3231240935291402,
           0.3166355893105677,
           0.3104266044487106,
           0.30449713894356906,
           0.2988471927951432,
           0.29347676600343253,
           0.28838585856843724,
           0.28357447049015755,
           0.2790426017685933,
           0.2747902524037446,
           0.2708174223956112,
           0.26712411174419326,
           0.2637103204494908,
           0.2605760485115037,
           0.25772129593023235,
           0.2551460627056762,
           0.2528503488378356,
           0.25083415432671036,
           0.2490974791723006,
           0.24764032337460634,
           0.24646268693362758,
           0.24556456984936417,
           0.24494597212181626,
           0.24460689375098382,
           0.24454733473686674,
           0.2447672950794652,
           0.24526677477877912,
           0.2460457738348085,
           0.24710429224755331,
           0.2484423300170135,
           0.2500598871431892,
           0.25195696362608044,
           0.25413355946568705,
           0.256589674662009,
           0.2593253092150465,
           0.26234046312479953,
           0.26563513639126796,
           0.2692093290144519,
           0.27306304099435125,
           0.2771962723309659,
           0.28160902302429613,
           0.28630129307434193,
           0.2912730824811031,
           0.2965243912445795,
           0.3020552193647716,
           0.3078655668416791
          ],
          [
           0.3483573161202735,
           0.340797691188353,
           0.33351758561314787,
           0.3265169993946587,
           0.31979593253288463,
           0.3133543850278259,
           0.3071923568794827,
           0.30130984808785494,
           0.295706858652943,
           0.29038338857474616,
           0.2853394378532647,
           0.28057500648849876,
           0.27609009448044836,
           0.2718847018291135,
           0.2679588285344939,
           0.2643124745965898,
           0.26094564001540116,
           0.25785832479092796,
           0.2550505289231704,
           0.25252225241212806,
           0.25027349525780124,
           0.24830425746018983,
           0.246614539019294,
           0.24520433993511356,
           0.2440736602076486,
           0.243222499836899,
           0.24265085882286488,
           0.24235873716554632,
           0.24234613486494316,
           0.2426130519210554,
           0.24315948833388318,
           0.24398544410342632,
           0.24509091922968498,
           0.24647591371265898,
           0.24814042755234855,
           0.25008446074875357,
           0.25230801330187397,
           0.2548110852117098,
           0.2575936764782612,
           0.26065578710152804,
           0.26399741708151025,
           0.267618566418208,
           0.27151923511162124,
           0.2756994231617496,
           0.2801591305685938,
           0.2848983573321534,
           0.28991710345242844,
           0.29521536892941863,
           0.3007931537631246,
           0.30665045795354595
          ],
          [
           0.3449757360104756,
           0.3374623235629779,
           0.33022843047219574,
           0.3232740567381295,
           0.3165992023607782,
           0.3102038673401423,
           0.30408805167622194,
           0.2982517553690171,
           0.292694978418528,
           0.287417720824754,
           0.28241998258769535,
           0.27770176370735233,
           0.27326306418372476,
           0.26910388401681273,
           0.26522422320661604,
           0.26162408175313484,
           0.25830345965636897,
           0.25526235691631866,
           0.25250077353298395,
           0.2500187095063645,
           0.24781616483646052,
           0.24589313952327202,
           0.24424963356679896,
           0.24288564696704143,
           0.24180117972399928,
           0.2409962318376726,
           0.24047080330806134,
           0.24022489413516557,
           0.24025850431898524,
           0.24057163385952038,
           0.24116428275677093,
           0.24203645101073704,
           0.24318813862141855,
           0.24461934558881537,
           0.2463300719129278,
           0.24832031759375567,
           0.25059008263129895,
           0.25313936702555767,
           0.25596817077653183,
           0.2590764938842216,
           0.2624643363486267,
           0.2661316981697473,
           0.27007857934758334,
           0.2743049798821346,
           0.2788108997734017,
           0.2835963390213841,
           0.2886612976260819,
           0.294005775587495,
           0.29962977290562387,
           0.3055332895804681
          ],
          [
           0.34172905914979373,
           0.33426109803292303,
           0.3270726562727677,
           0.32016373386932834,
           0.313534330822604,
           0.30718444713259513,
           0.3011140827993017,
           0.29532323782272374,
           0.2898119122028615,
           0.28458010593971445,
           0.2796278190332828,
           0.2749550514835667,
           0.27056180329056606,
           0.266448074454281,
           0.2626138649747113,
           0.2590591748518569,
           0.2557840040857181,
           0.2527883526762947,
           0.25007222062358686,
           0.24763560792759434,
           0.2454785145883173,
           0.2436009406057557,
           0.24200288597990963,
           0.24068435071077904,
           0.2396453347983638,
           0.2388858382426641,
           0.23840586104367972,
           0.23820540320141095,
           0.23828446471585749,
           0.23864304558701954,
           0.23928114581489712,
           0.2401987653994901,
           0.24139590434079855,
           0.24287256263882237,
           0.24462874029356171,
           0.2466644373050165,
           0.24897965367318675,
           0.25157438939807236,
           0.25444864447967347,
           0.25760241891799013,
           0.26103571271302217,
           0.2647485258647698,
           0.26874085837323275,
           0.273012710238411,
           0.2775640814603049,
           0.2823949720389142,
           0.2875053819742391,
           0.29289531126627905,
           0.29856475991503484,
           0.304513727920506
          ],
          [
           0.33861777851734637,
           0.3311944910081547,
           0.3240507228556784,
           0.31718647405991796,
           0.3106017446208726,
           0.30429653453854266,
           0.29827084381292823,
           0.2925246724440292,
           0.287058020431846,
           0.28187088777637787,
           0.27696327447762525,
           0.2723351805355881,
           0.2679866059502664,
           0.26391755072166023,
           0.2601280148497695,
           0.25661799833459414,
           0.2533875011761342,
           0.2504365233743898,
           0.24776506492936098,
           0.24537312584104745,
           0.24326070610944933,
           0.2414278057345667,
           0.23987442471639955,
           0.23860056305494795,
           0.2376062207502117,
           0.23689139780219093,
           0.23645609421088556,
           0.2363003099762957,
           0.23642404509842124,
           0.23682729957726228,
           0.23751007341281882,
           0.23847236660509072,
           0.2397141791540781,
           0.24123551105978094,
           0.2430363623221992,
           0.245116732941333,
           0.2474766229171822,
           0.2501160322497467,
           0.2530349609390269,
           0.25623340898502245,
           0.2597113763877335,
           0.26346886314716006,
           0.267505869263302,
           0.27182239473615916,
           0.27641843956573203,
           0.2812940037520204,
           0.28644908729502416,
           0.29188369019474314,
           0.29759781245117783,
           0.30359145406432797
          ],
          [
           0.3356423849523408,
           0.3282629771200261,
           0.32116308864442694,
           0.31434271952554366,
           0.30780186976337537,
           0.3015405393579225,
           0.29555872830918517,
           0.28985643661716326,
           0.2844336642818572,
           0.27929041130326615,
           0.2744266776813906,
           0.26984246341623047,
           0.26553776850778593,
           0.26151259295605694,
           0.25776693676104323,
           0.254300799922745,
           0.2511141824411622,
           0.24820708431629485,
           0.24557950554814312,
           0.2432314461367067,
           0.24116290608198568,
           0.23937388538398016,
           0.2378643840426901,
           0.23663440205811553,
           0.23568393943025645,
           0.23501299615911275,
           0.23462157224468447,
           0.23450966768697176,
           0.2346772824859744,
           0.23512441664169254,
           0.23585107015412612,
           0.23685724302327518,
           0.23814293524913968,
           0.23970814683171957,
           0.24155287777101497,
           0.2436771280670258,
           0.24608089771975217,
           0.24876418672919384,
           0.251726995095351,
           0.2549693228182237,
           0.2584911698978118,
           0.2622925363341154,
           0.26637342212713455,
           0.2707338272768688,
           0.27537375178331874,
           0.28029319564648425,
           0.2854921588663651,
           0.29097064144296114,
           0.29672864337627297,
           0.30276616466630024
          ],
          [
           0.33280336748387124,
           0.32546702955666257,
           0.31841021098616923,
           0.3116329117723918,
           0.3051351319153295,
           0.29891687141498247,
           0.29297813027135106,
           0.2873189084844351,
           0.28193920605423484,
           0.2768390229807497,
           0.27201835926398005,
           0.26747721490392595,
           0.26321558990058724,
           0.2592334842539641,
           0.2555308979640563,
           0.2521078310308639,
           0.24896428345438704,
           0.24610025523462564,
           0.2435157463715798,
           0.24121075686524923,
           0.23918528671563413,
           0.23743933592273456,
           0.2359729044865504,
           0.23478599240708173,
           0.23387859968432845,
           0.23325072631829064,
           0.2329023723089683,
           0.2328335376563615,
           0.23304422236047004,
           0.23353442642129407,
           0.23430414983883358,
           0.2353533926130885,
           0.23668215474405893,
           0.23829043623174465,
           0.24017823707614602,
           0.24234555727726273,
           0.2447923968350949,
           0.2475187557496425,
           0.25052463402090563,
           0.2538100316488842,
           0.25737494863357824,
           0.26121938497498776,
           0.26534334067311266,
           0.2697468157279529,
           0.27442981013950873,
           0.2793923239077801,
           0.2846343570327669,
           0.2901559095144688,
           0.2959569813528865,
           0.3020375725480197
          ],
          [
           0.33010121360021233,
           0.3228071203376792,
           0.31579254643186155,
           0.3090574918827597,
           0.302601956690373,
           0.29642594085470164,
           0.2905294443757458,
           0.2849124672535054,
           0.2795750094879808,
           0.27451707107917134,
           0.2697386520270773,
           0.2652397523316988,
           0.26102037199303574,
           0.2570805110110882,
           0.253420169385856,
           0.25003934711733933,
           0.246938044205538,
           0.24411626065045225,
           0.24157399645208197,
           0.2393112516104271,
           0.23732802612548767,
           0.23562431999726366,
           0.2342001332257552,
           0.23305546581096204,
           0.23219031775288448,
           0.2316046890515223,
           0.2312985797068756,
           0.23127198971894433,
           0.23152491908772854,
           0.23205736781322817,
           0.23286933589544329,
           0.23396082333437382,
           0.23533183013001982,
           0.2369823562823813,
           0.2389124017914582,
           0.2411219666572506,
           0.2436110508797584,
           0.24637965445898166,
           0.24942777739492034,
           0.2527554196875746,
           0.25636258133694423,
           0.26024926234302936,
           0.26441546270582994,
           0.26886118242534585,
           0.2735864215015773,
           0.2785911799345242,
           0.2838754577241866,
           0.2894392548705642,
           0.29528257137365754,
           0.30140540723346626
          ],
          [
           0.3275364094569922,
           0.32028372052761883,
           0.3133105509549609,
           0.30661690073901887,
           0.30020276987979194,
           0.2940681583772804,
           0.28821306623148435,
           0.2826374934424037,
           0.27734144001003885,
           0.2723249059343892,
           0.2675878912154549,
           0.2631303958532361,
           0.2589524198477328,
           0.25505396319894513,
           0.2514350259068727,
           0.2480956079715158,
           0.24503570939287422,
           0.2422553301709482,
           0.23975447030573777,
           0.23753312979724261,
           0.2355913086454629,
           0.23392900685039866,
           0.23254622441204997,
           0.2314429613304167,
           0.23061921760549883,
           0.2300749932372964,
           0.22981028822580943,
           0.22982510257103803,
           0.23011943627298195,
           0.23069328933164135,
           0.23154666174701627,
           0.23267955351910663,
           0.2340919646479124,
           0.2357838951334336,
           0.23775534497567027,
           0.24000631417462245,
           0.24253680273029005,
           0.24534681064267294,
           0.2484363379117715,
           0.25180538453758544,
           0.2554539505201148,
           0.2593820358593598,
           0.26358964055532014,
           0.26807676460799573,
           0.272843408017387,
           0.2778895707834937,
           0.2832152529063159,
           0.28882045438585324,
           0.2947051752221063,
           0.30086941541507484
          ],
          [
           0.3251094400237599,
           0.3178973003876175,
           0.31096468010819045,
           0.3043115791854793,
           0.29793799761948314,
           0.29184393541020254,
           0.2860293925576373,
           0.28049436906178765,
           0.27523886492265365,
           0.2702628801402348,
           0.2655664147145314,
           0.26114946864554356,
           0.2570120419332712,
           0.2531541345777143,
           0.24957574657887277,
           0.2462768779367467,
           0.2432575286513361,
           0.24051769872264092,
           0.2380573881506614,
           0.23587659693539711,
           0.23397532507684823,
           0.23235357257501496,
           0.23101133942989704,
           0.22994862564149468,
           0.22916543120980767,
           0.2286617561348362,
           0.22843760041658015,
           0.22849296405503955,
           0.22882784705021436,
           0.2294422494021047,
           0.23033617111071047,
           0.2315096121760317,
           0.23296257259806832,
           0.23469505237682037,
           0.23670705151228796,
           0.238998570004471,
           0.24156960785336953,
           0.2444201650589833,
           0.24755024162131273,
           0.25095983754035756,
           0.25464895281611793,
           0.2586175874485937,
           0.2628657414377849,
           0.2673934147836914,
           0.2722006074863135,
           0.2772873195456511,
           0.28265355096170414,
           0.2882993017344724,
           0.2942245718639564,
           0.30042936135015574
          ],
          [
           0.32282078916858076,
           0.3156483294649331,
           0.3087553891180008,
           0.30214196812778443,
           0.29580806649428304,
           0.2897536842174972,
           0.2839788212974268,
           0.27848347773407184,
           0.2732676535274326,
           0.2683313486775086,
           0.2636745631843,
           0.25929729704780685,
           0.2551995502680292,
           0.2513813228449671,
           0.24784261477862035,
           0.24458342606898908,
           0.2416037567160732,
           0.23890360671987282,
           0.23648297608038804,
           0.23434186479761848,
           0.23248027287156448,
           0.23089820030222594,
           0.2295956470896028,
           0.22857261323369518,
           0.227829098734503,
           0.22736510359202622,
           0.22718062780626497,
           0.2272756713772191,
           0.2276502343048887,
           0.22830431658927378,
           0.2292379182303743,
           0.2304510392281903,
           0.23194367958272172,
           0.23371583929396852,
           0.23576751836193088,
           0.23809871678660868,
           0.24070943456800195,
           0.24359967170611052,
           0.24676942820093473,
           0.25021870405247437,
           0.2539474992607294,
           0.25795581382570004,
           0.26224364774738596,
           0.2668110010257872,
           0.2716578736609041,
           0.2767842656527365,
           0.2821901770012843,
           0.28787560770654724,
           0.293840557768526,
           0.30008502718722024
          ],
          [
           0.32067093968042004,
           0.3135372766200955,
           0.3066831329164863,
           0.30010850856959304,
           0.2938134035794148,
           0.2877978179459521,
           0.2820617516692047,
           0.27660520474917283,
           0.2714281771858568,
           0.2665306689792558,
           0.2619126801293703,
           0.25757421063620023,
           0.2535152604997458,
           0.24973582972000674,
           0.24623591829698313,
           0.24301552623067493,
           0.24007465352108218,
           0.23741330016820483,
           0.23503146617204324,
           0.23292915153259686,
           0.23110635624986586,
           0.2295630803238504,
           0.2282993237545504,
           0.2273150865419659,
           0.2266103686860968,
           0.2261851701869432,
           0.22603949104450494,
           0.2261733312587822,
           0.22658669082977498,
           0.2272795697574831,
           0.22825196804190673,
           0.2295038856830458,
           0.2310353226809004,
           0.23284627903547028,
           0.2349367547467558,
           0.2373067498147567,
           0.239956264239473,
           0.2428852980209047,
           0.24609385115905197,
           0.24958192365391474,
           0.25334951550549295,
           0.2573966267137866,
           0.26172325727879564,
           0.26632940720051995,
           0.27121507647896,
           0.2763802651141155,
           0.2818249731059864,
           0.2875492004545725,
           0.29355294715987434,
           0.2998362132218917
          ],
          [
           0.31866037322919905,
           0.31156460999155905,
           0.30474836611063455,
           0.2982116415864259,
           0.2919544364189323,
           0.2859767506081542,
           0.28027858415409146,
           0.2748599370567442,
           0.2697208093161128,
           0.26486120093219645,
           0.26028111190499553,
           0.25598054223451017,
           0.2519594919207403,
           0.24821796096368587,
           0.24475594936334688,
           0.2415734571197233,
           0.23867048423281517,
           0.2360470307026225,
           0.23370309652914548,
           0.23163868171238367,
           0.22985378625233732,
           0.2283484101490065,
           0.22712255340239115,
           0.22617621601249127,
           0.2255093979793068,
           0.22512209930283775,
           0.2250143199830842,
           0.22518606002004607,
           0.2256373194137234,
           0.22636809816411624,
           0.2273783962712245,
           0.2286682137350482,
           0.23023755055558742,
           0.2320864067328419,
           0.23421478226681203,
           0.2366226771574975,
           0.23931009140489853,
           0.24227702500901482,
           0.24552347796984672,
           0.2490494502873941,
           0.2528549419616569,
           0.2569399529926352,
           0.2613044833803289,
           0.2659485331247379,
           0.27087210222586255,
           0.2760751906837026,
           0.2815577984982582,
           0.28731992566952885,
           0.29336157219751535,
           0.2996827380822173
          ],
          [
           0.31678957026353466,
           0.3097307968978694,
           0.3029515428889197,
           0.29645180823668577,
           0.2902315929411669,
           0.28429089700236354,
           0.2786297204202757,
           0.2732480631949032,
           0.2681459253262465,
           0.2633233068143049,
           0.2587802076590788,
           0.2545166278605681,
           0.25053256741877294,
           0.24682802633369336,
           0.2434030046053291,
           0.2402575022336803,
           0.23739151921874688,
           0.234805055560529,
           0.23249811125902667,
           0.2304706863142397,
           0.22872278072616808,
           0.22725439449481205,
           0.22606552762017146,
           0.22515618010224633,
           0.2245263519410366,
           0.22417604313654232,
           0.2241052536887635,
           0.22431398359770013,
           0.2248022328633522,
           0.22557000148571982,
           0.22661728946480286,
           0.22794409680060132,
           0.22955042349311527,
           0.23143626954234453,
           0.23360163494828934,
           0.23604651971094967,
           0.23877092383032542,
           0.24177484730641646,
           0.24505829013922314,
           0.24862125232874518,
           0.25246373387498283,
           0.25658573477793584,
           0.2609872550376043,
           0.26566829465398806,
           0.2706288536270875,
           0.2758689319569024,
           0.2813885296434327,
           0.2871876466866781,
           0.2932662830866394,
           0.299624438843316
          ],
          [
           0.31505900984629115,
           0.3080363036774701,
           0.3012931168653643,
           0.29482944940997446,
           0.2886453013112997,
           0.2827406725693404,
           0.2771155631840964,
           0.27176997315556806,
           0.26670390248375536,
           0.2619173511686579,
           0.2574103192102758,
           0.2531828066086092,
           0.24923481336365816,
           0.2455663394754226,
           0.24217738494390242,
           0.23906794976909765,
           0.2362380339510083,
           0.23368763748963445,
           0.23141676038497622,
           0.22942540263703332,
           0.22771356424580574,
           0.22628124521129375,
           0.22512844553349717,
           0.22425516521241615,
           0.22366140424805045,
           0.22334716264040025,
           0.22331244038946552,
           0.2235572374952462,
           0.2240815539577423,
           0.22488538977695394,
           0.225968744952881,
           0.2273316194855236,
           0.22897401337488157,
           0.2308959266209549,
           0.2330973592237438,
           0.23557831118324818,
           0.23833878249946797,
           0.2413787731724031,
           0.2446982832020538,
           0.24829731258841994,
           0.2521758613315016,
           0.2563339294312987,
           0.26077151688781125,
           0.26548862370103904,
           0.2704852498709825,
           0.2757613953976414,
           0.2813170602810158,
           0.2871522445211052,
           0.2932669481179106,
           0.2996611710714313
          ],
          [
           0.31346916942820474,
           0.30648159546640885,
           0.29977354086132835,
           0.2933450056129637,
           0.28719598972131416,
           0.28132649318638003,
           0.27573651600816146,
           0.27042605818665827,
           0.2653951197218708,
           0.26064370061379855,
           0.2561718008624417,
           0.2519794204678003,
           0.24806655942987446,
           0.24443321774866414,
           0.24107939542416915,
           0.23800509245638962,
           0.2352103088453256,
           0.23269504459097695,
           0.23045929969334392,
           0.2285030741524262,
           0.22682636796822395,
           0.22542918114073715,
           0.22431151366996582,
           0.22347336555591,
           0.22291473679856955,
           0.22263562739794462,
           0.22263603735403506,
           0.22291596666684096,
           0.22347541533636237,
           0.2243143833625992,
           0.22543287074555152,
           0.22683087748521927,
           0.22850840358160251,
           0.23046544903470106,
           0.23270201384451525,
           0.23521809801104482,
           0.23801370153428986,
           0.2410888244142502,
           0.2444434666509261,
           0.2480776282443176,
           0.25199130919442436,
           0.25618450950124677,
           0.2606572291647845,
           0.2654094681850375,
           0.2704412265620062,
           0.2757525042956904,
           0.28134330138609,
           0.28721361783320465,
           0.29336345363703525,
           0.2997928087975812
          ],
          [
           0.31202052455995816,
           0.30506713591432133,
           0.29839326662539983,
           0.2919989166931943,
           0.2858840861177038,
           0.2800487748989287,
           0.27449298303686914,
           0.26921671053152496,
           0.26421995738289655,
           0.25950272359098336,
           0.25506500915578556,
           0.25090681407730325,
           0.24702813835553641,
           0.24342898199048515,
           0.24010934498214917,
           0.23706922733052874,
           0.23430862903562366,
           0.2318275500974341,
           0.2296259905159601,
           0.22770395029120144,
           0.22606142942315824,
           0.22469842791183045,
           0.22361494575721816,
           0.22281098295932134,
           0.22228653951813995,
           0.22204161543367407,
           0.22207621070592357,
           0.22239032533488853,
           0.22298395932056897,
           0.22385711266296487,
           0.22500978536207622,
           0.22644197741790303,
           0.2281536888304453,
           0.2301449195997029,
           0.23241566972567607,
           0.2349659392083647,
           0.2377957280477688,
           0.24090503624388815,
           0.2442938637967232,
           0.24796221070627358,
           0.25191007697253953,
           0.2561374625955209,
           0.2606443675752177,
           0.2654307919116297,
           0.27049673560475745,
           0.27584219865460063,
           0.2814671810611593,
           0.2873716828244331,
           0.2935557039444227,
           0.30001924442112765
          ],
          [
           0.31071354854320843,
           0.3037933868391906,
           0.2971527444918881,
           0.29079162150130156,
           0.28471001786743,
           0.27890793359027394,
           0.27338536866983343,
           0.2681423231061082,
           0.26317879689909884,
           0.2584947900488046,
           0.2540903025552258,
           0.24996533441836244,
           0.24611988563821466,
           0.24255395621478243,
           0.23926754614806545,
           0.236260655438064,
           0.23353328408477794,
           0.23108543208820734,
           0.2289170994483523,
           0.22702828616521273,
           0.22541899223878847,
           0.22408921766907972,
           0.2230389624560864,
           0.22226822659980863,
           0.2217770101002462,
           0.22156531295739934,
           0.22163313517126787,
           0.22198047674185176,
           0.2226073376691512,
           0.22351371795316613,
           0.22469961759389642,
           0.2261650365913423,
           0.22790997494550352,
           0.22993443265638017,
           0.2322384097239723,
           0.23482190614828,
           0.23768492192930304,
           0.24082745706704145,
           0.2442495115614954,
           0.2479510854126648,
           0.2519321786205498,
           0.2561927911851501,
           0.26073292310646595,
           0.26555257438449703,
           0.2706517450192438,
           0.2760304350107059,
           0.2816886443588836,
           0.2876263730637763,
           0.293843621125385,
           0.300340388543709
          ],
          [
           0.3095487120211887,
           0.30266080782150584,
           0.2960524229785385,
           0.2897235574922869,
           0.2836742113627504,
           0.27790438458992944,
           0.27241407717382393,
           0.26720328911443375,
           0.26227202041175945,
           0.25762027106580027,
           0.25324804107655646,
           0.2491553304440282,
           0.24534213916821548,
           0.24180846724911823,
           0.2385543146867363,
           0.2355796814810699,
           0.23288456763211884,
           0.23046897313988335,
           0.22833289800436338,
           0.22647634222555874,
           0.2248993058034696,
           0.22360178873809589,
           0.22258379102943762,
           0.22184531267749488,
           0.2213863536822675,
           0.22120691404375567,
           0.2213069937619592,
           0.22168659283687825,
           0.22234571126851269,
           0.2232843490568626,
           0.22450250620192794,
           0.22600018270370886,
           0.2277773785622052,
           0.22983409377741684,
           0.23217032834934406,
           0.23478608227798672,
           0.23768135556334485,
           0.24085614820541826,
           0.24431046020420732,
           0.24804429155971178,
           0.2520576422719318,
           0.25635051234086714,
           0.260922901766518,
           0.2657748105488841,
           0.2709062386879659,
           0.2763171861837631,
           0.2820076530362758,
           0.2879776392455036,
           0.2942271448114473,
           0.3007561697341063
          ],
          [
           0.30852648250962855,
           0.3016698557385619,
           0.29509274832421073,
           0.2887951602665753,
           0.282777091565655,
           0.27703854222145013,
           0.2715795122339609,
           0.26640000160318694,
           0.26150001032912873,
           0.2568795384117857,
           0.2525385858511581,
           0.24847715264724604,
           0.24469523880004942,
           0.2411928443095684,
           0.23796996917580268,
           0.23502661339875242,
           0.23236277697841756,
           0.2299784599147982,
           0.22787366220789443,
           0.226048383857706,
           0.22450262486423297,
           0.2232363852274755,
           0.22224966494743342,
           0.22154246402410677,
           0.22111478245749566,
           0.2209666202475999,
           0.22109797739441964,
           0.2215088538979548,
           0.2221992497582055,
           0.22316916497517164,
           0.22441859954885315,
           0.22594755347925022,
           0.22775602676636272,
           0.22984401941019048,
           0.23221153141073392,
           0.23485856276799272,
           0.2377851134819671,
           0.24099118355265664,
           0.24447677298006185,
           0.24824188176418252,
           0.2522865099050186,
           0.2566106574025703,
           0.26121432425683727,
           0.26609751046781954,
           0.2712602160355175,
           0.2767024409599309,
           0.2824241852410597,
           0.2884254488789037,
           0.29470623187346356,
           0.3012665342247388
          ],
          [
           0.3076473238688511,
           0.3008209842397566,
           0.29427416396737766,
           0.28800686305171447,
           0.2820190814927664,
           0.2763108192905338,
           0.27088207644501666,
           0.2657328529562149,
           0.26086314882412903,
           0.25627296404875816,
           0.25196229863010283,
           0.24793115256816292,
           0.24417952586293865,
           0.24070741851442976,
           0.23751483052263628,
           0.23460176188755824,
           0.23196821260919565,
           0.2296141826875485,
           0.22753967212261694,
           0.22574468091440072,
           0.2242292090628999,
           0.2229932565681146,
           0.22203682343004477,
           0.22135990964869032,
           0.22096251522405144,
           0.22084464015612795,
           0.22100628444491988,
           0.2214474480904273,
           0.22216813109265018,
           0.2231683334515885,
           0.2244480551672423,
           0.22600729623961158,
           0.22784605666869628,
           0.22996433645449627,
           0.23236213559701188,
           0.23503945409624302,
           0.23799629195218955,
           0.24123264916485132,
           0.24474852573422878,
           0.2485439216603216,
           0.25261883694313003,
           0.2569732715826539,
           0.2616072255788931,
           0.26652069893184754,
           0.2717136916415177,
           0.27718620370790337,
           0.28293823513100447,
           0.2889697859108207,
           0.2952808560473527,
           0.3018714455406002
          ],
          [
           0.30691169571802496,
           0.30011464316386516,
           0.29359710996642086,
           0.2873590961256924,
           0.281400601641679,
           0.27572162651438104,
           0.2703221707437986,
           0.2652022343299316,
           0.26036181727278035,
           0.2558009195723442,
           0.2515195412286235,
           0.24751768224161835,
           0.24379534261132874,
           0.24035252233775453,
           0.2371892214208957,
           0.23430543986075242,
           0.23170117765732443,
           0.229376434810612,
           0.22733121132061512,
           0.22556550718733356,
           0.2240793224107675,
           0.22287265699091685,
           0.2219455109277817,
           0.22129788422136207,
           0.22092977687165777,
           0.22084118887866896,
           0.22103212024239557,
           0.2215025709628377,
           0.22225254103999523,
           0.22328203047386827,
           0.22459103926445673,
           0.22617956741176068,
           0.22804761491578007,
           0.23019518177651482,
           0.2326222679939651,
           0.23532887356813087,
           0.23831499849901205,
           0.2415806427866086,
           0.24512580643092075,
           0.24895048943194828,
           0.2530546917896913,
           0.2574384135041498,
           0.2621016545753238,
           0.2670444150032129,
           0.2722666947878178,
           0.2777684939291381,
           0.2835498124271738,
           0.2896106502819248,
           0.2959510074933915,
           0.3025708840615736
          ],
          [
           0.30632005279266217,
           0.29955127789937935,
           0.29306202236281187,
           0.28685228618296027,
           0.2809220693598238,
           0.2752713718934027,
           0.2699001937836972,
           0.26480853503070695,
           0.2599963956344326,
           0.2554637755948734,
           0.2512106749120296,
           0.2472370935859013,
           0.24354303161648858,
           0.24012848900379125,
           0.23699346574780933,
           0.23413796184854288,
           0.2315619773059918,
           0.22926551212015625,
           0.22724856629103626,
           0.22551113981863163,
           0.22405323270294236,
           0.2228748449439687,
           0.2219759765417104,
           0.22135662749616755,
           0.2210167978073402,
           0.2209564874752283,
           0.22117569649983182,
           0.22167442488115077,
           0.2224526726191852,
           0.22351043971393514,
           0.22484772616540047,
           0.22646453197358132,
           0.22836085713847756,
           0.2305367016600892,
           0.23299206553841637,
           0.23572694877345904,
           0.23874135136521715,
           0.24203527331369046,
           0.2456087146188795,
           0.24946167528078395,
           0.2535941552994038,
           0.25800615467473925,
           0.2626976734067901,
           0.2676687114955561,
           0.27291926894103785,
           0.2784493457432351,
           0.28425894190214773,
           0.2903480574177755,
           0.2967166922901191,
           0.3033648465191781
          ],
          [
           0.3058728442465655,
           0.29913132868911596,
           0.2926693324883818,
           0.28648685564436355,
           0.2805838981570603,
           0.2749604600264726,
           0.2696165412526003,
           0.2645521418354434,
           0.2597672617750024,
           0.25526190107127644,
           0.251036059724266,
           0.24708973773397094,
           0.2434229351003915,
           0.24003565182352754,
           0.2369278879033789,
           0.23409964333994576,
           0.23155091813322803,
           0.22928171228322575,
           0.2272920257899391,
           0.22558185865336772,
           0.2241512108735118,
           0.2230000824503714,
           0.22212847338394648,
           0.22153638367423692,
           0.22122381332124283,
           0.22119076232496426,
           0.22143723068540108,
           0.22196321840255337,
           0.22276872547642104,
           0.2238537519070043,
           0.22521829769430293,
           0.2268623628383171,
           0.22878594733904667,
           0.2309890511964916,
           0.23347167441065206,
           0.23623381698152804,
           0.23927547890911938,
           0.24259666019342613,
           0.2461973608344484,
           0.2500775808321862,
           0.25423732018663936,
           0.25867657889780804,
           0.2633953569656922,
           0.26839365439029156,
           0.2736714711716066,
           0.2792288073096371,
           0.28506566280438306,
           0.29118203765584416,
           0.29757793186402104,
           0.30425334542891347
          ],
          [
           0.3055705128995391,
           0.29885522988040797,
           0.29241946621799225,
           0.28626322191229236,
           0.28038649696330753,
           0.27478929137103825,
           0.26947160513548435,
           0.26443343825664595,
           0.25967479073452326,
           0.25519566256911574,
           0.25099605376042367,
           0.24707596430844708,
           0.243435394213186,
           0.24007434347464038,
           0.23699281209281026,
           0.23419080006769544,
           0.23166830739929614,
           0.22942533408761226,
           0.22746188013264396,
           0.225777945534391,
           0.22437353029285348,
           0.22324863440803153,
           0.2224032578799249,
           0.2218374007085338,
           0.22155106289385817,
           0.22154424443589799,
           0.22181694533465324,
           0.22236916559012385,
           0.22320090520231,
           0.22431216417121164,
           0.22570294249682868,
           0.22737324017916122,
           0.2293230572182092,
           0.23155239361397253,
           0.23406124936645142,
           0.23684962447564578,
           0.2399175189415556,
           0.24326493276418068,
           0.24689186594352142,
           0.2507983184795775,
           0.2549842903723492,
           0.25944978162183624,
           0.26419479222803877,
           0.2692193221909565,
           0.27452337151059003,
           0.2801069401869389,
           0.2859700282200033,
           0.2921126356097828,
           0.29853476235627807,
           0.30523640845948874
          ],
          [
           0.30541349443228444,
           0.29872340912229806,
           0.2923128431690271,
           0.286181796572472,
           0.28033026933263194,
           0.27475826144950743,
           0.26946577292309837,
           0.2644528037534047,
           0.2597193539404268,
           0.2552654234841641,
           0.2510910123846168,
           0.24719612064178492,
           0.24358074825566864,
           0.24024489522626785,
           0.23718856155358245,
           0.2344117472376124,
           0.2319144522783579,
           0.22969667667581878,
           0.22775842042999528,
           0.2260996835408871,
           0.22472046600849438,
           0.22362076783281717,
           0.22280058901385535,
           0.222259929551609,
           0.22199878944607812,
           0.22201716869726273,
           0.22231506730516268,
           0.2228924852697782,
           0.22374942259110908,
           0.22488587926915546,
           0.22630185530391733,
           0.22799735069539462,
           0.22997236544358743,
           0.2322268995484955,
           0.23476095301011918,
           0.23757452582845828,
           0.24066761800351288,
           0.24404022953528273,
           0.24769236042376822,
           0.25162401066896917,
           0.2558351802708856,
           0.26032586922951745,
           0.26509607754486475,
           0.2701458052169273,
           0.2754750522457055,
           0.2810838186311992,
           0.2869721043734083,
           0.2931399094723326,
           0.2995872339279727,
           0.3063140777403282
          ],
          [
           0.3054022165300067,
           0.2987362865112613,
           0.29234987584923117,
           0.286242984543917,
           0.2804156125953179,
           0.2748677600034343,
           0.26959942676826604,
           0.2646106128898133,
           0.2599013183680763,
           0.2554715432030545,
           0.25132128739474807,
           0.24745055094315715,
           0.2438593338482818,
           0.24054763611012187,
           0.23751545772867738,
           0.23476279870394828,
           0.23228965903593463,
           0.23009603872463646,
           0.22818193777005386,
           0.22654735617218658,
           0.22519229393103474,
           0.2241167510465984,
           0.2233207275188775,
           0.2228042233478721,
           0.2225672385335821,
           0.2226097730760076,
           0.22293182697514852,
           0.22353340023100488,
           0.2244144928435767,
           0.22557510481286405,
           0.2270152361388668,
           0.22873488682158494,
           0.23073405686101864,
           0.23301274625716759,
           0.23557095501003222,
           0.23840868311961225,
           0.24152593058590777,
           0.24492269740891848,
           0.24859898358864493,
           0.2525547891250867,
           0.2567901140182441,
           0.26130495826811684,
           0.26609932187470503,
           0.2711732048380085,
           0.2765266071580276,
           0.2821595288347622,
           0.28807196986821226,
           0.2942639302583774,
           0.30073541000525844,
           0.3074864091088548
          ],
          [
           0.3055370979763626,
           0.2988942736870856,
           0.2925309687545239,
           0.28644718317867823,
           0.2806429169595475,
           0.2751181700971323,
           0.2698729425914325,
           0.26490723444244824,
           0.2602210456501796,
           0.2558143762146262,
           0.25168722613578826,
           0.2478395954136658,
           0.24427148404825885,
           0.24098289203956735,
           0.23797381938759127,
           0.2352442660923306,
           0.23279423215378542,
           0.23062371757195563,
           0.2287327223468415,
           0.22712124647844262,
           0.22578928996675926,
           0.22473685281179134,
           0.2239639350135389,
           0.22347053657200186,
           0.22325665748718032,
           0.2233222977590743,
           0.22366745738768362,
           0.2242921363730085,
           0.22519633471504866,
           0.22638005241380435,
           0.2278432894692756,
           0.22958604588146225,
           0.23160832165036435,
           0.23391011677598178,
           0.23649143125831482,
           0.23935226509736324,
           0.2424926182931272,
           0.24591249084560635,
           0.2496118827548012,
           0.2535907940207115,
           0.2578492246433372,
           0.2623871746226784,
           0.2672046439587351,
           0.27230163265150686,
           0.2776781407009945,
           0.2833341681071976,
           0.289269714870116,
           0.2954847809897496,
           0.30197936646609896,
           0.30875347129916386
          ],
          [
           0.3058185476994753,
           0.2991977728806374,
           0.2928565174185149,
           0.28679478131310826,
           0.28101256456441664,
           0.2755098671724406,
           0.27028668913717996,
           0.2653430304586347,
           0.2606788911368053,
           0.256294271171691,
           0.25218917056329215,
           0.24836358931160882,
           0.24481752741664095,
           0.2415509848783886,
           0.23856396169685165,
           0.2358564578720301,
           0.233428473403924,
           0.23128000829253337,
           0.22941106253785834,
           0.22782163613989861,
           0.22651172909865436,
           0.22548134141412557,
           0.22473047308631222,
           0.22425912411521437,
           0.2240672945008319,
           0.22415498424316496,
           0.22452219334221343,
           0.22516892179797737,
           0.2260951696104567,
           0.22730093677965152,
           0.22878622330556184,
           0.23055102918818765,
           0.23259535442752882,
           0.23491919902358538,
           0.23752256297635757,
           0.24040544628584512,
           0.2435678489520481,
           0.24700977097496646,
           0.2507312123546004,
           0.25473217309094975,
           0.2590126531840146,
           0.263572652633795,
           0.2684121714402907,
           0.2735312096035017,
           0.27892976712342843,
           0.2846078440000705,
           0.2905654402334281,
           0.2968025558235009,
           0.3033191907702894,
           0.31011534507379335
          ],
          [
           0.30624696377184163,
           0.29964717591533535,
           0.29332690741554435,
           0.2872861582724693,
           0.28152492848610927,
           0.27604321805646476,
           0.2708410269835357,
           0.265918355267322,
           0.2612752029078241,
           0.2569115699050413,
           0.25282745625897407,
           0.24902286196962228,
           0.24549778703698596,
           0.2422522314610652,
           0.23928619524185976,
           0.2365996783793698,
           0.2341926808735952,
           0.23206520272453615,
           0.23021724393219267,
           0.22864880449656455,
           0.2273598844176518,
           0.22635048369545457,
           0.22562060232997277,
           0.22517024032120644,
           0.2249993976691556,
           0.2251080743738202,
           0.22549627043520018,
           0.22616398585329567,
           0.2271112206281066,
           0.228337974759633,
           0.2298442482478748,
           0.23163004109283217,
           0.23369535329450494,
           0.23604018485289308,
           0.2386645357679967,
           0.24156840603981589,
           0.24475179566835048,
           0.24821470465360032,
           0.2519571329955659,
           0.25597908069424674,
           0.26028054774964315,
           0.264861534161755,
           0.2697220399305824,
           0.2748620650561249,
           0.28028160953838316,
           0.28598067337735683,
           0.291959256573046,
           0.2982173591254503,
           0.3047549810345704,
           0.3115721223004059
          ],
          [
           0.3068227323660484,
           0.30024286316424964,
           0.2939425133191663,
           0.28792168283079883,
           0.28218037169914645,
           0.27671857992420956,
           0.27153630750598806,
           0.2666335544444821,
           0.2620103207396918,
           0.2576666063916167,
           0.253602411400257,
           0.2498177357656129,
           0.24631257948768423,
           0.24308694256647106,
           0.24014082500197323,
           0.23747422679419097,
           0.23508714794312405,
           0.23297958844877256,
           0.2311515483111367,
           0.22960302753021622,
           0.22833402610601108,
           0.2273445440385215,
           0.22663458132774736,
           0.22620413797368863,
           0.22605321397634537,
           0.22618180933571763,
           0.22658992405180528,
           0.22727755812460837,
           0.2282447115541269,
           0.22949138434036095,
           0.23101757648331045,
           0.23282328798297536,
           0.23490851883935582,
           0.23727326905245155,
           0.23991753862226284,
           0.24284132754878962,
           0.24604463583203184,
           0.24952746347198929,
           0.25328981046866245,
           0.257331676822051,
           0.26165306253215503,
           0.26625396759897463,
           0.2711343920225096,
           0.2762943358027597,
           0.28173379893972555,
           0.28745278143340697,
           0.2934512832838037,
           0.2997293044909156,
           0.30628684505474335,
           0.31312390497528647
          ],
          [
           0.3075462266683018,
           0.30098520246483196,
           0.2947036976180776,
           0.288701712128039,
           0.28297924599471563,
           0.27753629921810763,
           0.2723728717982151,
           0.267488963735038,
           0.26288457502857665,
           0.2585597056788305,
           0.2545143556857998,
           0.2507485250494846,
           0.2472622137698848,
           0.24405542184700063,
           0.24112814928083173,
           0.23848039607137836,
           0.23611216221864037,
           0.23402344772261785,
           0.23221425258331096,
           0.23068457680071935,
           0.22943442037484318,
           0.2284637833056825,
           0.2277726655932373,
           0.22736106723750746,
           0.22722898823849325,
           0.22737642859619436,
           0.22780338831061098,
           0.228509867381743,
           0.22949586580959044,
           0.23076138359415344,
           0.23230642073543184,
           0.2341309772334258,
           0.23623505308813506,
           0.23861864829955975,
           0.2412817628677,
           0.2442243967925557,
           0.2474465500741269,
           0.2509482227124133,
           0.25472941470741534,
           0.2587901260591329,
           0.26313035676756585,
           0.2677501068327143,
           0.2726493762545782,
           0.27782816503315727,
           0.28328647316845207,
           0.2890243006604623,
           0.29504164750918804,
           0.3013385137146289,
           0.30791489927678556,
           0.3147708041956576
          ],
          [
           0.3084178057518659,
           0.30187454799336916,
           0.2956108095915879,
           0.28962659054652234,
           0.283921890858172,
           0.278496710526537,
           0.2733510495516176,
           0.26848490793341356,
           0.2638982856719253,
           0.2595911827671522,
           0.2555635992190945,
           0.25181553502775234,
           0.24834699019312567,
           0.2451579647152145,
           0.24224845859401867,
           0.23961847182953833,
           0.23726800442177345,
           0.23519705637072397,
           0.2334056276763901,
           0.23189371833877157,
           0.23066132835786846,
           0.22970845773368084,
           0.22903510646620864,
           0.2286412745554519,
           0.22852696200141068,
           0.22869216880408488,
           0.22913689496347453,
           0.22986114047957965,
           0.23086490535240017,
           0.23214818958193617,
           0.23371099316818766,
           0.23555331611115457,
           0.23767515841083697,
           0.2400765200672347,
           0.24275740108034796,
           0.2457178014501768,
           0.24895772117672096,
           0.25247716025998046,
           0.2562761186999556,
           0.26035459649664616,
           0.2647125936500522,
           0.2693501101601737,
           0.27426714602701063,
           0.2794637012505628,
           0.28493977583083063,
           0.290695369767814,
           0.2967304830615128,
           0.3030451157119266,
           0.30963926771905637,
           0.3165129390829015
          ],
          [
           0.30943781341257853,
           0.30291123910133166,
           0.29666418414680035,
           0.29069664854898475,
           0.2850086323078843,
           0.2796001354234993,
           0.2744711578958298,
           0.2696216997248757,
           0.2650517609106373,
           0.26076134145311414,
           0.2567504413523064,
           0.25301906060821416,
           0.2495671992208374,
           0.24639485719017615,
           0.24350203451623026,
           0.24088873119899987,
           0.23855494723848486,
           0.23650068263468535,
           0.23472593738760145,
           0.23323071149723282,
           0.2320150049635796,
           0.23107881778664194,
           0.23042214996641974,
           0.23004500150291288,
           0.22994737239612165,
           0.23012926264604572,
           0.23059067225268534,
           0.2313316012160403,
           0.2323520495361108,
           0.23365201721289675,
           0.23523150424639813,
           0.23709051063661504,
           0.2392290363835473,
           0.241647081487195,
           0.24434464594755823,
           0.24732172976463693,
           0.25057833293843096,
           0.25411445546894046,
           0.2579300973561655,
           0.262025258600106,
           0.266399939200762,
           0.27105413915813337,
           0.2759878584722203,
           0.2812010971430223,
           0.2866938551705401,
           0.29246613255477333,
           0.298517929295722,
           0.30484924539338587,
           0.31146008084776555,
           0.3183504356588606
          ],
          [
           0.31060657696869953,
           0.304095599115871,
           0.2978641406197579,
           0.2919122014803607,
           0.2862397816976785,
           0.2808468812717118,
           0.27573350020246057,
           0.2708996384899247,
           0.26634529613410474,
           0.26207047313499987,
           0.25807516949261045,
           0.2543593852069365,
           0.25092312027797803,
           0.2477663747057351,
           0.24488914849020754,
           0.24229144163139538,
           0.23997325412929868,
           0.23793458598391748,
           0.23617543719525183,
           0.2346958077633015,
           0.23349569768806663,
           0.23257510696954725,
           0.23193403560774337,
           0.23157248360265484,
           0.23149045095428183,
           0.2316879376626243,
           0.2321649437276821,
           0.23292146914945544,
           0.2339575139279442,
           0.23527307806314848,
           0.23686816155506818,
           0.23874276440370337,
           0.240896886609054,
           0.24333052817111991,
           0.24604368908990143,
           0.2490363693653984,
           0.2523085689976109,
           0.2558602879865386,
           0.25969152633218195,
           0.26380228403454076,
           0.268192561093615,
           0.2728623575094048,
           0.27781167328190987,
           0.28304050841113026,
           0.2885488628970664,
           0.29433673673971794,
           0.300404129939085,
           0.30675104249516705,
           0.313377474407965,
           0.3202834256774783
          ],
          [
           0.3119244060274164,
           0.3054279341067902,
           0.2992109815428794,
           0.2932735483356846,
           0.2876156344852047,
           0.28223723999144035,
           0.2771383648543915,
           0.272319009074058,
           0.26777917265044027,
           0.2635188555835377,
           0.25953805787335066,
           0.255836779519879,
           0.25241502052312287,
           0.24927278088308222,
           0.24641006059975698,
           0.24382685967314718,
           0.24152317810325286,
           0.23949901589007397,
           0.23775437303361063,
           0.23628924953386266,
           0.2351036453908301,
           0.23419756060451305,
           0.23357099517491145,
           0.2332239491020253,
           0.2331564223858546,
           0.23336841502639938,
           0.2338599270236596,
           0.23463095837763517,
           0.2356815090883263,
           0.23701157915573284,
           0.23862116857985494,
           0.24051027736069244,
           0.2426789054982454,
           0.2451270529925136,
           0.24785471984349755,
           0.25086190605119685,
           0.25414861161561164,
           0.2577148365367416,
           0.26156058081458733,
           0.2656858444491485,
           0.27009062744042506,
           0.27477492978841717,
           0.27973875149312466,
           0.2849820925545474,
           0.29050495297268575,
           0.2963073327475396,
           0.3023892318791089,
           0.3087506503673934,
           0.31539158821239366,
           0.3223120454141094
          ],
          [
           0.3133915912204027,
           0.3069085316223849,
           0.3007049913810826,
           0.29478097049649615,
           0.2891364689686247,
           0.2837714867974688,
           0.27868602398302833,
           0.27388008052530327,
           0.269353656424294,
           0.26510675167999986,
           0.2611393662924212,
           0.25745150026155794,
           0.25404315358741025,
           0.2509143262699781,
           0.24806501830926123,
           0.2454952297052599,
           0.243204960457974,
           0.2411942105674035,
           0.23946298003354863,
           0.23801126885640903,
           0.23683907703598492,
           0.23594640457227636,
           0.23533325146528314,
           0.2349996177150054,
           0.2349455033214431,
           0.23517090828459633,
           0.23567583260446498,
           0.23646027628104904,
           0.23752423931434857,
           0.2388677217043636,
           0.24049072345109404,
           0.24239324455453995,
           0.24457528501470133,
           0.247036844831578,
           0.24977792400517032,
           0.252798522535478,
           0.25609864042250124,
           0.2596782776662397,
           0.26353743426669385,
           0.2676761102238634,
           0.2720943055377484,
           0.27679202020834887,
           0.2817692542356648,
           0.28702600761969593,
           0.2925622803604428,
           0.29837807245790515,
           0.30447338391208284,
           0.31084821472297575,
           0.3175025648905844,
           0.3244364344149086
          ],
          [
           0.31500840291089,
           0.30853765939661465,
           0.30234643523905474,
           0.2964347304382107,
           0.2908025449940817,
           0.2854498789066683,
           0.2803767321759702,
           0.2755831048019876,
           0.27106899678472074,
           0.26683440812416903,
           0.2628793388203328,
           0.259203788873212,
           0.2558077582828067,
           0.25269124704911705,
           0.24985425517214263,
           0.24729678265188373,
           0.24501882948834022,
           0.2430203956815122,
           0.24130148123139974,
           0.23986208613800264,
           0.23870221040132095,
           0.23782185402135472,
           0.23722101699810394,
           0.23689969933156868,
           0.23685790102174886,
           0.2370956220686445,
           0.2376128624722556,
           0.23840962223258208,
           0.23948590134962405,
           0.24084169982338152,
           0.24247701765385438,
           0.24439185484104275,
           0.24658621138494657,
           0.24906008728556572,
           0.2518134825429004,
           0.2548463971569506,
           0.25815883112771626,
           0.26175078445519717,
           0.2656222571393937,
           0.26977324918030565,
           0.27420376057793316,
           0.27891379133227606,
           0.2839033414433344,
           0.289172410911108,
           0.2947209997355973,
           0.300549107916802,
           0.3066567354547222,
           0.3130438823493574,
           0.3197105486007087,
           0.3266567342087752
          ],
          [
           0.3167750898747767,
           0.3103155640301286,
           0.30413555754219584,
           0.298235070410979,
           0.2926141026364773,
           0.2872726542186909,
           0.2822107251576201,
           0.2774283154532647,
           0.27292542510562506,
           0.26870205411470055,
           0.2647582024804915,
           0.26109387020299785,
           0.2577090572822199,
           0.2546037637181573,
           0.2517779895108101,
           0.2492317346601784,
           0.24696499916626208,
           0.24497778302906123,
           0.243270086248576,
           0.24184190882480608,
           0.24069325075775158,
           0.23982411204741255,
           0.23923449269378902,
           0.23892439269688093,
           0.23889381205668825,
           0.23914275077321107,
           0.23967120884644932,
           0.2404791862764031,
           0.2415666830630722,
           0.24293369920645688,
           0.24458023470655693,
           0.24650628956337253,
           0.2487118637769035,
           0.2511969573471498,
           0.25396157027411176,
           0.2570057025577892,
           0.260329354198182,
           0.2639325251952901,
           0.26781521554911375,
           0.27197742525965296,
           0.2764191543269076,
           0.28114040275087776,
           0.2861411705315633,
           0.291421457668964,
           0.29698126416308057,
           0.3028205900139125,
           0.30893943522145983,
           0.31533779978572235,
           0.3220156837067007,
           0.3289730869843945
          ],
          [
           0.31869187795835313,
           0.31224246964772545,
           0.30607258069381327,
           0.3001822110966169,
           0.2945713608561356,
           0.2892400299723698,
           0.2841882184453195,
           0.27941592627498457,
           0.2749231534613654,
           0.2707099000044614,
           0.26677616590427283,
           0.2631219511607998,
           0.2597472557740422,
           0.2566520797440001,
           0.25383642307067344,
           0.2513002857540622,
           0.24904366779416642,
           0.24706656919098605,
           0.24536898994452136,
           0.2439509300547719,
           0.2428123895217379,
           0.24195336834541942,
           0.24137386652581636,
           0.2410738840629287,
           0.24105342095675658,
           0.24131247720729992,
           0.2418510528145587,
           0.24266914777853288,
           0.24376676209922257,
           0.24514389577662768,
           0.24680054881074823,
           0.24873672120158433,
           0.25095241294913584,
           0.25344762405340265,
           0.256222354514385,
           0.25927660433208294,
           0.26261037350649624,
           0.2662236620376249,
           0.2701164699254691,
           0.2742887971700288,
           0.278740643771304,
           0.2834720097292946,
           0.2884828950440006,
           0.29377329971542193,
           0.29934322374355893,
           0.3051926671284113,
           0.31132162986997924,
           0.3177301119682622,
           0.3244181134232611,
           0.33138563423497525
          ],
          [
           0.3207589687152737,
           0.31431857653487977,
           0.3081577037112012,
           0.3022763502442386,
           0.29667451613399093,
           0.29135220138045886,
           0.28630940598364224,
           0.281546129943541,
           0.27706237326015554,
           0.2728581359334852,
           0.2689334179635304,
           0.265288219350291,
           0.2619225400937671,
           0.25883638019395877,
           0.25602973965086573,
           0.25350261846448824,
           0.2512550166348261,
           0.24928693416187941,
           0.24759837104564839,
           0.24618932728613263,
           0.24505980288333234,
           0.24420979783724756,
           0.24363931214787815,
           0.24334834581522424,
           0.2433368988392858,
           0.24360497122006283,
           0.2441525629575553,
           0.2449796740517631,
           0.24608630450268648,
           0.2474724543103253,
           0.2491381234746796,
           0.25108331199574935,
           0.2533080198735345,
           0.255812247108035,
           0.2585959936992512,
           0.26165925964718273,
           0.2650020449518298,
           0.26862434961319204,
           0.27252617363126996,
           0.27670751700606333,
           0.28116837973757214,
           0.2859087618257965,
           0.29092866327073624,
           0.2962280840723912,
           0.30180702423076183,
           0.307665483745848,
           0.3138034626176495,
           0.3202209608461662,
           0.3269179784313987,
           0.3338945153733467
          ],
          [
           0.3229765380254575,
           0.31654405975601435,
           0.3103911008432865,
           0.3045176612872746,
           0.2989237410879778,
           0.2936093402453964,
           0.28857445875953047,
           0.28381909663038,
           0.27934325385794534,
           0.2751469304422257,
           0.27123012638322164,
           0.26759284168093295,
           0.2642350763353598,
           0.26115683034650217,
           0.25835810371435997,
           0.25583889643893315,
           0.25359920852022183,
           0.2516390399582259,
           0.24995839075294554,
           0.24855726090438054,
           0.24743565041253096,
           0.24659355927739696,
           0.2460309874989783,
           0.24574793507727516,
           0.2457444020122874,
           0.2460203883040152,
           0.24657589395245835,
           0.24741091895761702,
           0.2485254633194911,
           0.24991952703808068,
           0.2515931101133857,
           0.2535462125454062,
           0.2557788343341421,
           0.2582909754795934,
           0.26108263598176024,
           0.2641538158406425,
           0.2675045150562403,
           0.2711347336285533,
           0.275044471557582,
           0.27923372884332615,
           0.2837025054857856,
           0.2884508014849608,
           0.29347861684085125,
           0.29878595155345694,
           0.3043728056227783,
           0.3102391790488152,
           0.3163850718315675,
           0.3228104839710349,
           0.3295154154672182,
           0.33649986632011686
          ],
          [
           0.32534473469863967,
           0.31891906775724455,
           0.31277292017256486,
           0.30690629194460095,
           0.30131918307335226,
           0.29601159355881895,
           0.2909835234010011,
           0.2862349725998988,
           0.2817659411555121,
           0.27757642906784064,
           0.27366643633688453,
           0.270035962962644,
           0.266685008945119,
           0.2636135742843095,
           0.26082165898021525,
           0.2583092630328366,
           0.25607638644217323,
           0.25412302920822544,
           0.2524491913309932,
           0.2510548728104763,
           0.2499400736466748,
           0.24910479383958886,
           0.24854903338921835,
           0.24827279229556326,
           0.2482760705586237,
           0.24855886817839945,
           0.24912118515489073,
           0.24996302148809746,
           0.2510843771780197,
           0.2524852522246573,
           0.2541656466280104,
           0.256125560388079,
           0.258364993504863,
           0.26088394597836234,
           0.26368241780857726,
           0.2667604089955077,
           0.27011791953915354,
           0.2737549494395146,
           0.2776714986965914,
           0.28186756731038354,
           0.2863431552808912,
           0.2910982626081144,
           0.296132889292053,
           0.3014470353327067,
           0.3070407007300762,
           0.31291388548416116,
           0.31906658959496165,
           0.32549881306247713,
           0.3322105558867085,
           0.33920181806765526
          ],
          [
           0.32786367906533137,
           0.3214437209563513,
           0.3153032822040868,
           0.30944236280853815,
           0.3038609627697045,
           0.29855908208758636,
           0.2935367207621836,
           0.2887938787934964,
           0.2843305561815249,
           0.2801467529262685,
           0.2762424690277276,
           0.27261770448590217,
           0.26927245930079236,
           0.2662067334723979,
           0.2634205270007188,
           0.2609138398857553,
           0.25868667212750707,
           0.2567390237259744,
           0.25507089468115735,
           0.25368228499305556,
           0.2525731946616692,
           0.2517436236869984,
           0.251193572069043,
           0.250923039807803,
           0.25093202690327854,
           0.2512205333554695,
           0.2517885591643759,
           0.2526361043299978,
           0.25376316885233513,
           0.25516975273138787,
           0.2568558559671561,
           0.2588214785596399,
           0.261066620508839,
           0.2635912818147535,
           0.26639546247738355,
           0.26947916249672904,
           0.2728423818727901,
           0.2764851206055663,
           0.28040737869505816,
           0.2846091561412655,
           0.28909045294418834,
           0.29385126910382664,
           0.29889160462018033,
           0.3042114594932493,
           0.3098108337230339,
           0.31568972730953393,
           0.3218481402527495,
           0.3282860725526801,
           0.3350035242093266,
           0.3420004952226885
          ],
          [
           0.33053346155798835,
           0.3241181103227839,
           0.317982278444295,
           0.31212596592252195,
           0.30654917275746396,
           0.30125189894912147,
           0.29623414449749447,
           0.2914959094025828,
           0.2870371936643869,
           0.28285799728290617,
           0.278958320258141,
           0.27533816259009114,
           0.2719975242787568,
           0.2689364053241381,
           0.2661548057262347,
           0.2636527254850467,
           0.2614301646005742,
           0.2594871230728171,
           0.25782360090177564,
           0.25643959808744954,
           0.2553351146298388,
           0.2545101505289436,
           0.2539647057847638,
           0.2536987803972995,
           0.25371237436655064,
           0.25400548769251735,
           0.25457812037519933,
           0.25543027241459676,
           0.25656194381070974,
           0.2579731345635382,
           0.259663844673082,
           0.2616340741393414,
           0.26388382296231616,
           0.26641309114200634,
           0.26922187867841196,
           0.27231018557153314,
           0.27567801182136975,
           0.2793253574279216,
           0.2832522223911892,
           0.2874586067111721,
           0.29194451038787056,
           0.2967099334212845,
           0.3017548758114138,
           0.30707933755825834,
           0.31268331866181864,
           0.3185668191220943,
           0.3247298389390855,
           0.33117237811279177,
           0.33789443664321395,
           0.3448960145303515
          ],
          [
           0.3333541412852072,
           0.3269422959505128,
           0.3208099699725337,
           0.3149571633512705,
           0.30938387608672235,
           0.30409010817888976,
           0.2990758596277725,
           0.2943411304333708,
           0.28988592059568474,
           0.2857102301147139,
           0.2818140589904585,
           0.2781974072229186,
           0.2748602748120942,
           0.2718026617579853,
           0.2690245680605918,
           0.26652599371991365,
           0.264306938735951,
           0.2623674031087038,
           0.2607073868381722,
           0.259326889924356,
           0.2582259123672551,
           0.2574044541668698,
           0.2568625153231999,
           0.25660009583624543,
           0.25661719570600644,
           0.25691381493248294,
           0.2574899535156749,
           0.2583456114555822,
           0.259480788752205,
           0.2608954854055433,
           0.26258970141559707,
           0.26456343678236627,
           0.26681669150585097,
           0.26934946558605094,
           0.2721617590229665,
           0.2752535718165976,
           0.27862490396694406,
           0.28227575547400574,
           0.2862061263377832,
           0.290416016558276,
           0.29490542613548426,
           0.29967435506940804,
           0.30472280336004726,
           0.3100507710074017,
           0.31565825801147185,
           0.3215452643722574,
           0.3277117900897585,
           0.3341578351639745,
           0.34088339959490666,
           0.347888483382554
          ]
         ]
        },
        {
         "mode": "lines+markers",
         "name": "theta Values",
         "type": "scatter",
         "x": [
          1.516253726023518,
          1.516253726023518,
          1.516253726023518,
          1.516253726023518,
          1.516253726023518,
          1.516253726023518,
          1.516253726023518,
          1.516253726023518,
          1.516253726023518,
          1.516253726023518,
          1.516253726023518,
          1.516253726023518,
          1.516253726023518,
          1.516253726023518,
          1.516253726023518,
          1.516253726023518,
          1.516253726023518,
          1.516253726023518,
          1.516253726023518,
          1.516253726023518
         ],
         "y": [
          2.9944844130428483,
          2.9944844130428483,
          2.9944844130428483,
          2.9944844130428483,
          2.9944844130428483,
          2.9944844130428483,
          2.9944844130428483,
          2.9944844130428483,
          2.9944844130428483,
          2.9944844130428483,
          2.9944844130428483,
          2.9944844130428483,
          2.9944844130428483,
          2.9944844130428483,
          2.9944844130428483,
          2.9944844130428483,
          2.9944844130428483,
          2.9944844130428483,
          2.9944844130428483,
          2.9944844130428483
         ]
        }
       ],
       "layout": {
        "template": {
         "data": {
          "bar": [
           {
            "error_x": {
             "color": "#2a3f5f"
            },
            "error_y": {
             "color": "#2a3f5f"
            },
            "marker": {
             "line": {
              "color": "#E5ECF6",
              "width": 0.5
             },
             "pattern": {
              "fillmode": "overlay",
              "size": 10,
              "solidity": 0.2
             }
            },
            "type": "bar"
           }
          ],
          "barpolar": [
           {
            "marker": {
             "line": {
              "color": "#E5ECF6",
              "width": 0.5
             },
             "pattern": {
              "fillmode": "overlay",
              "size": 10,
              "solidity": 0.2
             }
            },
            "type": "barpolar"
           }
          ],
          "carpet": [
           {
            "aaxis": {
             "endlinecolor": "#2a3f5f",
             "gridcolor": "white",
             "linecolor": "white",
             "minorgridcolor": "white",
             "startlinecolor": "#2a3f5f"
            },
            "baxis": {
             "endlinecolor": "#2a3f5f",
             "gridcolor": "white",
             "linecolor": "white",
             "minorgridcolor": "white",
             "startlinecolor": "#2a3f5f"
            },
            "type": "carpet"
           }
          ],
          "choropleth": [
           {
            "colorbar": {
             "outlinewidth": 0,
             "ticks": ""
            },
            "type": "choropleth"
           }
          ],
          "contour": [
           {
            "colorbar": {
             "outlinewidth": 0,
             "ticks": ""
            },
            "colorscale": [
             [
              0,
              "#0d0887"
             ],
             [
              0.1111111111111111,
              "#46039f"
             ],
             [
              0.2222222222222222,
              "#7201a8"
             ],
             [
              0.3333333333333333,
              "#9c179e"
             ],
             [
              0.4444444444444444,
              "#bd3786"
             ],
             [
              0.5555555555555556,
              "#d8576b"
             ],
             [
              0.6666666666666666,
              "#ed7953"
             ],
             [
              0.7777777777777778,
              "#fb9f3a"
             ],
             [
              0.8888888888888888,
              "#fdca26"
             ],
             [
              1,
              "#f0f921"
             ]
            ],
            "type": "contour"
           }
          ],
          "contourcarpet": [
           {
            "colorbar": {
             "outlinewidth": 0,
             "ticks": ""
            },
            "type": "contourcarpet"
           }
          ],
          "heatmap": [
           {
            "colorbar": {
             "outlinewidth": 0,
             "ticks": ""
            },
            "colorscale": [
             [
              0,
              "#0d0887"
             ],
             [
              0.1111111111111111,
              "#46039f"
             ],
             [
              0.2222222222222222,
              "#7201a8"
             ],
             [
              0.3333333333333333,
              "#9c179e"
             ],
             [
              0.4444444444444444,
              "#bd3786"
             ],
             [
              0.5555555555555556,
              "#d8576b"
             ],
             [
              0.6666666666666666,
              "#ed7953"
             ],
             [
              0.7777777777777778,
              "#fb9f3a"
             ],
             [
              0.8888888888888888,
              "#fdca26"
             ],
             [
              1,
              "#f0f921"
             ]
            ],
            "type": "heatmap"
           }
          ],
          "heatmapgl": [
           {
            "colorbar": {
             "outlinewidth": 0,
             "ticks": ""
            },
            "colorscale": [
             [
              0,
              "#0d0887"
             ],
             [
              0.1111111111111111,
              "#46039f"
             ],
             [
              0.2222222222222222,
              "#7201a8"
             ],
             [
              0.3333333333333333,
              "#9c179e"
             ],
             [
              0.4444444444444444,
              "#bd3786"
             ],
             [
              0.5555555555555556,
              "#d8576b"
             ],
             [
              0.6666666666666666,
              "#ed7953"
             ],
             [
              0.7777777777777778,
              "#fb9f3a"
             ],
             [
              0.8888888888888888,
              "#fdca26"
             ],
             [
              1,
              "#f0f921"
             ]
            ],
            "type": "heatmapgl"
           }
          ],
          "histogram": [
           {
            "marker": {
             "pattern": {
              "fillmode": "overlay",
              "size": 10,
              "solidity": 0.2
             }
            },
            "type": "histogram"
           }
          ],
          "histogram2d": [
           {
            "colorbar": {
             "outlinewidth": 0,
             "ticks": ""
            },
            "colorscale": [
             [
              0,
              "#0d0887"
             ],
             [
              0.1111111111111111,
              "#46039f"
             ],
             [
              0.2222222222222222,
              "#7201a8"
             ],
             [
              0.3333333333333333,
              "#9c179e"
             ],
             [
              0.4444444444444444,
              "#bd3786"
             ],
             [
              0.5555555555555556,
              "#d8576b"
             ],
             [
              0.6666666666666666,
              "#ed7953"
             ],
             [
              0.7777777777777778,
              "#fb9f3a"
             ],
             [
              0.8888888888888888,
              "#fdca26"
             ],
             [
              1,
              "#f0f921"
             ]
            ],
            "type": "histogram2d"
           }
          ],
          "histogram2dcontour": [
           {
            "colorbar": {
             "outlinewidth": 0,
             "ticks": ""
            },
            "colorscale": [
             [
              0,
              "#0d0887"
             ],
             [
              0.1111111111111111,
              "#46039f"
             ],
             [
              0.2222222222222222,
              "#7201a8"
             ],
             [
              0.3333333333333333,
              "#9c179e"
             ],
             [
              0.4444444444444444,
              "#bd3786"
             ],
             [
              0.5555555555555556,
              "#d8576b"
             ],
             [
              0.6666666666666666,
              "#ed7953"
             ],
             [
              0.7777777777777778,
              "#fb9f3a"
             ],
             [
              0.8888888888888888,
              "#fdca26"
             ],
             [
              1,
              "#f0f921"
             ]
            ],
            "type": "histogram2dcontour"
           }
          ],
          "mesh3d": [
           {
            "colorbar": {
             "outlinewidth": 0,
             "ticks": ""
            },
            "type": "mesh3d"
           }
          ],
          "parcoords": [
           {
            "line": {
             "colorbar": {
              "outlinewidth": 0,
              "ticks": ""
             }
            },
            "type": "parcoords"
           }
          ],
          "pie": [
           {
            "automargin": true,
            "type": "pie"
           }
          ],
          "scatter": [
           {
            "fillpattern": {
             "fillmode": "overlay",
             "size": 10,
             "solidity": 0.2
            },
            "type": "scatter"
           }
          ],
          "scatter3d": [
           {
            "line": {
             "colorbar": {
              "outlinewidth": 0,
              "ticks": ""
             }
            },
            "marker": {
             "colorbar": {
              "outlinewidth": 0,
              "ticks": ""
             }
            },
            "type": "scatter3d"
           }
          ],
          "scattercarpet": [
           {
            "marker": {
             "colorbar": {
              "outlinewidth": 0,
              "ticks": ""
             }
            },
            "type": "scattercarpet"
           }
          ],
          "scattergeo": [
           {
            "marker": {
             "colorbar": {
              "outlinewidth": 0,
              "ticks": ""
             }
            },
            "type": "scattergeo"
           }
          ],
          "scattergl": [
           {
            "marker": {
             "colorbar": {
              "outlinewidth": 0,
              "ticks": ""
             }
            },
            "type": "scattergl"
           }
          ],
          "scattermapbox": [
           {
            "marker": {
             "colorbar": {
              "outlinewidth": 0,
              "ticks": ""
             }
            },
            "type": "scattermapbox"
           }
          ],
          "scatterpolar": [
           {
            "marker": {
             "colorbar": {
              "outlinewidth": 0,
              "ticks": ""
             }
            },
            "type": "scatterpolar"
           }
          ],
          "scatterpolargl": [
           {
            "marker": {
             "colorbar": {
              "outlinewidth": 0,
              "ticks": ""
             }
            },
            "type": "scatterpolargl"
           }
          ],
          "scatterternary": [
           {
            "marker": {
             "colorbar": {
              "outlinewidth": 0,
              "ticks": ""
             }
            },
            "type": "scatterternary"
           }
          ],
          "surface": [
           {
            "colorbar": {
             "outlinewidth": 0,
             "ticks": ""
            },
            "colorscale": [
             [
              0,
              "#0d0887"
             ],
             [
              0.1111111111111111,
              "#46039f"
             ],
             [
              0.2222222222222222,
              "#7201a8"
             ],
             [
              0.3333333333333333,
              "#9c179e"
             ],
             [
              0.4444444444444444,
              "#bd3786"
             ],
             [
              0.5555555555555556,
              "#d8576b"
             ],
             [
              0.6666666666666666,
              "#ed7953"
             ],
             [
              0.7777777777777778,
              "#fb9f3a"
             ],
             [
              0.8888888888888888,
              "#fdca26"
             ],
             [
              1,
              "#f0f921"
             ]
            ],
            "type": "surface"
           }
          ],
          "table": [
           {
            "cells": {
             "fill": {
              "color": "#EBF0F8"
             },
             "line": {
              "color": "white"
             }
            },
            "header": {
             "fill": {
              "color": "#C8D4E3"
             },
             "line": {
              "color": "white"
             }
            },
            "type": "table"
           }
          ]
         },
         "layout": {
          "annotationdefaults": {
           "arrowcolor": "#2a3f5f",
           "arrowhead": 0,
           "arrowwidth": 1
          },
          "autotypenumbers": "strict",
          "coloraxis": {
           "colorbar": {
            "outlinewidth": 0,
            "ticks": ""
           }
          },
          "colorscale": {
           "diverging": [
            [
             0,
             "#8e0152"
            ],
            [
             0.1,
             "#c51b7d"
            ],
            [
             0.2,
             "#de77ae"
            ],
            [
             0.3,
             "#f1b6da"
            ],
            [
             0.4,
             "#fde0ef"
            ],
            [
             0.5,
             "#f7f7f7"
            ],
            [
             0.6,
             "#e6f5d0"
            ],
            [
             0.7,
             "#b8e186"
            ],
            [
             0.8,
             "#7fbc41"
            ],
            [
             0.9,
             "#4d9221"
            ],
            [
             1,
             "#276419"
            ]
           ],
           "sequential": [
            [
             0,
             "#0d0887"
            ],
            [
             0.1111111111111111,
             "#46039f"
            ],
            [
             0.2222222222222222,
             "#7201a8"
            ],
            [
             0.3333333333333333,
             "#9c179e"
            ],
            [
             0.4444444444444444,
             "#bd3786"
            ],
            [
             0.5555555555555556,
             "#d8576b"
            ],
            [
             0.6666666666666666,
             "#ed7953"
            ],
            [
             0.7777777777777778,
             "#fb9f3a"
            ],
            [
             0.8888888888888888,
             "#fdca26"
            ],
            [
             1,
             "#f0f921"
            ]
           ],
           "sequentialminus": [
            [
             0,
             "#0d0887"
            ],
            [
             0.1111111111111111,
             "#46039f"
            ],
            [
             0.2222222222222222,
             "#7201a8"
            ],
            [
             0.3333333333333333,
             "#9c179e"
            ],
            [
             0.4444444444444444,
             "#bd3786"
            ],
            [
             0.5555555555555556,
             "#d8576b"
            ],
            [
             0.6666666666666666,
             "#ed7953"
            ],
            [
             0.7777777777777778,
             "#fb9f3a"
            ],
            [
             0.8888888888888888,
             "#fdca26"
            ],
            [
             1,
             "#f0f921"
            ]
           ]
          },
          "colorway": [
           "#636efa",
           "#EF553B",
           "#00cc96",
           "#ab63fa",
           "#FFA15A",
           "#19d3f3",
           "#FF6692",
           "#B6E880",
           "#FF97FF",
           "#FECB52"
          ],
          "font": {
           "color": "#2a3f5f"
          },
          "geo": {
           "bgcolor": "white",
           "lakecolor": "white",
           "landcolor": "#E5ECF6",
           "showlakes": true,
           "showland": true,
           "subunitcolor": "white"
          },
          "hoverlabel": {
           "align": "left"
          },
          "hovermode": "closest",
          "mapbox": {
           "style": "light"
          },
          "paper_bgcolor": "white",
          "plot_bgcolor": "#E5ECF6",
          "polar": {
           "angularaxis": {
            "gridcolor": "white",
            "linecolor": "white",
            "ticks": ""
           },
           "bgcolor": "#E5ECF6",
           "radialaxis": {
            "gridcolor": "white",
            "linecolor": "white",
            "ticks": ""
           }
          },
          "scene": {
           "xaxis": {
            "backgroundcolor": "#E5ECF6",
            "gridcolor": "white",
            "gridwidth": 2,
            "linecolor": "white",
            "showbackground": true,
            "ticks": "",
            "zerolinecolor": "white"
           },
           "yaxis": {
            "backgroundcolor": "#E5ECF6",
            "gridcolor": "white",
            "gridwidth": 2,
            "linecolor": "white",
            "showbackground": true,
            "ticks": "",
            "zerolinecolor": "white"
           },
           "zaxis": {
            "backgroundcolor": "#E5ECF6",
            "gridcolor": "white",
            "gridwidth": 2,
            "linecolor": "white",
            "showbackground": true,
            "ticks": "",
            "zerolinecolor": "white"
           }
          },
          "shapedefaults": {
           "line": {
            "color": "#2a3f5f"
           }
          },
          "ternary": {
           "aaxis": {
            "gridcolor": "white",
            "linecolor": "white",
            "ticks": ""
           },
           "baxis": {
            "gridcolor": "white",
            "linecolor": "white",
            "ticks": ""
           },
           "bgcolor": "#E5ECF6",
           "caxis": {
            "gridcolor": "white",
            "linecolor": "white",
            "ticks": ""
           }
          },
          "title": {
           "x": 0.05
          },
          "xaxis": {
           "automargin": true,
           "gridcolor": "white",
           "linecolor": "white",
           "ticks": "",
           "title": {
            "standoff": 15
           },
           "zerolinecolor": "white",
           "zerolinewidth": 2
          },
          "yaxis": {
           "automargin": true,
           "gridcolor": "white",
           "linecolor": "white",
           "ticks": "",
           "title": {
            "standoff": 15
           },
           "zerolinecolor": "white",
           "zerolinewidth": 2
          }
         }
        },
        "title": {
         "text": "Gradient Descent with Static Learning Rate"
        }
       }
      },
      "text/html": [
       "<div>                            <div id=\"333d6600-4c91-4d38-9c08-b3f0df5d60c2\" class=\"plotly-graph-div\" style=\"height:525px; width:100%;\"></div>            <script type=\"text/javascript\">                require([\"plotly\"], function(Plotly) {                    window.PLOTLYENV=window.PLOTLYENV || {};                                    if (document.getElementById(\"333d6600-4c91-4d38-9c08-b3f0df5d60c2\")) {                    Plotly.newPlot(                        \"333d6600-4c91-4d38-9c08-b3f0df5d60c2\",                        [{\"colorscale\":[[0.0,\"#440154\"],[0.1111111111111111,\"#482878\"],[0.2222222222222222,\"#3e4989\"],[0.3333333333333333,\"#31688e\"],[0.4444444444444444,\"#26828e\"],[0.5555555555555556,\"#1f9e89\"],[0.6666666666666666,\"#35b779\"],[0.7777777777777778,\"#6ece58\"],[0.8888888888888888,\"#b5de2b\"],[1.0,\"#fde725\"]],\"reversescale\":true,\"x\":[1.416253726023518,1.4203353586765792,1.4244169913296405,1.4284986239827016,1.4325802566357628,1.436661889288824,1.4407435219418854,1.4448251545949466,1.4489067872480077,1.452988419901069,1.4570700525541302,1.4611516852071915,1.4652333178602528,1.4693149505133138,1.4733965831663751,1.4774782158194364,1.4815598484724977,1.485641481125559,1.48972311377862,1.4938047464316813,1.4978863790847425,1.5019680117378038,1.506049644390865,1.5101312770439261,1.5142129096969874,1.5182945423500487,1.52237617500311,1.526457807656171,1.5305394403092323,1.5346210729622936,1.5387027056153548,1.542784338268416,1.5468659709214774,1.5509476035745384,1.5550292362275997,1.559110868880661,1.5631925015337222,1.5672741341867833,1.5713557668398446,1.5754373994929058,1.5795190321459671,1.5836006647990284,1.5876822974520897,1.5917639301051507,1.595845562758212,1.5999271954112733,1.6040088280643345,1.6080904607173956,1.6121720933704569,1.6162537260235181],\"y\":[2.894484413042848,2.8985660456959095,2.9026476783489708,2.906729311002032,2.9108109436550933,2.914892576308154,2.9189742089612154,2.9230558416142767,2.927137474267338,2.931219106920399,2.9353007395734605,2.9393823722265218,2.943464004879583,2.9475456375326443,2.9516272701857056,2.9557089028387664,2.9597905354918277,2.963872168144889,2.9679538007979502,2.9720354334510115,2.976117066104073,2.980198698757134,2.9842803314101953,2.9883619640632566,2.992443596716318,2.9965252293693787,3.00060686202244,3.0046884946755013,3.0087701273285625,3.012851759981624,3.016933392634685,3.0210150252877463,3.0250966579408076,3.029178290593869,3.03325992324693,3.037341555899991,3.0414231885530523,3.0455048212061135,3.049586453859175,3.053668086512236,3.0577497191652974,3.0618313518183586,3.06591298447142,3.069994617124481,3.0740762497775425,3.0781578824306033,3.0822395150836646,3.086321147736726,3.090402780389787,3.0944844130428484],\"z\":[[0.3672713073442163,0.3594698071574185,0.3519478263273362,0.34470536485396974,0.3377424227373183,0.3310589999773823,0.32465509657416175,0.3185307125276568,0.31268584783786746,0.30712050250479334,0.30183467652843465,0.2968283699087914,0.29210158264586367,0.28765431473965153,0.2834865661901547,0.27959833699737335,0.2759896271613073,0.27266043668195683,0.269610765559322,0.2668406137934024,0.26434998138419835,0.26213886833170963,0.26020727463593646,0.25855520029687873,0.25718264531453644,0.25608960968890965,0.25527609341999824,0.2547420965078024,0.25448761895232186,0.25451266075355683,0.2548172219115073,0.2554013024261732,0.2562649022975546,0.25740802152565134,0.2588306601104636,0.26053281805199124,0.26251449535023447,0.2647756920051929,0.267316408016867,0.2701366433852566,0.2732363981103616,0.276615672192182,0.28027446563071795,0.28421277842596915,0.28843061057793595,0.29292796208661825,0.297704832952016,0.3027612231741289,0.3080971327529575,0.31371256168850165],[0.36322271111358595,0.35547096840837733,0.34799874505988404,0.34080604106810664,0.3338928564330444,0.3272591911546975,0.3209050452330661,0.31483041866815015,0.30903531145994995,0.3035197236084649,0.29828365511369537,0.2933271059756412,0.2886500761943026,0.2842525657696795,0.2801345747017718,0.2762961029905795,0.2727371506361026,0.2694577176383412,0.2664578039972955,0.26373740971296505,0.26129653478535,0.2591351792144504,0.25725334300026637,0.2556510261427978,0.2543282286420445,0.25328495049800687,0.25252119171068454,0.2520369522800777,0.2518322322061864,0.25190703148901045,0.25226135012854994,0.25289518812480494,0.2538085454777754,0.25500142218746125,0.25647381825386256,0.25822573367697943,0.2602571684568117,0.2625681225933593,0.2651585960866225,0.2680285889366011,0.2711781011432952,0.2746071327067048,0.2783156836268298,0.2823037539036701,0.28657134353722596,0.2911184525274974,0.2959450808744842,0.30105122857818617,0.306436895638604,0.31210208205573714],[0.3593065054620511,0.35160384714333204,0.3441807081813284,0.33703708857604053,0.33017298832746783,0.32358840743561057,0.31728334590046875,0.31125780372204237,0.3055117809003319,0.3000452774353364,0.2948582933270563,0.2899508285754918,0.28532288318064286,0.28097445714250935,0.27690555046109117,0.2731161631363885,0.2696062951684012,0.2663759465571294,0.26342511730257323,0.26075380740473236,0.2583620168636069,0.2562497456791969,0.2544169938515024,0.2528637613805234,0.2515900482662598,0.2505958545087117,0.24988118010787896,0.24944602506376176,0.24929038937635994,0.24941427304567365,0.24981767607170274,0.25050059845444733,0.2514630401939074,0.2527050012900829,0.25422648174297385,0.2560274815525802,0.25810800071890205,0.2604680392419393,0.26310759712169207,0.26602667435816024,0.26922527095134396,0.27270338690124307,0.27646102220785773,0.28049817687118755,0.28481485089123304,0.2894110442679941,0.29428675700147044,0.29944198909166203,0.3048767405385694,0.31059101134219225],[0.35552320107483515,0.3478689357611516,0.34049418980418344,0.3333989632039312,0.326583255960394,0.3200470680735723,0.313790399543466,0.3078132503700752,0.3021156205534002,0.29669751009344036,0.2915589189901958,0.28669984724366687,0.2821202948538534,0.2778202618207555,0.2737997481443729,0.2700587538247058,0.26659727886175405,0.2634153232555178,0.2605128870059971,0.2578899701131918,0.25554657257710195,0.2534826943977275,0.2516983355750686,0.2501934961091251,0.24896817599989707,0.2480223752473845,0.24735609385158738,0.24696933181250566,0.24686208913013946,0.24703436580448865,0.24748616183555336,0.2482174772233335,0.24922831196782907,0.2505186660690401,0.25208853952696664,0.25393793234160855,0.256066844512966,0.25847527604103876,0.26116322692582705,0.26413069716733084,0.26737768676555007,0.2709041957204848,0.27471022403213496,0.2787957717005004,0.28316083872558145,0.28780542510737794,0.29272953084589,0.297933155941117,0.30341630039306,0.3091789642017183],[0.35187330397058436,0.3442667223251501,0.3369396600364311,0.3298921171044282,0.3231240935291402,0.3166355893105677,0.3104266044487106,0.30449713894356906,0.2988471927951432,0.29347676600343253,0.28838585856843724,0.28357447049015755,0.2790426017685933,0.2747902524037446,0.2708174223956112,0.26712411174419326,0.2637103204494908,0.2605760485115037,0.25772129593023235,0.2551460627056762,0.2528503488378356,0.25083415432671036,0.2490974791723006,0.24764032337460634,0.24646268693362758,0.24556456984936417,0.24494597212181626,0.24460689375098382,0.24454733473686674,0.2447672950794652,0.24526677477877912,0.2460457738348085,0.24710429224755331,0.2484423300170135,0.2500598871431892,0.25195696362608044,0.25413355946568705,0.256589674662009,0.2593253092150465,0.26234046312479953,0.26563513639126796,0.2692093290144519,0.27306304099435125,0.2771962723309659,0.28160902302429613,0.28630129307434193,0.2912730824811031,0.2965243912445795,0.3020552193647716,0.3078655668416791],[0.3483573161202735,0.340797691188353,0.33351758561314787,0.3265169993946587,0.31979593253288463,0.3133543850278259,0.3071923568794827,0.30130984808785494,0.295706858652943,0.29038338857474616,0.2853394378532647,0.28057500648849876,0.27609009448044836,0.2718847018291135,0.2679588285344939,0.2643124745965898,0.26094564001540116,0.25785832479092796,0.2550505289231704,0.25252225241212806,0.25027349525780124,0.24830425746018983,0.246614539019294,0.24520433993511356,0.2440736602076486,0.243222499836899,0.24265085882286488,0.24235873716554632,0.24234613486494316,0.2426130519210554,0.24315948833388318,0.24398544410342632,0.24509091922968498,0.24647591371265898,0.24814042755234855,0.25008446074875357,0.25230801330187397,0.2548110852117098,0.2575936764782612,0.26065578710152804,0.26399741708151025,0.267618566418208,0.27151923511162124,0.2756994231617496,0.2801591305685938,0.2848983573321534,0.28991710345242844,0.29521536892941863,0.3007931537631246,0.30665045795354595],[0.3449757360104756,0.3374623235629779,0.33022843047219574,0.3232740567381295,0.3165992023607782,0.3102038673401423,0.30408805167622194,0.2982517553690171,0.292694978418528,0.287417720824754,0.28241998258769535,0.27770176370735233,0.27326306418372476,0.26910388401681273,0.26522422320661604,0.26162408175313484,0.25830345965636897,0.25526235691631866,0.25250077353298395,0.2500187095063645,0.24781616483646052,0.24589313952327202,0.24424963356679896,0.24288564696704143,0.24180117972399928,0.2409962318376726,0.24047080330806134,0.24022489413516557,0.24025850431898524,0.24057163385952038,0.24116428275677093,0.24203645101073704,0.24318813862141855,0.24461934558881537,0.2463300719129278,0.24832031759375567,0.25059008263129895,0.25313936702555767,0.25596817077653183,0.2590764938842216,0.2624643363486267,0.2661316981697473,0.27007857934758334,0.2743049798821346,0.2788108997734017,0.2835963390213841,0.2886612976260819,0.294005775587495,0.29962977290562387,0.3055332895804681],[0.34172905914979373,0.33426109803292303,0.3270726562727677,0.32016373386932834,0.313534330822604,0.30718444713259513,0.3011140827993017,0.29532323782272374,0.2898119122028615,0.28458010593971445,0.2796278190332828,0.2749550514835667,0.27056180329056606,0.266448074454281,0.2626138649747113,0.2590591748518569,0.2557840040857181,0.2527883526762947,0.25007222062358686,0.24763560792759434,0.2454785145883173,0.2436009406057557,0.24200288597990963,0.24068435071077904,0.2396453347983638,0.2388858382426641,0.23840586104367972,0.23820540320141095,0.23828446471585749,0.23864304558701954,0.23928114581489712,0.2401987653994901,0.24139590434079855,0.24287256263882237,0.24462874029356171,0.2466644373050165,0.24897965367318675,0.25157438939807236,0.25444864447967347,0.25760241891799013,0.26103571271302217,0.2647485258647698,0.26874085837323275,0.273012710238411,0.2775640814603049,0.2823949720389142,0.2875053819742391,0.29289531126627905,0.29856475991503484,0.304513727920506],[0.33861777851734637,0.3311944910081547,0.3240507228556784,0.31718647405991796,0.3106017446208726,0.30429653453854266,0.29827084381292823,0.2925246724440292,0.287058020431846,0.28187088777637787,0.27696327447762525,0.2723351805355881,0.2679866059502664,0.26391755072166023,0.2601280148497695,0.25661799833459414,0.2533875011761342,0.2504365233743898,0.24776506492936098,0.24537312584104745,0.24326070610944933,0.2414278057345667,0.23987442471639955,0.23860056305494795,0.2376062207502117,0.23689139780219093,0.23645609421088556,0.2363003099762957,0.23642404509842124,0.23682729957726228,0.23751007341281882,0.23847236660509072,0.2397141791540781,0.24123551105978094,0.2430363623221992,0.245116732941333,0.2474766229171822,0.2501160322497467,0.2530349609390269,0.25623340898502245,0.2597113763877335,0.26346886314716006,0.267505869263302,0.27182239473615916,0.27641843956573203,0.2812940037520204,0.28644908729502416,0.29188369019474314,0.29759781245117783,0.30359145406432797],[0.3356423849523408,0.3282629771200261,0.32116308864442694,0.31434271952554366,0.30780186976337537,0.3015405393579225,0.29555872830918517,0.28985643661716326,0.2844336642818572,0.27929041130326615,0.2744266776813906,0.26984246341623047,0.26553776850778593,0.26151259295605694,0.25776693676104323,0.254300799922745,0.2511141824411622,0.24820708431629485,0.24557950554814312,0.2432314461367067,0.24116290608198568,0.23937388538398016,0.2378643840426901,0.23663440205811553,0.23568393943025645,0.23501299615911275,0.23462157224468447,0.23450966768697176,0.2346772824859744,0.23512441664169254,0.23585107015412612,0.23685724302327518,0.23814293524913968,0.23970814683171957,0.24155287777101497,0.2436771280670258,0.24608089771975217,0.24876418672919384,0.251726995095351,0.2549693228182237,0.2584911698978118,0.2622925363341154,0.26637342212713455,0.2707338272768688,0.27537375178331874,0.28029319564648425,0.2854921588663651,0.29097064144296114,0.29672864337627297,0.30276616466630024],[0.33280336748387124,0.32546702955666257,0.31841021098616923,0.3116329117723918,0.3051351319153295,0.29891687141498247,0.29297813027135106,0.2873189084844351,0.28193920605423484,0.2768390229807497,0.27201835926398005,0.26747721490392595,0.26321558990058724,0.2592334842539641,0.2555308979640563,0.2521078310308639,0.24896428345438704,0.24610025523462564,0.2435157463715798,0.24121075686524923,0.23918528671563413,0.23743933592273456,0.2359729044865504,0.23478599240708173,0.23387859968432845,0.23325072631829064,0.2329023723089683,0.2328335376563615,0.23304422236047004,0.23353442642129407,0.23430414983883358,0.2353533926130885,0.23668215474405893,0.23829043623174465,0.24017823707614602,0.24234555727726273,0.2447923968350949,0.2475187557496425,0.25052463402090563,0.2538100316488842,0.25737494863357824,0.26121938497498776,0.26534334067311266,0.2697468157279529,0.27442981013950873,0.2793923239077801,0.2846343570327669,0.2901559095144688,0.2959569813528865,0.3020375725480197],[0.33010121360021233,0.3228071203376792,0.31579254643186155,0.3090574918827597,0.302601956690373,0.29642594085470164,0.2905294443757458,0.2849124672535054,0.2795750094879808,0.27451707107917134,0.2697386520270773,0.2652397523316988,0.26102037199303574,0.2570805110110882,0.253420169385856,0.25003934711733933,0.246938044205538,0.24411626065045225,0.24157399645208197,0.2393112516104271,0.23732802612548767,0.23562431999726366,0.2342001332257552,0.23305546581096204,0.23219031775288448,0.2316046890515223,0.2312985797068756,0.23127198971894433,0.23152491908772854,0.23205736781322817,0.23286933589544329,0.23396082333437382,0.23533183013001982,0.2369823562823813,0.2389124017914582,0.2411219666572506,0.2436110508797584,0.24637965445898166,0.24942777739492034,0.2527554196875746,0.25636258133694423,0.26024926234302936,0.26441546270582994,0.26886118242534585,0.2735864215015773,0.2785911799345242,0.2838754577241866,0.2894392548705642,0.29528257137365754,0.30140540723346626],[0.3275364094569922,0.32028372052761883,0.3133105509549609,0.30661690073901887,0.30020276987979194,0.2940681583772804,0.28821306623148435,0.2826374934424037,0.27734144001003885,0.2723249059343892,0.2675878912154549,0.2631303958532361,0.2589524198477328,0.25505396319894513,0.2514350259068727,0.2480956079715158,0.24503570939287422,0.2422553301709482,0.23975447030573777,0.23753312979724261,0.2355913086454629,0.23392900685039866,0.23254622441204997,0.2314429613304167,0.23061921760549883,0.2300749932372964,0.22981028822580943,0.22982510257103803,0.23011943627298195,0.23069328933164135,0.23154666174701627,0.23267955351910663,0.2340919646479124,0.2357838951334336,0.23775534497567027,0.24000631417462245,0.24253680273029005,0.24534681064267294,0.2484363379117715,0.25180538453758544,0.2554539505201148,0.2593820358593598,0.26358964055532014,0.26807676460799573,0.272843408017387,0.2778895707834937,0.2832152529063159,0.28882045438585324,0.2947051752221063,0.30086941541507484],[0.3251094400237599,0.3178973003876175,0.31096468010819045,0.3043115791854793,0.29793799761948314,0.29184393541020254,0.2860293925576373,0.28049436906178765,0.27523886492265365,0.2702628801402348,0.2655664147145314,0.26114946864554356,0.2570120419332712,0.2531541345777143,0.24957574657887277,0.2462768779367467,0.2432575286513361,0.24051769872264092,0.2380573881506614,0.23587659693539711,0.23397532507684823,0.23235357257501496,0.23101133942989704,0.22994862564149468,0.22916543120980767,0.2286617561348362,0.22843760041658015,0.22849296405503955,0.22882784705021436,0.2294422494021047,0.23033617111071047,0.2315096121760317,0.23296257259806832,0.23469505237682037,0.23670705151228796,0.238998570004471,0.24156960785336953,0.2444201650589833,0.24755024162131273,0.25095983754035756,0.25464895281611793,0.2586175874485937,0.2628657414377849,0.2673934147836914,0.2722006074863135,0.2772873195456511,0.28265355096170414,0.2882993017344724,0.2942245718639564,0.30042936135015574],[0.32282078916858076,0.3156483294649331,0.3087553891180008,0.30214196812778443,0.29580806649428304,0.2897536842174972,0.2839788212974268,0.27848347773407184,0.2732676535274326,0.2683313486775086,0.2636745631843,0.25929729704780685,0.2551995502680292,0.2513813228449671,0.24784261477862035,0.24458342606898908,0.2416037567160732,0.23890360671987282,0.23648297608038804,0.23434186479761848,0.23248027287156448,0.23089820030222594,0.2295956470896028,0.22857261323369518,0.227829098734503,0.22736510359202622,0.22718062780626497,0.2272756713772191,0.2276502343048887,0.22830431658927378,0.2292379182303743,0.2304510392281903,0.23194367958272172,0.23371583929396852,0.23576751836193088,0.23809871678660868,0.24070943456800195,0.24359967170611052,0.24676942820093473,0.25021870405247437,0.2539474992607294,0.25795581382570004,0.26224364774738596,0.2668110010257872,0.2716578736609041,0.2767842656527365,0.2821901770012843,0.28787560770654724,0.293840557768526,0.30008502718722024],[0.32067093968042004,0.3135372766200955,0.3066831329164863,0.30010850856959304,0.2938134035794148,0.2877978179459521,0.2820617516692047,0.27660520474917283,0.2714281771858568,0.2665306689792558,0.2619126801293703,0.25757421063620023,0.2535152604997458,0.24973582972000674,0.24623591829698313,0.24301552623067493,0.24007465352108218,0.23741330016820483,0.23503146617204324,0.23292915153259686,0.23110635624986586,0.2295630803238504,0.2282993237545504,0.2273150865419659,0.2266103686860968,0.2261851701869432,0.22603949104450494,0.2261733312587822,0.22658669082977498,0.2272795697574831,0.22825196804190673,0.2295038856830458,0.2310353226809004,0.23284627903547028,0.2349367547467558,0.2373067498147567,0.239956264239473,0.2428852980209047,0.24609385115905197,0.24958192365391474,0.25334951550549295,0.2573966267137866,0.26172325727879564,0.26632940720051995,0.27121507647896,0.2763802651141155,0.2818249731059864,0.2875492004545725,0.29355294715987434,0.2998362132218917],[0.31866037322919905,0.31156460999155905,0.30474836611063455,0.2982116415864259,0.2919544364189323,0.2859767506081542,0.28027858415409146,0.2748599370567442,0.2697208093161128,0.26486120093219645,0.26028111190499553,0.25598054223451017,0.2519594919207403,0.24821796096368587,0.24475594936334688,0.2415734571197233,0.23867048423281517,0.2360470307026225,0.23370309652914548,0.23163868171238367,0.22985378625233732,0.2283484101490065,0.22712255340239115,0.22617621601249127,0.2255093979793068,0.22512209930283775,0.2250143199830842,0.22518606002004607,0.2256373194137234,0.22636809816411624,0.2273783962712245,0.2286682137350482,0.23023755055558742,0.2320864067328419,0.23421478226681203,0.2366226771574975,0.23931009140489853,0.24227702500901482,0.24552347796984672,0.2490494502873941,0.2528549419616569,0.2569399529926352,0.2613044833803289,0.2659485331247379,0.27087210222586255,0.2760751906837026,0.2815577984982582,0.28731992566952885,0.29336157219751535,0.2996827380822173],[0.31678957026353466,0.3097307968978694,0.3029515428889197,0.29645180823668577,0.2902315929411669,0.28429089700236354,0.2786297204202757,0.2732480631949032,0.2681459253262465,0.2633233068143049,0.2587802076590788,0.2545166278605681,0.25053256741877294,0.24682802633369336,0.2434030046053291,0.2402575022336803,0.23739151921874688,0.234805055560529,0.23249811125902667,0.2304706863142397,0.22872278072616808,0.22725439449481205,0.22606552762017146,0.22515618010224633,0.2245263519410366,0.22417604313654232,0.2241052536887635,0.22431398359770013,0.2248022328633522,0.22557000148571982,0.22661728946480286,0.22794409680060132,0.22955042349311527,0.23143626954234453,0.23360163494828934,0.23604651971094967,0.23877092383032542,0.24177484730641646,0.24505829013922314,0.24862125232874518,0.25246373387498283,0.25658573477793584,0.2609872550376043,0.26566829465398806,0.2706288536270875,0.2758689319569024,0.2813885296434327,0.2871876466866781,0.2932662830866394,0.299624438843316],[0.31505900984629115,0.3080363036774701,0.3012931168653643,0.29482944940997446,0.2886453013112997,0.2827406725693404,0.2771155631840964,0.27176997315556806,0.26670390248375536,0.2619173511686579,0.2574103192102758,0.2531828066086092,0.24923481336365816,0.2455663394754226,0.24217738494390242,0.23906794976909765,0.2362380339510083,0.23368763748963445,0.23141676038497622,0.22942540263703332,0.22771356424580574,0.22628124521129375,0.22512844553349717,0.22425516521241615,0.22366140424805045,0.22334716264040025,0.22331244038946552,0.2235572374952462,0.2240815539577423,0.22488538977695394,0.225968744952881,0.2273316194855236,0.22897401337488157,0.2308959266209549,0.2330973592237438,0.23557831118324818,0.23833878249946797,0.2413787731724031,0.2446982832020538,0.24829731258841994,0.2521758613315016,0.2563339294312987,0.26077151688781125,0.26548862370103904,0.2704852498709825,0.2757613953976414,0.2813170602810158,0.2871522445211052,0.2932669481179106,0.2996611710714313],[0.31346916942820474,0.30648159546640885,0.29977354086132835,0.2933450056129637,0.28719598972131416,0.28132649318638003,0.27573651600816146,0.27042605818665827,0.2653951197218708,0.26064370061379855,0.2561718008624417,0.2519794204678003,0.24806655942987446,0.24443321774866414,0.24107939542416915,0.23800509245638962,0.2352103088453256,0.23269504459097695,0.23045929969334392,0.2285030741524262,0.22682636796822395,0.22542918114073715,0.22431151366996582,0.22347336555591,0.22291473679856955,0.22263562739794462,0.22263603735403506,0.22291596666684096,0.22347541533636237,0.2243143833625992,0.22543287074555152,0.22683087748521927,0.22850840358160251,0.23046544903470106,0.23270201384451525,0.23521809801104482,0.23801370153428986,0.2410888244142502,0.2444434666509261,0.2480776282443176,0.25199130919442436,0.25618450950124677,0.2606572291647845,0.2654094681850375,0.2704412265620062,0.2757525042956904,0.28134330138609,0.28721361783320465,0.29336345363703525,0.2997928087975812],[0.31202052455995816,0.30506713591432133,0.29839326662539983,0.2919989166931943,0.2858840861177038,0.2800487748989287,0.27449298303686914,0.26921671053152496,0.26421995738289655,0.25950272359098336,0.25506500915578556,0.25090681407730325,0.24702813835553641,0.24342898199048515,0.24010934498214917,0.23706922733052874,0.23430862903562366,0.2318275500974341,0.2296259905159601,0.22770395029120144,0.22606142942315824,0.22469842791183045,0.22361494575721816,0.22281098295932134,0.22228653951813995,0.22204161543367407,0.22207621070592357,0.22239032533488853,0.22298395932056897,0.22385711266296487,0.22500978536207622,0.22644197741790303,0.2281536888304453,0.2301449195997029,0.23241566972567607,0.2349659392083647,0.2377957280477688,0.24090503624388815,0.2442938637967232,0.24796221070627358,0.25191007697253953,0.2561374625955209,0.2606443675752177,0.2654307919116297,0.27049673560475745,0.27584219865460063,0.2814671810611593,0.2873716828244331,0.2935557039444227,0.30001924442112765],[0.31071354854320843,0.3037933868391906,0.2971527444918881,0.29079162150130156,0.28471001786743,0.27890793359027394,0.27338536866983343,0.2681423231061082,0.26317879689909884,0.2584947900488046,0.2540903025552258,0.24996533441836244,0.24611988563821466,0.24255395621478243,0.23926754614806545,0.236260655438064,0.23353328408477794,0.23108543208820734,0.2289170994483523,0.22702828616521273,0.22541899223878847,0.22408921766907972,0.2230389624560864,0.22226822659980863,0.2217770101002462,0.22156531295739934,0.22163313517126787,0.22198047674185176,0.2226073376691512,0.22351371795316613,0.22469961759389642,0.2261650365913423,0.22790997494550352,0.22993443265638017,0.2322384097239723,0.23482190614828,0.23768492192930304,0.24082745706704145,0.2442495115614954,0.2479510854126648,0.2519321786205498,0.2561927911851501,0.26073292310646595,0.26555257438449703,0.2706517450192438,0.2760304350107059,0.2816886443588836,0.2876263730637763,0.293843621125385,0.300340388543709],[0.3095487120211887,0.30266080782150584,0.2960524229785385,0.2897235574922869,0.2836742113627504,0.27790438458992944,0.27241407717382393,0.26720328911443375,0.26227202041175945,0.25762027106580027,0.25324804107655646,0.2491553304440282,0.24534213916821548,0.24180846724911823,0.2385543146867363,0.2355796814810699,0.23288456763211884,0.23046897313988335,0.22833289800436338,0.22647634222555874,0.2248993058034696,0.22360178873809589,0.22258379102943762,0.22184531267749488,0.2213863536822675,0.22120691404375567,0.2213069937619592,0.22168659283687825,0.22234571126851269,0.2232843490568626,0.22450250620192794,0.22600018270370886,0.2277773785622052,0.22983409377741684,0.23217032834934406,0.23478608227798672,0.23768135556334485,0.24085614820541826,0.24431046020420732,0.24804429155971178,0.2520576422719318,0.25635051234086714,0.260922901766518,0.2657748105488841,0.2709062386879659,0.2763171861837631,0.2820076530362758,0.2879776392455036,0.2942271448114473,0.3007561697341063],[0.30852648250962855,0.3016698557385619,0.29509274832421073,0.2887951602665753,0.282777091565655,0.27703854222145013,0.2715795122339609,0.26640000160318694,0.26150001032912873,0.2568795384117857,0.2525385858511581,0.24847715264724604,0.24469523880004942,0.2411928443095684,0.23796996917580268,0.23502661339875242,0.23236277697841756,0.2299784599147982,0.22787366220789443,0.226048383857706,0.22450262486423297,0.2232363852274755,0.22224966494743342,0.22154246402410677,0.22111478245749566,0.2209666202475999,0.22109797739441964,0.2215088538979548,0.2221992497582055,0.22316916497517164,0.22441859954885315,0.22594755347925022,0.22775602676636272,0.22984401941019048,0.23221153141073392,0.23485856276799272,0.2377851134819671,0.24099118355265664,0.24447677298006185,0.24824188176418252,0.2522865099050186,0.2566106574025703,0.26121432425683727,0.26609751046781954,0.2712602160355175,0.2767024409599309,0.2824241852410597,0.2884254488789037,0.29470623187346356,0.3012665342247388],[0.3076473238688511,0.3008209842397566,0.29427416396737766,0.28800686305171447,0.2820190814927664,0.2763108192905338,0.27088207644501666,0.2657328529562149,0.26086314882412903,0.25627296404875816,0.25196229863010283,0.24793115256816292,0.24417952586293865,0.24070741851442976,0.23751483052263628,0.23460176188755824,0.23196821260919565,0.2296141826875485,0.22753967212261694,0.22574468091440072,0.2242292090628999,0.2229932565681146,0.22203682343004477,0.22135990964869032,0.22096251522405144,0.22084464015612795,0.22100628444491988,0.2214474480904273,0.22216813109265018,0.2231683334515885,0.2244480551672423,0.22600729623961158,0.22784605666869628,0.22996433645449627,0.23236213559701188,0.23503945409624302,0.23799629195218955,0.24123264916485132,0.24474852573422878,0.2485439216603216,0.25261883694313003,0.2569732715826539,0.2616072255788931,0.26652069893184754,0.2717136916415177,0.27718620370790337,0.28293823513100447,0.2889697859108207,0.2952808560473527,0.3018714455406002],[0.30691169571802496,0.30011464316386516,0.29359710996642086,0.2873590961256924,0.281400601641679,0.27572162651438104,0.2703221707437986,0.2652022343299316,0.26036181727278035,0.2558009195723442,0.2515195412286235,0.24751768224161835,0.24379534261132874,0.24035252233775453,0.2371892214208957,0.23430543986075242,0.23170117765732443,0.229376434810612,0.22733121132061512,0.22556550718733356,0.2240793224107675,0.22287265699091685,0.2219455109277817,0.22129788422136207,0.22092977687165777,0.22084118887866896,0.22103212024239557,0.2215025709628377,0.22225254103999523,0.22328203047386827,0.22459103926445673,0.22617956741176068,0.22804761491578007,0.23019518177651482,0.2326222679939651,0.23532887356813087,0.23831499849901205,0.2415806427866086,0.24512580643092075,0.24895048943194828,0.2530546917896913,0.2574384135041498,0.2621016545753238,0.2670444150032129,0.2722666947878178,0.2777684939291381,0.2835498124271738,0.2896106502819248,0.2959510074933915,0.3025708840615736],[0.30632005279266217,0.29955127789937935,0.29306202236281187,0.28685228618296027,0.2809220693598238,0.2752713718934027,0.2699001937836972,0.26480853503070695,0.2599963956344326,0.2554637755948734,0.2512106749120296,0.2472370935859013,0.24354303161648858,0.24012848900379125,0.23699346574780933,0.23413796184854288,0.2315619773059918,0.22926551212015625,0.22724856629103626,0.22551113981863163,0.22405323270294236,0.2228748449439687,0.2219759765417104,0.22135662749616755,0.2210167978073402,0.2209564874752283,0.22117569649983182,0.22167442488115077,0.2224526726191852,0.22351043971393514,0.22484772616540047,0.22646453197358132,0.22836085713847756,0.2305367016600892,0.23299206553841637,0.23572694877345904,0.23874135136521715,0.24203527331369046,0.2456087146188795,0.24946167528078395,0.2535941552994038,0.25800615467473925,0.2626976734067901,0.2676687114955561,0.27291926894103785,0.2784493457432351,0.28425894190214773,0.2903480574177755,0.2967166922901191,0.3033648465191781],[0.3058728442465655,0.29913132868911596,0.2926693324883818,0.28648685564436355,0.2805838981570603,0.2749604600264726,0.2696165412526003,0.2645521418354434,0.2597672617750024,0.25526190107127644,0.251036059724266,0.24708973773397094,0.2434229351003915,0.24003565182352754,0.2369278879033789,0.23409964333994576,0.23155091813322803,0.22928171228322575,0.2272920257899391,0.22558185865336772,0.2241512108735118,0.2230000824503714,0.22212847338394648,0.22153638367423692,0.22122381332124283,0.22119076232496426,0.22143723068540108,0.22196321840255337,0.22276872547642104,0.2238537519070043,0.22521829769430293,0.2268623628383171,0.22878594733904667,0.2309890511964916,0.23347167441065206,0.23623381698152804,0.23927547890911938,0.24259666019342613,0.2461973608344484,0.2500775808321862,0.25423732018663936,0.25867657889780804,0.2633953569656922,0.26839365439029156,0.2736714711716066,0.2792288073096371,0.28506566280438306,0.29118203765584416,0.29757793186402104,0.30425334542891347],[0.3055705128995391,0.29885522988040797,0.29241946621799225,0.28626322191229236,0.28038649696330753,0.27478929137103825,0.26947160513548435,0.26443343825664595,0.25967479073452326,0.25519566256911574,0.25099605376042367,0.24707596430844708,0.243435394213186,0.24007434347464038,0.23699281209281026,0.23419080006769544,0.23166830739929614,0.22942533408761226,0.22746188013264396,0.225777945534391,0.22437353029285348,0.22324863440803153,0.2224032578799249,0.2218374007085338,0.22155106289385817,0.22154424443589799,0.22181694533465324,0.22236916559012385,0.22320090520231,0.22431216417121164,0.22570294249682868,0.22737324017916122,0.2293230572182092,0.23155239361397253,0.23406124936645142,0.23684962447564578,0.2399175189415556,0.24326493276418068,0.24689186594352142,0.2507983184795775,0.2549842903723492,0.25944978162183624,0.26419479222803877,0.2692193221909565,0.27452337151059003,0.2801069401869389,0.2859700282200033,0.2921126356097828,0.29853476235627807,0.30523640845948874],[0.30541349443228444,0.29872340912229806,0.2923128431690271,0.286181796572472,0.28033026933263194,0.27475826144950743,0.26946577292309837,0.2644528037534047,0.2597193539404268,0.2552654234841641,0.2510910123846168,0.24719612064178492,0.24358074825566864,0.24024489522626785,0.23718856155358245,0.2344117472376124,0.2319144522783579,0.22969667667581878,0.22775842042999528,0.2260996835408871,0.22472046600849438,0.22362076783281717,0.22280058901385535,0.222259929551609,0.22199878944607812,0.22201716869726273,0.22231506730516268,0.2228924852697782,0.22374942259110908,0.22488587926915546,0.22630185530391733,0.22799735069539462,0.22997236544358743,0.2322268995484955,0.23476095301011918,0.23757452582845828,0.24066761800351288,0.24404022953528273,0.24769236042376822,0.25162401066896917,0.2558351802708856,0.26032586922951745,0.26509607754486475,0.2701458052169273,0.2754750522457055,0.2810838186311992,0.2869721043734083,0.2931399094723326,0.2995872339279727,0.3063140777403282],[0.3054022165300067,0.2987362865112613,0.29234987584923117,0.286242984543917,0.2804156125953179,0.2748677600034343,0.26959942676826604,0.2646106128898133,0.2599013183680763,0.2554715432030545,0.25132128739474807,0.24745055094315715,0.2438593338482818,0.24054763611012187,0.23751545772867738,0.23476279870394828,0.23228965903593463,0.23009603872463646,0.22818193777005386,0.22654735617218658,0.22519229393103474,0.2241167510465984,0.2233207275188775,0.2228042233478721,0.2225672385335821,0.2226097730760076,0.22293182697514852,0.22353340023100488,0.2244144928435767,0.22557510481286405,0.2270152361388668,0.22873488682158494,0.23073405686101864,0.23301274625716759,0.23557095501003222,0.23840868311961225,0.24152593058590777,0.24492269740891848,0.24859898358864493,0.2525547891250867,0.2567901140182441,0.26130495826811684,0.26609932187470503,0.2711732048380085,0.2765266071580276,0.2821595288347622,0.28807196986821226,0.2942639302583774,0.30073541000525844,0.3074864091088548],[0.3055370979763626,0.2988942736870856,0.2925309687545239,0.28644718317867823,0.2806429169595475,0.2751181700971323,0.2698729425914325,0.26490723444244824,0.2602210456501796,0.2558143762146262,0.25168722613578826,0.2478395954136658,0.24427148404825885,0.24098289203956735,0.23797381938759127,0.2352442660923306,0.23279423215378542,0.23062371757195563,0.2287327223468415,0.22712124647844262,0.22578928996675926,0.22473685281179134,0.2239639350135389,0.22347053657200186,0.22325665748718032,0.2233222977590743,0.22366745738768362,0.2242921363730085,0.22519633471504866,0.22638005241380435,0.2278432894692756,0.22958604588146225,0.23160832165036435,0.23391011677598178,0.23649143125831482,0.23935226509736324,0.2424926182931272,0.24591249084560635,0.2496118827548012,0.2535907940207115,0.2578492246433372,0.2623871746226784,0.2672046439587351,0.27230163265150686,0.2776781407009945,0.2833341681071976,0.289269714870116,0.2954847809897496,0.30197936646609896,0.30875347129916386],[0.3058185476994753,0.2991977728806374,0.2928565174185149,0.28679478131310826,0.28101256456441664,0.2755098671724406,0.27028668913717996,0.2653430304586347,0.2606788911368053,0.256294271171691,0.25218917056329215,0.24836358931160882,0.24481752741664095,0.2415509848783886,0.23856396169685165,0.2358564578720301,0.233428473403924,0.23128000829253337,0.22941106253785834,0.22782163613989861,0.22651172909865436,0.22548134141412557,0.22473047308631222,0.22425912411521437,0.2240672945008319,0.22415498424316496,0.22452219334221343,0.22516892179797737,0.2260951696104567,0.22730093677965152,0.22878622330556184,0.23055102918818765,0.23259535442752882,0.23491919902358538,0.23752256297635757,0.24040544628584512,0.2435678489520481,0.24700977097496646,0.2507312123546004,0.25473217309094975,0.2590126531840146,0.263572652633795,0.2684121714402907,0.2735312096035017,0.27892976712342843,0.2846078440000705,0.2905654402334281,0.2968025558235009,0.3033191907702894,0.31011534507379335],[0.30624696377184163,0.29964717591533535,0.29332690741554435,0.2872861582724693,0.28152492848610927,0.27604321805646476,0.2708410269835357,0.265918355267322,0.2612752029078241,0.2569115699050413,0.25282745625897407,0.24902286196962228,0.24549778703698596,0.2422522314610652,0.23928619524185976,0.2365996783793698,0.2341926808735952,0.23206520272453615,0.23021724393219267,0.22864880449656455,0.2273598844176518,0.22635048369545457,0.22562060232997277,0.22517024032120644,0.2249993976691556,0.2251080743738202,0.22549627043520018,0.22616398585329567,0.2271112206281066,0.228337974759633,0.2298442482478748,0.23163004109283217,0.23369535329450494,0.23604018485289308,0.2386645357679967,0.24156840603981589,0.24475179566835048,0.24821470465360032,0.2519571329955659,0.25597908069424674,0.26028054774964315,0.264861534161755,0.2697220399305824,0.2748620650561249,0.28028160953838316,0.28598067337735683,0.291959256573046,0.2982173591254503,0.3047549810345704,0.3115721223004059],[0.3068227323660484,0.30024286316424964,0.2939425133191663,0.28792168283079883,0.28218037169914645,0.27671857992420956,0.27153630750598806,0.2666335544444821,0.2620103207396918,0.2576666063916167,0.253602411400257,0.2498177357656129,0.24631257948768423,0.24308694256647106,0.24014082500197323,0.23747422679419097,0.23508714794312405,0.23297958844877256,0.2311515483111367,0.22960302753021622,0.22833402610601108,0.2273445440385215,0.22663458132774736,0.22620413797368863,0.22605321397634537,0.22618180933571763,0.22658992405180528,0.22727755812460837,0.2282447115541269,0.22949138434036095,0.23101757648331045,0.23282328798297536,0.23490851883935582,0.23727326905245155,0.23991753862226284,0.24284132754878962,0.24604463583203184,0.24952746347198929,0.25328981046866245,0.257331676822051,0.26165306253215503,0.26625396759897463,0.2711343920225096,0.2762943358027597,0.28173379893972555,0.28745278143340697,0.2934512832838037,0.2997293044909156,0.30628684505474335,0.31312390497528647],[0.3075462266683018,0.30098520246483196,0.2947036976180776,0.288701712128039,0.28297924599471563,0.27753629921810763,0.2723728717982151,0.267488963735038,0.26288457502857665,0.2585597056788305,0.2545143556857998,0.2507485250494846,0.2472622137698848,0.24405542184700063,0.24112814928083173,0.23848039607137836,0.23611216221864037,0.23402344772261785,0.23221425258331096,0.23068457680071935,0.22943442037484318,0.2284637833056825,0.2277726655932373,0.22736106723750746,0.22722898823849325,0.22737642859619436,0.22780338831061098,0.228509867381743,0.22949586580959044,0.23076138359415344,0.23230642073543184,0.2341309772334258,0.23623505308813506,0.23861864829955975,0.2412817628677,0.2442243967925557,0.2474465500741269,0.2509482227124133,0.25472941470741534,0.2587901260591329,0.26313035676756585,0.2677501068327143,0.2726493762545782,0.27782816503315727,0.28328647316845207,0.2890243006604623,0.29504164750918804,0.3013385137146289,0.30791489927678556,0.3147708041956576],[0.3084178057518659,0.30187454799336916,0.2956108095915879,0.28962659054652234,0.283921890858172,0.278496710526537,0.2733510495516176,0.26848490793341356,0.2638982856719253,0.2595911827671522,0.2555635992190945,0.25181553502775234,0.24834699019312567,0.2451579647152145,0.24224845859401867,0.23961847182953833,0.23726800442177345,0.23519705637072397,0.2334056276763901,0.23189371833877157,0.23066132835786846,0.22970845773368084,0.22903510646620864,0.2286412745554519,0.22852696200141068,0.22869216880408488,0.22913689496347453,0.22986114047957965,0.23086490535240017,0.23214818958193617,0.23371099316818766,0.23555331611115457,0.23767515841083697,0.2400765200672347,0.24275740108034796,0.2457178014501768,0.24895772117672096,0.25247716025998046,0.2562761186999556,0.26035459649664616,0.2647125936500522,0.2693501101601737,0.27426714602701063,0.2794637012505628,0.28493977583083063,0.290695369767814,0.2967304830615128,0.3030451157119266,0.30963926771905637,0.3165129390829015],[0.30943781341257853,0.30291123910133166,0.29666418414680035,0.29069664854898475,0.2850086323078843,0.2796001354234993,0.2744711578958298,0.2696216997248757,0.2650517609106373,0.26076134145311414,0.2567504413523064,0.25301906060821416,0.2495671992208374,0.24639485719017615,0.24350203451623026,0.24088873119899987,0.23855494723848486,0.23650068263468535,0.23472593738760145,0.23323071149723282,0.2320150049635796,0.23107881778664194,0.23042214996641974,0.23004500150291288,0.22994737239612165,0.23012926264604572,0.23059067225268534,0.2313316012160403,0.2323520495361108,0.23365201721289675,0.23523150424639813,0.23709051063661504,0.2392290363835473,0.241647081487195,0.24434464594755823,0.24732172976463693,0.25057833293843096,0.25411445546894046,0.2579300973561655,0.262025258600106,0.266399939200762,0.27105413915813337,0.2759878584722203,0.2812010971430223,0.2866938551705401,0.29246613255477333,0.298517929295722,0.30484924539338587,0.31146008084776555,0.3183504356588606],[0.31060657696869953,0.304095599115871,0.2978641406197579,0.2919122014803607,0.2862397816976785,0.2808468812717118,0.27573350020246057,0.2708996384899247,0.26634529613410474,0.26207047313499987,0.25807516949261045,0.2543593852069365,0.25092312027797803,0.2477663747057351,0.24488914849020754,0.24229144163139538,0.23997325412929868,0.23793458598391748,0.23617543719525183,0.2346958077633015,0.23349569768806663,0.23257510696954725,0.23193403560774337,0.23157248360265484,0.23149045095428183,0.2316879376626243,0.2321649437276821,0.23292146914945544,0.2339575139279442,0.23527307806314848,0.23686816155506818,0.23874276440370337,0.240896886609054,0.24333052817111991,0.24604368908990143,0.2490363693653984,0.2523085689976109,0.2558602879865386,0.25969152633218195,0.26380228403454076,0.268192561093615,0.2728623575094048,0.27781167328190987,0.28304050841113026,0.2885488628970664,0.29433673673971794,0.300404129939085,0.30675104249516705,0.313377474407965,0.3202834256774783],[0.3119244060274164,0.3054279341067902,0.2992109815428794,0.2932735483356846,0.2876156344852047,0.28223723999144035,0.2771383648543915,0.272319009074058,0.26777917265044027,0.2635188555835377,0.25953805787335066,0.255836779519879,0.25241502052312287,0.24927278088308222,0.24641006059975698,0.24382685967314718,0.24152317810325286,0.23949901589007397,0.23775437303361063,0.23628924953386266,0.2351036453908301,0.23419756060451305,0.23357099517491145,0.2332239491020253,0.2331564223858546,0.23336841502639938,0.2338599270236596,0.23463095837763517,0.2356815090883263,0.23701157915573284,0.23862116857985494,0.24051027736069244,0.2426789054982454,0.2451270529925136,0.24785471984349755,0.25086190605119685,0.25414861161561164,0.2577148365367416,0.26156058081458733,0.2656858444491485,0.27009062744042506,0.27477492978841717,0.27973875149312466,0.2849820925545474,0.29050495297268575,0.2963073327475396,0.3023892318791089,0.3087506503673934,0.31539158821239366,0.3223120454141094],[0.3133915912204027,0.3069085316223849,0.3007049913810826,0.29478097049649615,0.2891364689686247,0.2837714867974688,0.27868602398302833,0.27388008052530327,0.269353656424294,0.26510675167999986,0.2611393662924212,0.25745150026155794,0.25404315358741025,0.2509143262699781,0.24806501830926123,0.2454952297052599,0.243204960457974,0.2411942105674035,0.23946298003354863,0.23801126885640903,0.23683907703598492,0.23594640457227636,0.23533325146528314,0.2349996177150054,0.2349455033214431,0.23517090828459633,0.23567583260446498,0.23646027628104904,0.23752423931434857,0.2388677217043636,0.24049072345109404,0.24239324455453995,0.24457528501470133,0.247036844831578,0.24977792400517032,0.252798522535478,0.25609864042250124,0.2596782776662397,0.26353743426669385,0.2676761102238634,0.2720943055377484,0.27679202020834887,0.2817692542356648,0.28702600761969593,0.2925622803604428,0.29837807245790515,0.30447338391208284,0.31084821472297575,0.3175025648905844,0.3244364344149086],[0.31500840291089,0.30853765939661465,0.30234643523905474,0.2964347304382107,0.2908025449940817,0.2854498789066683,0.2803767321759702,0.2755831048019876,0.27106899678472074,0.26683440812416903,0.2628793388203328,0.259203788873212,0.2558077582828067,0.25269124704911705,0.24985425517214263,0.24729678265188373,0.24501882948834022,0.2430203956815122,0.24130148123139974,0.23986208613800264,0.23870221040132095,0.23782185402135472,0.23722101699810394,0.23689969933156868,0.23685790102174886,0.2370956220686445,0.2376128624722556,0.23840962223258208,0.23948590134962405,0.24084169982338152,0.24247701765385438,0.24439185484104275,0.24658621138494657,0.24906008728556572,0.2518134825429004,0.2548463971569506,0.25815883112771626,0.26175078445519717,0.2656222571393937,0.26977324918030565,0.27420376057793316,0.27891379133227606,0.2839033414433344,0.289172410911108,0.2947209997355973,0.300549107916802,0.3066567354547222,0.3130438823493574,0.3197105486007087,0.3266567342087752],[0.3167750898747767,0.3103155640301286,0.30413555754219584,0.298235070410979,0.2926141026364773,0.2872726542186909,0.2822107251576201,0.2774283154532647,0.27292542510562506,0.26870205411470055,0.2647582024804915,0.26109387020299785,0.2577090572822199,0.2546037637181573,0.2517779895108101,0.2492317346601784,0.24696499916626208,0.24497778302906123,0.243270086248576,0.24184190882480608,0.24069325075775158,0.23982411204741255,0.23923449269378902,0.23892439269688093,0.23889381205668825,0.23914275077321107,0.23967120884644932,0.2404791862764031,0.2415666830630722,0.24293369920645688,0.24458023470655693,0.24650628956337253,0.2487118637769035,0.2511969573471498,0.25396157027411176,0.2570057025577892,0.260329354198182,0.2639325251952901,0.26781521554911375,0.27197742525965296,0.2764191543269076,0.28114040275087776,0.2861411705315633,0.291421457668964,0.29698126416308057,0.3028205900139125,0.30893943522145983,0.31533779978572235,0.3220156837067007,0.3289730869843945],[0.31869187795835313,0.31224246964772545,0.30607258069381327,0.3001822110966169,0.2945713608561356,0.2892400299723698,0.2841882184453195,0.27941592627498457,0.2749231534613654,0.2707099000044614,0.26677616590427283,0.2631219511607998,0.2597472557740422,0.2566520797440001,0.25383642307067344,0.2513002857540622,0.24904366779416642,0.24706656919098605,0.24536898994452136,0.2439509300547719,0.2428123895217379,0.24195336834541942,0.24137386652581636,0.2410738840629287,0.24105342095675658,0.24131247720729992,0.2418510528145587,0.24266914777853288,0.24376676209922257,0.24514389577662768,0.24680054881074823,0.24873672120158433,0.25095241294913584,0.25344762405340265,0.256222354514385,0.25927660433208294,0.26261037350649624,0.2662236620376249,0.2701164699254691,0.2742887971700288,0.278740643771304,0.2834720097292946,0.2884828950440006,0.29377329971542193,0.29934322374355893,0.3051926671284113,0.31132162986997924,0.3177301119682622,0.3244181134232611,0.33138563423497525],[0.3207589687152737,0.31431857653487977,0.3081577037112012,0.3022763502442386,0.29667451613399093,0.29135220138045886,0.28630940598364224,0.281546129943541,0.27706237326015554,0.2728581359334852,0.2689334179635304,0.265288219350291,0.2619225400937671,0.25883638019395877,0.25602973965086573,0.25350261846448824,0.2512550166348261,0.24928693416187941,0.24759837104564839,0.24618932728613263,0.24505980288333234,0.24420979783724756,0.24363931214787815,0.24334834581522424,0.2433368988392858,0.24360497122006283,0.2441525629575553,0.2449796740517631,0.24608630450268648,0.2474724543103253,0.2491381234746796,0.25108331199574935,0.2533080198735345,0.255812247108035,0.2585959936992512,0.26165925964718273,0.2650020449518298,0.26862434961319204,0.27252617363126996,0.27670751700606333,0.28116837973757214,0.2859087618257965,0.29092866327073624,0.2962280840723912,0.30180702423076183,0.307665483745848,0.3138034626176495,0.3202209608461662,0.3269179784313987,0.3338945153733467],[0.3229765380254575,0.31654405975601435,0.3103911008432865,0.3045176612872746,0.2989237410879778,0.2936093402453964,0.28857445875953047,0.28381909663038,0.27934325385794534,0.2751469304422257,0.27123012638322164,0.26759284168093295,0.2642350763353598,0.26115683034650217,0.25835810371435997,0.25583889643893315,0.25359920852022183,0.2516390399582259,0.24995839075294554,0.24855726090438054,0.24743565041253096,0.24659355927739696,0.2460309874989783,0.24574793507727516,0.2457444020122874,0.2460203883040152,0.24657589395245835,0.24741091895761702,0.2485254633194911,0.24991952703808068,0.2515931101133857,0.2535462125454062,0.2557788343341421,0.2582909754795934,0.26108263598176024,0.2641538158406425,0.2675045150562403,0.2711347336285533,0.275044471557582,0.27923372884332615,0.2837025054857856,0.2884508014849608,0.29347861684085125,0.29878595155345694,0.3043728056227783,0.3102391790488152,0.3163850718315675,0.3228104839710349,0.3295154154672182,0.33649986632011686],[0.32534473469863967,0.31891906775724455,0.31277292017256486,0.30690629194460095,0.30131918307335226,0.29601159355881895,0.2909835234010011,0.2862349725998988,0.2817659411555121,0.27757642906784064,0.27366643633688453,0.270035962962644,0.266685008945119,0.2636135742843095,0.26082165898021525,0.2583092630328366,0.25607638644217323,0.25412302920822544,0.2524491913309932,0.2510548728104763,0.2499400736466748,0.24910479383958886,0.24854903338921835,0.24827279229556326,0.2482760705586237,0.24855886817839945,0.24912118515489073,0.24996302148809746,0.2510843771780197,0.2524852522246573,0.2541656466280104,0.256125560388079,0.258364993504863,0.26088394597836234,0.26368241780857726,0.2667604089955077,0.27011791953915354,0.2737549494395146,0.2776714986965914,0.28186756731038354,0.2863431552808912,0.2910982626081144,0.296132889292053,0.3014470353327067,0.3070407007300762,0.31291388548416116,0.31906658959496165,0.32549881306247713,0.3322105558867085,0.33920181806765526],[0.32786367906533137,0.3214437209563513,0.3153032822040868,0.30944236280853815,0.3038609627697045,0.29855908208758636,0.2935367207621836,0.2887938787934964,0.2843305561815249,0.2801467529262685,0.2762424690277276,0.27261770448590217,0.26927245930079236,0.2662067334723979,0.2634205270007188,0.2609138398857553,0.25868667212750707,0.2567390237259744,0.25507089468115735,0.25368228499305556,0.2525731946616692,0.2517436236869984,0.251193572069043,0.250923039807803,0.25093202690327854,0.2512205333554695,0.2517885591643759,0.2526361043299978,0.25376316885233513,0.25516975273138787,0.2568558559671561,0.2588214785596399,0.261066620508839,0.2635912818147535,0.26639546247738355,0.26947916249672904,0.2728423818727901,0.2764851206055663,0.28040737869505816,0.2846091561412655,0.28909045294418834,0.29385126910382664,0.29889160462018033,0.3042114594932493,0.3098108337230339,0.31568972730953393,0.3218481402527495,0.3282860725526801,0.3350035242093266,0.3420004952226885],[0.33053346155798835,0.3241181103227839,0.317982278444295,0.31212596592252195,0.30654917275746396,0.30125189894912147,0.29623414449749447,0.2914959094025828,0.2870371936643869,0.28285799728290617,0.278958320258141,0.27533816259009114,0.2719975242787568,0.2689364053241381,0.2661548057262347,0.2636527254850467,0.2614301646005742,0.2594871230728171,0.25782360090177564,0.25643959808744954,0.2553351146298388,0.2545101505289436,0.2539647057847638,0.2536987803972995,0.25371237436655064,0.25400548769251735,0.25457812037519933,0.25543027241459676,0.25656194381070974,0.2579731345635382,0.259663844673082,0.2616340741393414,0.26388382296231616,0.26641309114200634,0.26922187867841196,0.27231018557153314,0.27567801182136975,0.2793253574279216,0.2832522223911892,0.2874586067111721,0.29194451038787056,0.2967099334212845,0.3017548758114138,0.30707933755825834,0.31268331866181864,0.3185668191220943,0.3247298389390855,0.33117237811279177,0.33789443664321395,0.3448960145303515],[0.3333541412852072,0.3269422959505128,0.3208099699725337,0.3149571633512705,0.30938387608672235,0.30409010817888976,0.2990758596277725,0.2943411304333708,0.28988592059568474,0.2857102301147139,0.2818140589904585,0.2781974072229186,0.2748602748120942,0.2718026617579853,0.2690245680605918,0.26652599371991365,0.264306938735951,0.2623674031087038,0.2607073868381722,0.259326889924356,0.2582259123672551,0.2574044541668698,0.2568625153231999,0.25660009583624543,0.25661719570600644,0.25691381493248294,0.2574899535156749,0.2583456114555822,0.259480788752205,0.2608954854055433,0.26258970141559707,0.26456343678236627,0.26681669150585097,0.26934946558605094,0.2721617590229665,0.2752535718165976,0.27862490396694406,0.28227575547400574,0.2862061263377832,0.290416016558276,0.29490542613548426,0.29967435506940804,0.30472280336004726,0.3100507710074017,0.31565825801147185,0.3215452643722574,0.3277117900897585,0.3341578351639745,0.34088339959490666,0.347888483382554]],\"type\":\"contour\"},{\"mode\":\"lines+markers\",\"name\":\"theta Values\",\"x\":[1.516253726023518,1.516253726023518,1.516253726023518,1.516253726023518,1.516253726023518,1.516253726023518,1.516253726023518,1.516253726023518,1.516253726023518,1.516253726023518,1.516253726023518,1.516253726023518,1.516253726023518,1.516253726023518,1.516253726023518,1.516253726023518,1.516253726023518,1.516253726023518,1.516253726023518,1.516253726023518],\"y\":[2.9944844130428483,2.9944844130428483,2.9944844130428483,2.9944844130428483,2.9944844130428483,2.9944844130428483,2.9944844130428483,2.9944844130428483,2.9944844130428483,2.9944844130428483,2.9944844130428483,2.9944844130428483,2.9944844130428483,2.9944844130428483,2.9944844130428483,2.9944844130428483,2.9944844130428483,2.9944844130428483,2.9944844130428483,2.9944844130428483],\"type\":\"scatter\"}],                        {\"template\":{\"data\":{\"barpolar\":[{\"marker\":{\"line\":{\"color\":\"#E5ECF6\",\"width\":0.5},\"pattern\":{\"fillmode\":\"overlay\",\"size\":10,\"solidity\":0.2}},\"type\":\"barpolar\"}],\"bar\":[{\"error_x\":{\"color\":\"#2a3f5f\"},\"error_y\":{\"color\":\"#2a3f5f\"},\"marker\":{\"line\":{\"color\":\"#E5ECF6\",\"width\":0.5},\"pattern\":{\"fillmode\":\"overlay\",\"size\":10,\"solidity\":0.2}},\"type\":\"bar\"}],\"carpet\":[{\"aaxis\":{\"endlinecolor\":\"#2a3f5f\",\"gridcolor\":\"white\",\"linecolor\":\"white\",\"minorgridcolor\":\"white\",\"startlinecolor\":\"#2a3f5f\"},\"baxis\":{\"endlinecolor\":\"#2a3f5f\",\"gridcolor\":\"white\",\"linecolor\":\"white\",\"minorgridcolor\":\"white\",\"startlinecolor\":\"#2a3f5f\"},\"type\":\"carpet\"}],\"choropleth\":[{\"colorbar\":{\"outlinewidth\":0,\"ticks\":\"\"},\"type\":\"choropleth\"}],\"contourcarpet\":[{\"colorbar\":{\"outlinewidth\":0,\"ticks\":\"\"},\"type\":\"contourcarpet\"}],\"contour\":[{\"colorbar\":{\"outlinewidth\":0,\"ticks\":\"\"},\"colorscale\":[[0.0,\"#0d0887\"],[0.1111111111111111,\"#46039f\"],[0.2222222222222222,\"#7201a8\"],[0.3333333333333333,\"#9c179e\"],[0.4444444444444444,\"#bd3786\"],[0.5555555555555556,\"#d8576b\"],[0.6666666666666666,\"#ed7953\"],[0.7777777777777778,\"#fb9f3a\"],[0.8888888888888888,\"#fdca26\"],[1.0,\"#f0f921\"]],\"type\":\"contour\"}],\"heatmapgl\":[{\"colorbar\":{\"outlinewidth\":0,\"ticks\":\"\"},\"colorscale\":[[0.0,\"#0d0887\"],[0.1111111111111111,\"#46039f\"],[0.2222222222222222,\"#7201a8\"],[0.3333333333333333,\"#9c179e\"],[0.4444444444444444,\"#bd3786\"],[0.5555555555555556,\"#d8576b\"],[0.6666666666666666,\"#ed7953\"],[0.7777777777777778,\"#fb9f3a\"],[0.8888888888888888,\"#fdca26\"],[1.0,\"#f0f921\"]],\"type\":\"heatmapgl\"}],\"heatmap\":[{\"colorbar\":{\"outlinewidth\":0,\"ticks\":\"\"},\"colorscale\":[[0.0,\"#0d0887\"],[0.1111111111111111,\"#46039f\"],[0.2222222222222222,\"#7201a8\"],[0.3333333333333333,\"#9c179e\"],[0.4444444444444444,\"#bd3786\"],[0.5555555555555556,\"#d8576b\"],[0.6666666666666666,\"#ed7953\"],[0.7777777777777778,\"#fb9f3a\"],[0.8888888888888888,\"#fdca26\"],[1.0,\"#f0f921\"]],\"type\":\"heatmap\"}],\"histogram2dcontour\":[{\"colorbar\":{\"outlinewidth\":0,\"ticks\":\"\"},\"colorscale\":[[0.0,\"#0d0887\"],[0.1111111111111111,\"#46039f\"],[0.2222222222222222,\"#7201a8\"],[0.3333333333333333,\"#9c179e\"],[0.4444444444444444,\"#bd3786\"],[0.5555555555555556,\"#d8576b\"],[0.6666666666666666,\"#ed7953\"],[0.7777777777777778,\"#fb9f3a\"],[0.8888888888888888,\"#fdca26\"],[1.0,\"#f0f921\"]],\"type\":\"histogram2dcontour\"}],\"histogram2d\":[{\"colorbar\":{\"outlinewidth\":0,\"ticks\":\"\"},\"colorscale\":[[0.0,\"#0d0887\"],[0.1111111111111111,\"#46039f\"],[0.2222222222222222,\"#7201a8\"],[0.3333333333333333,\"#9c179e\"],[0.4444444444444444,\"#bd3786\"],[0.5555555555555556,\"#d8576b\"],[0.6666666666666666,\"#ed7953\"],[0.7777777777777778,\"#fb9f3a\"],[0.8888888888888888,\"#fdca26\"],[1.0,\"#f0f921\"]],\"type\":\"histogram2d\"}],\"histogram\":[{\"marker\":{\"pattern\":{\"fillmode\":\"overlay\",\"size\":10,\"solidity\":0.2}},\"type\":\"histogram\"}],\"mesh3d\":[{\"colorbar\":{\"outlinewidth\":0,\"ticks\":\"\"},\"type\":\"mesh3d\"}],\"parcoords\":[{\"line\":{\"colorbar\":{\"outlinewidth\":0,\"ticks\":\"\"}},\"type\":\"parcoords\"}],\"pie\":[{\"automargin\":true,\"type\":\"pie\"}],\"scatter3d\":[{\"line\":{\"colorbar\":{\"outlinewidth\":0,\"ticks\":\"\"}},\"marker\":{\"colorbar\":{\"outlinewidth\":0,\"ticks\":\"\"}},\"type\":\"scatter3d\"}],\"scattercarpet\":[{\"marker\":{\"colorbar\":{\"outlinewidth\":0,\"ticks\":\"\"}},\"type\":\"scattercarpet\"}],\"scattergeo\":[{\"marker\":{\"colorbar\":{\"outlinewidth\":0,\"ticks\":\"\"}},\"type\":\"scattergeo\"}],\"scattergl\":[{\"marker\":{\"colorbar\":{\"outlinewidth\":0,\"ticks\":\"\"}},\"type\":\"scattergl\"}],\"scattermapbox\":[{\"marker\":{\"colorbar\":{\"outlinewidth\":0,\"ticks\":\"\"}},\"type\":\"scattermapbox\"}],\"scatterpolargl\":[{\"marker\":{\"colorbar\":{\"outlinewidth\":0,\"ticks\":\"\"}},\"type\":\"scatterpolargl\"}],\"scatterpolar\":[{\"marker\":{\"colorbar\":{\"outlinewidth\":0,\"ticks\":\"\"}},\"type\":\"scatterpolar\"}],\"scatter\":[{\"fillpattern\":{\"fillmode\":\"overlay\",\"size\":10,\"solidity\":0.2},\"type\":\"scatter\"}],\"scatterternary\":[{\"marker\":{\"colorbar\":{\"outlinewidth\":0,\"ticks\":\"\"}},\"type\":\"scatterternary\"}],\"surface\":[{\"colorbar\":{\"outlinewidth\":0,\"ticks\":\"\"},\"colorscale\":[[0.0,\"#0d0887\"],[0.1111111111111111,\"#46039f\"],[0.2222222222222222,\"#7201a8\"],[0.3333333333333333,\"#9c179e\"],[0.4444444444444444,\"#bd3786\"],[0.5555555555555556,\"#d8576b\"],[0.6666666666666666,\"#ed7953\"],[0.7777777777777778,\"#fb9f3a\"],[0.8888888888888888,\"#fdca26\"],[1.0,\"#f0f921\"]],\"type\":\"surface\"}],\"table\":[{\"cells\":{\"fill\":{\"color\":\"#EBF0F8\"},\"line\":{\"color\":\"white\"}},\"header\":{\"fill\":{\"color\":\"#C8D4E3\"},\"line\":{\"color\":\"white\"}},\"type\":\"table\"}]},\"layout\":{\"annotationdefaults\":{\"arrowcolor\":\"#2a3f5f\",\"arrowhead\":0,\"arrowwidth\":1},\"autotypenumbers\":\"strict\",\"coloraxis\":{\"colorbar\":{\"outlinewidth\":0,\"ticks\":\"\"}},\"colorscale\":{\"diverging\":[[0,\"#8e0152\"],[0.1,\"#c51b7d\"],[0.2,\"#de77ae\"],[0.3,\"#f1b6da\"],[0.4,\"#fde0ef\"],[0.5,\"#f7f7f7\"],[0.6,\"#e6f5d0\"],[0.7,\"#b8e186\"],[0.8,\"#7fbc41\"],[0.9,\"#4d9221\"],[1,\"#276419\"]],\"sequential\":[[0.0,\"#0d0887\"],[0.1111111111111111,\"#46039f\"],[0.2222222222222222,\"#7201a8\"],[0.3333333333333333,\"#9c179e\"],[0.4444444444444444,\"#bd3786\"],[0.5555555555555556,\"#d8576b\"],[0.6666666666666666,\"#ed7953\"],[0.7777777777777778,\"#fb9f3a\"],[0.8888888888888888,\"#fdca26\"],[1.0,\"#f0f921\"]],\"sequentialminus\":[[0.0,\"#0d0887\"],[0.1111111111111111,\"#46039f\"],[0.2222222222222222,\"#7201a8\"],[0.3333333333333333,\"#9c179e\"],[0.4444444444444444,\"#bd3786\"],[0.5555555555555556,\"#d8576b\"],[0.6666666666666666,\"#ed7953\"],[0.7777777777777778,\"#fb9f3a\"],[0.8888888888888888,\"#fdca26\"],[1.0,\"#f0f921\"]]},\"colorway\":[\"#636efa\",\"#EF553B\",\"#00cc96\",\"#ab63fa\",\"#FFA15A\",\"#19d3f3\",\"#FF6692\",\"#B6E880\",\"#FF97FF\",\"#FECB52\"],\"font\":{\"color\":\"#2a3f5f\"},\"geo\":{\"bgcolor\":\"white\",\"lakecolor\":\"white\",\"landcolor\":\"#E5ECF6\",\"showlakes\":true,\"showland\":true,\"subunitcolor\":\"white\"},\"hoverlabel\":{\"align\":\"left\"},\"hovermode\":\"closest\",\"mapbox\":{\"style\":\"light\"},\"paper_bgcolor\":\"white\",\"plot_bgcolor\":\"#E5ECF6\",\"polar\":{\"angularaxis\":{\"gridcolor\":\"white\",\"linecolor\":\"white\",\"ticks\":\"\"},\"bgcolor\":\"#E5ECF6\",\"radialaxis\":{\"gridcolor\":\"white\",\"linecolor\":\"white\",\"ticks\":\"\"}},\"scene\":{\"xaxis\":{\"backgroundcolor\":\"#E5ECF6\",\"gridcolor\":\"white\",\"gridwidth\":2,\"linecolor\":\"white\",\"showbackground\":true,\"ticks\":\"\",\"zerolinecolor\":\"white\"},\"yaxis\":{\"backgroundcolor\":\"#E5ECF6\",\"gridcolor\":\"white\",\"gridwidth\":2,\"linecolor\":\"white\",\"showbackground\":true,\"ticks\":\"\",\"zerolinecolor\":\"white\"},\"zaxis\":{\"backgroundcolor\":\"#E5ECF6\",\"gridcolor\":\"white\",\"gridwidth\":2,\"linecolor\":\"white\",\"showbackground\":true,\"ticks\":\"\",\"zerolinecolor\":\"white\"}},\"shapedefaults\":{\"line\":{\"color\":\"#2a3f5f\"}},\"ternary\":{\"aaxis\":{\"gridcolor\":\"white\",\"linecolor\":\"white\",\"ticks\":\"\"},\"baxis\":{\"gridcolor\":\"white\",\"linecolor\":\"white\",\"ticks\":\"\"},\"bgcolor\":\"#E5ECF6\",\"caxis\":{\"gridcolor\":\"white\",\"linecolor\":\"white\",\"ticks\":\"\"}},\"title\":{\"x\":0.05},\"xaxis\":{\"automargin\":true,\"gridcolor\":\"white\",\"linecolor\":\"white\",\"ticks\":\"\",\"title\":{\"standoff\":15},\"zerolinecolor\":\"white\",\"zerolinewidth\":2},\"yaxis\":{\"automargin\":true,\"gridcolor\":\"white\",\"linecolor\":\"white\",\"ticks\":\"\",\"title\":{\"standoff\":15},\"zerolinecolor\":\"white\",\"zerolinewidth\":2}}},\"title\":{\"text\":\"Gradient Descent with Static Learning Rate\"}},                        {\"responsive\": true}                    ).then(function(){\n",
       "                            \n",
       "var gd = document.getElementById('333d6600-4c91-4d38-9c08-b3f0df5d60c2');\n",
       "var x = new MutationObserver(function (mutations, observer) {{\n",
       "        var display = window.getComputedStyle(gd).display;\n",
       "        if (!display || display === 'none') {{\n",
       "            console.log([gd, 'removed!']);\n",
       "            Plotly.purge(gd);\n",
       "            observer.disconnect();\n",
       "        }}\n",
       "}});\n",
       "\n",
       "// Listen for the removal of the full notebook cells\n",
       "var notebookContainer = gd.closest('#notebook-container');\n",
       "if (notebookContainer) {{\n",
       "    x.observe(notebookContainer, {childList: true});\n",
       "}}\n",
       "\n",
       "// Listen for the clearing of the current output cell\n",
       "var outputEl = gd.closest('.output');\n",
       "if (outputEl) {{\n",
       "    x.observe(outputEl, {childList: true});\n",
       "}}\n",
       "\n",
       "                        })                };                });            </script>        </div>"
      ]
     },
     "metadata": {},
     "output_type": "display_data"
    }
   ],
   "source": [
    "contour_plot('Gradient Descent with Static Learning Rate', thetas, mean_squared_error, sin_model, df[\"x\"], df[\"y\"])"
   ]
  },
  {
   "cell_type": "markdown",
   "metadata": {},
   "source": [
    "As we can see, gradient descent is able to navigate even this fairly complex loss space and find a nice minimum."
   ]
  },
  {
   "cell_type": "markdown",
   "metadata": {},
   "source": [
    "# Congratulations! You finished the lab!"
   ]
  },
  {
   "cell_type": "markdown",
   "metadata": {
    "deletable": false,
    "editable": false
   },
   "source": [
    "---\n",
    "\n",
    "To double-check your work, the cell below will rerun all of the autograder tests."
   ]
  },
  {
   "cell_type": "code",
   "execution_count": null,
   "metadata": {
    "deletable": false,
    "editable": false
   },
   "outputs": [],
   "source": [
    "grader.check_all()"
   ]
  },
  {
   "cell_type": "markdown",
   "metadata": {
    "deletable": false,
    "editable": false
   },
   "source": [
    "## Submission\n",
    "\n",
    "Make sure you have run all cells in your notebook in order before running the cell below, so that all images/graphs appear in the output. The cell below will generate a zip file for you to submit. **Please save before exporting!**"
   ]
  },
  {
   "cell_type": "code",
   "execution_count": null,
   "metadata": {
    "deletable": false,
    "editable": false
   },
   "outputs": [],
   "source": [
    "# Save your notebook first, then run this cell to export your submission.\n",
    "grader.export(pdf=False)"
   ]
  },
  {
   "cell_type": "markdown",
   "metadata": {},
   "source": [
    " "
   ]
  }
 ],
 "metadata": {
  "celltoolbar": "Create Assignment",
  "kernelspec": {
   "display_name": "Python 3 (ipykernel)",
   "language": "python",
   "name": "python3"
  },
  "language_info": {
   "codemirror_mode": {
    "name": "ipython",
    "version": 3
   },
   "file_extension": ".py",
   "mimetype": "text/x-python",
   "name": "python",
   "nbconvert_exporter": "python",
   "pygments_lexer": "ipython3",
   "version": "3.12.0"
  }
 },
 "nbformat": 4,
 "nbformat_minor": 4
}
