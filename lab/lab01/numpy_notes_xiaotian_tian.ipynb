{
 "cells": [
  {
   "cell_type": "markdown",
   "id": "8d2d0d33-0093-4947-bd61-9e0296f7ce60",
   "metadata": {},
   "source": [
    "# Xiaotian Tian's Notes on Numpy basics\n",
    "\n",
    "Learned from:\n",
    "- https://numpy.org/doc/stable/user/quickstart.html\n",
    "- https://cs231n.github.io/python-numpy-tutorial/#numpy\n",
    "\n",
    "## Arrays\n",
    "\n",
    "A **numpy array** is a grid of values, all of the same type, and is indexed by a tuple of nonnegative integers. The number of dimensions is the rank of the array; the shape of an array is a tuple of integers giving the size of the array along each dimension.\n",
    "\n",
    "### Array Basics"
   ]
  },
  {
   "cell_type": "code",
   "execution_count": 24,
   "id": "a7276fe2-aa59-488e-8b03-c42a34a87ae6",
   "metadata": {},
   "outputs": [
    {
     "data": {
      "text/plain": [
       "array([[1, 2, 3],\n",
       "       [4, 5, 6],\n",
       "       [1, 2, 3]])"
      ]
     },
     "execution_count": 24,
     "metadata": {},
     "output_type": "execute_result"
    }
   ],
   "source": [
    "import numpy as np\n",
    "\n",
    "# initialise\n",
    "a = np.array([[1, 2, 3],\n",
    "            [4, 5, 6],\n",
    "            [1, 2, 3]])\n",
    "a"
   ]
  },
  {
   "cell_type": "code",
   "execution_count": 25,
   "id": "5a297502-0af9-42a4-af1d-22caf8f9124a",
   "metadata": {},
   "outputs": [
    {
     "data": {
      "text/plain": [
       "(3, 3)"
      ]
     },
     "execution_count": 25,
     "metadata": {},
     "output_type": "execute_result"
    }
   ],
   "source": [
    "# shape indicates the size of the array in each dimension\n",
    "a.shape"
   ]
  },
  {
   "cell_type": "code",
   "execution_count": 26,
   "id": "d3275eca-17f0-4988-afdb-383d9fe0d2f9",
   "metadata": {},
   "outputs": [
    {
     "data": {
      "text/plain": [
       "1"
      ]
     },
     "execution_count": 26,
     "metadata": {},
     "output_type": "execute_result"
    }
   ],
   "source": [
    "# we can index into the array\n",
    "a[0]\n",
    "a[0][0]"
   ]
  },
  {
   "cell_type": "code",
   "execution_count": 27,
   "id": "6c5134e5-d1de-40fb-ba92-359f6e710ac6",
   "metadata": {},
   "outputs": [
    {
     "data": {
      "text/plain": [
       "2"
      ]
     },
     "execution_count": 27,
     "metadata": {},
     "output_type": "execute_result"
    }
   ],
   "source": [
    "# ndim if the rank\n",
    "a.ndim"
   ]
  },
  {
   "cell_type": "code",
   "execution_count": 28,
   "id": "0e470875-fde3-435c-bc19-a8e62465ea09",
   "metadata": {},
   "outputs": [
    {
     "data": {
      "text/plain": [
       "numpy.ndarray"
      ]
     },
     "execution_count": 28,
     "metadata": {},
     "output_type": "execute_result"
    }
   ],
   "source": [
    "# type of the array object\n",
    "type(a)"
   ]
  },
  {
   "cell_type": "markdown",
   "id": "87643b84-b3c4-4bf7-92f2-acaced81bf8e",
   "metadata": {},
   "source": [
    "### Array Creation"
   ]
  },
  {
   "cell_type": "code",
   "execution_count": 29,
   "id": "6308866d-ba8e-4f02-88ed-69517af3af14",
   "metadata": {},
   "outputs": [
    {
     "data": {
      "text/plain": [
       "array([[1, 2, 3],\n",
       "       [4, 5, 6],\n",
       "       [1, 2, 3]])"
      ]
     },
     "execution_count": 29,
     "metadata": {},
     "output_type": "execute_result"
    }
   ],
   "source": [
    "# create array from list\n",
    "a = np.array([[1, 2, 3],\n",
    "            [4, 5, 6],\n",
    "            [1, 2, 3]])\n",
    "a"
   ]
  },
  {
   "cell_type": "code",
   "execution_count": 30,
   "id": "3b4ef079-9851-40b6-b628-601f04aa4595",
   "metadata": {},
   "outputs": [
    {
     "data": {
      "text/plain": [
       "array([[0., 0., 0.],\n",
       "       [0., 0., 0.]])"
      ]
     },
     "execution_count": 30,
     "metadata": {},
     "output_type": "execute_result"
    }
   ],
   "source": [
    "# create array of all zeros\n",
    "b = np.zeros((2,3))\n",
    "b"
   ]
  },
  {
   "cell_type": "code",
   "execution_count": 31,
   "id": "6badc78e-ad60-4bbc-a5bf-55016a16c290",
   "metadata": {},
   "outputs": [
    {
     "data": {
      "text/plain": [
       "array([[1., 1., 1., 1.]])"
      ]
     },
     "execution_count": 31,
     "metadata": {},
     "output_type": "execute_result"
    }
   ],
   "source": [
    "# create array of all ones\n",
    "c = np.ones((1,4))\n",
    "c"
   ]
  },
  {
   "cell_type": "code",
   "execution_count": 32,
   "id": "fbb9ec09-fc2a-4a8e-a777-739e65ce90ae",
   "metadata": {},
   "outputs": [
    {
     "data": {
      "text/plain": [
       "array([[0.4, 0.4],\n",
       "       [0.4, 0.4],\n",
       "       [0.4, 0.4]])"
      ]
     },
     "execution_count": 32,
     "metadata": {},
     "output_type": "execute_result"
    }
   ],
   "source": [
    "# create array of a specific constant\n",
    "d = np.full((3,2), 0.4)\n",
    "d"
   ]
  },
  {
   "cell_type": "code",
   "execution_count": 33,
   "id": "8f0106df-525c-4749-b18b-f5d7c5c82066",
   "metadata": {},
   "outputs": [
    {
     "data": {
      "text/plain": [
       "array([[1., 0., 0.],\n",
       "       [0., 1., 0.],\n",
       "       [0., 0., 1.]])"
      ]
     },
     "execution_count": 33,
     "metadata": {},
     "output_type": "execute_result"
    }
   ],
   "source": [
    "# create identity matrix\n",
    "e = np.eye(3)\n",
    "e"
   ]
  },
  {
   "cell_type": "code",
   "execution_count": 34,
   "id": "88c5a46d-e716-4335-99f5-57704292cd8d",
   "metadata": {},
   "outputs": [
    {
     "data": {
      "text/plain": [
       "array([[0.46685919, 0.82923005, 0.60544234],\n",
       "       [0.29074676, 0.93786349, 0.73287407],\n",
       "       [0.32651866, 0.45784459, 0.88733675]])"
      ]
     },
     "execution_count": 34,
     "metadata": {},
     "output_type": "execute_result"
    }
   ],
   "source": [
    "# create random array\n",
    "f = np.random.random((3,3))\n",
    "f"
   ]
  },
  {
   "cell_type": "code",
   "execution_count": null,
   "id": "de753797-fe6d-43c8-bc29-adec2b00494f",
   "metadata": {},
   "outputs": [],
   "source": []
  },
  {
   "cell_type": "code",
   "execution_count": null,
   "id": "985bf0f3-3418-4552-8c1f-7a7a54a06a9b",
   "metadata": {},
   "outputs": [],
   "source": []
  },
  {
   "cell_type": "code",
   "execution_count": null,
   "id": "d39bbafe-d9fa-4c52-9b05-c1ce756dc689",
   "metadata": {},
   "outputs": [],
   "source": []
  }
 ],
 "metadata": {
  "kernelspec": {
   "display_name": "Python 3 (ipykernel)",
   "language": "python",
   "name": "python3"
  },
  "language_info": {
   "codemirror_mode": {
    "name": "ipython",
    "version": 3
   },
   "file_extension": ".py",
   "mimetype": "text/x-python",
   "name": "python",
   "nbconvert_exporter": "python",
   "pygments_lexer": "ipython3",
   "version": "3.12.0"
  }
 },
 "nbformat": 4,
 "nbformat_minor": 5
}
