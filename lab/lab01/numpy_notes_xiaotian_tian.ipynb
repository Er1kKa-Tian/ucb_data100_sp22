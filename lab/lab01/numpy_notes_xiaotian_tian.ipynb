{
 "cells": [
  {
   "cell_type": "markdown",
   "id": "8d2d0d33-0093-4947-bd61-9e0296f7ce60",
   "metadata": {},
   "source": [
    "# Xiaotian Tian's Notes on Numpy basics\n",
    "\n",
    "Learned from:\n",
    "- https://numpy.org/doc/stable/user/quickstart.html\n",
    "- https://cs231n.github.io/python-numpy-tutorial/#numpy\n",
    "\n",
    "## Arrays\n",
    "\n",
    "A **numpy array** is a grid of values, all of the same type, and is indexed by a tuple of nonnegative integers. The number of dimensions is the rank of the array; the shape of an array is a tuple of integers giving the size of the array along each dimension.\n",
    "\n",
    "### Array Basics"
   ]
  },
  {
   "cell_type": "code",
   "execution_count": 46,
   "id": "a7276fe2-aa59-488e-8b03-c42a34a87ae6",
   "metadata": {},
   "outputs": [
    {
     "name": "stdout",
     "output_type": "stream",
     "text": [
      "CPU times: user 62 µs, sys: 4 µs, total: 66 µs\n",
      "Wall time: 72 µs\n"
     ]
    },
    {
     "data": {
      "text/plain": [
       "array([[1, 2, 3],\n",
       "       [4, 5, 6],\n",
       "       [1, 2, 3]])"
      ]
     },
     "execution_count": 46,
     "metadata": {},
     "output_type": "execute_result"
    }
   ],
   "source": [
    "%%time\n",
    "\n",
    "import numpy as np\n",
    "\n",
    "# initialise\n",
    "a = np.array([[1, 2, 3],\n",
    "            [4, 5, 6],\n",
    "            [1, 2, 3]])\n",
    "a"
   ]
  },
  {
   "cell_type": "code",
   "execution_count": 47,
   "id": "5a297502-0af9-42a4-af1d-22caf8f9124a",
   "metadata": {},
   "outputs": [
    {
     "data": {
      "text/plain": [
       "(3, 3)"
      ]
     },
     "execution_count": 47,
     "metadata": {},
     "output_type": "execute_result"
    }
   ],
   "source": [
    "# shape indicates the size of the array in each dimension\n",
    "a.shape"
   ]
  },
  {
   "cell_type": "code",
   "execution_count": 48,
   "id": "d3275eca-17f0-4988-afdb-383d9fe0d2f9",
   "metadata": {},
   "outputs": [
    {
     "data": {
      "text/plain": [
       "1"
      ]
     },
     "execution_count": 48,
     "metadata": {},
     "output_type": "execute_result"
    }
   ],
   "source": [
    "# we can index into the array\n",
    "a[0]\n",
    "a[0][0]"
   ]
  },
  {
   "cell_type": "code",
   "execution_count": 49,
   "id": "6c5134e5-d1de-40fb-ba92-359f6e710ac6",
   "metadata": {},
   "outputs": [
    {
     "data": {
      "text/plain": [
       "2"
      ]
     },
     "execution_count": 49,
     "metadata": {},
     "output_type": "execute_result"
    }
   ],
   "source": [
    "# ndim if the rank\n",
    "a.ndim"
   ]
  },
  {
   "cell_type": "code",
   "execution_count": 50,
   "id": "0e470875-fde3-435c-bc19-a8e62465ea09",
   "metadata": {},
   "outputs": [
    {
     "data": {
      "text/plain": [
       "numpy.ndarray"
      ]
     },
     "execution_count": 50,
     "metadata": {},
     "output_type": "execute_result"
    }
   ],
   "source": [
    "# type of the array object\n",
    "type(a)"
   ]
  },
  {
   "cell_type": "markdown",
   "id": "87643b84-b3c4-4bf7-92f2-acaced81bf8e",
   "metadata": {},
   "source": [
    "### Array Creation"
   ]
  },
  {
   "cell_type": "code",
   "execution_count": 51,
   "id": "6308866d-ba8e-4f02-88ed-69517af3af14",
   "metadata": {},
   "outputs": [
    {
     "data": {
      "text/plain": [
       "array([[1, 2, 3],\n",
       "       [4, 5, 6],\n",
       "       [1, 2, 3]])"
      ]
     },
     "execution_count": 51,
     "metadata": {},
     "output_type": "execute_result"
    }
   ],
   "source": [
    "# create array from list\n",
    "a = np.array([[1, 2, 3],\n",
    "            [4, 5, 6],\n",
    "            [1, 2, 3]])\n",
    "a"
   ]
  },
  {
   "cell_type": "code",
   "execution_count": 52,
   "id": "3b4ef079-9851-40b6-b628-601f04aa4595",
   "metadata": {},
   "outputs": [
    {
     "data": {
      "text/plain": [
       "array([[0., 0., 0.],\n",
       "       [0., 0., 0.]])"
      ]
     },
     "execution_count": 52,
     "metadata": {},
     "output_type": "execute_result"
    }
   ],
   "source": [
    "# create array of all zeros\n",
    "b = np.zeros((2,3))\n",
    "b"
   ]
  },
  {
   "cell_type": "code",
   "execution_count": 53,
   "id": "6badc78e-ad60-4bbc-a5bf-55016a16c290",
   "metadata": {},
   "outputs": [
    {
     "data": {
      "text/plain": [
       "array([[1., 1., 1., 1.]])"
      ]
     },
     "execution_count": 53,
     "metadata": {},
     "output_type": "execute_result"
    }
   ],
   "source": [
    "# create array of all ones\n",
    "c = np.ones((1,4))\n",
    "c"
   ]
  },
  {
   "cell_type": "code",
   "execution_count": 54,
   "id": "fbb9ec09-fc2a-4a8e-a777-739e65ce90ae",
   "metadata": {},
   "outputs": [
    {
     "data": {
      "text/plain": [
       "array([[0.4, 0.4],\n",
       "       [0.4, 0.4],\n",
       "       [0.4, 0.4]])"
      ]
     },
     "execution_count": 54,
     "metadata": {},
     "output_type": "execute_result"
    }
   ],
   "source": [
    "# create array of a specific constant\n",
    "d = np.full((3,2), 0.4)\n",
    "d"
   ]
  },
  {
   "cell_type": "code",
   "execution_count": 55,
   "id": "8f0106df-525c-4749-b18b-f5d7c5c82066",
   "metadata": {},
   "outputs": [
    {
     "data": {
      "text/plain": [
       "array([[1., 0., 0.],\n",
       "       [0., 1., 0.],\n",
       "       [0., 0., 1.]])"
      ]
     },
     "execution_count": 55,
     "metadata": {},
     "output_type": "execute_result"
    }
   ],
   "source": [
    "# create identity matrix\n",
    "e = np.eye(3)\n",
    "e"
   ]
  },
  {
   "cell_type": "code",
   "execution_count": 56,
   "id": "88c5a46d-e716-4335-99f5-57704292cd8d",
   "metadata": {},
   "outputs": [
    {
     "data": {
      "text/plain": [
       "array([[0.85091372, 0.12870585, 0.05119397],\n",
       "       [0.09019419, 0.29338164, 0.63070636],\n",
       "       [0.77954241, 0.81753751, 0.69119168]])"
      ]
     },
     "execution_count": 56,
     "metadata": {},
     "output_type": "execute_result"
    }
   ],
   "source": [
    "# create random array\n",
    "f = np.random.random((3,3))\n",
    "f"
   ]
  },
  {
   "cell_type": "code",
   "execution_count": 57,
   "id": "ef887ecf-1f16-415d-810d-19bca36727d3",
   "metadata": {},
   "outputs": [
    {
     "name": "stdin",
     "output_type": "stream",
     "text": [
      "Once deleted, variables cannot be recovered. Proceed (y/[n])?  y\n"
     ]
    }
   ],
   "source": [
    "%reset"
   ]
  },
  {
   "cell_type": "markdown",
   "id": "7425e3ca-eb6f-48c8-9eb2-d8a6594ea6de",
   "metadata": {},
   "source": [
    "### Array Indexing and Slicing\n",
    "\n",
    "#### Slicing Indexing and Integer Indexing"
   ]
  },
  {
   "cell_type": "code",
   "execution_count": 58,
   "id": "985bf0f3-3418-4552-8c1f-7a7a54a06a9b",
   "metadata": {},
   "outputs": [
    {
     "name": "stdout",
     "output_type": "stream",
     "text": [
      "CPU times: user 49 µs, sys: 39 µs, total: 88 µs\n",
      "Wall time: 94.2 µs\n"
     ]
    }
   ],
   "source": [
    "%%time\n",
    "\n",
    "# reimport numpy\n",
    "import numpy as np\n",
    "\n",
    "# create a sample array\n",
    "a = np.array([\n",
    "    [1, 2, 3, 4],\n",
    "    [5, 6, 7, 8],\n",
    "    [9, 10, 11, 12],\n",
    "])"
   ]
  },
  {
   "cell_type": "code",
   "execution_count": 59,
   "id": "d39bbafe-d9fa-4c52-9b05-c1ce756dc689",
   "metadata": {},
   "outputs": [
    {
     "data": {
      "text/plain": [
       "array([[3, 4],\n",
       "       [7, 8]])"
      ]
     },
     "execution_count": 59,
     "metadata": {},
     "output_type": "execute_result"
    }
   ],
   "source": [
    "# slicing\n",
    "# Use slicing to pull out the subarray consisting of:\n",
    "    # the first 2 rows\n",
    "    # and columns 3 and 4\n",
    "# produces array of shape (2, 2):\n",
    "a[:2, 2:4]"
   ]
  },
  {
   "cell_type": "markdown",
   "id": "9d60a020-5f66-4c1f-a033-16987d3bd31d",
   "metadata": {},
   "source": [
    "Slicing only creates a view of the original array, not a copy, so modifying the slice also modifies the original array:"
   ]
  },
  {
   "cell_type": "code",
   "execution_count": 60,
   "id": "48c2b6ef-3177-4f10-84bf-a49406ba6383",
   "metadata": {},
   "outputs": [
    {
     "data": {
      "text/plain": [
       "array([[114514,      2,      3,      4],\n",
       "       [     5,      6,      7,      8],\n",
       "       [     9,     10,     11,     12]])"
      ]
     },
     "execution_count": 60,
     "metadata": {},
     "output_type": "execute_result"
    }
   ],
   "source": [
    "b = a[:2, :2]\n",
    "b[0, 0] = 114514\n",
    "a"
   ]
  },
  {
   "cell_type": "markdown",
   "id": "efa3e798-041c-460c-8aec-eb42467026b0",
   "metadata": {},
   "source": [
    "While **slicing indexing** creates a view, any use of **integer indexing** will create an array of lower rank:"
   ]
  },
  {
   "cell_type": "code",
   "execution_count": 61,
   "id": "c9817c06-7270-45a4-ace6-798941c903c2",
   "metadata": {},
   "outputs": [
    {
     "name": "stdout",
     "output_type": "stream",
     "text": [
      "[[1 1 2 3]]\n"
     ]
    },
    {
     "data": {
      "text/plain": [
       "(1, 4)"
      ]
     },
     "execution_count": 61,
     "metadata": {},
     "output_type": "execute_result"
    }
   ],
   "source": [
    "c = np.array([\n",
    "    [1, 1, 2, 3],\n",
    "    [1, 234, 21, 2],\n",
    "    [21, 2, 1, 3]\n",
    "])\n",
    "\n",
    "# purely slicing indexing\n",
    "d = c[:1, :]\n",
    "print(d)\n",
    "d.shape"
   ]
  },
  {
   "cell_type": "code",
   "execution_count": 62,
   "id": "49ef79a3-ea8d-435d-ba51-0636df0a09c5",
   "metadata": {},
   "outputs": [
    {
     "name": "stdout",
     "output_type": "stream",
     "text": [
      "[1 1 2 3]\n"
     ]
    },
    {
     "data": {
      "text/plain": [
       "(4,)"
      ]
     },
     "execution_count": 62,
     "metadata": {},
     "output_type": "execute_result"
    }
   ],
   "source": [
    "# any integer indexing yields an array of a lower rank\n",
    "e = c[0, :]\n",
    "print(e)\n",
    "e.shape"
   ]
  },
  {
   "cell_type": "markdown",
   "id": "3486cfcc-f4e8-4b06-89a5-40b82f7f31f5",
   "metadata": {},
   "source": [
    "Same distinction, but apply to columns (note that a single column will be transposed to a row):"
   ]
  },
  {
   "cell_type": "code",
   "execution_count": 63,
   "id": "51889ee3-8713-4e89-81ff-0a9d34ec4bbf",
   "metadata": {},
   "outputs": [
    {
     "name": "stdout",
     "output_type": "stream",
     "text": [
      "[ 1  1 21]\n"
     ]
    },
    {
     "data": {
      "text/plain": [
       "(3,)"
      ]
     },
     "execution_count": 63,
     "metadata": {},
     "output_type": "execute_result"
    }
   ],
   "source": [
    "f = c[:, 0]\n",
    "print(f)\n",
    "f.shape"
   ]
  },
  {
   "cell_type": "code",
   "execution_count": 64,
   "id": "4a65fac2-7fcf-4f33-ade7-9afb20985b68",
   "metadata": {},
   "outputs": [
    {
     "name": "stdout",
     "output_type": "stream",
     "text": [
      "[[ 1]\n",
      " [ 1]\n",
      " [21]]\n"
     ]
    },
    {
     "data": {
      "text/plain": [
       "(3, 1)"
      ]
     },
     "execution_count": 64,
     "metadata": {},
     "output_type": "execute_result"
    }
   ],
   "source": [
    "g = c[:, :1]\n",
    "print(g)\n",
    "g.shape"
   ]
  },
  {
   "cell_type": "markdown",
   "id": "5745d341-d71d-4a28-b5bb-c44da161fbf0",
   "metadata": {},
   "source": [
    "When you index into numpy arrays using *slicing*, the resulting array view will always be a *subarray of the original array*.\n",
    "In contrast, *integer array indexing* allows you to construct arbitrary arrays using the data from another array. Here is an example:"
   ]
  },
  {
   "cell_type": "code",
   "execution_count": 75,
   "id": "8d05efda-f057-4682-aa3e-7eb5d9c5ce61",
   "metadata": {},
   "outputs": [
    {
     "name": "stdout",
     "output_type": "stream",
     "text": [
      "[1 6 7]\n",
      "[1 6 7]\n"
     ]
    }
   ],
   "source": [
    "h = np.array([\n",
    "    [1, 2],\n",
    "    [3, 4],\n",
    "    [5, 6],\n",
    "    [7, 8]\n",
    "])\n",
    "\n",
    "# an example of integer array indexing instead of slicing\n",
    "g = h[[0, 2, 3], [0, 1, 0]]\n",
    "print(g)\n",
    "\n",
    "# this is equivalent to:\n",
    "k = np.array([h[0,0], h[2,1], h[3,0]])\n",
    "print(k)"
   ]
  },
  {
   "cell_type": "markdown",
   "id": "dd40b494-4a05-4c96-91ab-29b042102287",
   "metadata": {},
   "source": [
    "One useful trick with integer array indexing is selecting or mutating one element from *each row* of a matrix."
   ]
  },
  {
   "cell_type": "code",
   "execution_count": 77,
   "id": "7ef5f3f8-5b3a-48bc-96c0-5cec20c9e108",
   "metadata": {},
   "outputs": [
    {
     "data": {
      "text/plain": [
       "array([[11,  2,  3],\n",
       "       [14,  5,  6],\n",
       "       [17,  8,  9],\n",
       "       [10, 21, 12]])"
      ]
     },
     "execution_count": 77,
     "metadata": {},
     "output_type": "execute_result"
    }
   ],
   "source": [
    "l = np.array([\n",
    "    [1, 2, 3],\n",
    "    [4, 5, 6],\n",
    "    [7, 8, 9],\n",
    "    [10, 11, 12]\n",
    "])\n",
    "\n",
    "# indices array\n",
    "m = np.array([0, 0, 0, 1])\n",
    "\n",
    "# mutate the original array\n",
    "# Mutate one element from each row of a using the indices in m:\n",
    "l[np.arange(4), m] += 10  # np.arange(4) yields array([0, 1, 2, 3])\n",
    "l"
   ]
  },
  {
   "cell_type": "code",
   "execution_count": 78,
   "id": "9682fe2a-cc19-4046-abb5-9b86bfc450dd",
   "metadata": {},
   "outputs": [
    {
     "name": "stdin",
     "output_type": "stream",
     "text": [
      "Once deleted, variables cannot be recovered. Proceed (y/[n])?  y\n"
     ]
    }
   ],
   "source": [
    "%reset"
   ]
  },
  {
   "cell_type": "markdown",
   "id": "97c86785-0638-46dd-a42a-b8cdc9cee878",
   "metadata": {},
   "source": [
    "#### Boolean Indexing\n",
    "\n",
    "We can use **boolean indexing** to convert an array to an array consists of boolean values, or filtering out all the element in an array that satisfies a boolean expression."
   ]
  },
  {
   "cell_type": "code",
   "execution_count": 81,
   "id": "88175984-efcd-433e-9220-ef320d3006be",
   "metadata": {},
   "outputs": [
    {
     "data": {
      "text/plain": [
       "array([[False, False],\n",
       "       [ True,  True],\n",
       "       [ True,  True]])"
      ]
     },
     "execution_count": 81,
     "metadata": {},
     "output_type": "execute_result"
    }
   ],
   "source": [
    "import numpy as np\n",
    "\n",
    "a = np.array([\n",
    "    [1, 2],\n",
    "    [3, 4],\n",
    "    [5, 6]\n",
    "])\n",
    "\n",
    "# array converted to boolean array\n",
    "bool_idx = (a > 2)\n",
    "\n",
    "bool_idx"
   ]
  },
  {
   "cell_type": "code",
   "execution_count": 82,
   "id": "bc057903-9734-46e8-a79d-6ee26f5dda6a",
   "metadata": {},
   "outputs": [
    {
     "name": "stdout",
     "output_type": "stream",
     "text": [
      "[3 4 5 6]\n"
     ]
    }
   ],
   "source": [
    "# create a rank 1 array \n",
    "# which consists of all of the elements\n",
    "# that satisfies a boolean expression:\n",
    "print(a[a > 2])"
   ]
  },
  {
   "cell_type": "code",
   "execution_count": null,
   "id": "a7fda788-490d-4490-bbd5-0d43f9a6774a",
   "metadata": {},
   "outputs": [],
   "source": []
  }
 ],
 "metadata": {
  "kernelspec": {
   "display_name": "Python 3 (ipykernel)",
   "language": "python",
   "name": "python3"
  },
  "language_info": {
   "codemirror_mode": {
    "name": "ipython",
    "version": 3
   },
   "file_extension": ".py",
   "mimetype": "text/x-python",
   "name": "python",
   "nbconvert_exporter": "python",
   "pygments_lexer": "ipython3",
   "version": "3.12.0"
  }
 },
 "nbformat": 4,
 "nbformat_minor": 5
}
