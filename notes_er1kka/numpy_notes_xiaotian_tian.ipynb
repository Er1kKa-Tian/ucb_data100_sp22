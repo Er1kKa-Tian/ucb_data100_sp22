{
 "cells": [
  {
   "cell_type": "markdown",
   "id": "8d2d0d33-0093-4947-bd61-9e0296f7ce60",
   "metadata": {},
   "source": [
    "# Xiaotian Tian's Notes on Numpy basics\n",
    "\n",
    "Learned from:\n",
    "- https://numpy.org/doc/stable/user/quickstart.html\n",
    "- https://cs231n.github.io/python-numpy-tutorial/#numpy\n",
    "\n",
    "## Arrays\n",
    "\n",
    "A **numpy array** is a grid of values, all of the same type, and is indexed by a tuple of nonnegative integers. The number of dimensions is the rank of the array; the shape of an array is a tuple of integers giving the size of the array along each dimension.\n",
    "\n",
    "### Array Basics"
   ]
  },
  {
   "cell_type": "code",
   "execution_count": 22,
   "id": "a7276fe2-aa59-488e-8b03-c42a34a87ae6",
   "metadata": {},
   "outputs": [
    {
     "name": "stdout",
     "output_type": "stream",
     "text": [
      "CPU times: user 139 µs, sys: 894 µs, total: 1.03 ms\n",
      "Wall time: 3.56 ms\n"
     ]
    },
    {
     "data": {
      "text/plain": [
       "array([[1, 2, 3],\n",
       "       [4, 5, 6],\n",
       "       [1, 2, 3]])"
      ]
     },
     "execution_count": 22,
     "metadata": {},
     "output_type": "execute_result"
    }
   ],
   "source": [
    "%%time\n",
    "\n",
    "import numpy as np\n",
    "\n",
    "# initialise\n",
    "a = np.array([[1, 2, 3],\n",
    "            [4, 5, 6],\n",
    "            [1, 2, 3]])\n",
    "a"
   ]
  },
  {
   "cell_type": "code",
   "execution_count": 23,
   "id": "5a297502-0af9-42a4-af1d-22caf8f9124a",
   "metadata": {},
   "outputs": [
    {
     "data": {
      "text/plain": [
       "(3, 3)"
      ]
     },
     "execution_count": 23,
     "metadata": {},
     "output_type": "execute_result"
    }
   ],
   "source": [
    "# shape indicates the size of the array in each dimension\n",
    "a.shape"
   ]
  },
  {
   "cell_type": "code",
   "execution_count": 24,
   "id": "d3275eca-17f0-4988-afdb-383d9fe0d2f9",
   "metadata": {},
   "outputs": [
    {
     "data": {
      "text/plain": [
       "1"
      ]
     },
     "execution_count": 24,
     "metadata": {},
     "output_type": "execute_result"
    }
   ],
   "source": [
    "# we can index into the array\n",
    "a[0]\n",
    "a[0][0]"
   ]
  },
  {
   "cell_type": "code",
   "execution_count": 25,
   "id": "6c5134e5-d1de-40fb-ba92-359f6e710ac6",
   "metadata": {},
   "outputs": [
    {
     "data": {
      "text/plain": [
       "2"
      ]
     },
     "execution_count": 25,
     "metadata": {},
     "output_type": "execute_result"
    }
   ],
   "source": [
    "# ndim if the rank\n",
    "a.ndim"
   ]
  },
  {
   "cell_type": "code",
   "execution_count": 26,
   "id": "0e470875-fde3-435c-bc19-a8e62465ea09",
   "metadata": {},
   "outputs": [
    {
     "data": {
      "text/plain": [
       "numpy.ndarray"
      ]
     },
     "execution_count": 26,
     "metadata": {},
     "output_type": "execute_result"
    }
   ],
   "source": [
    "# type of the array object\n",
    "type(a)"
   ]
  },
  {
   "cell_type": "markdown",
   "id": "87643b84-b3c4-4bf7-92f2-acaced81bf8e",
   "metadata": {},
   "source": [
    "### Array Creation"
   ]
  },
  {
   "cell_type": "code",
   "execution_count": 27,
   "id": "6308866d-ba8e-4f02-88ed-69517af3af14",
   "metadata": {},
   "outputs": [
    {
     "data": {
      "text/plain": [
       "array([[1, 2, 3],\n",
       "       [4, 5, 6],\n",
       "       [1, 2, 3]])"
      ]
     },
     "execution_count": 27,
     "metadata": {},
     "output_type": "execute_result"
    }
   ],
   "source": [
    "# create array from list\n",
    "a = np.array([[1, 2, 3],\n",
    "            [4, 5, 6],\n",
    "            [1, 2, 3]])\n",
    "a"
   ]
  },
  {
   "cell_type": "code",
   "execution_count": 28,
   "id": "3b4ef079-9851-40b6-b628-601f04aa4595",
   "metadata": {},
   "outputs": [
    {
     "data": {
      "text/plain": [
       "array([[0., 0., 0.],\n",
       "       [0., 0., 0.]])"
      ]
     },
     "execution_count": 28,
     "metadata": {},
     "output_type": "execute_result"
    }
   ],
   "source": [
    "# create array of all zeros\n",
    "b = np.zeros((2,3))\n",
    "b"
   ]
  },
  {
   "cell_type": "code",
   "execution_count": 29,
   "id": "6badc78e-ad60-4bbc-a5bf-55016a16c290",
   "metadata": {},
   "outputs": [
    {
     "data": {
      "text/plain": [
       "array([[1., 1., 1., 1.]])"
      ]
     },
     "execution_count": 29,
     "metadata": {},
     "output_type": "execute_result"
    }
   ],
   "source": [
    "# create array of all ones\n",
    "c = np.ones((1,4))\n",
    "c"
   ]
  },
  {
   "cell_type": "code",
   "execution_count": 30,
   "id": "fbb9ec09-fc2a-4a8e-a777-739e65ce90ae",
   "metadata": {},
   "outputs": [
    {
     "data": {
      "text/plain": [
       "array([[0.4, 0.4],\n",
       "       [0.4, 0.4],\n",
       "       [0.4, 0.4]])"
      ]
     },
     "execution_count": 30,
     "metadata": {},
     "output_type": "execute_result"
    }
   ],
   "source": [
    "# create array of a specific constant\n",
    "d = np.full((3,2), 0.4)\n",
    "d"
   ]
  },
  {
   "cell_type": "code",
   "execution_count": 31,
   "id": "8f0106df-525c-4749-b18b-f5d7c5c82066",
   "metadata": {},
   "outputs": [
    {
     "data": {
      "text/plain": [
       "array([[1., 0., 0.],\n",
       "       [0., 1., 0.],\n",
       "       [0., 0., 1.]])"
      ]
     },
     "execution_count": 31,
     "metadata": {},
     "output_type": "execute_result"
    }
   ],
   "source": [
    "# create identity matrix\n",
    "e = np.eye(3)\n",
    "e"
   ]
  },
  {
   "cell_type": "code",
   "execution_count": 32,
   "id": "88c5a46d-e716-4335-99f5-57704292cd8d",
   "metadata": {},
   "outputs": [
    {
     "data": {
      "text/plain": [
       "array([[0.47202293, 0.217272  , 0.80471493],\n",
       "       [0.46707059, 0.70314249, 0.27358966],\n",
       "       [0.53886697, 0.74171347, 0.77333479]])"
      ]
     },
     "execution_count": 32,
     "metadata": {},
     "output_type": "execute_result"
    }
   ],
   "source": [
    "# create random array\n",
    "f = np.random.random((3,3))\n",
    "f"
   ]
  },
  {
   "cell_type": "code",
   "execution_count": 35,
   "id": "12d71711",
   "metadata": {},
   "outputs": [
    {
     "name": "stdout",
     "output_type": "stream",
     "text": [
      "[10 15 20 25]\n",
      "[[ 0  1  2  3]\n",
      " [ 4  5  6  7]\n",
      " [ 8  9 10 11]]\n"
     ]
    }
   ],
   "source": [
    "# arange: analogous to the Python build-in range, but returns an array\n",
    "g = np.arange(10, 30, 5)\n",
    "print(g)\n",
    "\n",
    "# we can also reshape after arange\n",
    "h = np.arange(0, 12).reshape(3, 4)\n",
    "print(h)"
   ]
  },
  {
   "cell_type": "code",
   "execution_count": 36,
   "id": "ef887ecf-1f16-415d-810d-19bca36727d3",
   "metadata": {},
   "outputs": [
    {
     "name": "stdout",
     "output_type": "stream",
     "text": [
      "Nothing done.\n"
     ]
    }
   ],
   "source": [
    "%reset"
   ]
  },
  {
   "cell_type": "markdown",
   "id": "7425e3ca-eb6f-48c8-9eb2-d8a6594ea6de",
   "metadata": {},
   "source": [
    "### Array Indexing and Slicing\n",
    "\n",
    "#### Slicing Indexing and Integer Indexing"
   ]
  },
  {
   "cell_type": "code",
   "execution_count": 13,
   "id": "985bf0f3-3418-4552-8c1f-7a7a54a06a9b",
   "metadata": {},
   "outputs": [
    {
     "name": "stdout",
     "output_type": "stream",
     "text": [
      "CPU times: user 32 µs, sys: 55 µs, total: 87 µs\n",
      "Wall time: 94.9 µs\n"
     ]
    }
   ],
   "source": [
    "%%time\n",
    "\n",
    "# reimport numpy\n",
    "import numpy as np\n",
    "\n",
    "# create a sample array\n",
    "a = np.array([\n",
    "    [1, 2, 3, 4],\n",
    "    [5, 6, 7, 8],\n",
    "    [9, 10, 11, 12],\n",
    "])"
   ]
  },
  {
   "cell_type": "code",
   "execution_count": 14,
   "id": "d39bbafe-d9fa-4c52-9b05-c1ce756dc689",
   "metadata": {},
   "outputs": [
    {
     "data": {
      "text/plain": [
       "array([[3, 4],\n",
       "       [7, 8]])"
      ]
     },
     "execution_count": 14,
     "metadata": {},
     "output_type": "execute_result"
    }
   ],
   "source": [
    "# slicing\n",
    "# Use slicing to pull out the subarray consisting of:\n",
    "    # the first 2 rows\n",
    "    # and columns 3 and 4\n",
    "# produces array of shape (2, 2):\n",
    "a[:2, 2:4]"
   ]
  },
  {
   "cell_type": "markdown",
   "id": "9d60a020-5f66-4c1f-a033-16987d3bd31d",
   "metadata": {},
   "source": [
    "Slicing only creates a view of the original array, not a copy, so modifying the slice also modifies the original array:"
   ]
  },
  {
   "cell_type": "code",
   "execution_count": 15,
   "id": "48c2b6ef-3177-4f10-84bf-a49406ba6383",
   "metadata": {},
   "outputs": [
    {
     "data": {
      "text/plain": [
       "array([[114514,      2,      3,      4],\n",
       "       [     5,      6,      7,      8],\n",
       "       [     9,     10,     11,     12]])"
      ]
     },
     "execution_count": 15,
     "metadata": {},
     "output_type": "execute_result"
    }
   ],
   "source": [
    "b = a[:2, :2]\n",
    "b[0, 0] = 114514\n",
    "a"
   ]
  },
  {
   "cell_type": "markdown",
   "id": "efa3e798-041c-460c-8aec-eb42467026b0",
   "metadata": {},
   "source": [
    "While **slicing indexing** creates a view, any use of **integer indexing** will create an array of lower rank:"
   ]
  },
  {
   "cell_type": "code",
   "execution_count": 16,
   "id": "c9817c06-7270-45a4-ace6-798941c903c2",
   "metadata": {},
   "outputs": [
    {
     "name": "stdout",
     "output_type": "stream",
     "text": [
      "[[1 1 2 3]]\n"
     ]
    },
    {
     "data": {
      "text/plain": [
       "(1, 4)"
      ]
     },
     "execution_count": 16,
     "metadata": {},
     "output_type": "execute_result"
    }
   ],
   "source": [
    "c = np.array([\n",
    "    [1, 1, 2, 3],\n",
    "    [1, 234, 21, 2],\n",
    "    [21, 2, 1, 3]\n",
    "])\n",
    "\n",
    "# purely slicing indexing\n",
    "d = c[:1, :]\n",
    "print(d)\n",
    "d.shape"
   ]
  },
  {
   "cell_type": "code",
   "execution_count": 17,
   "id": "49ef79a3-ea8d-435d-ba51-0636df0a09c5",
   "metadata": {},
   "outputs": [
    {
     "name": "stdout",
     "output_type": "stream",
     "text": [
      "[1 1 2 3]\n"
     ]
    },
    {
     "data": {
      "text/plain": [
       "(4,)"
      ]
     },
     "execution_count": 17,
     "metadata": {},
     "output_type": "execute_result"
    }
   ],
   "source": [
    "# any integer indexing yields an array of a lower rank\n",
    "e = c[0, :]\n",
    "print(e)\n",
    "e.shape"
   ]
  },
  {
   "cell_type": "markdown",
   "id": "3486cfcc-f4e8-4b06-89a5-40b82f7f31f5",
   "metadata": {},
   "source": [
    "Same distinction, but apply to columns (note that a single column will be transposed to a row):"
   ]
  },
  {
   "cell_type": "code",
   "execution_count": 18,
   "id": "51889ee3-8713-4e89-81ff-0a9d34ec4bbf",
   "metadata": {},
   "outputs": [
    {
     "name": "stdout",
     "output_type": "stream",
     "text": [
      "[ 1  1 21]\n"
     ]
    },
    {
     "data": {
      "text/plain": [
       "(3,)"
      ]
     },
     "execution_count": 18,
     "metadata": {},
     "output_type": "execute_result"
    }
   ],
   "source": [
    "f = c[:, 0]\n",
    "print(f)\n",
    "f.shape"
   ]
  },
  {
   "cell_type": "code",
   "execution_count": 19,
   "id": "4a65fac2-7fcf-4f33-ade7-9afb20985b68",
   "metadata": {},
   "outputs": [
    {
     "name": "stdout",
     "output_type": "stream",
     "text": [
      "[[ 1]\n",
      " [ 1]\n",
      " [21]]\n"
     ]
    },
    {
     "data": {
      "text/plain": [
       "(3, 1)"
      ]
     },
     "execution_count": 19,
     "metadata": {},
     "output_type": "execute_result"
    }
   ],
   "source": [
    "g = c[:, :1]\n",
    "print(g)\n",
    "g.shape"
   ]
  },
  {
   "cell_type": "markdown",
   "id": "5745d341-d71d-4a28-b5bb-c44da161fbf0",
   "metadata": {},
   "source": [
    "When you index into numpy arrays using *slicing*, the resulting array view will always be a *subarray of the original array*.\n",
    "In contrast, *integer array indexing* allows you to construct arbitrary arrays using the data from another array. Here is an example:"
   ]
  },
  {
   "cell_type": "code",
   "execution_count": 20,
   "id": "8d05efda-f057-4682-aa3e-7eb5d9c5ce61",
   "metadata": {},
   "outputs": [
    {
     "name": "stdout",
     "output_type": "stream",
     "text": [
      "[1 6 7]\n",
      "[1 6 7]\n"
     ]
    }
   ],
   "source": [
    "h = np.array([\n",
    "    [1, 2],\n",
    "    [3, 4],\n",
    "    [5, 6],\n",
    "    [7, 8]\n",
    "])\n",
    "\n",
    "# an example of integer array indexing instead of slicing\n",
    "g = h[[0, 2, 3], [0, 1, 0]]\n",
    "print(g)\n",
    "\n",
    "# this is equivalent to:\n",
    "k = np.array([h[0,0], h[2,1], h[3,0]])\n",
    "print(k)"
   ]
  },
  {
   "cell_type": "markdown",
   "id": "dd40b494-4a05-4c96-91ab-29b042102287",
   "metadata": {},
   "source": [
    "One useful trick with integer array indexing is selecting or mutating one element from *each row* of a matrix."
   ]
  },
  {
   "cell_type": "code",
   "execution_count": 21,
   "id": "7ef5f3f8-5b3a-48bc-96c0-5cec20c9e108",
   "metadata": {},
   "outputs": [
    {
     "data": {
      "text/plain": [
       "array([[11,  2,  3],\n",
       "       [14,  5,  6],\n",
       "       [17,  8,  9],\n",
       "       [10, 21, 12]])"
      ]
     },
     "execution_count": 21,
     "metadata": {},
     "output_type": "execute_result"
    }
   ],
   "source": [
    "l = np.array([\n",
    "    [1, 2, 3],\n",
    "    [4, 5, 6],\n",
    "    [7, 8, 9],\n",
    "    [10, 11, 12]\n",
    "])\n",
    "\n",
    "# indices array\n",
    "m = np.array([0, 0, 0, 1])\n",
    "\n",
    "# mutate the original array\n",
    "# Mutate one element from each row of a using the indices in m:\n",
    "l[np.arange(4), m] += 10  # np.arange(4) yields array([0, 1, 2, 3])\n",
    "l"
   ]
  },
  {
   "cell_type": "code",
   "execution_count": 22,
   "id": "9682fe2a-cc19-4046-abb5-9b86bfc450dd",
   "metadata": {},
   "outputs": [
    {
     "name": "stdout",
     "output_type": "stream",
     "text": [
      "Nothing done.\n"
     ]
    }
   ],
   "source": [
    "%reset"
   ]
  },
  {
   "cell_type": "markdown",
   "id": "97c86785-0638-46dd-a42a-b8cdc9cee878",
   "metadata": {},
   "source": [
    "#### Boolean Indexing\n",
    "\n",
    "We can use **boolean indexing** to convert an array to an array consists of boolean values, or filtering out all the element in an array that satisfies a boolean expression."
   ]
  },
  {
   "cell_type": "code",
   "execution_count": 23,
   "id": "88175984-efcd-433e-9220-ef320d3006be",
   "metadata": {},
   "outputs": [
    {
     "data": {
      "text/plain": [
       "array([[False, False],\n",
       "       [ True,  True],\n",
       "       [ True,  True]])"
      ]
     },
     "execution_count": 23,
     "metadata": {},
     "output_type": "execute_result"
    }
   ],
   "source": [
    "import numpy as np\n",
    "\n",
    "a = np.array([\n",
    "    [1, 2],\n",
    "    [3, 4],\n",
    "    [5, 6]\n",
    "])\n",
    "\n",
    "# array converted to boolean array\n",
    "bool_idx = (a > 2)\n",
    "\n",
    "bool_idx"
   ]
  },
  {
   "cell_type": "code",
   "execution_count": 24,
   "id": "bc057903-9734-46e8-a79d-6ee26f5dda6a",
   "metadata": {},
   "outputs": [
    {
     "name": "stdout",
     "output_type": "stream",
     "text": [
      "[3 4 5 6]\n"
     ]
    }
   ],
   "source": [
    "# create a rank 1 array \n",
    "# which consists of all of the elements\n",
    "# that satisfies a boolean expression:\n",
    "print(a[a > 2])"
   ]
  },
  {
   "cell_type": "code",
   "execution_count": 25,
   "id": "f95dbacd",
   "metadata": {},
   "outputs": [
    {
     "name": "stdout",
     "output_type": "stream",
     "text": [
      "Nothing done.\n"
     ]
    }
   ],
   "source": [
    "%reset"
   ]
  },
  {
   "cell_type": "markdown",
   "id": "a7fda788-490d-4490-bbd5-0d43f9a6774a",
   "metadata": {},
   "source": [
    "## Datatypes"
   ]
  },
  {
   "cell_type": "markdown",
   "id": "c18fb010",
   "metadata": {},
   "source": [
    "Every numpy array is a grid of elements of *the same type*.\n",
    "Numpy provides a large set of numeric datatypes that you can use to construct arrays. Numpy tries to guess a datatype when you create an array, but functions that construct arrays usually also include an optional argument to explicitly specify the datatype. Here is an example:"
   ]
  },
  {
   "cell_type": "code",
   "execution_count": 27,
   "id": "3488dfcd",
   "metadata": {},
   "outputs": [
    {
     "name": "stdout",
     "output_type": "stream",
     "text": [
      "int64\n",
      "float64\n",
      "float64\n"
     ]
    }
   ],
   "source": [
    "import numpy as np\n",
    "\n",
    "# int64\n",
    "a = np.array([\n",
    "    [1, 2],\n",
    "    [3, 4]\n",
    "])\n",
    "print(a.dtype) # int64\n",
    "\n",
    "# float64\n",
    "b = np.array([\n",
    "    [1.0, 2.0],\n",
    "    [3.0, 4.0]\n",
    "])\n",
    "print(b.dtype) # float64\n",
    "\n",
    "# force a specific datatype\n",
    "c = np.array([\n",
    "    [1, 2],\n",
    "    [3, 4]\n",
    "],\n",
    "dtype = np.float64\n",
    ")\n",
    "print(c.dtype) # float64"
   ]
  },
  {
   "cell_type": "code",
   "execution_count": 28,
   "id": "f6c7a5ae",
   "metadata": {},
   "outputs": [
    {
     "name": "stdout",
     "output_type": "stream",
     "text": [
      "Nothing done.\n"
     ]
    }
   ],
   "source": [
    "%reset"
   ]
  },
  {
   "cell_type": "markdown",
   "id": "82832b9b",
   "metadata": {},
   "source": [
    "## Array Maths"
   ]
  },
  {
   "cell_type": "markdown",
   "id": "38ffc120",
   "metadata": {},
   "source": [
    "Basic mathematical functions operate elementwise on arrays, and are available both as operator overloads and as functions in the numpy module:"
   ]
  },
  {
   "cell_type": "markdown",
   "id": "70f04cd4",
   "metadata": {},
   "source": [
    "### Elementwise Maths"
   ]
  },
  {
   "cell_type": "code",
   "execution_count": 1,
   "id": "6d871bee",
   "metadata": {},
   "outputs": [],
   "source": [
    "import numpy as np\n",
    "\n",
    "# init\n",
    "x = np.array([\n",
    "    [1, 2],\n",
    "    [3, 4]\n",
    "])\n",
    "y = np.array([\n",
    "    [5, 6],\n",
    "    [7, 8]\n",
    "])"
   ]
  },
  {
   "cell_type": "code",
   "execution_count": 2,
   "id": "ff2b7bb0",
   "metadata": {},
   "outputs": [
    {
     "name": "stdout",
     "output_type": "stream",
     "text": [
      "[[ 6  8]\n",
      " [10 12]]\n",
      "[[ 6  8]\n",
      " [10 12]]\n"
     ]
    }
   ],
   "source": [
    "# sum\n",
    "print(x + y)\n",
    "print(np.add(x, y))"
   ]
  },
  {
   "cell_type": "code",
   "execution_count": 3,
   "id": "46883852",
   "metadata": {},
   "outputs": [
    {
     "name": "stdout",
     "output_type": "stream",
     "text": [
      "[[-4 -4]\n",
      " [-4 -4]]\n",
      "[[-4 -4]\n",
      " [-4 -4]]\n"
     ]
    }
   ],
   "source": [
    "# subtract\n",
    "print(x - y)\n",
    "print(np.subtract(x, y))"
   ]
  },
  {
   "cell_type": "code",
   "execution_count": 5,
   "id": "e650f442",
   "metadata": {},
   "outputs": [
    {
     "name": "stdout",
     "output_type": "stream",
     "text": [
      "[[ 5 12]\n",
      " [21 32]]\n",
      "[[ 5 12]\n",
      " [21 32]]\n"
     ]
    }
   ],
   "source": [
    "# elementwise product\n",
    "# NOT MATRIX PRODUCT!!!\n",
    "print(x * y)\n",
    "print(np.multiply(x, y))"
   ]
  },
  {
   "cell_type": "code",
   "execution_count": 6,
   "id": "86117cd8",
   "metadata": {},
   "outputs": [
    {
     "name": "stdout",
     "output_type": "stream",
     "text": [
      "[[-4 -4]\n",
      " [-4 -4]]\n",
      "[[0.2        0.33333333]\n",
      " [0.42857143 0.5       ]]\n"
     ]
    }
   ],
   "source": [
    "# elementwise summation\n",
    "print(x - y)\n",
    "print(np.divide(x, y))"
   ]
  },
  {
   "cell_type": "code",
   "execution_count": 8,
   "id": "d6eaecce",
   "metadata": {},
   "outputs": [
    {
     "name": "stdout",
     "output_type": "stream",
     "text": [
      "[[1.         1.41421356]\n",
      " [1.73205081 2.        ]]\n"
     ]
    }
   ],
   "source": [
    "# elementwise squareroot\n",
    "print(np.sqrt(x))"
   ]
  },
  {
   "cell_type": "code",
   "execution_count": 10,
   "id": "2692b325",
   "metadata": {},
   "outputs": [
    {
     "name": "stdout",
     "output_type": "stream",
     "text": [
      "Nothing done.\n"
     ]
    }
   ],
   "source": [
    "%reset"
   ]
  },
  {
   "cell_type": "markdown",
   "id": "c93cd11f",
   "metadata": {},
   "source": [
    "### Vector and Matrix Product"
   ]
  },
  {
   "cell_type": "code",
   "execution_count": 37,
   "id": "77a7589c",
   "metadata": {},
   "outputs": [],
   "source": [
    "import numpy as np\n",
    "\n",
    "# init\n",
    "x = np.array([\n",
    "    [1, 2],\n",
    "    [3, 4]\n",
    "])\n",
    "y = np.array([\n",
    "    [5, 6],\n",
    "    [7, 8]\n",
    "])\n",
    "\n",
    "v = np.array([9, 10])\n",
    "w = np.array([11, 12])"
   ]
  },
  {
   "cell_type": "code",
   "execution_count": 38,
   "id": "4d89c553",
   "metadata": {},
   "outputs": [
    {
     "name": "stdout",
     "output_type": "stream",
     "text": [
      "219\n",
      "219\n",
      "219\n"
     ]
    }
   ],
   "source": [
    "# inner/dot product of vectors\n",
    "print(v @ w)\n",
    "print(v.dot(w))\n",
    "print(np.dot(v, w))"
   ]
  },
  {
   "cell_type": "code",
   "execution_count": 39,
   "id": "f1b11b09",
   "metadata": {},
   "outputs": [
    {
     "name": "stdout",
     "output_type": "stream",
     "text": [
      "[29 67]\n",
      "[29 67]\n",
      "[29 67]\n"
     ]
    }
   ],
   "source": [
    "# matrix vector product\n",
    "print(x @ v)\n",
    "print(x.dot(v))\n",
    "print(np.dot(x, v))"
   ]
  },
  {
   "cell_type": "code",
   "execution_count": 40,
   "id": "ec80c6b6",
   "metadata": {},
   "outputs": [
    {
     "name": "stdout",
     "output_type": "stream",
     "text": [
      "[[19 22]\n",
      " [43 50]]\n",
      "[[19 22]\n",
      " [43 50]]\n",
      "[[19 22]\n",
      " [43 50]]\n"
     ]
    }
   ],
   "source": [
    "# matrix matrix product\n",
    "print(x @ y)\n",
    "print(x.dot(y))\n",
    "print(np.dot(x, y))"
   ]
  },
  {
   "cell_type": "markdown",
   "id": "5222fe3a",
   "metadata": {},
   "source": [
    "### Other Maths"
   ]
  },
  {
   "cell_type": "code",
   "execution_count": 43,
   "id": "7e9a3c6a",
   "metadata": {},
   "outputs": [
    {
     "name": "stdout",
     "output_type": "stream",
     "text": [
      "10\n",
      "10\n",
      "[4 6]\n",
      "[4 6]\n",
      "[3 7]\n",
      "[3 7]\n"
     ]
    }
   ],
   "source": [
    "z = np.array([\n",
    "    [1, 2],\n",
    "    [3, 4]\n",
    "])\n",
    "\n",
    "# summations\n",
    "\n",
    "# sum of all elements\n",
    "print(np.sum(z))\n",
    "print(z.sum())\n",
    "\n",
    "# sum by column\n",
    "print(np.sum(z, axis=0))\n",
    "print(z.sum(axis=0))\n",
    "\n",
    "# sum by row\n",
    "print(np.sum(z, axis=1))\n",
    "print(z.sum(axis=1))"
   ]
  },
  {
   "cell_type": "code",
   "execution_count": 7,
   "id": "3f854a73",
   "metadata": {},
   "outputs": [
    {
     "name": "stdout",
     "output_type": "stream",
     "text": [
      "[[1 3]\n",
      " [2 4]]\n",
      "[ 9 10]\n"
     ]
    }
   ],
   "source": [
    "# transpose\n",
    "print(z.T)\n",
    "\n",
    "# but note that we cannot transpose rank 1 array\n",
    "print(v.T)"
   ]
  },
  {
   "cell_type": "code",
   "execution_count": 8,
   "id": "b2694479",
   "metadata": {},
   "outputs": [],
   "source": [
    "%reset"
   ]
  },
  {
   "cell_type": "markdown",
   "id": "356aac0b",
   "metadata": {},
   "source": [
    "## Broadcasting"
   ]
  },
  {
   "cell_type": "markdown",
   "id": "a3e7d739",
   "metadata": {},
   "source": [
    "**Broadcasting** is a powerful mechanism that allows numpy to work with arrays of different shapes when performing arithmetic operations. Frequently we have a smaller array and a larger array, and we want to use the smaller array multiple times to perform some operation on the larger array.\n",
    "\n",
    "For example, suppose that we want to add a constant vector to each row of a matrix. We could do it like this:"
   ]
  },
  {
   "cell_type": "code",
   "execution_count": 15,
   "id": "d76c15d7",
   "metadata": {},
   "outputs": [
    {
     "name": "stdout",
     "output_type": "stream",
     "text": [
      "[[ 2  2  4]\n",
      " [ 5  5  7]\n",
      " [ 8  8 10]\n",
      " [11 11 13]]\n",
      "[[ 2  2  4]\n",
      " [ 5  5  7]\n",
      " [ 8  8 10]\n",
      " [11 11 13]]\n",
      "Nothing done.\n"
     ]
    }
   ],
   "source": [
    "import numpy as np\n",
    "\n",
    "x = np.array([\n",
    "    [1, 2, 3],\n",
    "    [4, 5, 6],\n",
    "    [7, 8, 9],\n",
    "    [10, 11, 12]\n",
    "])\n",
    "v = np.array([1, 0, 1])\n",
    "\n",
    "# Add the vector v to each row of the matrix x with an explicit loop\n",
    "x1 = np.copy(x)\n",
    "for i in range(4):\n",
    "    x1[i, :] += v\n",
    "print(x1)\n",
    "\n",
    "\n",
    "# Doing the same using broadcasting\n",
    "x2 = np.copy(x)\n",
    "x2 += v\n",
    "print(x2)\n",
    "\n",
    "%reset"
   ]
  },
  {
   "cell_type": "markdown",
   "id": "ddf3b995",
   "metadata": {},
   "source": [
    "The line `y = x + v` works even though `x` has shape (4, 3) and `v` has shape (3,) due to broadcasting; this line works as if v actually had shape (4, 3), where each row was a copy of v, and the sum was performed elementwise.\n",
    "\n",
    "Broadcasting two arrays together follows these rules:\n",
    "\n",
    "1. If the arrays do not have the same rank, prepend the shape of the lower rank array with 1s until both shapes have the same length.\n",
    "2. The two arrays are said to be **compatible** in a dimension if they have the same size in the dimension, or if one of the arrays has size 1 in that dimension.\n",
    "3. The arrays can be broadcast together if they are compatible in all dimensions.\n",
    "4. After broadcasting, each array behaves as if it had shape equal to the elementwise maximum of shapes of the two input arrays.\n",
    "5. In any dimension where one array had size 1 and the other array had size greater than 1, the first array behaves as if it were copied along that dimension\n",
    "\n",
    "If this explanation does not make sense, try reading the explanation from the [documentation](http://docs.scipy.org/doc/numpy/user/basics.broadcasting.html) or [this explanation](https://scipy.github.io/old-wiki/pages/EricsBroadcastingDoc).\n",
    "\n",
    "Functions that support broadcasting are known as **universal functions**. You can find the list of all universal functions in the [documentation](http://docs.scipy.org/doc/numpy/reference/ufuncs.html#available-ufuncs).\n",
    "\n",
    "Here are some applications of broadcasting:"
   ]
  },
  {
   "cell_type": "code",
   "execution_count": 21,
   "id": "fcf404fe",
   "metadata": {},
   "outputs": [
    {
     "name": "stdout",
     "output_type": "stream",
     "text": [
      "[[ 4  5]\n",
      " [ 8 10]\n",
      " [12 15]]\n",
      "[[2 3 7]\n",
      " [6 3 7]]\n",
      "[[ 5  5  8]\n",
      " [10  6  9]]\n",
      "[[ 5  5  8]\n",
      " [10  6  9]]\n",
      "[[ 2  2  8]\n",
      " [10  2  8]]\n"
     ]
    }
   ],
   "source": [
    "import numpy as np\n",
    "\n",
    "# init\n",
    "v = np.array([1, 2, 3]) # shape (3,)\n",
    "w = np.array([4, 5]) # shape (2,)\n",
    "x = np.array([\n",
    "    [1, 1, 4],\n",
    "    [5, 1, 4]\n",
    "])\n",
    "\n",
    "# cross/outer product\n",
    "print(np.reshape(v, (3, 1)) * w)\n",
    "\n",
    "# add a vector to each row of a matrix\n",
    "print(x + v)\n",
    "\n",
    "# add a vector to each column of a matrix\n",
    "print((x.T + w).T)\n",
    "# another solution\n",
    "print(np.reshape(w, (2, 1)) + x)\n",
    "\n",
    "# multiply a matrix by a constant\n",
    "print(x * 2)"
   ]
  },
  {
   "cell_type": "code",
   "execution_count": 45,
   "id": "297d0ae5",
   "metadata": {},
   "outputs": [
    {
     "name": "stdout",
     "output_type": "stream",
     "text": [
      "Nothing done.\n"
     ]
    }
   ],
   "source": [
    "%reset"
   ]
  },
  {
   "cell_type": "markdown",
   "id": "907fb64f",
   "metadata": {},
   "source": [
    "## Others"
   ]
  },
  {
   "cell_type": "markdown",
   "id": "459550c6",
   "metadata": {},
   "source": [
    "### reshape and resize\n",
    "\n",
    "The `reshape` function returns its argument with a modified shape, whereas the `ndarray.resize` method modifies the array itself (and takes a touple of shape as argument):"
   ]
  },
  {
   "cell_type": "code",
   "execution_count": 50,
   "id": "bc9e7c73",
   "metadata": {},
   "outputs": [
    {
     "name": "stdout",
     "output_type": "stream",
     "text": [
      "[[ 0  1  2  3]\n",
      " [ 4  5  6  7]\n",
      " [ 8  9 10 11]]\n",
      "[[ 0  1  2  3  4  5]\n",
      " [ 6  7  8  9 10 11]]\n",
      "[[ 0  1  2  3  4  5  6  7  8  9 10 11]]\n"
     ]
    }
   ],
   "source": [
    "import numpy as np\n",
    "\n",
    "# reshape\n",
    "a = np.arange(12).reshape(3, 4)\n",
    "b = a.reshape(2, -1) # if a dimension is given as -1 in a reshaping operation, the other dimensions are automatically calculated\n",
    "print(a)\n",
    "print(b)\n",
    "\n",
    "# resize\n",
    "a.resize((1, 12))\n",
    "print(a)"
   ]
  },
  {
   "cell_type": "code",
   "execution_count": 51,
   "id": "837e2455",
   "metadata": {},
   "outputs": [
    {
     "name": "stdout",
     "output_type": "stream",
     "text": [
      "Nothing done.\n"
     ]
    }
   ],
   "source": [
    "%reset"
   ]
  },
  {
   "cell_type": "markdown",
   "id": "158adb5f",
   "metadata": {},
   "source": [
    "### Stacking together different arrays\n",
    "\n",
    "Arrays ca be **stacked together** along different axes:"
   ]
  },
  {
   "cell_type": "code",
   "execution_count": 3,
   "id": "162eef5c",
   "metadata": {},
   "outputs": [
    {
     "name": "stdout",
     "output_type": "stream",
     "text": [
      "[[0.18743575 0.2193718 ]\n",
      " [0.98845463 0.82421983]]\n",
      "[[1. 1.]\n",
      " [1. 1.]]\n",
      "[[0.18743575 0.2193718 ]\n",
      " [0.98845463 0.82421983]\n",
      " [1.         1.        ]\n",
      " [1.         1.        ]]\n",
      "[[0.18743575 0.2193718  1.         1.        ]\n",
      " [0.98845463 0.82421983 1.         1.        ]]\n"
     ]
    }
   ],
   "source": [
    "import numpy as np\n",
    "\n",
    "a = np.random.random((2, 2))\n",
    "b = np.ones((2, 2))\n",
    "\n",
    "print(a)\n",
    "print(b)\n",
    "\n",
    "# vstack\n",
    "c = np.vstack((a, b))\n",
    "print(c)\n",
    "\n",
    "# hstack\n",
    "d = np.hstack((a, b))\n",
    "print(d)"
   ]
  },
  {
   "cell_type": "markdown",
   "id": "aa57e4ba",
   "metadata": {},
   "source": [
    "The function `column_stack` stacks 1D arrays *as columns* into a 2D array. It is equivalent to `hstack` *only* for 2D arrays:"
   ]
  },
  {
   "cell_type": "code",
   "execution_count": 9,
   "id": "caf55be8",
   "metadata": {},
   "outputs": [
    {
     "name": "stdout",
     "output_type": "stream",
     "text": [
      "v: [0 1 2 3]\n",
      "w: [2 3 4 5]\n",
      "[[0 2]\n",
      " [1 3]\n",
      " [2 4]\n",
      " [3 5]]\n",
      "[0 1 2 3 2 3 4 5]\n",
      "[[0.18743575 0.2193718  1.         1.        ]\n",
      " [0.98845463 0.82421983 1.         1.        ]]\n",
      "[[0.18743575 0.2193718  1.         1.        ]\n",
      " [0.98845463 0.82421983 1.         1.        ]]\n"
     ]
    }
   ],
   "source": [
    "v = np.arange(4)\n",
    "w = np.arange(2, 6)\n",
    "print(f\"v: {v}\")\n",
    "print(f\"w: {w}\")\n",
    "\n",
    "# for 1D arrays, it's different from hstack\n",
    "# column_stack\n",
    "e = np.column_stack((v, w))\n",
    "print(e)\n",
    "# hstack\n",
    "f = np.hstack((v, w))\n",
    "print(f)\n",
    "\n",
    "# for 2D arrayes, they are the same\n",
    "g = np.column_stack((a, b))\n",
    "print(g)\n",
    "h = np.hstack((a, b))\n",
    "print(h)\n"
   ]
  },
  {
   "cell_type": "markdown",
   "id": "3d02dd3a",
   "metadata": {},
   "source": [
    "On the other hand, the function `row_stack` is equivalent to `vstack` for any input arrays. In fact, row_stack is an alias for vstack."
   ]
  },
  {
   "cell_type": "markdown",
   "id": "140151e3",
   "metadata": {},
   "source": [
    "In complex cases, `r_` and `c_` are useful for creating arrays by stacking numbers along one axis. They allow the use of range literals `:`."
   ]
  },
  {
   "cell_type": "code",
   "execution_count": 10,
   "id": "1b339dba",
   "metadata": {},
   "outputs": [
    {
     "data": {
      "text/plain": [
       "array([ 1,  2,  3, 12, 13])"
      ]
     },
     "execution_count": 10,
     "metadata": {},
     "output_type": "execute_result"
    }
   ],
   "source": [
    "np.r_[1:4, 12, 13]"
   ]
  },
  {
   "cell_type": "code",
   "execution_count": 12,
   "id": "334a5d36",
   "metadata": {},
   "outputs": [
    {
     "data": {
      "text/plain": [
       "array([[1, 5],\n",
       "       [1, 1],\n",
       "       [4, 4]])"
      ]
     },
     "execution_count": 12,
     "metadata": {},
     "output_type": "execute_result"
    }
   ],
   "source": [
    "np.c_[np.array([1, 1, 4]), np.array([5, 1, 4])]"
   ]
  },
  {
   "cell_type": "markdown",
   "id": "856c25ca",
   "metadata": {},
   "source": [
    "When used with arrays as arguments, `r_` and `c_` are similar to `vstack` and `hstack` in their default behavior, but allow for an optional argument giving the number of the axis along which to concatenate."
   ]
  },
  {
   "cell_type": "code",
   "execution_count": 13,
   "id": "804aa1a1",
   "metadata": {},
   "outputs": [
    {
     "name": "stdout",
     "output_type": "stream",
     "text": [
      "Nothing done.\n"
     ]
    }
   ],
   "source": [
    "%reset"
   ]
  },
  {
   "cell_type": "markdown",
   "id": "16e90e90",
   "metadata": {},
   "source": [
    "### Splitting one array into several smaller ones"
   ]
  },
  {
   "cell_type": "code",
   "execution_count": null,
   "id": "3fd54833",
   "metadata": {},
   "outputs": [],
   "source": []
  }
 ],
 "metadata": {
  "kernelspec": {
   "display_name": "Python 3 (ipykernel)",
   "language": "python",
   "name": "python3"
  },
  "language_info": {
   "codemirror_mode": {
    "name": "ipython",
    "version": 3
   },
   "file_extension": ".py",
   "mimetype": "text/x-python",
   "name": "python",
   "nbconvert_exporter": "python",
   "pygments_lexer": "ipython3",
   "version": "3.12.0"
  }
 },
 "nbformat": 4,
 "nbformat_minor": 5
}
